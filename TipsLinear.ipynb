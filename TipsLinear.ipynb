{
 "cells": [
  {
   "cell_type": "markdown",
   "metadata": {
    "application/vnd.databricks.v1+cell": {
     "cellMetadata": {},
     "inputWidgets": {},
     "nuid": "3e9d1046-fda8-420b-8ef9-90eede405840",
     "showTitle": false,
     "title": ""
    }
   },
   "source": [
    "### Tips Linear Regression"
   ]
  },
  {
   "cell_type": "code",
   "execution_count": 0,
   "metadata": {
    "application/vnd.databricks.v1+cell": {
     "cellMetadata": {
      "byteLimit": 2048000,
      "rowLimit": 10000
     },
     "inputWidgets": {},
     "nuid": "6482be4c-f067-47c9-b0ac-35c938b94601",
     "showTitle": false,
     "title": ""
    }
   },
   "outputs": [
    {
     "output_type": "display_data",
     "data": {
      "text/html": [
       "<style scoped>\n",
       "  .table-result-container {\n",
       "    max-height: 300px;\n",
       "    overflow: auto;\n",
       "  }\n",
       "  table, th, td {\n",
       "    border: 1px solid black;\n",
       "    border-collapse: collapse;\n",
       "  }\n",
       "  th, td {\n",
       "    padding: 5px;\n",
       "  }\n",
       "  th {\n",
       "    text-align: left;\n",
       "  }\n",
       "</style><div class='table-result-container'><table class='table-result'><thead style='background-color: white'><tr><th>total_bill</th><th>tip</th><th>sex</th><th>smoker</th><th>day</th><th>time</th><th>size</th></tr></thead><tbody><tr><td>16.99</td><td>1.01</td><td>Female</td><td>No</td><td>Sun</td><td>Dinner</td><td>2</td></tr><tr><td>10.34</td><td>1.66</td><td>Male</td><td>No</td><td>Sun</td><td>Dinner</td><td>3</td></tr><tr><td>21.01</td><td>3.5</td><td>Male</td><td>No</td><td>Sun</td><td>Dinner</td><td>3</td></tr><tr><td>23.68</td><td>3.31</td><td>Male</td><td>No</td><td>Sun</td><td>Dinner</td><td>2</td></tr><tr><td>24.59</td><td>3.61</td><td>Female</td><td>No</td><td>Sun</td><td>Dinner</td><td>4</td></tr><tr><td>25.29</td><td>4.71</td><td>Male</td><td>No</td><td>Sun</td><td>Dinner</td><td>4</td></tr><tr><td>8.77</td><td>2.0</td><td>Male</td><td>No</td><td>Sun</td><td>Dinner</td><td>2</td></tr><tr><td>26.88</td><td>3.12</td><td>Male</td><td>No</td><td>Sun</td><td>Dinner</td><td>4</td></tr><tr><td>15.04</td><td>1.96</td><td>Male</td><td>No</td><td>Sun</td><td>Dinner</td><td>2</td></tr><tr><td>14.78</td><td>3.23</td><td>Male</td><td>No</td><td>Sun</td><td>Dinner</td><td>2</td></tr><tr><td>10.27</td><td>1.71</td><td>Male</td><td>No</td><td>Sun</td><td>Dinner</td><td>2</td></tr><tr><td>35.26</td><td>5.0</td><td>Female</td><td>No</td><td>Sun</td><td>Dinner</td><td>4</td></tr><tr><td>15.42</td><td>1.57</td><td>Male</td><td>No</td><td>Sun</td><td>Dinner</td><td>2</td></tr><tr><td>18.43</td><td>3.0</td><td>Male</td><td>No</td><td>Sun</td><td>Dinner</td><td>4</td></tr><tr><td>14.83</td><td>3.02</td><td>Female</td><td>No</td><td>Sun</td><td>Dinner</td><td>2</td></tr><tr><td>21.58</td><td>3.92</td><td>Male</td><td>No</td><td>Sun</td><td>Dinner</td><td>2</td></tr><tr><td>10.33</td><td>1.67</td><td>Female</td><td>No</td><td>Sun</td><td>Dinner</td><td>3</td></tr><tr><td>16.29</td><td>3.71</td><td>Male</td><td>No</td><td>Sun</td><td>Dinner</td><td>3</td></tr><tr><td>16.97</td><td>3.5</td><td>Female</td><td>No</td><td>Sun</td><td>Dinner</td><td>3</td></tr><tr><td>20.65</td><td>3.35</td><td>Male</td><td>No</td><td>Sat</td><td>Dinner</td><td>3</td></tr><tr><td>17.92</td><td>4.08</td><td>Male</td><td>No</td><td>Sat</td><td>Dinner</td><td>2</td></tr><tr><td>20.29</td><td>2.75</td><td>Female</td><td>No</td><td>Sat</td><td>Dinner</td><td>2</td></tr><tr><td>15.77</td><td>2.23</td><td>Female</td><td>No</td><td>Sat</td><td>Dinner</td><td>2</td></tr><tr><td>39.42</td><td>7.58</td><td>Male</td><td>No</td><td>Sat</td><td>Dinner</td><td>4</td></tr><tr><td>19.82</td><td>3.18</td><td>Male</td><td>No</td><td>Sat</td><td>Dinner</td><td>2</td></tr><tr><td>17.81</td><td>2.34</td><td>Male</td><td>No</td><td>Sat</td><td>Dinner</td><td>4</td></tr><tr><td>13.37</td><td>2.0</td><td>Male</td><td>No</td><td>Sat</td><td>Dinner</td><td>2</td></tr><tr><td>12.69</td><td>2.0</td><td>Male</td><td>No</td><td>Sat</td><td>Dinner</td><td>2</td></tr><tr><td>21.7</td><td>4.3</td><td>Male</td><td>No</td><td>Sat</td><td>Dinner</td><td>2</td></tr><tr><td>19.65</td><td>3.0</td><td>Female</td><td>No</td><td>Sat</td><td>Dinner</td><td>2</td></tr><tr><td>9.55</td><td>1.45</td><td>Male</td><td>No</td><td>Sat</td><td>Dinner</td><td>2</td></tr><tr><td>18.35</td><td>2.5</td><td>Male</td><td>No</td><td>Sat</td><td>Dinner</td><td>4</td></tr><tr><td>15.06</td><td>3.0</td><td>Female</td><td>No</td><td>Sat</td><td>Dinner</td><td>2</td></tr><tr><td>20.69</td><td>2.45</td><td>Female</td><td>No</td><td>Sat</td><td>Dinner</td><td>4</td></tr><tr><td>17.78</td><td>3.27</td><td>Male</td><td>No</td><td>Sat</td><td>Dinner</td><td>2</td></tr><tr><td>24.06</td><td>3.6</td><td>Male</td><td>No</td><td>Sat</td><td>Dinner</td><td>3</td></tr><tr><td>16.31</td><td>2.0</td><td>Male</td><td>No</td><td>Sat</td><td>Dinner</td><td>3</td></tr><tr><td>16.93</td><td>3.07</td><td>Female</td><td>No</td><td>Sat</td><td>Dinner</td><td>3</td></tr><tr><td>18.69</td><td>2.31</td><td>Male</td><td>No</td><td>Sat</td><td>Dinner</td><td>3</td></tr><tr><td>31.27</td><td>5.0</td><td>Male</td><td>No</td><td>Sat</td><td>Dinner</td><td>3</td></tr><tr><td>16.04</td><td>2.24</td><td>Male</td><td>No</td><td>Sat</td><td>Dinner</td><td>3</td></tr><tr><td>17.46</td><td>2.54</td><td>Male</td><td>No</td><td>Sun</td><td>Dinner</td><td>2</td></tr><tr><td>13.94</td><td>3.06</td><td>Male</td><td>No</td><td>Sun</td><td>Dinner</td><td>2</td></tr><tr><td>9.68</td><td>1.32</td><td>Male</td><td>No</td><td>Sun</td><td>Dinner</td><td>2</td></tr><tr><td>30.4</td><td>5.6</td><td>Male</td><td>No</td><td>Sun</td><td>Dinner</td><td>4</td></tr><tr><td>18.29</td><td>3.0</td><td>Male</td><td>No</td><td>Sun</td><td>Dinner</td><td>2</td></tr><tr><td>22.23</td><td>5.0</td><td>Male</td><td>No</td><td>Sun</td><td>Dinner</td><td>2</td></tr><tr><td>32.4</td><td>6.0</td><td>Male</td><td>No</td><td>Sun</td><td>Dinner</td><td>4</td></tr><tr><td>28.55</td><td>2.05</td><td>Male</td><td>No</td><td>Sun</td><td>Dinner</td><td>3</td></tr><tr><td>18.04</td><td>3.0</td><td>Male</td><td>No</td><td>Sun</td><td>Dinner</td><td>2</td></tr><tr><td>12.54</td><td>2.5</td><td>Male</td><td>No</td><td>Sun</td><td>Dinner</td><td>2</td></tr><tr><td>10.29</td><td>2.6</td><td>Female</td><td>No</td><td>Sun</td><td>Dinner</td><td>2</td></tr><tr><td>34.81</td><td>5.2</td><td>Female</td><td>No</td><td>Sun</td><td>Dinner</td><td>4</td></tr><tr><td>9.94</td><td>1.56</td><td>Male</td><td>No</td><td>Sun</td><td>Dinner</td><td>2</td></tr><tr><td>25.56</td><td>4.34</td><td>Male</td><td>No</td><td>Sun</td><td>Dinner</td><td>4</td></tr><tr><td>19.49</td><td>3.51</td><td>Male</td><td>No</td><td>Sun</td><td>Dinner</td><td>2</td></tr><tr><td>38.01</td><td>3.0</td><td>Male</td><td>Yes</td><td>Sat</td><td>Dinner</td><td>4</td></tr><tr><td>26.41</td><td>1.5</td><td>Female</td><td>No</td><td>Sat</td><td>Dinner</td><td>2</td></tr><tr><td>11.24</td><td>1.76</td><td>Male</td><td>Yes</td><td>Sat</td><td>Dinner</td><td>2</td></tr><tr><td>48.27</td><td>6.73</td><td>Male</td><td>No</td><td>Sat</td><td>Dinner</td><td>4</td></tr><tr><td>20.29</td><td>3.21</td><td>Male</td><td>Yes</td><td>Sat</td><td>Dinner</td><td>2</td></tr><tr><td>13.81</td><td>2.0</td><td>Male</td><td>Yes</td><td>Sat</td><td>Dinner</td><td>2</td></tr><tr><td>11.02</td><td>1.98</td><td>Male</td><td>Yes</td><td>Sat</td><td>Dinner</td><td>2</td></tr><tr><td>18.29</td><td>3.76</td><td>Male</td><td>Yes</td><td>Sat</td><td>Dinner</td><td>4</td></tr><tr><td>17.59</td><td>2.64</td><td>Male</td><td>No</td><td>Sat</td><td>Dinner</td><td>3</td></tr><tr><td>20.08</td><td>3.15</td><td>Male</td><td>No</td><td>Sat</td><td>Dinner</td><td>3</td></tr><tr><td>16.45</td><td>2.47</td><td>Female</td><td>No</td><td>Sat</td><td>Dinner</td><td>2</td></tr><tr><td>3.07</td><td>1.0</td><td>Female</td><td>Yes</td><td>Sat</td><td>Dinner</td><td>1</td></tr><tr><td>20.23</td><td>2.01</td><td>Male</td><td>No</td><td>Sat</td><td>Dinner</td><td>2</td></tr><tr><td>15.01</td><td>2.09</td><td>Male</td><td>Yes</td><td>Sat</td><td>Dinner</td><td>2</td></tr><tr><td>12.02</td><td>1.97</td><td>Male</td><td>No</td><td>Sat</td><td>Dinner</td><td>2</td></tr><tr><td>17.07</td><td>3.0</td><td>Female</td><td>No</td><td>Sat</td><td>Dinner</td><td>3</td></tr><tr><td>26.86</td><td>3.14</td><td>Female</td><td>Yes</td><td>Sat</td><td>Dinner</td><td>2</td></tr><tr><td>25.28</td><td>5.0</td><td>Female</td><td>Yes</td><td>Sat</td><td>Dinner</td><td>2</td></tr><tr><td>14.73</td><td>2.2</td><td>Female</td><td>No</td><td>Sat</td><td>Dinner</td><td>2</td></tr><tr><td>10.51</td><td>1.25</td><td>Male</td><td>No</td><td>Sat</td><td>Dinner</td><td>2</td></tr><tr><td>17.92</td><td>3.08</td><td>Male</td><td>Yes</td><td>Sat</td><td>Dinner</td><td>2</td></tr><tr><td>27.2</td><td>4.0</td><td>Male</td><td>No</td><td>Thur</td><td>Lunch</td><td>4</td></tr><tr><td>22.76</td><td>3.0</td><td>Male</td><td>No</td><td>Thur</td><td>Lunch</td><td>2</td></tr><tr><td>17.29</td><td>2.71</td><td>Male</td><td>No</td><td>Thur</td><td>Lunch</td><td>2</td></tr><tr><td>19.44</td><td>3.0</td><td>Male</td><td>Yes</td><td>Thur</td><td>Lunch</td><td>2</td></tr><tr><td>16.66</td><td>3.4</td><td>Male</td><td>No</td><td>Thur</td><td>Lunch</td><td>2</td></tr><tr><td>10.07</td><td>1.83</td><td>Female</td><td>No</td><td>Thur</td><td>Lunch</td><td>1</td></tr><tr><td>32.68</td><td>5.0</td><td>Male</td><td>Yes</td><td>Thur</td><td>Lunch</td><td>2</td></tr><tr><td>15.98</td><td>2.03</td><td>Male</td><td>No</td><td>Thur</td><td>Lunch</td><td>2</td></tr><tr><td>34.83</td><td>5.17</td><td>Female</td><td>No</td><td>Thur</td><td>Lunch</td><td>4</td></tr><tr><td>13.03</td><td>2.0</td><td>Male</td><td>No</td><td>Thur</td><td>Lunch</td><td>2</td></tr><tr><td>18.28</td><td>4.0</td><td>Male</td><td>No</td><td>Thur</td><td>Lunch</td><td>2</td></tr><tr><td>24.71</td><td>5.85</td><td>Male</td><td>No</td><td>Thur</td><td>Lunch</td><td>2</td></tr><tr><td>21.16</td><td>3.0</td><td>Male</td><td>No</td><td>Thur</td><td>Lunch</td><td>2</td></tr><tr><td>28.97</td><td>3.0</td><td>Male</td><td>Yes</td><td>Fri</td><td>Dinner</td><td>2</td></tr><tr><td>22.49</td><td>3.5</td><td>Male</td><td>No</td><td>Fri</td><td>Dinner</td><td>2</td></tr><tr><td>5.75</td><td>1.0</td><td>Female</td><td>Yes</td><td>Fri</td><td>Dinner</td><td>2</td></tr><tr><td>16.32</td><td>4.3</td><td>Female</td><td>Yes</td><td>Fri</td><td>Dinner</td><td>2</td></tr><tr><td>22.75</td><td>3.25</td><td>Female</td><td>No</td><td>Fri</td><td>Dinner</td><td>2</td></tr><tr><td>40.17</td><td>4.73</td><td>Male</td><td>Yes</td><td>Fri</td><td>Dinner</td><td>4</td></tr><tr><td>27.28</td><td>4.0</td><td>Male</td><td>Yes</td><td>Fri</td><td>Dinner</td><td>2</td></tr><tr><td>12.03</td><td>1.5</td><td>Male</td><td>Yes</td><td>Fri</td><td>Dinner</td><td>2</td></tr><tr><td>21.01</td><td>3.0</td><td>Male</td><td>Yes</td><td>Fri</td><td>Dinner</td><td>2</td></tr><tr><td>12.46</td><td>1.5</td><td>Male</td><td>No</td><td>Fri</td><td>Dinner</td><td>2</td></tr><tr><td>11.35</td><td>2.5</td><td>Female</td><td>Yes</td><td>Fri</td><td>Dinner</td><td>2</td></tr><tr><td>15.38</td><td>3.0</td><td>Female</td><td>Yes</td><td>Fri</td><td>Dinner</td><td>2</td></tr><tr><td>44.3</td><td>2.5</td><td>Female</td><td>Yes</td><td>Sat</td><td>Dinner</td><td>3</td></tr><tr><td>22.42</td><td>3.48</td><td>Female</td><td>Yes</td><td>Sat</td><td>Dinner</td><td>2</td></tr><tr><td>20.92</td><td>4.08</td><td>Female</td><td>No</td><td>Sat</td><td>Dinner</td><td>2</td></tr><tr><td>15.36</td><td>1.64</td><td>Male</td><td>Yes</td><td>Sat</td><td>Dinner</td><td>2</td></tr><tr><td>20.49</td><td>4.06</td><td>Male</td><td>Yes</td><td>Sat</td><td>Dinner</td><td>2</td></tr><tr><td>25.21</td><td>4.29</td><td>Male</td><td>Yes</td><td>Sat</td><td>Dinner</td><td>2</td></tr><tr><td>18.24</td><td>3.76</td><td>Male</td><td>No</td><td>Sat</td><td>Dinner</td><td>2</td></tr><tr><td>14.31</td><td>4.0</td><td>Female</td><td>Yes</td><td>Sat</td><td>Dinner</td><td>2</td></tr><tr><td>14.0</td><td>3.0</td><td>Male</td><td>No</td><td>Sat</td><td>Dinner</td><td>2</td></tr><tr><td>7.25</td><td>1.0</td><td>Female</td><td>No</td><td>Sat</td><td>Dinner</td><td>1</td></tr><tr><td>38.07</td><td>4.0</td><td>Male</td><td>No</td><td>Sun</td><td>Dinner</td><td>3</td></tr><tr><td>23.95</td><td>2.55</td><td>Male</td><td>No</td><td>Sun</td><td>Dinner</td><td>2</td></tr><tr><td>25.71</td><td>4.0</td><td>Female</td><td>No</td><td>Sun</td><td>Dinner</td><td>3</td></tr><tr><td>17.31</td><td>3.5</td><td>Female</td><td>No</td><td>Sun</td><td>Dinner</td><td>2</td></tr><tr><td>29.93</td><td>5.07</td><td>Male</td><td>No</td><td>Sun</td><td>Dinner</td><td>4</td></tr><tr><td>10.65</td><td>1.5</td><td>Female</td><td>No</td><td>Thur</td><td>Lunch</td><td>2</td></tr><tr><td>12.43</td><td>1.8</td><td>Female</td><td>No</td><td>Thur</td><td>Lunch</td><td>2</td></tr><tr><td>24.08</td><td>2.92</td><td>Female</td><td>No</td><td>Thur</td><td>Lunch</td><td>4</td></tr><tr><td>11.69</td><td>2.31</td><td>Male</td><td>No</td><td>Thur</td><td>Lunch</td><td>2</td></tr><tr><td>13.42</td><td>1.68</td><td>Female</td><td>No</td><td>Thur</td><td>Lunch</td><td>2</td></tr><tr><td>14.26</td><td>2.5</td><td>Male</td><td>No</td><td>Thur</td><td>Lunch</td><td>2</td></tr><tr><td>15.95</td><td>2.0</td><td>Male</td><td>No</td><td>Thur</td><td>Lunch</td><td>2</td></tr><tr><td>12.48</td><td>2.52</td><td>Female</td><td>No</td><td>Thur</td><td>Lunch</td><td>2</td></tr><tr><td>29.8</td><td>4.2</td><td>Female</td><td>No</td><td>Thur</td><td>Lunch</td><td>6</td></tr><tr><td>8.52</td><td>1.48</td><td>Male</td><td>No</td><td>Thur</td><td>Lunch</td><td>2</td></tr><tr><td>14.52</td><td>2.0</td><td>Female</td><td>No</td><td>Thur</td><td>Lunch</td><td>2</td></tr><tr><td>11.38</td><td>2.0</td><td>Female</td><td>No</td><td>Thur</td><td>Lunch</td><td>2</td></tr><tr><td>22.82</td><td>2.18</td><td>Male</td><td>No</td><td>Thur</td><td>Lunch</td><td>3</td></tr><tr><td>19.08</td><td>1.5</td><td>Male</td><td>No</td><td>Thur</td><td>Lunch</td><td>2</td></tr><tr><td>20.27</td><td>2.83</td><td>Female</td><td>No</td><td>Thur</td><td>Lunch</td><td>2</td></tr><tr><td>11.17</td><td>1.5</td><td>Female</td><td>No</td><td>Thur</td><td>Lunch</td><td>2</td></tr><tr><td>12.26</td><td>2.0</td><td>Female</td><td>No</td><td>Thur</td><td>Lunch</td><td>2</td></tr><tr><td>18.26</td><td>3.25</td><td>Female</td><td>No</td><td>Thur</td><td>Lunch</td><td>2</td></tr><tr><td>8.51</td><td>1.25</td><td>Female</td><td>No</td><td>Thur</td><td>Lunch</td><td>2</td></tr><tr><td>10.33</td><td>2.0</td><td>Female</td><td>No</td><td>Thur</td><td>Lunch</td><td>2</td></tr><tr><td>14.15</td><td>2.0</td><td>Female</td><td>No</td><td>Thur</td><td>Lunch</td><td>2</td></tr><tr><td>16.0</td><td>2.0</td><td>Male</td><td>Yes</td><td>Thur</td><td>Lunch</td><td>2</td></tr><tr><td>13.16</td><td>2.75</td><td>Female</td><td>No</td><td>Thur</td><td>Lunch</td><td>2</td></tr><tr><td>17.47</td><td>3.5</td><td>Female</td><td>No</td><td>Thur</td><td>Lunch</td><td>2</td></tr><tr><td>34.3</td><td>6.7</td><td>Male</td><td>No</td><td>Thur</td><td>Lunch</td><td>6</td></tr><tr><td>41.19</td><td>5.0</td><td>Male</td><td>No</td><td>Thur</td><td>Lunch</td><td>5</td></tr><tr><td>27.05</td><td>5.0</td><td>Female</td><td>No</td><td>Thur</td><td>Lunch</td><td>6</td></tr><tr><td>16.43</td><td>2.3</td><td>Female</td><td>No</td><td>Thur</td><td>Lunch</td><td>2</td></tr><tr><td>8.35</td><td>1.5</td><td>Female</td><td>No</td><td>Thur</td><td>Lunch</td><td>2</td></tr><tr><td>18.64</td><td>1.36</td><td>Female</td><td>No</td><td>Thur</td><td>Lunch</td><td>3</td></tr><tr><td>11.87</td><td>1.63</td><td>Female</td><td>No</td><td>Thur</td><td>Lunch</td><td>2</td></tr><tr><td>9.78</td><td>1.73</td><td>Male</td><td>No</td><td>Thur</td><td>Lunch</td><td>2</td></tr><tr><td>7.51</td><td>2.0</td><td>Male</td><td>No</td><td>Thur</td><td>Lunch</td><td>2</td></tr><tr><td>14.07</td><td>2.5</td><td>Male</td><td>No</td><td>Sun</td><td>Dinner</td><td>2</td></tr><tr><td>13.13</td><td>2.0</td><td>Male</td><td>No</td><td>Sun</td><td>Dinner</td><td>2</td></tr><tr><td>17.26</td><td>2.74</td><td>Male</td><td>No</td><td>Sun</td><td>Dinner</td><td>3</td></tr><tr><td>24.55</td><td>2.0</td><td>Male</td><td>No</td><td>Sun</td><td>Dinner</td><td>4</td></tr><tr><td>19.77</td><td>2.0</td><td>Male</td><td>No</td><td>Sun</td><td>Dinner</td><td>4</td></tr><tr><td>29.85</td><td>5.14</td><td>Female</td><td>No</td><td>Sun</td><td>Dinner</td><td>5</td></tr><tr><td>48.17</td><td>5.0</td><td>Male</td><td>No</td><td>Sun</td><td>Dinner</td><td>6</td></tr><tr><td>25.0</td><td>3.75</td><td>Female</td><td>No</td><td>Sun</td><td>Dinner</td><td>4</td></tr><tr><td>13.39</td><td>2.61</td><td>Female</td><td>No</td><td>Sun</td><td>Dinner</td><td>2</td></tr><tr><td>16.49</td><td>2.0</td><td>Male</td><td>No</td><td>Sun</td><td>Dinner</td><td>4</td></tr><tr><td>21.5</td><td>3.5</td><td>Male</td><td>No</td><td>Sun</td><td>Dinner</td><td>4</td></tr><tr><td>12.66</td><td>2.5</td><td>Male</td><td>No</td><td>Sun</td><td>Dinner</td><td>2</td></tr><tr><td>16.21</td><td>2.0</td><td>Female</td><td>No</td><td>Sun</td><td>Dinner</td><td>3</td></tr><tr><td>13.81</td><td>2.0</td><td>Male</td><td>No</td><td>Sun</td><td>Dinner</td><td>2</td></tr><tr><td>17.51</td><td>3.0</td><td>Female</td><td>Yes</td><td>Sun</td><td>Dinner</td><td>2</td></tr><tr><td>24.52</td><td>3.48</td><td>Male</td><td>No</td><td>Sun</td><td>Dinner</td><td>3</td></tr><tr><td>20.76</td><td>2.24</td><td>Male</td><td>No</td><td>Sun</td><td>Dinner</td><td>2</td></tr><tr><td>31.71</td><td>4.5</td><td>Male</td><td>No</td><td>Sun</td><td>Dinner</td><td>4</td></tr><tr><td>10.59</td><td>1.61</td><td>Female</td><td>Yes</td><td>Sat</td><td>Dinner</td><td>2</td></tr><tr><td>10.63</td><td>2.0</td><td>Female</td><td>Yes</td><td>Sat</td><td>Dinner</td><td>2</td></tr><tr><td>50.81</td><td>10.0</td><td>Male</td><td>Yes</td><td>Sat</td><td>Dinner</td><td>3</td></tr><tr><td>15.81</td><td>3.16</td><td>Male</td><td>Yes</td><td>Sat</td><td>Dinner</td><td>2</td></tr><tr><td>7.25</td><td>5.15</td><td>Male</td><td>Yes</td><td>Sun</td><td>Dinner</td><td>2</td></tr><tr><td>31.85</td><td>3.18</td><td>Male</td><td>Yes</td><td>Sun</td><td>Dinner</td><td>2</td></tr><tr><td>16.82</td><td>4.0</td><td>Male</td><td>Yes</td><td>Sun</td><td>Dinner</td><td>2</td></tr><tr><td>32.9</td><td>3.11</td><td>Male</td><td>Yes</td><td>Sun</td><td>Dinner</td><td>2</td></tr><tr><td>17.89</td><td>2.0</td><td>Male</td><td>Yes</td><td>Sun</td><td>Dinner</td><td>2</td></tr><tr><td>14.48</td><td>2.0</td><td>Male</td><td>Yes</td><td>Sun</td><td>Dinner</td><td>2</td></tr><tr><td>9.6</td><td>4.0</td><td>Female</td><td>Yes</td><td>Sun</td><td>Dinner</td><td>2</td></tr><tr><td>34.63</td><td>3.55</td><td>Male</td><td>Yes</td><td>Sun</td><td>Dinner</td><td>2</td></tr><tr><td>34.65</td><td>3.68</td><td>Male</td><td>Yes</td><td>Sun</td><td>Dinner</td><td>4</td></tr><tr><td>23.33</td><td>5.65</td><td>Male</td><td>Yes</td><td>Sun</td><td>Dinner</td><td>2</td></tr><tr><td>45.35</td><td>3.5</td><td>Male</td><td>Yes</td><td>Sun</td><td>Dinner</td><td>3</td></tr><tr><td>23.17</td><td>6.5</td><td>Male</td><td>Yes</td><td>Sun</td><td>Dinner</td><td>4</td></tr><tr><td>40.55</td><td>3.0</td><td>Male</td><td>Yes</td><td>Sun</td><td>Dinner</td><td>2</td></tr><tr><td>20.69</td><td>5.0</td><td>Male</td><td>No</td><td>Sun</td><td>Dinner</td><td>5</td></tr><tr><td>20.9</td><td>3.5</td><td>Female</td><td>Yes</td><td>Sun</td><td>Dinner</td><td>3</td></tr><tr><td>30.46</td><td>2.0</td><td>Male</td><td>Yes</td><td>Sun</td><td>Dinner</td><td>5</td></tr><tr><td>18.15</td><td>3.5</td><td>Female</td><td>Yes</td><td>Sun</td><td>Dinner</td><td>3</td></tr><tr><td>23.1</td><td>4.0</td><td>Male</td><td>Yes</td><td>Sun</td><td>Dinner</td><td>3</td></tr><tr><td>15.69</td><td>1.5</td><td>Male</td><td>Yes</td><td>Sun</td><td>Dinner</td><td>2</td></tr><tr><td>19.81</td><td>4.19</td><td>Female</td><td>Yes</td><td>Thur</td><td>Lunch</td><td>2</td></tr><tr><td>28.44</td><td>2.56</td><td>Male</td><td>Yes</td><td>Thur</td><td>Lunch</td><td>2</td></tr><tr><td>15.48</td><td>2.02</td><td>Male</td><td>Yes</td><td>Thur</td><td>Lunch</td><td>2</td></tr><tr><td>16.58</td><td>4.0</td><td>Male</td><td>Yes</td><td>Thur</td><td>Lunch</td><td>2</td></tr><tr><td>7.56</td><td>1.44</td><td>Male</td><td>No</td><td>Thur</td><td>Lunch</td><td>2</td></tr><tr><td>10.34</td><td>2.0</td><td>Male</td><td>Yes</td><td>Thur</td><td>Lunch</td><td>2</td></tr><tr><td>43.11</td><td>5.0</td><td>Female</td><td>Yes</td><td>Thur</td><td>Lunch</td><td>4</td></tr><tr><td>13.0</td><td>2.0</td><td>Female</td><td>Yes</td><td>Thur</td><td>Lunch</td><td>2</td></tr><tr><td>13.51</td><td>2.0</td><td>Male</td><td>Yes</td><td>Thur</td><td>Lunch</td><td>2</td></tr><tr><td>18.71</td><td>4.0</td><td>Male</td><td>Yes</td><td>Thur</td><td>Lunch</td><td>3</td></tr><tr><td>12.74</td><td>2.01</td><td>Female</td><td>Yes</td><td>Thur</td><td>Lunch</td><td>2</td></tr><tr><td>13.0</td><td>2.0</td><td>Female</td><td>Yes</td><td>Thur</td><td>Lunch</td><td>2</td></tr><tr><td>16.4</td><td>2.5</td><td>Female</td><td>Yes</td><td>Thur</td><td>Lunch</td><td>2</td></tr><tr><td>20.53</td><td>4.0</td><td>Male</td><td>Yes</td><td>Thur</td><td>Lunch</td><td>4</td></tr><tr><td>16.47</td><td>3.23</td><td>Female</td><td>Yes</td><td>Thur</td><td>Lunch</td><td>3</td></tr><tr><td>26.59</td><td>3.41</td><td>Male</td><td>Yes</td><td>Sat</td><td>Dinner</td><td>3</td></tr><tr><td>38.73</td><td>3.0</td><td>Male</td><td>Yes</td><td>Sat</td><td>Dinner</td><td>4</td></tr><tr><td>24.27</td><td>2.03</td><td>Male</td><td>Yes</td><td>Sat</td><td>Dinner</td><td>2</td></tr><tr><td>12.76</td><td>2.23</td><td>Female</td><td>Yes</td><td>Sat</td><td>Dinner</td><td>2</td></tr><tr><td>30.06</td><td>2.0</td><td>Male</td><td>Yes</td><td>Sat</td><td>Dinner</td><td>3</td></tr><tr><td>25.89</td><td>5.16</td><td>Male</td><td>Yes</td><td>Sat</td><td>Dinner</td><td>4</td></tr><tr><td>48.33</td><td>9.0</td><td>Male</td><td>No</td><td>Sat</td><td>Dinner</td><td>4</td></tr><tr><td>13.27</td><td>2.5</td><td>Female</td><td>Yes</td><td>Sat</td><td>Dinner</td><td>2</td></tr><tr><td>28.17</td><td>6.5</td><td>Female</td><td>Yes</td><td>Sat</td><td>Dinner</td><td>3</td></tr><tr><td>12.9</td><td>1.1</td><td>Female</td><td>Yes</td><td>Sat</td><td>Dinner</td><td>2</td></tr><tr><td>28.15</td><td>3.0</td><td>Male</td><td>Yes</td><td>Sat</td><td>Dinner</td><td>5</td></tr><tr><td>11.59</td><td>1.5</td><td>Male</td><td>Yes</td><td>Sat</td><td>Dinner</td><td>2</td></tr><tr><td>7.74</td><td>1.44</td><td>Male</td><td>Yes</td><td>Sat</td><td>Dinner</td><td>2</td></tr><tr><td>30.14</td><td>3.09</td><td>Female</td><td>Yes</td><td>Sat</td><td>Dinner</td><td>4</td></tr><tr><td>12.16</td><td>2.2</td><td>Male</td><td>Yes</td><td>Fri</td><td>Lunch</td><td>2</td></tr><tr><td>13.42</td><td>3.48</td><td>Female</td><td>Yes</td><td>Fri</td><td>Lunch</td><td>2</td></tr><tr><td>8.58</td><td>1.92</td><td>Male</td><td>Yes</td><td>Fri</td><td>Lunch</td><td>1</td></tr><tr><td>15.98</td><td>3.0</td><td>Female</td><td>No</td><td>Fri</td><td>Lunch</td><td>3</td></tr><tr><td>13.42</td><td>1.58</td><td>Male</td><td>Yes</td><td>Fri</td><td>Lunch</td><td>2</td></tr><tr><td>16.27</td><td>2.5</td><td>Female</td><td>Yes</td><td>Fri</td><td>Lunch</td><td>2</td></tr><tr><td>10.09</td><td>2.0</td><td>Female</td><td>Yes</td><td>Fri</td><td>Lunch</td><td>2</td></tr><tr><td>20.45</td><td>3.0</td><td>Male</td><td>No</td><td>Sat</td><td>Dinner</td><td>4</td></tr><tr><td>13.28</td><td>2.72</td><td>Male</td><td>No</td><td>Sat</td><td>Dinner</td><td>2</td></tr><tr><td>22.12</td><td>2.88</td><td>Female</td><td>Yes</td><td>Sat</td><td>Dinner</td><td>2</td></tr><tr><td>24.01</td><td>2.0</td><td>Male</td><td>Yes</td><td>Sat</td><td>Dinner</td><td>4</td></tr><tr><td>15.69</td><td>3.0</td><td>Male</td><td>Yes</td><td>Sat</td><td>Dinner</td><td>3</td></tr><tr><td>11.61</td><td>3.39</td><td>Male</td><td>No</td><td>Sat</td><td>Dinner</td><td>2</td></tr><tr><td>10.77</td><td>1.47</td><td>Male</td><td>No</td><td>Sat</td><td>Dinner</td><td>2</td></tr><tr><td>15.53</td><td>3.0</td><td>Male</td><td>Yes</td><td>Sat</td><td>Dinner</td><td>2</td></tr><tr><td>10.07</td><td>1.25</td><td>Male</td><td>No</td><td>Sat</td><td>Dinner</td><td>2</td></tr><tr><td>12.6</td><td>1.0</td><td>Male</td><td>Yes</td><td>Sat</td><td>Dinner</td><td>2</td></tr><tr><td>32.83</td><td>1.17</td><td>Male</td><td>Yes</td><td>Sat</td><td>Dinner</td><td>2</td></tr><tr><td>35.83</td><td>4.67</td><td>Female</td><td>No</td><td>Sat</td><td>Dinner</td><td>3</td></tr><tr><td>29.03</td><td>5.92</td><td>Male</td><td>No</td><td>Sat</td><td>Dinner</td><td>3</td></tr><tr><td>27.18</td><td>2.0</td><td>Female</td><td>Yes</td><td>Sat</td><td>Dinner</td><td>2</td></tr><tr><td>22.67</td><td>2.0</td><td>Male</td><td>Yes</td><td>Sat</td><td>Dinner</td><td>2</td></tr><tr><td>17.82</td><td>1.75</td><td>Male</td><td>No</td><td>Sat</td><td>Dinner</td><td>2</td></tr><tr><td>18.78</td><td>3.0</td><td>Female</td><td>No</td><td>Thur</td><td>Dinner</td><td>2</td></tr></tbody></table></div>"
      ]
     },
     "metadata": {
      "application/vnd.databricks.v1+output": {
       "addedWidgets": {},
       "aggData": [],
       "aggError": "",
       "aggOverflow": false,
       "aggSchema": [],
       "aggSeriesLimitReached": false,
       "aggType": "",
       "arguments": {},
       "columnCustomDisplayInfos": {},
       "data": [
        [
         16.99,
         1.01,
         "Female",
         "No",
         "Sun",
         "Dinner",
         2
        ],
        [
         10.34,
         1.66,
         "Male",
         "No",
         "Sun",
         "Dinner",
         3
        ],
        [
         21.01,
         3.5,
         "Male",
         "No",
         "Sun",
         "Dinner",
         3
        ],
        [
         23.68,
         3.31,
         "Male",
         "No",
         "Sun",
         "Dinner",
         2
        ],
        [
         24.59,
         3.61,
         "Female",
         "No",
         "Sun",
         "Dinner",
         4
        ],
        [
         25.29,
         4.71,
         "Male",
         "No",
         "Sun",
         "Dinner",
         4
        ],
        [
         8.77,
         2.0,
         "Male",
         "No",
         "Sun",
         "Dinner",
         2
        ],
        [
         26.88,
         3.12,
         "Male",
         "No",
         "Sun",
         "Dinner",
         4
        ],
        [
         15.04,
         1.96,
         "Male",
         "No",
         "Sun",
         "Dinner",
         2
        ],
        [
         14.78,
         3.23,
         "Male",
         "No",
         "Sun",
         "Dinner",
         2
        ],
        [
         10.27,
         1.71,
         "Male",
         "No",
         "Sun",
         "Dinner",
         2
        ],
        [
         35.26,
         5.0,
         "Female",
         "No",
         "Sun",
         "Dinner",
         4
        ],
        [
         15.42,
         1.57,
         "Male",
         "No",
         "Sun",
         "Dinner",
         2
        ],
        [
         18.43,
         3.0,
         "Male",
         "No",
         "Sun",
         "Dinner",
         4
        ],
        [
         14.83,
         3.02,
         "Female",
         "No",
         "Sun",
         "Dinner",
         2
        ],
        [
         21.58,
         3.92,
         "Male",
         "No",
         "Sun",
         "Dinner",
         2
        ],
        [
         10.33,
         1.67,
         "Female",
         "No",
         "Sun",
         "Dinner",
         3
        ],
        [
         16.29,
         3.71,
         "Male",
         "No",
         "Sun",
         "Dinner",
         3
        ],
        [
         16.97,
         3.5,
         "Female",
         "No",
         "Sun",
         "Dinner",
         3
        ],
        [
         20.65,
         3.35,
         "Male",
         "No",
         "Sat",
         "Dinner",
         3
        ],
        [
         17.92,
         4.08,
         "Male",
         "No",
         "Sat",
         "Dinner",
         2
        ],
        [
         20.29,
         2.75,
         "Female",
         "No",
         "Sat",
         "Dinner",
         2
        ],
        [
         15.77,
         2.23,
         "Female",
         "No",
         "Sat",
         "Dinner",
         2
        ],
        [
         39.42,
         7.58,
         "Male",
         "No",
         "Sat",
         "Dinner",
         4
        ],
        [
         19.82,
         3.18,
         "Male",
         "No",
         "Sat",
         "Dinner",
         2
        ],
        [
         17.81,
         2.34,
         "Male",
         "No",
         "Sat",
         "Dinner",
         4
        ],
        [
         13.37,
         2.0,
         "Male",
         "No",
         "Sat",
         "Dinner",
         2
        ],
        [
         12.69,
         2.0,
         "Male",
         "No",
         "Sat",
         "Dinner",
         2
        ],
        [
         21.7,
         4.3,
         "Male",
         "No",
         "Sat",
         "Dinner",
         2
        ],
        [
         19.65,
         3.0,
         "Female",
         "No",
         "Sat",
         "Dinner",
         2
        ],
        [
         9.55,
         1.45,
         "Male",
         "No",
         "Sat",
         "Dinner",
         2
        ],
        [
         18.35,
         2.5,
         "Male",
         "No",
         "Sat",
         "Dinner",
         4
        ],
        [
         15.06,
         3.0,
         "Female",
         "No",
         "Sat",
         "Dinner",
         2
        ],
        [
         20.69,
         2.45,
         "Female",
         "No",
         "Sat",
         "Dinner",
         4
        ],
        [
         17.78,
         3.27,
         "Male",
         "No",
         "Sat",
         "Dinner",
         2
        ],
        [
         24.06,
         3.6,
         "Male",
         "No",
         "Sat",
         "Dinner",
         3
        ],
        [
         16.31,
         2.0,
         "Male",
         "No",
         "Sat",
         "Dinner",
         3
        ],
        [
         16.93,
         3.07,
         "Female",
         "No",
         "Sat",
         "Dinner",
         3
        ],
        [
         18.69,
         2.31,
         "Male",
         "No",
         "Sat",
         "Dinner",
         3
        ],
        [
         31.27,
         5.0,
         "Male",
         "No",
         "Sat",
         "Dinner",
         3
        ],
        [
         16.04,
         2.24,
         "Male",
         "No",
         "Sat",
         "Dinner",
         3
        ],
        [
         17.46,
         2.54,
         "Male",
         "No",
         "Sun",
         "Dinner",
         2
        ],
        [
         13.94,
         3.06,
         "Male",
         "No",
         "Sun",
         "Dinner",
         2
        ],
        [
         9.68,
         1.32,
         "Male",
         "No",
         "Sun",
         "Dinner",
         2
        ],
        [
         30.4,
         5.6,
         "Male",
         "No",
         "Sun",
         "Dinner",
         4
        ],
        [
         18.29,
         3.0,
         "Male",
         "No",
         "Sun",
         "Dinner",
         2
        ],
        [
         22.23,
         5.0,
         "Male",
         "No",
         "Sun",
         "Dinner",
         2
        ],
        [
         32.4,
         6.0,
         "Male",
         "No",
         "Sun",
         "Dinner",
         4
        ],
        [
         28.55,
         2.05,
         "Male",
         "No",
         "Sun",
         "Dinner",
         3
        ],
        [
         18.04,
         3.0,
         "Male",
         "No",
         "Sun",
         "Dinner",
         2
        ],
        [
         12.54,
         2.5,
         "Male",
         "No",
         "Sun",
         "Dinner",
         2
        ],
        [
         10.29,
         2.6,
         "Female",
         "No",
         "Sun",
         "Dinner",
         2
        ],
        [
         34.81,
         5.2,
         "Female",
         "No",
         "Sun",
         "Dinner",
         4
        ],
        [
         9.94,
         1.56,
         "Male",
         "No",
         "Sun",
         "Dinner",
         2
        ],
        [
         25.56,
         4.34,
         "Male",
         "No",
         "Sun",
         "Dinner",
         4
        ],
        [
         19.49,
         3.51,
         "Male",
         "No",
         "Sun",
         "Dinner",
         2
        ],
        [
         38.01,
         3.0,
         "Male",
         "Yes",
         "Sat",
         "Dinner",
         4
        ],
        [
         26.41,
         1.5,
         "Female",
         "No",
         "Sat",
         "Dinner",
         2
        ],
        [
         11.24,
         1.76,
         "Male",
         "Yes",
         "Sat",
         "Dinner",
         2
        ],
        [
         48.27,
         6.73,
         "Male",
         "No",
         "Sat",
         "Dinner",
         4
        ],
        [
         20.29,
         3.21,
         "Male",
         "Yes",
         "Sat",
         "Dinner",
         2
        ],
        [
         13.81,
         2.0,
         "Male",
         "Yes",
         "Sat",
         "Dinner",
         2
        ],
        [
         11.02,
         1.98,
         "Male",
         "Yes",
         "Sat",
         "Dinner",
         2
        ],
        [
         18.29,
         3.76,
         "Male",
         "Yes",
         "Sat",
         "Dinner",
         4
        ],
        [
         17.59,
         2.64,
         "Male",
         "No",
         "Sat",
         "Dinner",
         3
        ],
        [
         20.08,
         3.15,
         "Male",
         "No",
         "Sat",
         "Dinner",
         3
        ],
        [
         16.45,
         2.47,
         "Female",
         "No",
         "Sat",
         "Dinner",
         2
        ],
        [
         3.07,
         1.0,
         "Female",
         "Yes",
         "Sat",
         "Dinner",
         1
        ],
        [
         20.23,
         2.01,
         "Male",
         "No",
         "Sat",
         "Dinner",
         2
        ],
        [
         15.01,
         2.09,
         "Male",
         "Yes",
         "Sat",
         "Dinner",
         2
        ],
        [
         12.02,
         1.97,
         "Male",
         "No",
         "Sat",
         "Dinner",
         2
        ],
        [
         17.07,
         3.0,
         "Female",
         "No",
         "Sat",
         "Dinner",
         3
        ],
        [
         26.86,
         3.14,
         "Female",
         "Yes",
         "Sat",
         "Dinner",
         2
        ],
        [
         25.28,
         5.0,
         "Female",
         "Yes",
         "Sat",
         "Dinner",
         2
        ],
        [
         14.73,
         2.2,
         "Female",
         "No",
         "Sat",
         "Dinner",
         2
        ],
        [
         10.51,
         1.25,
         "Male",
         "No",
         "Sat",
         "Dinner",
         2
        ],
        [
         17.92,
         3.08,
         "Male",
         "Yes",
         "Sat",
         "Dinner",
         2
        ],
        [
         27.2,
         4.0,
         "Male",
         "No",
         "Thur",
         "Lunch",
         4
        ],
        [
         22.76,
         3.0,
         "Male",
         "No",
         "Thur",
         "Lunch",
         2
        ],
        [
         17.29,
         2.71,
         "Male",
         "No",
         "Thur",
         "Lunch",
         2
        ],
        [
         19.44,
         3.0,
         "Male",
         "Yes",
         "Thur",
         "Lunch",
         2
        ],
        [
         16.66,
         3.4,
         "Male",
         "No",
         "Thur",
         "Lunch",
         2
        ],
        [
         10.07,
         1.83,
         "Female",
         "No",
         "Thur",
         "Lunch",
         1
        ],
        [
         32.68,
         5.0,
         "Male",
         "Yes",
         "Thur",
         "Lunch",
         2
        ],
        [
         15.98,
         2.03,
         "Male",
         "No",
         "Thur",
         "Lunch",
         2
        ],
        [
         34.83,
         5.17,
         "Female",
         "No",
         "Thur",
         "Lunch",
         4
        ],
        [
         13.03,
         2.0,
         "Male",
         "No",
         "Thur",
         "Lunch",
         2
        ],
        [
         18.28,
         4.0,
         "Male",
         "No",
         "Thur",
         "Lunch",
         2
        ],
        [
         24.71,
         5.85,
         "Male",
         "No",
         "Thur",
         "Lunch",
         2
        ],
        [
         21.16,
         3.0,
         "Male",
         "No",
         "Thur",
         "Lunch",
         2
        ],
        [
         28.97,
         3.0,
         "Male",
         "Yes",
         "Fri",
         "Dinner",
         2
        ],
        [
         22.49,
         3.5,
         "Male",
         "No",
         "Fri",
         "Dinner",
         2
        ],
        [
         5.75,
         1.0,
         "Female",
         "Yes",
         "Fri",
         "Dinner",
         2
        ],
        [
         16.32,
         4.3,
         "Female",
         "Yes",
         "Fri",
         "Dinner",
         2
        ],
        [
         22.75,
         3.25,
         "Female",
         "No",
         "Fri",
         "Dinner",
         2
        ],
        [
         40.17,
         4.73,
         "Male",
         "Yes",
         "Fri",
         "Dinner",
         4
        ],
        [
         27.28,
         4.0,
         "Male",
         "Yes",
         "Fri",
         "Dinner",
         2
        ],
        [
         12.03,
         1.5,
         "Male",
         "Yes",
         "Fri",
         "Dinner",
         2
        ],
        [
         21.01,
         3.0,
         "Male",
         "Yes",
         "Fri",
         "Dinner",
         2
        ],
        [
         12.46,
         1.5,
         "Male",
         "No",
         "Fri",
         "Dinner",
         2
        ],
        [
         11.35,
         2.5,
         "Female",
         "Yes",
         "Fri",
         "Dinner",
         2
        ],
        [
         15.38,
         3.0,
         "Female",
         "Yes",
         "Fri",
         "Dinner",
         2
        ],
        [
         44.3,
         2.5,
         "Female",
         "Yes",
         "Sat",
         "Dinner",
         3
        ],
        [
         22.42,
         3.48,
         "Female",
         "Yes",
         "Sat",
         "Dinner",
         2
        ],
        [
         20.92,
         4.08,
         "Female",
         "No",
         "Sat",
         "Dinner",
         2
        ],
        [
         15.36,
         1.64,
         "Male",
         "Yes",
         "Sat",
         "Dinner",
         2
        ],
        [
         20.49,
         4.06,
         "Male",
         "Yes",
         "Sat",
         "Dinner",
         2
        ],
        [
         25.21,
         4.29,
         "Male",
         "Yes",
         "Sat",
         "Dinner",
         2
        ],
        [
         18.24,
         3.76,
         "Male",
         "No",
         "Sat",
         "Dinner",
         2
        ],
        [
         14.31,
         4.0,
         "Female",
         "Yes",
         "Sat",
         "Dinner",
         2
        ],
        [
         14.0,
         3.0,
         "Male",
         "No",
         "Sat",
         "Dinner",
         2
        ],
        [
         7.25,
         1.0,
         "Female",
         "No",
         "Sat",
         "Dinner",
         1
        ],
        [
         38.07,
         4.0,
         "Male",
         "No",
         "Sun",
         "Dinner",
         3
        ],
        [
         23.95,
         2.55,
         "Male",
         "No",
         "Sun",
         "Dinner",
         2
        ],
        [
         25.71,
         4.0,
         "Female",
         "No",
         "Sun",
         "Dinner",
         3
        ],
        [
         17.31,
         3.5,
         "Female",
         "No",
         "Sun",
         "Dinner",
         2
        ],
        [
         29.93,
         5.07,
         "Male",
         "No",
         "Sun",
         "Dinner",
         4
        ],
        [
         10.65,
         1.5,
         "Female",
         "No",
         "Thur",
         "Lunch",
         2
        ],
        [
         12.43,
         1.8,
         "Female",
         "No",
         "Thur",
         "Lunch",
         2
        ],
        [
         24.08,
         2.92,
         "Female",
         "No",
         "Thur",
         "Lunch",
         4
        ],
        [
         11.69,
         2.31,
         "Male",
         "No",
         "Thur",
         "Lunch",
         2
        ],
        [
         13.42,
         1.68,
         "Female",
         "No",
         "Thur",
         "Lunch",
         2
        ],
        [
         14.26,
         2.5,
         "Male",
         "No",
         "Thur",
         "Lunch",
         2
        ],
        [
         15.95,
         2.0,
         "Male",
         "No",
         "Thur",
         "Lunch",
         2
        ],
        [
         12.48,
         2.52,
         "Female",
         "No",
         "Thur",
         "Lunch",
         2
        ],
        [
         29.8,
         4.2,
         "Female",
         "No",
         "Thur",
         "Lunch",
         6
        ],
        [
         8.52,
         1.48,
         "Male",
         "No",
         "Thur",
         "Lunch",
         2
        ],
        [
         14.52,
         2.0,
         "Female",
         "No",
         "Thur",
         "Lunch",
         2
        ],
        [
         11.38,
         2.0,
         "Female",
         "No",
         "Thur",
         "Lunch",
         2
        ],
        [
         22.82,
         2.18,
         "Male",
         "No",
         "Thur",
         "Lunch",
         3
        ],
        [
         19.08,
         1.5,
         "Male",
         "No",
         "Thur",
         "Lunch",
         2
        ],
        [
         20.27,
         2.83,
         "Female",
         "No",
         "Thur",
         "Lunch",
         2
        ],
        [
         11.17,
         1.5,
         "Female",
         "No",
         "Thur",
         "Lunch",
         2
        ],
        [
         12.26,
         2.0,
         "Female",
         "No",
         "Thur",
         "Lunch",
         2
        ],
        [
         18.26,
         3.25,
         "Female",
         "No",
         "Thur",
         "Lunch",
         2
        ],
        [
         8.51,
         1.25,
         "Female",
         "No",
         "Thur",
         "Lunch",
         2
        ],
        [
         10.33,
         2.0,
         "Female",
         "No",
         "Thur",
         "Lunch",
         2
        ],
        [
         14.15,
         2.0,
         "Female",
         "No",
         "Thur",
         "Lunch",
         2
        ],
        [
         16.0,
         2.0,
         "Male",
         "Yes",
         "Thur",
         "Lunch",
         2
        ],
        [
         13.16,
         2.75,
         "Female",
         "No",
         "Thur",
         "Lunch",
         2
        ],
        [
         17.47,
         3.5,
         "Female",
         "No",
         "Thur",
         "Lunch",
         2
        ],
        [
         34.3,
         6.7,
         "Male",
         "No",
         "Thur",
         "Lunch",
         6
        ],
        [
         41.19,
         5.0,
         "Male",
         "No",
         "Thur",
         "Lunch",
         5
        ],
        [
         27.05,
         5.0,
         "Female",
         "No",
         "Thur",
         "Lunch",
         6
        ],
        [
         16.43,
         2.3,
         "Female",
         "No",
         "Thur",
         "Lunch",
         2
        ],
        [
         8.35,
         1.5,
         "Female",
         "No",
         "Thur",
         "Lunch",
         2
        ],
        [
         18.64,
         1.36,
         "Female",
         "No",
         "Thur",
         "Lunch",
         3
        ],
        [
         11.87,
         1.63,
         "Female",
         "No",
         "Thur",
         "Lunch",
         2
        ],
        [
         9.78,
         1.73,
         "Male",
         "No",
         "Thur",
         "Lunch",
         2
        ],
        [
         7.51,
         2.0,
         "Male",
         "No",
         "Thur",
         "Lunch",
         2
        ],
        [
         14.07,
         2.5,
         "Male",
         "No",
         "Sun",
         "Dinner",
         2
        ],
        [
         13.13,
         2.0,
         "Male",
         "No",
         "Sun",
         "Dinner",
         2
        ],
        [
         17.26,
         2.74,
         "Male",
         "No",
         "Sun",
         "Dinner",
         3
        ],
        [
         24.55,
         2.0,
         "Male",
         "No",
         "Sun",
         "Dinner",
         4
        ],
        [
         19.77,
         2.0,
         "Male",
         "No",
         "Sun",
         "Dinner",
         4
        ],
        [
         29.85,
         5.14,
         "Female",
         "No",
         "Sun",
         "Dinner",
         5
        ],
        [
         48.17,
         5.0,
         "Male",
         "No",
         "Sun",
         "Dinner",
         6
        ],
        [
         25.0,
         3.75,
         "Female",
         "No",
         "Sun",
         "Dinner",
         4
        ],
        [
         13.39,
         2.61,
         "Female",
         "No",
         "Sun",
         "Dinner",
         2
        ],
        [
         16.49,
         2.0,
         "Male",
         "No",
         "Sun",
         "Dinner",
         4
        ],
        [
         21.5,
         3.5,
         "Male",
         "No",
         "Sun",
         "Dinner",
         4
        ],
        [
         12.66,
         2.5,
         "Male",
         "No",
         "Sun",
         "Dinner",
         2
        ],
        [
         16.21,
         2.0,
         "Female",
         "No",
         "Sun",
         "Dinner",
         3
        ],
        [
         13.81,
         2.0,
         "Male",
         "No",
         "Sun",
         "Dinner",
         2
        ],
        [
         17.51,
         3.0,
         "Female",
         "Yes",
         "Sun",
         "Dinner",
         2
        ],
        [
         24.52,
         3.48,
         "Male",
         "No",
         "Sun",
         "Dinner",
         3
        ],
        [
         20.76,
         2.24,
         "Male",
         "No",
         "Sun",
         "Dinner",
         2
        ],
        [
         31.71,
         4.5,
         "Male",
         "No",
         "Sun",
         "Dinner",
         4
        ],
        [
         10.59,
         1.61,
         "Female",
         "Yes",
         "Sat",
         "Dinner",
         2
        ],
        [
         10.63,
         2.0,
         "Female",
         "Yes",
         "Sat",
         "Dinner",
         2
        ],
        [
         50.81,
         10.0,
         "Male",
         "Yes",
         "Sat",
         "Dinner",
         3
        ],
        [
         15.81,
         3.16,
         "Male",
         "Yes",
         "Sat",
         "Dinner",
         2
        ],
        [
         7.25,
         5.15,
         "Male",
         "Yes",
         "Sun",
         "Dinner",
         2
        ],
        [
         31.85,
         3.18,
         "Male",
         "Yes",
         "Sun",
         "Dinner",
         2
        ],
        [
         16.82,
         4.0,
         "Male",
         "Yes",
         "Sun",
         "Dinner",
         2
        ],
        [
         32.9,
         3.11,
         "Male",
         "Yes",
         "Sun",
         "Dinner",
         2
        ],
        [
         17.89,
         2.0,
         "Male",
         "Yes",
         "Sun",
         "Dinner",
         2
        ],
        [
         14.48,
         2.0,
         "Male",
         "Yes",
         "Sun",
         "Dinner",
         2
        ],
        [
         9.6,
         4.0,
         "Female",
         "Yes",
         "Sun",
         "Dinner",
         2
        ],
        [
         34.63,
         3.55,
         "Male",
         "Yes",
         "Sun",
         "Dinner",
         2
        ],
        [
         34.65,
         3.68,
         "Male",
         "Yes",
         "Sun",
         "Dinner",
         4
        ],
        [
         23.33,
         5.65,
         "Male",
         "Yes",
         "Sun",
         "Dinner",
         2
        ],
        [
         45.35,
         3.5,
         "Male",
         "Yes",
         "Sun",
         "Dinner",
         3
        ],
        [
         23.17,
         6.5,
         "Male",
         "Yes",
         "Sun",
         "Dinner",
         4
        ],
        [
         40.55,
         3.0,
         "Male",
         "Yes",
         "Sun",
         "Dinner",
         2
        ],
        [
         20.69,
         5.0,
         "Male",
         "No",
         "Sun",
         "Dinner",
         5
        ],
        [
         20.9,
         3.5,
         "Female",
         "Yes",
         "Sun",
         "Dinner",
         3
        ],
        [
         30.46,
         2.0,
         "Male",
         "Yes",
         "Sun",
         "Dinner",
         5
        ],
        [
         18.15,
         3.5,
         "Female",
         "Yes",
         "Sun",
         "Dinner",
         3
        ],
        [
         23.1,
         4.0,
         "Male",
         "Yes",
         "Sun",
         "Dinner",
         3
        ],
        [
         15.69,
         1.5,
         "Male",
         "Yes",
         "Sun",
         "Dinner",
         2
        ],
        [
         19.81,
         4.19,
         "Female",
         "Yes",
         "Thur",
         "Lunch",
         2
        ],
        [
         28.44,
         2.56,
         "Male",
         "Yes",
         "Thur",
         "Lunch",
         2
        ],
        [
         15.48,
         2.02,
         "Male",
         "Yes",
         "Thur",
         "Lunch",
         2
        ],
        [
         16.58,
         4.0,
         "Male",
         "Yes",
         "Thur",
         "Lunch",
         2
        ],
        [
         7.56,
         1.44,
         "Male",
         "No",
         "Thur",
         "Lunch",
         2
        ],
        [
         10.34,
         2.0,
         "Male",
         "Yes",
         "Thur",
         "Lunch",
         2
        ],
        [
         43.11,
         5.0,
         "Female",
         "Yes",
         "Thur",
         "Lunch",
         4
        ],
        [
         13.0,
         2.0,
         "Female",
         "Yes",
         "Thur",
         "Lunch",
         2
        ],
        [
         13.51,
         2.0,
         "Male",
         "Yes",
         "Thur",
         "Lunch",
         2
        ],
        [
         18.71,
         4.0,
         "Male",
         "Yes",
         "Thur",
         "Lunch",
         3
        ],
        [
         12.74,
         2.01,
         "Female",
         "Yes",
         "Thur",
         "Lunch",
         2
        ],
        [
         13.0,
         2.0,
         "Female",
         "Yes",
         "Thur",
         "Lunch",
         2
        ],
        [
         16.4,
         2.5,
         "Female",
         "Yes",
         "Thur",
         "Lunch",
         2
        ],
        [
         20.53,
         4.0,
         "Male",
         "Yes",
         "Thur",
         "Lunch",
         4
        ],
        [
         16.47,
         3.23,
         "Female",
         "Yes",
         "Thur",
         "Lunch",
         3
        ],
        [
         26.59,
         3.41,
         "Male",
         "Yes",
         "Sat",
         "Dinner",
         3
        ],
        [
         38.73,
         3.0,
         "Male",
         "Yes",
         "Sat",
         "Dinner",
         4
        ],
        [
         24.27,
         2.03,
         "Male",
         "Yes",
         "Sat",
         "Dinner",
         2
        ],
        [
         12.76,
         2.23,
         "Female",
         "Yes",
         "Sat",
         "Dinner",
         2
        ],
        [
         30.06,
         2.0,
         "Male",
         "Yes",
         "Sat",
         "Dinner",
         3
        ],
        [
         25.89,
         5.16,
         "Male",
         "Yes",
         "Sat",
         "Dinner",
         4
        ],
        [
         48.33,
         9.0,
         "Male",
         "No",
         "Sat",
         "Dinner",
         4
        ],
        [
         13.27,
         2.5,
         "Female",
         "Yes",
         "Sat",
         "Dinner",
         2
        ],
        [
         28.17,
         6.5,
         "Female",
         "Yes",
         "Sat",
         "Dinner",
         3
        ],
        [
         12.9,
         1.1,
         "Female",
         "Yes",
         "Sat",
         "Dinner",
         2
        ],
        [
         28.15,
         3.0,
         "Male",
         "Yes",
         "Sat",
         "Dinner",
         5
        ],
        [
         11.59,
         1.5,
         "Male",
         "Yes",
         "Sat",
         "Dinner",
         2
        ],
        [
         7.74,
         1.44,
         "Male",
         "Yes",
         "Sat",
         "Dinner",
         2
        ],
        [
         30.14,
         3.09,
         "Female",
         "Yes",
         "Sat",
         "Dinner",
         4
        ],
        [
         12.16,
         2.2,
         "Male",
         "Yes",
         "Fri",
         "Lunch",
         2
        ],
        [
         13.42,
         3.48,
         "Female",
         "Yes",
         "Fri",
         "Lunch",
         2
        ],
        [
         8.58,
         1.92,
         "Male",
         "Yes",
         "Fri",
         "Lunch",
         1
        ],
        [
         15.98,
         3.0,
         "Female",
         "No",
         "Fri",
         "Lunch",
         3
        ],
        [
         13.42,
         1.58,
         "Male",
         "Yes",
         "Fri",
         "Lunch",
         2
        ],
        [
         16.27,
         2.5,
         "Female",
         "Yes",
         "Fri",
         "Lunch",
         2
        ],
        [
         10.09,
         2.0,
         "Female",
         "Yes",
         "Fri",
         "Lunch",
         2
        ],
        [
         20.45,
         3.0,
         "Male",
         "No",
         "Sat",
         "Dinner",
         4
        ],
        [
         13.28,
         2.72,
         "Male",
         "No",
         "Sat",
         "Dinner",
         2
        ],
        [
         22.12,
         2.88,
         "Female",
         "Yes",
         "Sat",
         "Dinner",
         2
        ],
        [
         24.01,
         2.0,
         "Male",
         "Yes",
         "Sat",
         "Dinner",
         4
        ],
        [
         15.69,
         3.0,
         "Male",
         "Yes",
         "Sat",
         "Dinner",
         3
        ],
        [
         11.61,
         3.39,
         "Male",
         "No",
         "Sat",
         "Dinner",
         2
        ],
        [
         10.77,
         1.47,
         "Male",
         "No",
         "Sat",
         "Dinner",
         2
        ],
        [
         15.53,
         3.0,
         "Male",
         "Yes",
         "Sat",
         "Dinner",
         2
        ],
        [
         10.07,
         1.25,
         "Male",
         "No",
         "Sat",
         "Dinner",
         2
        ],
        [
         12.6,
         1.0,
         "Male",
         "Yes",
         "Sat",
         "Dinner",
         2
        ],
        [
         32.83,
         1.17,
         "Male",
         "Yes",
         "Sat",
         "Dinner",
         2
        ],
        [
         35.83,
         4.67,
         "Female",
         "No",
         "Sat",
         "Dinner",
         3
        ],
        [
         29.03,
         5.92,
         "Male",
         "No",
         "Sat",
         "Dinner",
         3
        ],
        [
         27.18,
         2.0,
         "Female",
         "Yes",
         "Sat",
         "Dinner",
         2
        ],
        [
         22.67,
         2.0,
         "Male",
         "Yes",
         "Sat",
         "Dinner",
         2
        ],
        [
         17.82,
         1.75,
         "Male",
         "No",
         "Sat",
         "Dinner",
         2
        ],
        [
         18.78,
         3.0,
         "Female",
         "No",
         "Thur",
         "Dinner",
         2
        ]
       ],
       "datasetInfos": [],
       "dbfsResultPath": null,
       "isJsonSchema": true,
       "metadata": {},
       "overflow": false,
       "plotOptions": {
        "customPlotOptions": {},
        "displayType": "table",
        "pivotAggregation": null,
        "pivotColumns": null,
        "xColumns": null,
        "yColumns": null
       },
       "removedWidgets": [],
       "schema": [
        {
         "metadata": "{}",
         "name": "total_bill",
         "type": "\"double\""
        },
        {
         "metadata": "{}",
         "name": "tip",
         "type": "\"double\""
        },
        {
         "metadata": "{}",
         "name": "sex",
         "type": "\"string\""
        },
        {
         "metadata": "{}",
         "name": "smoker",
         "type": "\"string\""
        },
        {
         "metadata": "{}",
         "name": "day",
         "type": "\"string\""
        },
        {
         "metadata": "{}",
         "name": "time",
         "type": "\"string\""
        },
        {
         "metadata": "{}",
         "name": "size",
         "type": "\"integer\""
        }
       ],
       "type": "table"
      }
     },
     "output_type": "display_data"
    }
   ],
   "source": [
    "# File location and type\n",
    "file_location = \"/FileStore/tables/tips.csv\"\n",
    "file_type = \"csv\"\n",
    "\n",
    "# CSV options\n",
    "infer_schema = \"false\"\n",
    "first_row_is_header = \"false\"\n",
    "delimiter = \",\"\n",
    "\n",
    "# The applied options are for CSV files. For other file types, these will be ignored.\n",
    "df = spark.read.csv(file_location, header=True, inferSchema=True)\n",
    "display(df)"
   ]
  },
  {
   "cell_type": "code",
   "execution_count": 0,
   "metadata": {
    "application/vnd.databricks.v1+cell": {
     "cellMetadata": {
      "byteLimit": 2048000,
      "rowLimit": 10000
     },
     "inputWidgets": {},
     "nuid": "bd82bb99-1479-4d5c-be10-8c36df0f1d44",
     "showTitle": false,
     "title": ""
    }
   },
   "outputs": [
    {
     "output_type": "stream",
     "name": "stdout",
     "output_type": "stream",
     "text": [
      "root\n |-- total_bill: double (nullable = true)\n |-- tip: double (nullable = true)\n |-- sex: string (nullable = true)\n |-- smoker: string (nullable = true)\n |-- day: string (nullable = true)\n |-- time: string (nullable = true)\n |-- size: integer (nullable = true)\n\n"
     ]
    }
   ],
   "source": [
    "df.printSchema()"
   ]
  },
  {
   "cell_type": "code",
   "execution_count": 0,
   "metadata": {
    "application/vnd.databricks.v1+cell": {
     "cellMetadata": {
      "byteLimit": 2048000,
      "rowLimit": 10000
     },
     "inputWidgets": {},
     "nuid": "b5f66379-6f7f-42ec-8e82-d0e0926a1721",
     "showTitle": false,
     "title": ""
    }
   },
   "outputs": [],
   "source": [
    "### Handling Categorical Features\n",
    "from pyspark.ml.feature import StringIndexer"
   ]
  },
  {
   "cell_type": "code",
   "execution_count": 0,
   "metadata": {
    "application/vnd.databricks.v1+cell": {
     "cellMetadata": {
      "byteLimit": 2048000,
      "rowLimit": 10000
     },
     "inputWidgets": {},
     "nuid": "db9631f6-bb4a-42ca-8a3c-0d48af932331",
     "showTitle": false,
     "title": ""
    }
   },
   "outputs": [],
   "source": [
    "indexer = StringIndexer(inputCol='sex', outputCol='sex_indexed')\n",
    "df_r = indexer.fit(df).transform(df)"
   ]
  },
  {
   "cell_type": "code",
   "execution_count": 0,
   "metadata": {
    "application/vnd.databricks.v1+cell": {
     "cellMetadata": {
      "byteLimit": 2048000,
      "rowLimit": 10000
     },
     "inputWidgets": {},
     "nuid": "f2bc8334-6873-46c9-b792-9de0c610b1b8",
     "showTitle": false,
     "title": ""
    }
   },
   "outputs": [],
   "source": [
    "indexer = StringIndexer(inputCols=['smoker','day', 'time', 'sex'], outputCols=['smoker_indexed','day_indexed', 'time_indexed', 'sex_indexed'])\n",
    "\n",
    "df_r = indexer.fit(df).transform(df)"
   ]
  },
  {
   "cell_type": "code",
   "execution_count": 0,
   "metadata": {
    "application/vnd.databricks.v1+cell": {
     "cellMetadata": {
      "byteLimit": 2048000,
      "rowLimit": 10000
     },
     "inputWidgets": {},
     "nuid": "3d96c66f-7530-410b-aa5b-1279d1384907",
     "showTitle": false,
     "title": ""
    }
   },
   "outputs": [
    {
     "output_type": "display_data",
     "data": {
      "text/html": [
       "<style scoped>\n",
       "  .table-result-container {\n",
       "    max-height: 300px;\n",
       "    overflow: auto;\n",
       "  }\n",
       "  table, th, td {\n",
       "    border: 1px solid black;\n",
       "    border-collapse: collapse;\n",
       "  }\n",
       "  th, td {\n",
       "    padding: 5px;\n",
       "  }\n",
       "  th {\n",
       "    text-align: left;\n",
       "  }\n",
       "</style><div class='table-result-container'><table class='table-result'><thead style='background-color: white'><tr><th>total_bill</th><th>tip</th><th>sex</th><th>smoker</th><th>day</th><th>time</th><th>size</th><th>smoker_indexed</th><th>day_indexed</th><th>time_indexed</th><th>sex_indexed</th></tr></thead><tbody><tr><td>16.99</td><td>1.01</td><td>Female</td><td>No</td><td>Sun</td><td>Dinner</td><td>2</td><td>0.0</td><td>1.0</td><td>0.0</td><td>1.0</td></tr><tr><td>10.34</td><td>1.66</td><td>Male</td><td>No</td><td>Sun</td><td>Dinner</td><td>3</td><td>0.0</td><td>1.0</td><td>0.0</td><td>0.0</td></tr><tr><td>21.01</td><td>3.5</td><td>Male</td><td>No</td><td>Sun</td><td>Dinner</td><td>3</td><td>0.0</td><td>1.0</td><td>0.0</td><td>0.0</td></tr><tr><td>23.68</td><td>3.31</td><td>Male</td><td>No</td><td>Sun</td><td>Dinner</td><td>2</td><td>0.0</td><td>1.0</td><td>0.0</td><td>0.0</td></tr><tr><td>24.59</td><td>3.61</td><td>Female</td><td>No</td><td>Sun</td><td>Dinner</td><td>4</td><td>0.0</td><td>1.0</td><td>0.0</td><td>1.0</td></tr><tr><td>25.29</td><td>4.71</td><td>Male</td><td>No</td><td>Sun</td><td>Dinner</td><td>4</td><td>0.0</td><td>1.0</td><td>0.0</td><td>0.0</td></tr><tr><td>8.77</td><td>2.0</td><td>Male</td><td>No</td><td>Sun</td><td>Dinner</td><td>2</td><td>0.0</td><td>1.0</td><td>0.0</td><td>0.0</td></tr><tr><td>26.88</td><td>3.12</td><td>Male</td><td>No</td><td>Sun</td><td>Dinner</td><td>4</td><td>0.0</td><td>1.0</td><td>0.0</td><td>0.0</td></tr><tr><td>15.04</td><td>1.96</td><td>Male</td><td>No</td><td>Sun</td><td>Dinner</td><td>2</td><td>0.0</td><td>1.0</td><td>0.0</td><td>0.0</td></tr><tr><td>14.78</td><td>3.23</td><td>Male</td><td>No</td><td>Sun</td><td>Dinner</td><td>2</td><td>0.0</td><td>1.0</td><td>0.0</td><td>0.0</td></tr><tr><td>10.27</td><td>1.71</td><td>Male</td><td>No</td><td>Sun</td><td>Dinner</td><td>2</td><td>0.0</td><td>1.0</td><td>0.0</td><td>0.0</td></tr><tr><td>35.26</td><td>5.0</td><td>Female</td><td>No</td><td>Sun</td><td>Dinner</td><td>4</td><td>0.0</td><td>1.0</td><td>0.0</td><td>1.0</td></tr><tr><td>15.42</td><td>1.57</td><td>Male</td><td>No</td><td>Sun</td><td>Dinner</td><td>2</td><td>0.0</td><td>1.0</td><td>0.0</td><td>0.0</td></tr><tr><td>18.43</td><td>3.0</td><td>Male</td><td>No</td><td>Sun</td><td>Dinner</td><td>4</td><td>0.0</td><td>1.0</td><td>0.0</td><td>0.0</td></tr><tr><td>14.83</td><td>3.02</td><td>Female</td><td>No</td><td>Sun</td><td>Dinner</td><td>2</td><td>0.0</td><td>1.0</td><td>0.0</td><td>1.0</td></tr><tr><td>21.58</td><td>3.92</td><td>Male</td><td>No</td><td>Sun</td><td>Dinner</td><td>2</td><td>0.0</td><td>1.0</td><td>0.0</td><td>0.0</td></tr><tr><td>10.33</td><td>1.67</td><td>Female</td><td>No</td><td>Sun</td><td>Dinner</td><td>3</td><td>0.0</td><td>1.0</td><td>0.0</td><td>1.0</td></tr><tr><td>16.29</td><td>3.71</td><td>Male</td><td>No</td><td>Sun</td><td>Dinner</td><td>3</td><td>0.0</td><td>1.0</td><td>0.0</td><td>0.0</td></tr><tr><td>16.97</td><td>3.5</td><td>Female</td><td>No</td><td>Sun</td><td>Dinner</td><td>3</td><td>0.0</td><td>1.0</td><td>0.0</td><td>1.0</td></tr><tr><td>20.65</td><td>3.35</td><td>Male</td><td>No</td><td>Sat</td><td>Dinner</td><td>3</td><td>0.0</td><td>0.0</td><td>0.0</td><td>0.0</td></tr><tr><td>17.92</td><td>4.08</td><td>Male</td><td>No</td><td>Sat</td><td>Dinner</td><td>2</td><td>0.0</td><td>0.0</td><td>0.0</td><td>0.0</td></tr><tr><td>20.29</td><td>2.75</td><td>Female</td><td>No</td><td>Sat</td><td>Dinner</td><td>2</td><td>0.0</td><td>0.0</td><td>0.0</td><td>1.0</td></tr><tr><td>15.77</td><td>2.23</td><td>Female</td><td>No</td><td>Sat</td><td>Dinner</td><td>2</td><td>0.0</td><td>0.0</td><td>0.0</td><td>1.0</td></tr><tr><td>39.42</td><td>7.58</td><td>Male</td><td>No</td><td>Sat</td><td>Dinner</td><td>4</td><td>0.0</td><td>0.0</td><td>0.0</td><td>0.0</td></tr><tr><td>19.82</td><td>3.18</td><td>Male</td><td>No</td><td>Sat</td><td>Dinner</td><td>2</td><td>0.0</td><td>0.0</td><td>0.0</td><td>0.0</td></tr><tr><td>17.81</td><td>2.34</td><td>Male</td><td>No</td><td>Sat</td><td>Dinner</td><td>4</td><td>0.0</td><td>0.0</td><td>0.0</td><td>0.0</td></tr><tr><td>13.37</td><td>2.0</td><td>Male</td><td>No</td><td>Sat</td><td>Dinner</td><td>2</td><td>0.0</td><td>0.0</td><td>0.0</td><td>0.0</td></tr><tr><td>12.69</td><td>2.0</td><td>Male</td><td>No</td><td>Sat</td><td>Dinner</td><td>2</td><td>0.0</td><td>0.0</td><td>0.0</td><td>0.0</td></tr><tr><td>21.7</td><td>4.3</td><td>Male</td><td>No</td><td>Sat</td><td>Dinner</td><td>2</td><td>0.0</td><td>0.0</td><td>0.0</td><td>0.0</td></tr><tr><td>19.65</td><td>3.0</td><td>Female</td><td>No</td><td>Sat</td><td>Dinner</td><td>2</td><td>0.0</td><td>0.0</td><td>0.0</td><td>1.0</td></tr><tr><td>9.55</td><td>1.45</td><td>Male</td><td>No</td><td>Sat</td><td>Dinner</td><td>2</td><td>0.0</td><td>0.0</td><td>0.0</td><td>0.0</td></tr><tr><td>18.35</td><td>2.5</td><td>Male</td><td>No</td><td>Sat</td><td>Dinner</td><td>4</td><td>0.0</td><td>0.0</td><td>0.0</td><td>0.0</td></tr><tr><td>15.06</td><td>3.0</td><td>Female</td><td>No</td><td>Sat</td><td>Dinner</td><td>2</td><td>0.0</td><td>0.0</td><td>0.0</td><td>1.0</td></tr><tr><td>20.69</td><td>2.45</td><td>Female</td><td>No</td><td>Sat</td><td>Dinner</td><td>4</td><td>0.0</td><td>0.0</td><td>0.0</td><td>1.0</td></tr><tr><td>17.78</td><td>3.27</td><td>Male</td><td>No</td><td>Sat</td><td>Dinner</td><td>2</td><td>0.0</td><td>0.0</td><td>0.0</td><td>0.0</td></tr><tr><td>24.06</td><td>3.6</td><td>Male</td><td>No</td><td>Sat</td><td>Dinner</td><td>3</td><td>0.0</td><td>0.0</td><td>0.0</td><td>0.0</td></tr><tr><td>16.31</td><td>2.0</td><td>Male</td><td>No</td><td>Sat</td><td>Dinner</td><td>3</td><td>0.0</td><td>0.0</td><td>0.0</td><td>0.0</td></tr><tr><td>16.93</td><td>3.07</td><td>Female</td><td>No</td><td>Sat</td><td>Dinner</td><td>3</td><td>0.0</td><td>0.0</td><td>0.0</td><td>1.0</td></tr><tr><td>18.69</td><td>2.31</td><td>Male</td><td>No</td><td>Sat</td><td>Dinner</td><td>3</td><td>0.0</td><td>0.0</td><td>0.0</td><td>0.0</td></tr><tr><td>31.27</td><td>5.0</td><td>Male</td><td>No</td><td>Sat</td><td>Dinner</td><td>3</td><td>0.0</td><td>0.0</td><td>0.0</td><td>0.0</td></tr><tr><td>16.04</td><td>2.24</td><td>Male</td><td>No</td><td>Sat</td><td>Dinner</td><td>3</td><td>0.0</td><td>0.0</td><td>0.0</td><td>0.0</td></tr><tr><td>17.46</td><td>2.54</td><td>Male</td><td>No</td><td>Sun</td><td>Dinner</td><td>2</td><td>0.0</td><td>1.0</td><td>0.0</td><td>0.0</td></tr><tr><td>13.94</td><td>3.06</td><td>Male</td><td>No</td><td>Sun</td><td>Dinner</td><td>2</td><td>0.0</td><td>1.0</td><td>0.0</td><td>0.0</td></tr><tr><td>9.68</td><td>1.32</td><td>Male</td><td>No</td><td>Sun</td><td>Dinner</td><td>2</td><td>0.0</td><td>1.0</td><td>0.0</td><td>0.0</td></tr><tr><td>30.4</td><td>5.6</td><td>Male</td><td>No</td><td>Sun</td><td>Dinner</td><td>4</td><td>0.0</td><td>1.0</td><td>0.0</td><td>0.0</td></tr><tr><td>18.29</td><td>3.0</td><td>Male</td><td>No</td><td>Sun</td><td>Dinner</td><td>2</td><td>0.0</td><td>1.0</td><td>0.0</td><td>0.0</td></tr><tr><td>22.23</td><td>5.0</td><td>Male</td><td>No</td><td>Sun</td><td>Dinner</td><td>2</td><td>0.0</td><td>1.0</td><td>0.0</td><td>0.0</td></tr><tr><td>32.4</td><td>6.0</td><td>Male</td><td>No</td><td>Sun</td><td>Dinner</td><td>4</td><td>0.0</td><td>1.0</td><td>0.0</td><td>0.0</td></tr><tr><td>28.55</td><td>2.05</td><td>Male</td><td>No</td><td>Sun</td><td>Dinner</td><td>3</td><td>0.0</td><td>1.0</td><td>0.0</td><td>0.0</td></tr><tr><td>18.04</td><td>3.0</td><td>Male</td><td>No</td><td>Sun</td><td>Dinner</td><td>2</td><td>0.0</td><td>1.0</td><td>0.0</td><td>0.0</td></tr><tr><td>12.54</td><td>2.5</td><td>Male</td><td>No</td><td>Sun</td><td>Dinner</td><td>2</td><td>0.0</td><td>1.0</td><td>0.0</td><td>0.0</td></tr><tr><td>10.29</td><td>2.6</td><td>Female</td><td>No</td><td>Sun</td><td>Dinner</td><td>2</td><td>0.0</td><td>1.0</td><td>0.0</td><td>1.0</td></tr><tr><td>34.81</td><td>5.2</td><td>Female</td><td>No</td><td>Sun</td><td>Dinner</td><td>4</td><td>0.0</td><td>1.0</td><td>0.0</td><td>1.0</td></tr><tr><td>9.94</td><td>1.56</td><td>Male</td><td>No</td><td>Sun</td><td>Dinner</td><td>2</td><td>0.0</td><td>1.0</td><td>0.0</td><td>0.0</td></tr><tr><td>25.56</td><td>4.34</td><td>Male</td><td>No</td><td>Sun</td><td>Dinner</td><td>4</td><td>0.0</td><td>1.0</td><td>0.0</td><td>0.0</td></tr><tr><td>19.49</td><td>3.51</td><td>Male</td><td>No</td><td>Sun</td><td>Dinner</td><td>2</td><td>0.0</td><td>1.0</td><td>0.0</td><td>0.0</td></tr><tr><td>38.01</td><td>3.0</td><td>Male</td><td>Yes</td><td>Sat</td><td>Dinner</td><td>4</td><td>1.0</td><td>0.0</td><td>0.0</td><td>0.0</td></tr><tr><td>26.41</td><td>1.5</td><td>Female</td><td>No</td><td>Sat</td><td>Dinner</td><td>2</td><td>0.0</td><td>0.0</td><td>0.0</td><td>1.0</td></tr><tr><td>11.24</td><td>1.76</td><td>Male</td><td>Yes</td><td>Sat</td><td>Dinner</td><td>2</td><td>1.0</td><td>0.0</td><td>0.0</td><td>0.0</td></tr><tr><td>48.27</td><td>6.73</td><td>Male</td><td>No</td><td>Sat</td><td>Dinner</td><td>4</td><td>0.0</td><td>0.0</td><td>0.0</td><td>0.0</td></tr><tr><td>20.29</td><td>3.21</td><td>Male</td><td>Yes</td><td>Sat</td><td>Dinner</td><td>2</td><td>1.0</td><td>0.0</td><td>0.0</td><td>0.0</td></tr><tr><td>13.81</td><td>2.0</td><td>Male</td><td>Yes</td><td>Sat</td><td>Dinner</td><td>2</td><td>1.0</td><td>0.0</td><td>0.0</td><td>0.0</td></tr><tr><td>11.02</td><td>1.98</td><td>Male</td><td>Yes</td><td>Sat</td><td>Dinner</td><td>2</td><td>1.0</td><td>0.0</td><td>0.0</td><td>0.0</td></tr><tr><td>18.29</td><td>3.76</td><td>Male</td><td>Yes</td><td>Sat</td><td>Dinner</td><td>4</td><td>1.0</td><td>0.0</td><td>0.0</td><td>0.0</td></tr><tr><td>17.59</td><td>2.64</td><td>Male</td><td>No</td><td>Sat</td><td>Dinner</td><td>3</td><td>0.0</td><td>0.0</td><td>0.0</td><td>0.0</td></tr><tr><td>20.08</td><td>3.15</td><td>Male</td><td>No</td><td>Sat</td><td>Dinner</td><td>3</td><td>0.0</td><td>0.0</td><td>0.0</td><td>0.0</td></tr><tr><td>16.45</td><td>2.47</td><td>Female</td><td>No</td><td>Sat</td><td>Dinner</td><td>2</td><td>0.0</td><td>0.0</td><td>0.0</td><td>1.0</td></tr><tr><td>3.07</td><td>1.0</td><td>Female</td><td>Yes</td><td>Sat</td><td>Dinner</td><td>1</td><td>1.0</td><td>0.0</td><td>0.0</td><td>1.0</td></tr><tr><td>20.23</td><td>2.01</td><td>Male</td><td>No</td><td>Sat</td><td>Dinner</td><td>2</td><td>0.0</td><td>0.0</td><td>0.0</td><td>0.0</td></tr><tr><td>15.01</td><td>2.09</td><td>Male</td><td>Yes</td><td>Sat</td><td>Dinner</td><td>2</td><td>1.0</td><td>0.0</td><td>0.0</td><td>0.0</td></tr><tr><td>12.02</td><td>1.97</td><td>Male</td><td>No</td><td>Sat</td><td>Dinner</td><td>2</td><td>0.0</td><td>0.0</td><td>0.0</td><td>0.0</td></tr><tr><td>17.07</td><td>3.0</td><td>Female</td><td>No</td><td>Sat</td><td>Dinner</td><td>3</td><td>0.0</td><td>0.0</td><td>0.0</td><td>1.0</td></tr><tr><td>26.86</td><td>3.14</td><td>Female</td><td>Yes</td><td>Sat</td><td>Dinner</td><td>2</td><td>1.0</td><td>0.0</td><td>0.0</td><td>1.0</td></tr><tr><td>25.28</td><td>5.0</td><td>Female</td><td>Yes</td><td>Sat</td><td>Dinner</td><td>2</td><td>1.0</td><td>0.0</td><td>0.0</td><td>1.0</td></tr><tr><td>14.73</td><td>2.2</td><td>Female</td><td>No</td><td>Sat</td><td>Dinner</td><td>2</td><td>0.0</td><td>0.0</td><td>0.0</td><td>1.0</td></tr><tr><td>10.51</td><td>1.25</td><td>Male</td><td>No</td><td>Sat</td><td>Dinner</td><td>2</td><td>0.0</td><td>0.0</td><td>0.0</td><td>0.0</td></tr><tr><td>17.92</td><td>3.08</td><td>Male</td><td>Yes</td><td>Sat</td><td>Dinner</td><td>2</td><td>1.0</td><td>0.0</td><td>0.0</td><td>0.0</td></tr><tr><td>27.2</td><td>4.0</td><td>Male</td><td>No</td><td>Thur</td><td>Lunch</td><td>4</td><td>0.0</td><td>2.0</td><td>1.0</td><td>0.0</td></tr><tr><td>22.76</td><td>3.0</td><td>Male</td><td>No</td><td>Thur</td><td>Lunch</td><td>2</td><td>0.0</td><td>2.0</td><td>1.0</td><td>0.0</td></tr><tr><td>17.29</td><td>2.71</td><td>Male</td><td>No</td><td>Thur</td><td>Lunch</td><td>2</td><td>0.0</td><td>2.0</td><td>1.0</td><td>0.0</td></tr><tr><td>19.44</td><td>3.0</td><td>Male</td><td>Yes</td><td>Thur</td><td>Lunch</td><td>2</td><td>1.0</td><td>2.0</td><td>1.0</td><td>0.0</td></tr><tr><td>16.66</td><td>3.4</td><td>Male</td><td>No</td><td>Thur</td><td>Lunch</td><td>2</td><td>0.0</td><td>2.0</td><td>1.0</td><td>0.0</td></tr><tr><td>10.07</td><td>1.83</td><td>Female</td><td>No</td><td>Thur</td><td>Lunch</td><td>1</td><td>0.0</td><td>2.0</td><td>1.0</td><td>1.0</td></tr><tr><td>32.68</td><td>5.0</td><td>Male</td><td>Yes</td><td>Thur</td><td>Lunch</td><td>2</td><td>1.0</td><td>2.0</td><td>1.0</td><td>0.0</td></tr><tr><td>15.98</td><td>2.03</td><td>Male</td><td>No</td><td>Thur</td><td>Lunch</td><td>2</td><td>0.0</td><td>2.0</td><td>1.0</td><td>0.0</td></tr><tr><td>34.83</td><td>5.17</td><td>Female</td><td>No</td><td>Thur</td><td>Lunch</td><td>4</td><td>0.0</td><td>2.0</td><td>1.0</td><td>1.0</td></tr><tr><td>13.03</td><td>2.0</td><td>Male</td><td>No</td><td>Thur</td><td>Lunch</td><td>2</td><td>0.0</td><td>2.0</td><td>1.0</td><td>0.0</td></tr><tr><td>18.28</td><td>4.0</td><td>Male</td><td>No</td><td>Thur</td><td>Lunch</td><td>2</td><td>0.0</td><td>2.0</td><td>1.0</td><td>0.0</td></tr><tr><td>24.71</td><td>5.85</td><td>Male</td><td>No</td><td>Thur</td><td>Lunch</td><td>2</td><td>0.0</td><td>2.0</td><td>1.0</td><td>0.0</td></tr><tr><td>21.16</td><td>3.0</td><td>Male</td><td>No</td><td>Thur</td><td>Lunch</td><td>2</td><td>0.0</td><td>2.0</td><td>1.0</td><td>0.0</td></tr><tr><td>28.97</td><td>3.0</td><td>Male</td><td>Yes</td><td>Fri</td><td>Dinner</td><td>2</td><td>1.0</td><td>3.0</td><td>0.0</td><td>0.0</td></tr><tr><td>22.49</td><td>3.5</td><td>Male</td><td>No</td><td>Fri</td><td>Dinner</td><td>2</td><td>0.0</td><td>3.0</td><td>0.0</td><td>0.0</td></tr><tr><td>5.75</td><td>1.0</td><td>Female</td><td>Yes</td><td>Fri</td><td>Dinner</td><td>2</td><td>1.0</td><td>3.0</td><td>0.0</td><td>1.0</td></tr><tr><td>16.32</td><td>4.3</td><td>Female</td><td>Yes</td><td>Fri</td><td>Dinner</td><td>2</td><td>1.0</td><td>3.0</td><td>0.0</td><td>1.0</td></tr><tr><td>22.75</td><td>3.25</td><td>Female</td><td>No</td><td>Fri</td><td>Dinner</td><td>2</td><td>0.0</td><td>3.0</td><td>0.0</td><td>1.0</td></tr><tr><td>40.17</td><td>4.73</td><td>Male</td><td>Yes</td><td>Fri</td><td>Dinner</td><td>4</td><td>1.0</td><td>3.0</td><td>0.0</td><td>0.0</td></tr><tr><td>27.28</td><td>4.0</td><td>Male</td><td>Yes</td><td>Fri</td><td>Dinner</td><td>2</td><td>1.0</td><td>3.0</td><td>0.0</td><td>0.0</td></tr><tr><td>12.03</td><td>1.5</td><td>Male</td><td>Yes</td><td>Fri</td><td>Dinner</td><td>2</td><td>1.0</td><td>3.0</td><td>0.0</td><td>0.0</td></tr><tr><td>21.01</td><td>3.0</td><td>Male</td><td>Yes</td><td>Fri</td><td>Dinner</td><td>2</td><td>1.0</td><td>3.0</td><td>0.0</td><td>0.0</td></tr><tr><td>12.46</td><td>1.5</td><td>Male</td><td>No</td><td>Fri</td><td>Dinner</td><td>2</td><td>0.0</td><td>3.0</td><td>0.0</td><td>0.0</td></tr><tr><td>11.35</td><td>2.5</td><td>Female</td><td>Yes</td><td>Fri</td><td>Dinner</td><td>2</td><td>1.0</td><td>3.0</td><td>0.0</td><td>1.0</td></tr><tr><td>15.38</td><td>3.0</td><td>Female</td><td>Yes</td><td>Fri</td><td>Dinner</td><td>2</td><td>1.0</td><td>3.0</td><td>0.0</td><td>1.0</td></tr><tr><td>44.3</td><td>2.5</td><td>Female</td><td>Yes</td><td>Sat</td><td>Dinner</td><td>3</td><td>1.0</td><td>0.0</td><td>0.0</td><td>1.0</td></tr><tr><td>22.42</td><td>3.48</td><td>Female</td><td>Yes</td><td>Sat</td><td>Dinner</td><td>2</td><td>1.0</td><td>0.0</td><td>0.0</td><td>1.0</td></tr><tr><td>20.92</td><td>4.08</td><td>Female</td><td>No</td><td>Sat</td><td>Dinner</td><td>2</td><td>0.0</td><td>0.0</td><td>0.0</td><td>1.0</td></tr><tr><td>15.36</td><td>1.64</td><td>Male</td><td>Yes</td><td>Sat</td><td>Dinner</td><td>2</td><td>1.0</td><td>0.0</td><td>0.0</td><td>0.0</td></tr><tr><td>20.49</td><td>4.06</td><td>Male</td><td>Yes</td><td>Sat</td><td>Dinner</td><td>2</td><td>1.0</td><td>0.0</td><td>0.0</td><td>0.0</td></tr><tr><td>25.21</td><td>4.29</td><td>Male</td><td>Yes</td><td>Sat</td><td>Dinner</td><td>2</td><td>1.0</td><td>0.0</td><td>0.0</td><td>0.0</td></tr><tr><td>18.24</td><td>3.76</td><td>Male</td><td>No</td><td>Sat</td><td>Dinner</td><td>2</td><td>0.0</td><td>0.0</td><td>0.0</td><td>0.0</td></tr><tr><td>14.31</td><td>4.0</td><td>Female</td><td>Yes</td><td>Sat</td><td>Dinner</td><td>2</td><td>1.0</td><td>0.0</td><td>0.0</td><td>1.0</td></tr><tr><td>14.0</td><td>3.0</td><td>Male</td><td>No</td><td>Sat</td><td>Dinner</td><td>2</td><td>0.0</td><td>0.0</td><td>0.0</td><td>0.0</td></tr><tr><td>7.25</td><td>1.0</td><td>Female</td><td>No</td><td>Sat</td><td>Dinner</td><td>1</td><td>0.0</td><td>0.0</td><td>0.0</td><td>1.0</td></tr><tr><td>38.07</td><td>4.0</td><td>Male</td><td>No</td><td>Sun</td><td>Dinner</td><td>3</td><td>0.0</td><td>1.0</td><td>0.0</td><td>0.0</td></tr><tr><td>23.95</td><td>2.55</td><td>Male</td><td>No</td><td>Sun</td><td>Dinner</td><td>2</td><td>0.0</td><td>1.0</td><td>0.0</td><td>0.0</td></tr><tr><td>25.71</td><td>4.0</td><td>Female</td><td>No</td><td>Sun</td><td>Dinner</td><td>3</td><td>0.0</td><td>1.0</td><td>0.0</td><td>1.0</td></tr><tr><td>17.31</td><td>3.5</td><td>Female</td><td>No</td><td>Sun</td><td>Dinner</td><td>2</td><td>0.0</td><td>1.0</td><td>0.0</td><td>1.0</td></tr><tr><td>29.93</td><td>5.07</td><td>Male</td><td>No</td><td>Sun</td><td>Dinner</td><td>4</td><td>0.0</td><td>1.0</td><td>0.0</td><td>0.0</td></tr><tr><td>10.65</td><td>1.5</td><td>Female</td><td>No</td><td>Thur</td><td>Lunch</td><td>2</td><td>0.0</td><td>2.0</td><td>1.0</td><td>1.0</td></tr><tr><td>12.43</td><td>1.8</td><td>Female</td><td>No</td><td>Thur</td><td>Lunch</td><td>2</td><td>0.0</td><td>2.0</td><td>1.0</td><td>1.0</td></tr><tr><td>24.08</td><td>2.92</td><td>Female</td><td>No</td><td>Thur</td><td>Lunch</td><td>4</td><td>0.0</td><td>2.0</td><td>1.0</td><td>1.0</td></tr><tr><td>11.69</td><td>2.31</td><td>Male</td><td>No</td><td>Thur</td><td>Lunch</td><td>2</td><td>0.0</td><td>2.0</td><td>1.0</td><td>0.0</td></tr><tr><td>13.42</td><td>1.68</td><td>Female</td><td>No</td><td>Thur</td><td>Lunch</td><td>2</td><td>0.0</td><td>2.0</td><td>1.0</td><td>1.0</td></tr><tr><td>14.26</td><td>2.5</td><td>Male</td><td>No</td><td>Thur</td><td>Lunch</td><td>2</td><td>0.0</td><td>2.0</td><td>1.0</td><td>0.0</td></tr><tr><td>15.95</td><td>2.0</td><td>Male</td><td>No</td><td>Thur</td><td>Lunch</td><td>2</td><td>0.0</td><td>2.0</td><td>1.0</td><td>0.0</td></tr><tr><td>12.48</td><td>2.52</td><td>Female</td><td>No</td><td>Thur</td><td>Lunch</td><td>2</td><td>0.0</td><td>2.0</td><td>1.0</td><td>1.0</td></tr><tr><td>29.8</td><td>4.2</td><td>Female</td><td>No</td><td>Thur</td><td>Lunch</td><td>6</td><td>0.0</td><td>2.0</td><td>1.0</td><td>1.0</td></tr><tr><td>8.52</td><td>1.48</td><td>Male</td><td>No</td><td>Thur</td><td>Lunch</td><td>2</td><td>0.0</td><td>2.0</td><td>1.0</td><td>0.0</td></tr><tr><td>14.52</td><td>2.0</td><td>Female</td><td>No</td><td>Thur</td><td>Lunch</td><td>2</td><td>0.0</td><td>2.0</td><td>1.0</td><td>1.0</td></tr><tr><td>11.38</td><td>2.0</td><td>Female</td><td>No</td><td>Thur</td><td>Lunch</td><td>2</td><td>0.0</td><td>2.0</td><td>1.0</td><td>1.0</td></tr><tr><td>22.82</td><td>2.18</td><td>Male</td><td>No</td><td>Thur</td><td>Lunch</td><td>3</td><td>0.0</td><td>2.0</td><td>1.0</td><td>0.0</td></tr><tr><td>19.08</td><td>1.5</td><td>Male</td><td>No</td><td>Thur</td><td>Lunch</td><td>2</td><td>0.0</td><td>2.0</td><td>1.0</td><td>0.0</td></tr><tr><td>20.27</td><td>2.83</td><td>Female</td><td>No</td><td>Thur</td><td>Lunch</td><td>2</td><td>0.0</td><td>2.0</td><td>1.0</td><td>1.0</td></tr><tr><td>11.17</td><td>1.5</td><td>Female</td><td>No</td><td>Thur</td><td>Lunch</td><td>2</td><td>0.0</td><td>2.0</td><td>1.0</td><td>1.0</td></tr><tr><td>12.26</td><td>2.0</td><td>Female</td><td>No</td><td>Thur</td><td>Lunch</td><td>2</td><td>0.0</td><td>2.0</td><td>1.0</td><td>1.0</td></tr><tr><td>18.26</td><td>3.25</td><td>Female</td><td>No</td><td>Thur</td><td>Lunch</td><td>2</td><td>0.0</td><td>2.0</td><td>1.0</td><td>1.0</td></tr><tr><td>8.51</td><td>1.25</td><td>Female</td><td>No</td><td>Thur</td><td>Lunch</td><td>2</td><td>0.0</td><td>2.0</td><td>1.0</td><td>1.0</td></tr><tr><td>10.33</td><td>2.0</td><td>Female</td><td>No</td><td>Thur</td><td>Lunch</td><td>2</td><td>0.0</td><td>2.0</td><td>1.0</td><td>1.0</td></tr><tr><td>14.15</td><td>2.0</td><td>Female</td><td>No</td><td>Thur</td><td>Lunch</td><td>2</td><td>0.0</td><td>2.0</td><td>1.0</td><td>1.0</td></tr><tr><td>16.0</td><td>2.0</td><td>Male</td><td>Yes</td><td>Thur</td><td>Lunch</td><td>2</td><td>1.0</td><td>2.0</td><td>1.0</td><td>0.0</td></tr><tr><td>13.16</td><td>2.75</td><td>Female</td><td>No</td><td>Thur</td><td>Lunch</td><td>2</td><td>0.0</td><td>2.0</td><td>1.0</td><td>1.0</td></tr><tr><td>17.47</td><td>3.5</td><td>Female</td><td>No</td><td>Thur</td><td>Lunch</td><td>2</td><td>0.0</td><td>2.0</td><td>1.0</td><td>1.0</td></tr><tr><td>34.3</td><td>6.7</td><td>Male</td><td>No</td><td>Thur</td><td>Lunch</td><td>6</td><td>0.0</td><td>2.0</td><td>1.0</td><td>0.0</td></tr><tr><td>41.19</td><td>5.0</td><td>Male</td><td>No</td><td>Thur</td><td>Lunch</td><td>5</td><td>0.0</td><td>2.0</td><td>1.0</td><td>0.0</td></tr><tr><td>27.05</td><td>5.0</td><td>Female</td><td>No</td><td>Thur</td><td>Lunch</td><td>6</td><td>0.0</td><td>2.0</td><td>1.0</td><td>1.0</td></tr><tr><td>16.43</td><td>2.3</td><td>Female</td><td>No</td><td>Thur</td><td>Lunch</td><td>2</td><td>0.0</td><td>2.0</td><td>1.0</td><td>1.0</td></tr><tr><td>8.35</td><td>1.5</td><td>Female</td><td>No</td><td>Thur</td><td>Lunch</td><td>2</td><td>0.0</td><td>2.0</td><td>1.0</td><td>1.0</td></tr><tr><td>18.64</td><td>1.36</td><td>Female</td><td>No</td><td>Thur</td><td>Lunch</td><td>3</td><td>0.0</td><td>2.0</td><td>1.0</td><td>1.0</td></tr><tr><td>11.87</td><td>1.63</td><td>Female</td><td>No</td><td>Thur</td><td>Lunch</td><td>2</td><td>0.0</td><td>2.0</td><td>1.0</td><td>1.0</td></tr><tr><td>9.78</td><td>1.73</td><td>Male</td><td>No</td><td>Thur</td><td>Lunch</td><td>2</td><td>0.0</td><td>2.0</td><td>1.0</td><td>0.0</td></tr><tr><td>7.51</td><td>2.0</td><td>Male</td><td>No</td><td>Thur</td><td>Lunch</td><td>2</td><td>0.0</td><td>2.0</td><td>1.0</td><td>0.0</td></tr><tr><td>14.07</td><td>2.5</td><td>Male</td><td>No</td><td>Sun</td><td>Dinner</td><td>2</td><td>0.0</td><td>1.0</td><td>0.0</td><td>0.0</td></tr><tr><td>13.13</td><td>2.0</td><td>Male</td><td>No</td><td>Sun</td><td>Dinner</td><td>2</td><td>0.0</td><td>1.0</td><td>0.0</td><td>0.0</td></tr><tr><td>17.26</td><td>2.74</td><td>Male</td><td>No</td><td>Sun</td><td>Dinner</td><td>3</td><td>0.0</td><td>1.0</td><td>0.0</td><td>0.0</td></tr><tr><td>24.55</td><td>2.0</td><td>Male</td><td>No</td><td>Sun</td><td>Dinner</td><td>4</td><td>0.0</td><td>1.0</td><td>0.0</td><td>0.0</td></tr><tr><td>19.77</td><td>2.0</td><td>Male</td><td>No</td><td>Sun</td><td>Dinner</td><td>4</td><td>0.0</td><td>1.0</td><td>0.0</td><td>0.0</td></tr><tr><td>29.85</td><td>5.14</td><td>Female</td><td>No</td><td>Sun</td><td>Dinner</td><td>5</td><td>0.0</td><td>1.0</td><td>0.0</td><td>1.0</td></tr><tr><td>48.17</td><td>5.0</td><td>Male</td><td>No</td><td>Sun</td><td>Dinner</td><td>6</td><td>0.0</td><td>1.0</td><td>0.0</td><td>0.0</td></tr><tr><td>25.0</td><td>3.75</td><td>Female</td><td>No</td><td>Sun</td><td>Dinner</td><td>4</td><td>0.0</td><td>1.0</td><td>0.0</td><td>1.0</td></tr><tr><td>13.39</td><td>2.61</td><td>Female</td><td>No</td><td>Sun</td><td>Dinner</td><td>2</td><td>0.0</td><td>1.0</td><td>0.0</td><td>1.0</td></tr><tr><td>16.49</td><td>2.0</td><td>Male</td><td>No</td><td>Sun</td><td>Dinner</td><td>4</td><td>0.0</td><td>1.0</td><td>0.0</td><td>0.0</td></tr><tr><td>21.5</td><td>3.5</td><td>Male</td><td>No</td><td>Sun</td><td>Dinner</td><td>4</td><td>0.0</td><td>1.0</td><td>0.0</td><td>0.0</td></tr><tr><td>12.66</td><td>2.5</td><td>Male</td><td>No</td><td>Sun</td><td>Dinner</td><td>2</td><td>0.0</td><td>1.0</td><td>0.0</td><td>0.0</td></tr><tr><td>16.21</td><td>2.0</td><td>Female</td><td>No</td><td>Sun</td><td>Dinner</td><td>3</td><td>0.0</td><td>1.0</td><td>0.0</td><td>1.0</td></tr><tr><td>13.81</td><td>2.0</td><td>Male</td><td>No</td><td>Sun</td><td>Dinner</td><td>2</td><td>0.0</td><td>1.0</td><td>0.0</td><td>0.0</td></tr><tr><td>17.51</td><td>3.0</td><td>Female</td><td>Yes</td><td>Sun</td><td>Dinner</td><td>2</td><td>1.0</td><td>1.0</td><td>0.0</td><td>1.0</td></tr><tr><td>24.52</td><td>3.48</td><td>Male</td><td>No</td><td>Sun</td><td>Dinner</td><td>3</td><td>0.0</td><td>1.0</td><td>0.0</td><td>0.0</td></tr><tr><td>20.76</td><td>2.24</td><td>Male</td><td>No</td><td>Sun</td><td>Dinner</td><td>2</td><td>0.0</td><td>1.0</td><td>0.0</td><td>0.0</td></tr><tr><td>31.71</td><td>4.5</td><td>Male</td><td>No</td><td>Sun</td><td>Dinner</td><td>4</td><td>0.0</td><td>1.0</td><td>0.0</td><td>0.0</td></tr><tr><td>10.59</td><td>1.61</td><td>Female</td><td>Yes</td><td>Sat</td><td>Dinner</td><td>2</td><td>1.0</td><td>0.0</td><td>0.0</td><td>1.0</td></tr><tr><td>10.63</td><td>2.0</td><td>Female</td><td>Yes</td><td>Sat</td><td>Dinner</td><td>2</td><td>1.0</td><td>0.0</td><td>0.0</td><td>1.0</td></tr><tr><td>50.81</td><td>10.0</td><td>Male</td><td>Yes</td><td>Sat</td><td>Dinner</td><td>3</td><td>1.0</td><td>0.0</td><td>0.0</td><td>0.0</td></tr><tr><td>15.81</td><td>3.16</td><td>Male</td><td>Yes</td><td>Sat</td><td>Dinner</td><td>2</td><td>1.0</td><td>0.0</td><td>0.0</td><td>0.0</td></tr><tr><td>7.25</td><td>5.15</td><td>Male</td><td>Yes</td><td>Sun</td><td>Dinner</td><td>2</td><td>1.0</td><td>1.0</td><td>0.0</td><td>0.0</td></tr><tr><td>31.85</td><td>3.18</td><td>Male</td><td>Yes</td><td>Sun</td><td>Dinner</td><td>2</td><td>1.0</td><td>1.0</td><td>0.0</td><td>0.0</td></tr><tr><td>16.82</td><td>4.0</td><td>Male</td><td>Yes</td><td>Sun</td><td>Dinner</td><td>2</td><td>1.0</td><td>1.0</td><td>0.0</td><td>0.0</td></tr><tr><td>32.9</td><td>3.11</td><td>Male</td><td>Yes</td><td>Sun</td><td>Dinner</td><td>2</td><td>1.0</td><td>1.0</td><td>0.0</td><td>0.0</td></tr><tr><td>17.89</td><td>2.0</td><td>Male</td><td>Yes</td><td>Sun</td><td>Dinner</td><td>2</td><td>1.0</td><td>1.0</td><td>0.0</td><td>0.0</td></tr><tr><td>14.48</td><td>2.0</td><td>Male</td><td>Yes</td><td>Sun</td><td>Dinner</td><td>2</td><td>1.0</td><td>1.0</td><td>0.0</td><td>0.0</td></tr><tr><td>9.6</td><td>4.0</td><td>Female</td><td>Yes</td><td>Sun</td><td>Dinner</td><td>2</td><td>1.0</td><td>1.0</td><td>0.0</td><td>1.0</td></tr><tr><td>34.63</td><td>3.55</td><td>Male</td><td>Yes</td><td>Sun</td><td>Dinner</td><td>2</td><td>1.0</td><td>1.0</td><td>0.0</td><td>0.0</td></tr><tr><td>34.65</td><td>3.68</td><td>Male</td><td>Yes</td><td>Sun</td><td>Dinner</td><td>4</td><td>1.0</td><td>1.0</td><td>0.0</td><td>0.0</td></tr><tr><td>23.33</td><td>5.65</td><td>Male</td><td>Yes</td><td>Sun</td><td>Dinner</td><td>2</td><td>1.0</td><td>1.0</td><td>0.0</td><td>0.0</td></tr><tr><td>45.35</td><td>3.5</td><td>Male</td><td>Yes</td><td>Sun</td><td>Dinner</td><td>3</td><td>1.0</td><td>1.0</td><td>0.0</td><td>0.0</td></tr><tr><td>23.17</td><td>6.5</td><td>Male</td><td>Yes</td><td>Sun</td><td>Dinner</td><td>4</td><td>1.0</td><td>1.0</td><td>0.0</td><td>0.0</td></tr><tr><td>40.55</td><td>3.0</td><td>Male</td><td>Yes</td><td>Sun</td><td>Dinner</td><td>2</td><td>1.0</td><td>1.0</td><td>0.0</td><td>0.0</td></tr><tr><td>20.69</td><td>5.0</td><td>Male</td><td>No</td><td>Sun</td><td>Dinner</td><td>5</td><td>0.0</td><td>1.0</td><td>0.0</td><td>0.0</td></tr><tr><td>20.9</td><td>3.5</td><td>Female</td><td>Yes</td><td>Sun</td><td>Dinner</td><td>3</td><td>1.0</td><td>1.0</td><td>0.0</td><td>1.0</td></tr><tr><td>30.46</td><td>2.0</td><td>Male</td><td>Yes</td><td>Sun</td><td>Dinner</td><td>5</td><td>1.0</td><td>1.0</td><td>0.0</td><td>0.0</td></tr><tr><td>18.15</td><td>3.5</td><td>Female</td><td>Yes</td><td>Sun</td><td>Dinner</td><td>3</td><td>1.0</td><td>1.0</td><td>0.0</td><td>1.0</td></tr><tr><td>23.1</td><td>4.0</td><td>Male</td><td>Yes</td><td>Sun</td><td>Dinner</td><td>3</td><td>1.0</td><td>1.0</td><td>0.0</td><td>0.0</td></tr><tr><td>15.69</td><td>1.5</td><td>Male</td><td>Yes</td><td>Sun</td><td>Dinner</td><td>2</td><td>1.0</td><td>1.0</td><td>0.0</td><td>0.0</td></tr><tr><td>19.81</td><td>4.19</td><td>Female</td><td>Yes</td><td>Thur</td><td>Lunch</td><td>2</td><td>1.0</td><td>2.0</td><td>1.0</td><td>1.0</td></tr><tr><td>28.44</td><td>2.56</td><td>Male</td><td>Yes</td><td>Thur</td><td>Lunch</td><td>2</td><td>1.0</td><td>2.0</td><td>1.0</td><td>0.0</td></tr><tr><td>15.48</td><td>2.02</td><td>Male</td><td>Yes</td><td>Thur</td><td>Lunch</td><td>2</td><td>1.0</td><td>2.0</td><td>1.0</td><td>0.0</td></tr><tr><td>16.58</td><td>4.0</td><td>Male</td><td>Yes</td><td>Thur</td><td>Lunch</td><td>2</td><td>1.0</td><td>2.0</td><td>1.0</td><td>0.0</td></tr><tr><td>7.56</td><td>1.44</td><td>Male</td><td>No</td><td>Thur</td><td>Lunch</td><td>2</td><td>0.0</td><td>2.0</td><td>1.0</td><td>0.0</td></tr><tr><td>10.34</td><td>2.0</td><td>Male</td><td>Yes</td><td>Thur</td><td>Lunch</td><td>2</td><td>1.0</td><td>2.0</td><td>1.0</td><td>0.0</td></tr><tr><td>43.11</td><td>5.0</td><td>Female</td><td>Yes</td><td>Thur</td><td>Lunch</td><td>4</td><td>1.0</td><td>2.0</td><td>1.0</td><td>1.0</td></tr><tr><td>13.0</td><td>2.0</td><td>Female</td><td>Yes</td><td>Thur</td><td>Lunch</td><td>2</td><td>1.0</td><td>2.0</td><td>1.0</td><td>1.0</td></tr><tr><td>13.51</td><td>2.0</td><td>Male</td><td>Yes</td><td>Thur</td><td>Lunch</td><td>2</td><td>1.0</td><td>2.0</td><td>1.0</td><td>0.0</td></tr><tr><td>18.71</td><td>4.0</td><td>Male</td><td>Yes</td><td>Thur</td><td>Lunch</td><td>3</td><td>1.0</td><td>2.0</td><td>1.0</td><td>0.0</td></tr><tr><td>12.74</td><td>2.01</td><td>Female</td><td>Yes</td><td>Thur</td><td>Lunch</td><td>2</td><td>1.0</td><td>2.0</td><td>1.0</td><td>1.0</td></tr><tr><td>13.0</td><td>2.0</td><td>Female</td><td>Yes</td><td>Thur</td><td>Lunch</td><td>2</td><td>1.0</td><td>2.0</td><td>1.0</td><td>1.0</td></tr><tr><td>16.4</td><td>2.5</td><td>Female</td><td>Yes</td><td>Thur</td><td>Lunch</td><td>2</td><td>1.0</td><td>2.0</td><td>1.0</td><td>1.0</td></tr><tr><td>20.53</td><td>4.0</td><td>Male</td><td>Yes</td><td>Thur</td><td>Lunch</td><td>4</td><td>1.0</td><td>2.0</td><td>1.0</td><td>0.0</td></tr><tr><td>16.47</td><td>3.23</td><td>Female</td><td>Yes</td><td>Thur</td><td>Lunch</td><td>3</td><td>1.0</td><td>2.0</td><td>1.0</td><td>1.0</td></tr><tr><td>26.59</td><td>3.41</td><td>Male</td><td>Yes</td><td>Sat</td><td>Dinner</td><td>3</td><td>1.0</td><td>0.0</td><td>0.0</td><td>0.0</td></tr><tr><td>38.73</td><td>3.0</td><td>Male</td><td>Yes</td><td>Sat</td><td>Dinner</td><td>4</td><td>1.0</td><td>0.0</td><td>0.0</td><td>0.0</td></tr><tr><td>24.27</td><td>2.03</td><td>Male</td><td>Yes</td><td>Sat</td><td>Dinner</td><td>2</td><td>1.0</td><td>0.0</td><td>0.0</td><td>0.0</td></tr><tr><td>12.76</td><td>2.23</td><td>Female</td><td>Yes</td><td>Sat</td><td>Dinner</td><td>2</td><td>1.0</td><td>0.0</td><td>0.0</td><td>1.0</td></tr><tr><td>30.06</td><td>2.0</td><td>Male</td><td>Yes</td><td>Sat</td><td>Dinner</td><td>3</td><td>1.0</td><td>0.0</td><td>0.0</td><td>0.0</td></tr><tr><td>25.89</td><td>5.16</td><td>Male</td><td>Yes</td><td>Sat</td><td>Dinner</td><td>4</td><td>1.0</td><td>0.0</td><td>0.0</td><td>0.0</td></tr><tr><td>48.33</td><td>9.0</td><td>Male</td><td>No</td><td>Sat</td><td>Dinner</td><td>4</td><td>0.0</td><td>0.0</td><td>0.0</td><td>0.0</td></tr><tr><td>13.27</td><td>2.5</td><td>Female</td><td>Yes</td><td>Sat</td><td>Dinner</td><td>2</td><td>1.0</td><td>0.0</td><td>0.0</td><td>1.0</td></tr><tr><td>28.17</td><td>6.5</td><td>Female</td><td>Yes</td><td>Sat</td><td>Dinner</td><td>3</td><td>1.0</td><td>0.0</td><td>0.0</td><td>1.0</td></tr><tr><td>12.9</td><td>1.1</td><td>Female</td><td>Yes</td><td>Sat</td><td>Dinner</td><td>2</td><td>1.0</td><td>0.0</td><td>0.0</td><td>1.0</td></tr><tr><td>28.15</td><td>3.0</td><td>Male</td><td>Yes</td><td>Sat</td><td>Dinner</td><td>5</td><td>1.0</td><td>0.0</td><td>0.0</td><td>0.0</td></tr><tr><td>11.59</td><td>1.5</td><td>Male</td><td>Yes</td><td>Sat</td><td>Dinner</td><td>2</td><td>1.0</td><td>0.0</td><td>0.0</td><td>0.0</td></tr><tr><td>7.74</td><td>1.44</td><td>Male</td><td>Yes</td><td>Sat</td><td>Dinner</td><td>2</td><td>1.0</td><td>0.0</td><td>0.0</td><td>0.0</td></tr><tr><td>30.14</td><td>3.09</td><td>Female</td><td>Yes</td><td>Sat</td><td>Dinner</td><td>4</td><td>1.0</td><td>0.0</td><td>0.0</td><td>1.0</td></tr><tr><td>12.16</td><td>2.2</td><td>Male</td><td>Yes</td><td>Fri</td><td>Lunch</td><td>2</td><td>1.0</td><td>3.0</td><td>1.0</td><td>0.0</td></tr><tr><td>13.42</td><td>3.48</td><td>Female</td><td>Yes</td><td>Fri</td><td>Lunch</td><td>2</td><td>1.0</td><td>3.0</td><td>1.0</td><td>1.0</td></tr><tr><td>8.58</td><td>1.92</td><td>Male</td><td>Yes</td><td>Fri</td><td>Lunch</td><td>1</td><td>1.0</td><td>3.0</td><td>1.0</td><td>0.0</td></tr><tr><td>15.98</td><td>3.0</td><td>Female</td><td>No</td><td>Fri</td><td>Lunch</td><td>3</td><td>0.0</td><td>3.0</td><td>1.0</td><td>1.0</td></tr><tr><td>13.42</td><td>1.58</td><td>Male</td><td>Yes</td><td>Fri</td><td>Lunch</td><td>2</td><td>1.0</td><td>3.0</td><td>1.0</td><td>0.0</td></tr><tr><td>16.27</td><td>2.5</td><td>Female</td><td>Yes</td><td>Fri</td><td>Lunch</td><td>2</td><td>1.0</td><td>3.0</td><td>1.0</td><td>1.0</td></tr><tr><td>10.09</td><td>2.0</td><td>Female</td><td>Yes</td><td>Fri</td><td>Lunch</td><td>2</td><td>1.0</td><td>3.0</td><td>1.0</td><td>1.0</td></tr><tr><td>20.45</td><td>3.0</td><td>Male</td><td>No</td><td>Sat</td><td>Dinner</td><td>4</td><td>0.0</td><td>0.0</td><td>0.0</td><td>0.0</td></tr><tr><td>13.28</td><td>2.72</td><td>Male</td><td>No</td><td>Sat</td><td>Dinner</td><td>2</td><td>0.0</td><td>0.0</td><td>0.0</td><td>0.0</td></tr><tr><td>22.12</td><td>2.88</td><td>Female</td><td>Yes</td><td>Sat</td><td>Dinner</td><td>2</td><td>1.0</td><td>0.0</td><td>0.0</td><td>1.0</td></tr><tr><td>24.01</td><td>2.0</td><td>Male</td><td>Yes</td><td>Sat</td><td>Dinner</td><td>4</td><td>1.0</td><td>0.0</td><td>0.0</td><td>0.0</td></tr><tr><td>15.69</td><td>3.0</td><td>Male</td><td>Yes</td><td>Sat</td><td>Dinner</td><td>3</td><td>1.0</td><td>0.0</td><td>0.0</td><td>0.0</td></tr><tr><td>11.61</td><td>3.39</td><td>Male</td><td>No</td><td>Sat</td><td>Dinner</td><td>2</td><td>0.0</td><td>0.0</td><td>0.0</td><td>0.0</td></tr><tr><td>10.77</td><td>1.47</td><td>Male</td><td>No</td><td>Sat</td><td>Dinner</td><td>2</td><td>0.0</td><td>0.0</td><td>0.0</td><td>0.0</td></tr><tr><td>15.53</td><td>3.0</td><td>Male</td><td>Yes</td><td>Sat</td><td>Dinner</td><td>2</td><td>1.0</td><td>0.0</td><td>0.0</td><td>0.0</td></tr><tr><td>10.07</td><td>1.25</td><td>Male</td><td>No</td><td>Sat</td><td>Dinner</td><td>2</td><td>0.0</td><td>0.0</td><td>0.0</td><td>0.0</td></tr><tr><td>12.6</td><td>1.0</td><td>Male</td><td>Yes</td><td>Sat</td><td>Dinner</td><td>2</td><td>1.0</td><td>0.0</td><td>0.0</td><td>0.0</td></tr><tr><td>32.83</td><td>1.17</td><td>Male</td><td>Yes</td><td>Sat</td><td>Dinner</td><td>2</td><td>1.0</td><td>0.0</td><td>0.0</td><td>0.0</td></tr><tr><td>35.83</td><td>4.67</td><td>Female</td><td>No</td><td>Sat</td><td>Dinner</td><td>3</td><td>0.0</td><td>0.0</td><td>0.0</td><td>1.0</td></tr><tr><td>29.03</td><td>5.92</td><td>Male</td><td>No</td><td>Sat</td><td>Dinner</td><td>3</td><td>0.0</td><td>0.0</td><td>0.0</td><td>0.0</td></tr><tr><td>27.18</td><td>2.0</td><td>Female</td><td>Yes</td><td>Sat</td><td>Dinner</td><td>2</td><td>1.0</td><td>0.0</td><td>0.0</td><td>1.0</td></tr><tr><td>22.67</td><td>2.0</td><td>Male</td><td>Yes</td><td>Sat</td><td>Dinner</td><td>2</td><td>1.0</td><td>0.0</td><td>0.0</td><td>0.0</td></tr><tr><td>17.82</td><td>1.75</td><td>Male</td><td>No</td><td>Sat</td><td>Dinner</td><td>2</td><td>0.0</td><td>0.0</td><td>0.0</td><td>0.0</td></tr><tr><td>18.78</td><td>3.0</td><td>Female</td><td>No</td><td>Thur</td><td>Dinner</td><td>2</td><td>0.0</td><td>2.0</td><td>0.0</td><td>1.0</td></tr></tbody></table></div>"
      ]
     },
     "metadata": {
      "application/vnd.databricks.v1+output": {
       "addedWidgets": {},
       "aggData": [],
       "aggError": "",
       "aggOverflow": false,
       "aggSchema": [],
       "aggSeriesLimitReached": false,
       "aggType": "",
       "arguments": {},
       "columnCustomDisplayInfos": {},
       "data": [
        [
         16.99,
         1.01,
         "Female",
         "No",
         "Sun",
         "Dinner",
         2,
         0.0,
         1.0,
         0.0,
         1.0
        ],
        [
         10.34,
         1.66,
         "Male",
         "No",
         "Sun",
         "Dinner",
         3,
         0.0,
         1.0,
         0.0,
         0.0
        ],
        [
         21.01,
         3.5,
         "Male",
         "No",
         "Sun",
         "Dinner",
         3,
         0.0,
         1.0,
         0.0,
         0.0
        ],
        [
         23.68,
         3.31,
         "Male",
         "No",
         "Sun",
         "Dinner",
         2,
         0.0,
         1.0,
         0.0,
         0.0
        ],
        [
         24.59,
         3.61,
         "Female",
         "No",
         "Sun",
         "Dinner",
         4,
         0.0,
         1.0,
         0.0,
         1.0
        ],
        [
         25.29,
         4.71,
         "Male",
         "No",
         "Sun",
         "Dinner",
         4,
         0.0,
         1.0,
         0.0,
         0.0
        ],
        [
         8.77,
         2.0,
         "Male",
         "No",
         "Sun",
         "Dinner",
         2,
         0.0,
         1.0,
         0.0,
         0.0
        ],
        [
         26.88,
         3.12,
         "Male",
         "No",
         "Sun",
         "Dinner",
         4,
         0.0,
         1.0,
         0.0,
         0.0
        ],
        [
         15.04,
         1.96,
         "Male",
         "No",
         "Sun",
         "Dinner",
         2,
         0.0,
         1.0,
         0.0,
         0.0
        ],
        [
         14.78,
         3.23,
         "Male",
         "No",
         "Sun",
         "Dinner",
         2,
         0.0,
         1.0,
         0.0,
         0.0
        ],
        [
         10.27,
         1.71,
         "Male",
         "No",
         "Sun",
         "Dinner",
         2,
         0.0,
         1.0,
         0.0,
         0.0
        ],
        [
         35.26,
         5.0,
         "Female",
         "No",
         "Sun",
         "Dinner",
         4,
         0.0,
         1.0,
         0.0,
         1.0
        ],
        [
         15.42,
         1.57,
         "Male",
         "No",
         "Sun",
         "Dinner",
         2,
         0.0,
         1.0,
         0.0,
         0.0
        ],
        [
         18.43,
         3.0,
         "Male",
         "No",
         "Sun",
         "Dinner",
         4,
         0.0,
         1.0,
         0.0,
         0.0
        ],
        [
         14.83,
         3.02,
         "Female",
         "No",
         "Sun",
         "Dinner",
         2,
         0.0,
         1.0,
         0.0,
         1.0
        ],
        [
         21.58,
         3.92,
         "Male",
         "No",
         "Sun",
         "Dinner",
         2,
         0.0,
         1.0,
         0.0,
         0.0
        ],
        [
         10.33,
         1.67,
         "Female",
         "No",
         "Sun",
         "Dinner",
         3,
         0.0,
         1.0,
         0.0,
         1.0
        ],
        [
         16.29,
         3.71,
         "Male",
         "No",
         "Sun",
         "Dinner",
         3,
         0.0,
         1.0,
         0.0,
         0.0
        ],
        [
         16.97,
         3.5,
         "Female",
         "No",
         "Sun",
         "Dinner",
         3,
         0.0,
         1.0,
         0.0,
         1.0
        ],
        [
         20.65,
         3.35,
         "Male",
         "No",
         "Sat",
         "Dinner",
         3,
         0.0,
         0.0,
         0.0,
         0.0
        ],
        [
         17.92,
         4.08,
         "Male",
         "No",
         "Sat",
         "Dinner",
         2,
         0.0,
         0.0,
         0.0,
         0.0
        ],
        [
         20.29,
         2.75,
         "Female",
         "No",
         "Sat",
         "Dinner",
         2,
         0.0,
         0.0,
         0.0,
         1.0
        ],
        [
         15.77,
         2.23,
         "Female",
         "No",
         "Sat",
         "Dinner",
         2,
         0.0,
         0.0,
         0.0,
         1.0
        ],
        [
         39.42,
         7.58,
         "Male",
         "No",
         "Sat",
         "Dinner",
         4,
         0.0,
         0.0,
         0.0,
         0.0
        ],
        [
         19.82,
         3.18,
         "Male",
         "No",
         "Sat",
         "Dinner",
         2,
         0.0,
         0.0,
         0.0,
         0.0
        ],
        [
         17.81,
         2.34,
         "Male",
         "No",
         "Sat",
         "Dinner",
         4,
         0.0,
         0.0,
         0.0,
         0.0
        ],
        [
         13.37,
         2.0,
         "Male",
         "No",
         "Sat",
         "Dinner",
         2,
         0.0,
         0.0,
         0.0,
         0.0
        ],
        [
         12.69,
         2.0,
         "Male",
         "No",
         "Sat",
         "Dinner",
         2,
         0.0,
         0.0,
         0.0,
         0.0
        ],
        [
         21.7,
         4.3,
         "Male",
         "No",
         "Sat",
         "Dinner",
         2,
         0.0,
         0.0,
         0.0,
         0.0
        ],
        [
         19.65,
         3.0,
         "Female",
         "No",
         "Sat",
         "Dinner",
         2,
         0.0,
         0.0,
         0.0,
         1.0
        ],
        [
         9.55,
         1.45,
         "Male",
         "No",
         "Sat",
         "Dinner",
         2,
         0.0,
         0.0,
         0.0,
         0.0
        ],
        [
         18.35,
         2.5,
         "Male",
         "No",
         "Sat",
         "Dinner",
         4,
         0.0,
         0.0,
         0.0,
         0.0
        ],
        [
         15.06,
         3.0,
         "Female",
         "No",
         "Sat",
         "Dinner",
         2,
         0.0,
         0.0,
         0.0,
         1.0
        ],
        [
         20.69,
         2.45,
         "Female",
         "No",
         "Sat",
         "Dinner",
         4,
         0.0,
         0.0,
         0.0,
         1.0
        ],
        [
         17.78,
         3.27,
         "Male",
         "No",
         "Sat",
         "Dinner",
         2,
         0.0,
         0.0,
         0.0,
         0.0
        ],
        [
         24.06,
         3.6,
         "Male",
         "No",
         "Sat",
         "Dinner",
         3,
         0.0,
         0.0,
         0.0,
         0.0
        ],
        [
         16.31,
         2.0,
         "Male",
         "No",
         "Sat",
         "Dinner",
         3,
         0.0,
         0.0,
         0.0,
         0.0
        ],
        [
         16.93,
         3.07,
         "Female",
         "No",
         "Sat",
         "Dinner",
         3,
         0.0,
         0.0,
         0.0,
         1.0
        ],
        [
         18.69,
         2.31,
         "Male",
         "No",
         "Sat",
         "Dinner",
         3,
         0.0,
         0.0,
         0.0,
         0.0
        ],
        [
         31.27,
         5.0,
         "Male",
         "No",
         "Sat",
         "Dinner",
         3,
         0.0,
         0.0,
         0.0,
         0.0
        ],
        [
         16.04,
         2.24,
         "Male",
         "No",
         "Sat",
         "Dinner",
         3,
         0.0,
         0.0,
         0.0,
         0.0
        ],
        [
         17.46,
         2.54,
         "Male",
         "No",
         "Sun",
         "Dinner",
         2,
         0.0,
         1.0,
         0.0,
         0.0
        ],
        [
         13.94,
         3.06,
         "Male",
         "No",
         "Sun",
         "Dinner",
         2,
         0.0,
         1.0,
         0.0,
         0.0
        ],
        [
         9.68,
         1.32,
         "Male",
         "No",
         "Sun",
         "Dinner",
         2,
         0.0,
         1.0,
         0.0,
         0.0
        ],
        [
         30.4,
         5.6,
         "Male",
         "No",
         "Sun",
         "Dinner",
         4,
         0.0,
         1.0,
         0.0,
         0.0
        ],
        [
         18.29,
         3.0,
         "Male",
         "No",
         "Sun",
         "Dinner",
         2,
         0.0,
         1.0,
         0.0,
         0.0
        ],
        [
         22.23,
         5.0,
         "Male",
         "No",
         "Sun",
         "Dinner",
         2,
         0.0,
         1.0,
         0.0,
         0.0
        ],
        [
         32.4,
         6.0,
         "Male",
         "No",
         "Sun",
         "Dinner",
         4,
         0.0,
         1.0,
         0.0,
         0.0
        ],
        [
         28.55,
         2.05,
         "Male",
         "No",
         "Sun",
         "Dinner",
         3,
         0.0,
         1.0,
         0.0,
         0.0
        ],
        [
         18.04,
         3.0,
         "Male",
         "No",
         "Sun",
         "Dinner",
         2,
         0.0,
         1.0,
         0.0,
         0.0
        ],
        [
         12.54,
         2.5,
         "Male",
         "No",
         "Sun",
         "Dinner",
         2,
         0.0,
         1.0,
         0.0,
         0.0
        ],
        [
         10.29,
         2.6,
         "Female",
         "No",
         "Sun",
         "Dinner",
         2,
         0.0,
         1.0,
         0.0,
         1.0
        ],
        [
         34.81,
         5.2,
         "Female",
         "No",
         "Sun",
         "Dinner",
         4,
         0.0,
         1.0,
         0.0,
         1.0
        ],
        [
         9.94,
         1.56,
         "Male",
         "No",
         "Sun",
         "Dinner",
         2,
         0.0,
         1.0,
         0.0,
         0.0
        ],
        [
         25.56,
         4.34,
         "Male",
         "No",
         "Sun",
         "Dinner",
         4,
         0.0,
         1.0,
         0.0,
         0.0
        ],
        [
         19.49,
         3.51,
         "Male",
         "No",
         "Sun",
         "Dinner",
         2,
         0.0,
         1.0,
         0.0,
         0.0
        ],
        [
         38.01,
         3.0,
         "Male",
         "Yes",
         "Sat",
         "Dinner",
         4,
         1.0,
         0.0,
         0.0,
         0.0
        ],
        [
         26.41,
         1.5,
         "Female",
         "No",
         "Sat",
         "Dinner",
         2,
         0.0,
         0.0,
         0.0,
         1.0
        ],
        [
         11.24,
         1.76,
         "Male",
         "Yes",
         "Sat",
         "Dinner",
         2,
         1.0,
         0.0,
         0.0,
         0.0
        ],
        [
         48.27,
         6.73,
         "Male",
         "No",
         "Sat",
         "Dinner",
         4,
         0.0,
         0.0,
         0.0,
         0.0
        ],
        [
         20.29,
         3.21,
         "Male",
         "Yes",
         "Sat",
         "Dinner",
         2,
         1.0,
         0.0,
         0.0,
         0.0
        ],
        [
         13.81,
         2.0,
         "Male",
         "Yes",
         "Sat",
         "Dinner",
         2,
         1.0,
         0.0,
         0.0,
         0.0
        ],
        [
         11.02,
         1.98,
         "Male",
         "Yes",
         "Sat",
         "Dinner",
         2,
         1.0,
         0.0,
         0.0,
         0.0
        ],
        [
         18.29,
         3.76,
         "Male",
         "Yes",
         "Sat",
         "Dinner",
         4,
         1.0,
         0.0,
         0.0,
         0.0
        ],
        [
         17.59,
         2.64,
         "Male",
         "No",
         "Sat",
         "Dinner",
         3,
         0.0,
         0.0,
         0.0,
         0.0
        ],
        [
         20.08,
         3.15,
         "Male",
         "No",
         "Sat",
         "Dinner",
         3,
         0.0,
         0.0,
         0.0,
         0.0
        ],
        [
         16.45,
         2.47,
         "Female",
         "No",
         "Sat",
         "Dinner",
         2,
         0.0,
         0.0,
         0.0,
         1.0
        ],
        [
         3.07,
         1.0,
         "Female",
         "Yes",
         "Sat",
         "Dinner",
         1,
         1.0,
         0.0,
         0.0,
         1.0
        ],
        [
         20.23,
         2.01,
         "Male",
         "No",
         "Sat",
         "Dinner",
         2,
         0.0,
         0.0,
         0.0,
         0.0
        ],
        [
         15.01,
         2.09,
         "Male",
         "Yes",
         "Sat",
         "Dinner",
         2,
         1.0,
         0.0,
         0.0,
         0.0
        ],
        [
         12.02,
         1.97,
         "Male",
         "No",
         "Sat",
         "Dinner",
         2,
         0.0,
         0.0,
         0.0,
         0.0
        ],
        [
         17.07,
         3.0,
         "Female",
         "No",
         "Sat",
         "Dinner",
         3,
         0.0,
         0.0,
         0.0,
         1.0
        ],
        [
         26.86,
         3.14,
         "Female",
         "Yes",
         "Sat",
         "Dinner",
         2,
         1.0,
         0.0,
         0.0,
         1.0
        ],
        [
         25.28,
         5.0,
         "Female",
         "Yes",
         "Sat",
         "Dinner",
         2,
         1.0,
         0.0,
         0.0,
         1.0
        ],
        [
         14.73,
         2.2,
         "Female",
         "No",
         "Sat",
         "Dinner",
         2,
         0.0,
         0.0,
         0.0,
         1.0
        ],
        [
         10.51,
         1.25,
         "Male",
         "No",
         "Sat",
         "Dinner",
         2,
         0.0,
         0.0,
         0.0,
         0.0
        ],
        [
         17.92,
         3.08,
         "Male",
         "Yes",
         "Sat",
         "Dinner",
         2,
         1.0,
         0.0,
         0.0,
         0.0
        ],
        [
         27.2,
         4.0,
         "Male",
         "No",
         "Thur",
         "Lunch",
         4,
         0.0,
         2.0,
         1.0,
         0.0
        ],
        [
         22.76,
         3.0,
         "Male",
         "No",
         "Thur",
         "Lunch",
         2,
         0.0,
         2.0,
         1.0,
         0.0
        ],
        [
         17.29,
         2.71,
         "Male",
         "No",
         "Thur",
         "Lunch",
         2,
         0.0,
         2.0,
         1.0,
         0.0
        ],
        [
         19.44,
         3.0,
         "Male",
         "Yes",
         "Thur",
         "Lunch",
         2,
         1.0,
         2.0,
         1.0,
         0.0
        ],
        [
         16.66,
         3.4,
         "Male",
         "No",
         "Thur",
         "Lunch",
         2,
         0.0,
         2.0,
         1.0,
         0.0
        ],
        [
         10.07,
         1.83,
         "Female",
         "No",
         "Thur",
         "Lunch",
         1,
         0.0,
         2.0,
         1.0,
         1.0
        ],
        [
         32.68,
         5.0,
         "Male",
         "Yes",
         "Thur",
         "Lunch",
         2,
         1.0,
         2.0,
         1.0,
         0.0
        ],
        [
         15.98,
         2.03,
         "Male",
         "No",
         "Thur",
         "Lunch",
         2,
         0.0,
         2.0,
         1.0,
         0.0
        ],
        [
         34.83,
         5.17,
         "Female",
         "No",
         "Thur",
         "Lunch",
         4,
         0.0,
         2.0,
         1.0,
         1.0
        ],
        [
         13.03,
         2.0,
         "Male",
         "No",
         "Thur",
         "Lunch",
         2,
         0.0,
         2.0,
         1.0,
         0.0
        ],
        [
         18.28,
         4.0,
         "Male",
         "No",
         "Thur",
         "Lunch",
         2,
         0.0,
         2.0,
         1.0,
         0.0
        ],
        [
         24.71,
         5.85,
         "Male",
         "No",
         "Thur",
         "Lunch",
         2,
         0.0,
         2.0,
         1.0,
         0.0
        ],
        [
         21.16,
         3.0,
         "Male",
         "No",
         "Thur",
         "Lunch",
         2,
         0.0,
         2.0,
         1.0,
         0.0
        ],
        [
         28.97,
         3.0,
         "Male",
         "Yes",
         "Fri",
         "Dinner",
         2,
         1.0,
         3.0,
         0.0,
         0.0
        ],
        [
         22.49,
         3.5,
         "Male",
         "No",
         "Fri",
         "Dinner",
         2,
         0.0,
         3.0,
         0.0,
         0.0
        ],
        [
         5.75,
         1.0,
         "Female",
         "Yes",
         "Fri",
         "Dinner",
         2,
         1.0,
         3.0,
         0.0,
         1.0
        ],
        [
         16.32,
         4.3,
         "Female",
         "Yes",
         "Fri",
         "Dinner",
         2,
         1.0,
         3.0,
         0.0,
         1.0
        ],
        [
         22.75,
         3.25,
         "Female",
         "No",
         "Fri",
         "Dinner",
         2,
         0.0,
         3.0,
         0.0,
         1.0
        ],
        [
         40.17,
         4.73,
         "Male",
         "Yes",
         "Fri",
         "Dinner",
         4,
         1.0,
         3.0,
         0.0,
         0.0
        ],
        [
         27.28,
         4.0,
         "Male",
         "Yes",
         "Fri",
         "Dinner",
         2,
         1.0,
         3.0,
         0.0,
         0.0
        ],
        [
         12.03,
         1.5,
         "Male",
         "Yes",
         "Fri",
         "Dinner",
         2,
         1.0,
         3.0,
         0.0,
         0.0
        ],
        [
         21.01,
         3.0,
         "Male",
         "Yes",
         "Fri",
         "Dinner",
         2,
         1.0,
         3.0,
         0.0,
         0.0
        ],
        [
         12.46,
         1.5,
         "Male",
         "No",
         "Fri",
         "Dinner",
         2,
         0.0,
         3.0,
         0.0,
         0.0
        ],
        [
         11.35,
         2.5,
         "Female",
         "Yes",
         "Fri",
         "Dinner",
         2,
         1.0,
         3.0,
         0.0,
         1.0
        ],
        [
         15.38,
         3.0,
         "Female",
         "Yes",
         "Fri",
         "Dinner",
         2,
         1.0,
         3.0,
         0.0,
         1.0
        ],
        [
         44.3,
         2.5,
         "Female",
         "Yes",
         "Sat",
         "Dinner",
         3,
         1.0,
         0.0,
         0.0,
         1.0
        ],
        [
         22.42,
         3.48,
         "Female",
         "Yes",
         "Sat",
         "Dinner",
         2,
         1.0,
         0.0,
         0.0,
         1.0
        ],
        [
         20.92,
         4.08,
         "Female",
         "No",
         "Sat",
         "Dinner",
         2,
         0.0,
         0.0,
         0.0,
         1.0
        ],
        [
         15.36,
         1.64,
         "Male",
         "Yes",
         "Sat",
         "Dinner",
         2,
         1.0,
         0.0,
         0.0,
         0.0
        ],
        [
         20.49,
         4.06,
         "Male",
         "Yes",
         "Sat",
         "Dinner",
         2,
         1.0,
         0.0,
         0.0,
         0.0
        ],
        [
         25.21,
         4.29,
         "Male",
         "Yes",
         "Sat",
         "Dinner",
         2,
         1.0,
         0.0,
         0.0,
         0.0
        ],
        [
         18.24,
         3.76,
         "Male",
         "No",
         "Sat",
         "Dinner",
         2,
         0.0,
         0.0,
         0.0,
         0.0
        ],
        [
         14.31,
         4.0,
         "Female",
         "Yes",
         "Sat",
         "Dinner",
         2,
         1.0,
         0.0,
         0.0,
         1.0
        ],
        [
         14.0,
         3.0,
         "Male",
         "No",
         "Sat",
         "Dinner",
         2,
         0.0,
         0.0,
         0.0,
         0.0
        ],
        [
         7.25,
         1.0,
         "Female",
         "No",
         "Sat",
         "Dinner",
         1,
         0.0,
         0.0,
         0.0,
         1.0
        ],
        [
         38.07,
         4.0,
         "Male",
         "No",
         "Sun",
         "Dinner",
         3,
         0.0,
         1.0,
         0.0,
         0.0
        ],
        [
         23.95,
         2.55,
         "Male",
         "No",
         "Sun",
         "Dinner",
         2,
         0.0,
         1.0,
         0.0,
         0.0
        ],
        [
         25.71,
         4.0,
         "Female",
         "No",
         "Sun",
         "Dinner",
         3,
         0.0,
         1.0,
         0.0,
         1.0
        ],
        [
         17.31,
         3.5,
         "Female",
         "No",
         "Sun",
         "Dinner",
         2,
         0.0,
         1.0,
         0.0,
         1.0
        ],
        [
         29.93,
         5.07,
         "Male",
         "No",
         "Sun",
         "Dinner",
         4,
         0.0,
         1.0,
         0.0,
         0.0
        ],
        [
         10.65,
         1.5,
         "Female",
         "No",
         "Thur",
         "Lunch",
         2,
         0.0,
         2.0,
         1.0,
         1.0
        ],
        [
         12.43,
         1.8,
         "Female",
         "No",
         "Thur",
         "Lunch",
         2,
         0.0,
         2.0,
         1.0,
         1.0
        ],
        [
         24.08,
         2.92,
         "Female",
         "No",
         "Thur",
         "Lunch",
         4,
         0.0,
         2.0,
         1.0,
         1.0
        ],
        [
         11.69,
         2.31,
         "Male",
         "No",
         "Thur",
         "Lunch",
         2,
         0.0,
         2.0,
         1.0,
         0.0
        ],
        [
         13.42,
         1.68,
         "Female",
         "No",
         "Thur",
         "Lunch",
         2,
         0.0,
         2.0,
         1.0,
         1.0
        ],
        [
         14.26,
         2.5,
         "Male",
         "No",
         "Thur",
         "Lunch",
         2,
         0.0,
         2.0,
         1.0,
         0.0
        ],
        [
         15.95,
         2.0,
         "Male",
         "No",
         "Thur",
         "Lunch",
         2,
         0.0,
         2.0,
         1.0,
         0.0
        ],
        [
         12.48,
         2.52,
         "Female",
         "No",
         "Thur",
         "Lunch",
         2,
         0.0,
         2.0,
         1.0,
         1.0
        ],
        [
         29.8,
         4.2,
         "Female",
         "No",
         "Thur",
         "Lunch",
         6,
         0.0,
         2.0,
         1.0,
         1.0
        ],
        [
         8.52,
         1.48,
         "Male",
         "No",
         "Thur",
         "Lunch",
         2,
         0.0,
         2.0,
         1.0,
         0.0
        ],
        [
         14.52,
         2.0,
         "Female",
         "No",
         "Thur",
         "Lunch",
         2,
         0.0,
         2.0,
         1.0,
         1.0
        ],
        [
         11.38,
         2.0,
         "Female",
         "No",
         "Thur",
         "Lunch",
         2,
         0.0,
         2.0,
         1.0,
         1.0
        ],
        [
         22.82,
         2.18,
         "Male",
         "No",
         "Thur",
         "Lunch",
         3,
         0.0,
         2.0,
         1.0,
         0.0
        ],
        [
         19.08,
         1.5,
         "Male",
         "No",
         "Thur",
         "Lunch",
         2,
         0.0,
         2.0,
         1.0,
         0.0
        ],
        [
         20.27,
         2.83,
         "Female",
         "No",
         "Thur",
         "Lunch",
         2,
         0.0,
         2.0,
         1.0,
         1.0
        ],
        [
         11.17,
         1.5,
         "Female",
         "No",
         "Thur",
         "Lunch",
         2,
         0.0,
         2.0,
         1.0,
         1.0
        ],
        [
         12.26,
         2.0,
         "Female",
         "No",
         "Thur",
         "Lunch",
         2,
         0.0,
         2.0,
         1.0,
         1.0
        ],
        [
         18.26,
         3.25,
         "Female",
         "No",
         "Thur",
         "Lunch",
         2,
         0.0,
         2.0,
         1.0,
         1.0
        ],
        [
         8.51,
         1.25,
         "Female",
         "No",
         "Thur",
         "Lunch",
         2,
         0.0,
         2.0,
         1.0,
         1.0
        ],
        [
         10.33,
         2.0,
         "Female",
         "No",
         "Thur",
         "Lunch",
         2,
         0.0,
         2.0,
         1.0,
         1.0
        ],
        [
         14.15,
         2.0,
         "Female",
         "No",
         "Thur",
         "Lunch",
         2,
         0.0,
         2.0,
         1.0,
         1.0
        ],
        [
         16.0,
         2.0,
         "Male",
         "Yes",
         "Thur",
         "Lunch",
         2,
         1.0,
         2.0,
         1.0,
         0.0
        ],
        [
         13.16,
         2.75,
         "Female",
         "No",
         "Thur",
         "Lunch",
         2,
         0.0,
         2.0,
         1.0,
         1.0
        ],
        [
         17.47,
         3.5,
         "Female",
         "No",
         "Thur",
         "Lunch",
         2,
         0.0,
         2.0,
         1.0,
         1.0
        ],
        [
         34.3,
         6.7,
         "Male",
         "No",
         "Thur",
         "Lunch",
         6,
         0.0,
         2.0,
         1.0,
         0.0
        ],
        [
         41.19,
         5.0,
         "Male",
         "No",
         "Thur",
         "Lunch",
         5,
         0.0,
         2.0,
         1.0,
         0.0
        ],
        [
         27.05,
         5.0,
         "Female",
         "No",
         "Thur",
         "Lunch",
         6,
         0.0,
         2.0,
         1.0,
         1.0
        ],
        [
         16.43,
         2.3,
         "Female",
         "No",
         "Thur",
         "Lunch",
         2,
         0.0,
         2.0,
         1.0,
         1.0
        ],
        [
         8.35,
         1.5,
         "Female",
         "No",
         "Thur",
         "Lunch",
         2,
         0.0,
         2.0,
         1.0,
         1.0
        ],
        [
         18.64,
         1.36,
         "Female",
         "No",
         "Thur",
         "Lunch",
         3,
         0.0,
         2.0,
         1.0,
         1.0
        ],
        [
         11.87,
         1.63,
         "Female",
         "No",
         "Thur",
         "Lunch",
         2,
         0.0,
         2.0,
         1.0,
         1.0
        ],
        [
         9.78,
         1.73,
         "Male",
         "No",
         "Thur",
         "Lunch",
         2,
         0.0,
         2.0,
         1.0,
         0.0
        ],
        [
         7.51,
         2.0,
         "Male",
         "No",
         "Thur",
         "Lunch",
         2,
         0.0,
         2.0,
         1.0,
         0.0
        ],
        [
         14.07,
         2.5,
         "Male",
         "No",
         "Sun",
         "Dinner",
         2,
         0.0,
         1.0,
         0.0,
         0.0
        ],
        [
         13.13,
         2.0,
         "Male",
         "No",
         "Sun",
         "Dinner",
         2,
         0.0,
         1.0,
         0.0,
         0.0
        ],
        [
         17.26,
         2.74,
         "Male",
         "No",
         "Sun",
         "Dinner",
         3,
         0.0,
         1.0,
         0.0,
         0.0
        ],
        [
         24.55,
         2.0,
         "Male",
         "No",
         "Sun",
         "Dinner",
         4,
         0.0,
         1.0,
         0.0,
         0.0
        ],
        [
         19.77,
         2.0,
         "Male",
         "No",
         "Sun",
         "Dinner",
         4,
         0.0,
         1.0,
         0.0,
         0.0
        ],
        [
         29.85,
         5.14,
         "Female",
         "No",
         "Sun",
         "Dinner",
         5,
         0.0,
         1.0,
         0.0,
         1.0
        ],
        [
         48.17,
         5.0,
         "Male",
         "No",
         "Sun",
         "Dinner",
         6,
         0.0,
         1.0,
         0.0,
         0.0
        ],
        [
         25.0,
         3.75,
         "Female",
         "No",
         "Sun",
         "Dinner",
         4,
         0.0,
         1.0,
         0.0,
         1.0
        ],
        [
         13.39,
         2.61,
         "Female",
         "No",
         "Sun",
         "Dinner",
         2,
         0.0,
         1.0,
         0.0,
         1.0
        ],
        [
         16.49,
         2.0,
         "Male",
         "No",
         "Sun",
         "Dinner",
         4,
         0.0,
         1.0,
         0.0,
         0.0
        ],
        [
         21.5,
         3.5,
         "Male",
         "No",
         "Sun",
         "Dinner",
         4,
         0.0,
         1.0,
         0.0,
         0.0
        ],
        [
         12.66,
         2.5,
         "Male",
         "No",
         "Sun",
         "Dinner",
         2,
         0.0,
         1.0,
         0.0,
         0.0
        ],
        [
         16.21,
         2.0,
         "Female",
         "No",
         "Sun",
         "Dinner",
         3,
         0.0,
         1.0,
         0.0,
         1.0
        ],
        [
         13.81,
         2.0,
         "Male",
         "No",
         "Sun",
         "Dinner",
         2,
         0.0,
         1.0,
         0.0,
         0.0
        ],
        [
         17.51,
         3.0,
         "Female",
         "Yes",
         "Sun",
         "Dinner",
         2,
         1.0,
         1.0,
         0.0,
         1.0
        ],
        [
         24.52,
         3.48,
         "Male",
         "No",
         "Sun",
         "Dinner",
         3,
         0.0,
         1.0,
         0.0,
         0.0
        ],
        [
         20.76,
         2.24,
         "Male",
         "No",
         "Sun",
         "Dinner",
         2,
         0.0,
         1.0,
         0.0,
         0.0
        ],
        [
         31.71,
         4.5,
         "Male",
         "No",
         "Sun",
         "Dinner",
         4,
         0.0,
         1.0,
         0.0,
         0.0
        ],
        [
         10.59,
         1.61,
         "Female",
         "Yes",
         "Sat",
         "Dinner",
         2,
         1.0,
         0.0,
         0.0,
         1.0
        ],
        [
         10.63,
         2.0,
         "Female",
         "Yes",
         "Sat",
         "Dinner",
         2,
         1.0,
         0.0,
         0.0,
         1.0
        ],
        [
         50.81,
         10.0,
         "Male",
         "Yes",
         "Sat",
         "Dinner",
         3,
         1.0,
         0.0,
         0.0,
         0.0
        ],
        [
         15.81,
         3.16,
         "Male",
         "Yes",
         "Sat",
         "Dinner",
         2,
         1.0,
         0.0,
         0.0,
         0.0
        ],
        [
         7.25,
         5.15,
         "Male",
         "Yes",
         "Sun",
         "Dinner",
         2,
         1.0,
         1.0,
         0.0,
         0.0
        ],
        [
         31.85,
         3.18,
         "Male",
         "Yes",
         "Sun",
         "Dinner",
         2,
         1.0,
         1.0,
         0.0,
         0.0
        ],
        [
         16.82,
         4.0,
         "Male",
         "Yes",
         "Sun",
         "Dinner",
         2,
         1.0,
         1.0,
         0.0,
         0.0
        ],
        [
         32.9,
         3.11,
         "Male",
         "Yes",
         "Sun",
         "Dinner",
         2,
         1.0,
         1.0,
         0.0,
         0.0
        ],
        [
         17.89,
         2.0,
         "Male",
         "Yes",
         "Sun",
         "Dinner",
         2,
         1.0,
         1.0,
         0.0,
         0.0
        ],
        [
         14.48,
         2.0,
         "Male",
         "Yes",
         "Sun",
         "Dinner",
         2,
         1.0,
         1.0,
         0.0,
         0.0
        ],
        [
         9.6,
         4.0,
         "Female",
         "Yes",
         "Sun",
         "Dinner",
         2,
         1.0,
         1.0,
         0.0,
         1.0
        ],
        [
         34.63,
         3.55,
         "Male",
         "Yes",
         "Sun",
         "Dinner",
         2,
         1.0,
         1.0,
         0.0,
         0.0
        ],
        [
         34.65,
         3.68,
         "Male",
         "Yes",
         "Sun",
         "Dinner",
         4,
         1.0,
         1.0,
         0.0,
         0.0
        ],
        [
         23.33,
         5.65,
         "Male",
         "Yes",
         "Sun",
         "Dinner",
         2,
         1.0,
         1.0,
         0.0,
         0.0
        ],
        [
         45.35,
         3.5,
         "Male",
         "Yes",
         "Sun",
         "Dinner",
         3,
         1.0,
         1.0,
         0.0,
         0.0
        ],
        [
         23.17,
         6.5,
         "Male",
         "Yes",
         "Sun",
         "Dinner",
         4,
         1.0,
         1.0,
         0.0,
         0.0
        ],
        [
         40.55,
         3.0,
         "Male",
         "Yes",
         "Sun",
         "Dinner",
         2,
         1.0,
         1.0,
         0.0,
         0.0
        ],
        [
         20.69,
         5.0,
         "Male",
         "No",
         "Sun",
         "Dinner",
         5,
         0.0,
         1.0,
         0.0,
         0.0
        ],
        [
         20.9,
         3.5,
         "Female",
         "Yes",
         "Sun",
         "Dinner",
         3,
         1.0,
         1.0,
         0.0,
         1.0
        ],
        [
         30.46,
         2.0,
         "Male",
         "Yes",
         "Sun",
         "Dinner",
         5,
         1.0,
         1.0,
         0.0,
         0.0
        ],
        [
         18.15,
         3.5,
         "Female",
         "Yes",
         "Sun",
         "Dinner",
         3,
         1.0,
         1.0,
         0.0,
         1.0
        ],
        [
         23.1,
         4.0,
         "Male",
         "Yes",
         "Sun",
         "Dinner",
         3,
         1.0,
         1.0,
         0.0,
         0.0
        ],
        [
         15.69,
         1.5,
         "Male",
         "Yes",
         "Sun",
         "Dinner",
         2,
         1.0,
         1.0,
         0.0,
         0.0
        ],
        [
         19.81,
         4.19,
         "Female",
         "Yes",
         "Thur",
         "Lunch",
         2,
         1.0,
         2.0,
         1.0,
         1.0
        ],
        [
         28.44,
         2.56,
         "Male",
         "Yes",
         "Thur",
         "Lunch",
         2,
         1.0,
         2.0,
         1.0,
         0.0
        ],
        [
         15.48,
         2.02,
         "Male",
         "Yes",
         "Thur",
         "Lunch",
         2,
         1.0,
         2.0,
         1.0,
         0.0
        ],
        [
         16.58,
         4.0,
         "Male",
         "Yes",
         "Thur",
         "Lunch",
         2,
         1.0,
         2.0,
         1.0,
         0.0
        ],
        [
         7.56,
         1.44,
         "Male",
         "No",
         "Thur",
         "Lunch",
         2,
         0.0,
         2.0,
         1.0,
         0.0
        ],
        [
         10.34,
         2.0,
         "Male",
         "Yes",
         "Thur",
         "Lunch",
         2,
         1.0,
         2.0,
         1.0,
         0.0
        ],
        [
         43.11,
         5.0,
         "Female",
         "Yes",
         "Thur",
         "Lunch",
         4,
         1.0,
         2.0,
         1.0,
         1.0
        ],
        [
         13.0,
         2.0,
         "Female",
         "Yes",
         "Thur",
         "Lunch",
         2,
         1.0,
         2.0,
         1.0,
         1.0
        ],
        [
         13.51,
         2.0,
         "Male",
         "Yes",
         "Thur",
         "Lunch",
         2,
         1.0,
         2.0,
         1.0,
         0.0
        ],
        [
         18.71,
         4.0,
         "Male",
         "Yes",
         "Thur",
         "Lunch",
         3,
         1.0,
         2.0,
         1.0,
         0.0
        ],
        [
         12.74,
         2.01,
         "Female",
         "Yes",
         "Thur",
         "Lunch",
         2,
         1.0,
         2.0,
         1.0,
         1.0
        ],
        [
         13.0,
         2.0,
         "Female",
         "Yes",
         "Thur",
         "Lunch",
         2,
         1.0,
         2.0,
         1.0,
         1.0
        ],
        [
         16.4,
         2.5,
         "Female",
         "Yes",
         "Thur",
         "Lunch",
         2,
         1.0,
         2.0,
         1.0,
         1.0
        ],
        [
         20.53,
         4.0,
         "Male",
         "Yes",
         "Thur",
         "Lunch",
         4,
         1.0,
         2.0,
         1.0,
         0.0
        ],
        [
         16.47,
         3.23,
         "Female",
         "Yes",
         "Thur",
         "Lunch",
         3,
         1.0,
         2.0,
         1.0,
         1.0
        ],
        [
         26.59,
         3.41,
         "Male",
         "Yes",
         "Sat",
         "Dinner",
         3,
         1.0,
         0.0,
         0.0,
         0.0
        ],
        [
         38.73,
         3.0,
         "Male",
         "Yes",
         "Sat",
         "Dinner",
         4,
         1.0,
         0.0,
         0.0,
         0.0
        ],
        [
         24.27,
         2.03,
         "Male",
         "Yes",
         "Sat",
         "Dinner",
         2,
         1.0,
         0.0,
         0.0,
         0.0
        ],
        [
         12.76,
         2.23,
         "Female",
         "Yes",
         "Sat",
         "Dinner",
         2,
         1.0,
         0.0,
         0.0,
         1.0
        ],
        [
         30.06,
         2.0,
         "Male",
         "Yes",
         "Sat",
         "Dinner",
         3,
         1.0,
         0.0,
         0.0,
         0.0
        ],
        [
         25.89,
         5.16,
         "Male",
         "Yes",
         "Sat",
         "Dinner",
         4,
         1.0,
         0.0,
         0.0,
         0.0
        ],
        [
         48.33,
         9.0,
         "Male",
         "No",
         "Sat",
         "Dinner",
         4,
         0.0,
         0.0,
         0.0,
         0.0
        ],
        [
         13.27,
         2.5,
         "Female",
         "Yes",
         "Sat",
         "Dinner",
         2,
         1.0,
         0.0,
         0.0,
         1.0
        ],
        [
         28.17,
         6.5,
         "Female",
         "Yes",
         "Sat",
         "Dinner",
         3,
         1.0,
         0.0,
         0.0,
         1.0
        ],
        [
         12.9,
         1.1,
         "Female",
         "Yes",
         "Sat",
         "Dinner",
         2,
         1.0,
         0.0,
         0.0,
         1.0
        ],
        [
         28.15,
         3.0,
         "Male",
         "Yes",
         "Sat",
         "Dinner",
         5,
         1.0,
         0.0,
         0.0,
         0.0
        ],
        [
         11.59,
         1.5,
         "Male",
         "Yes",
         "Sat",
         "Dinner",
         2,
         1.0,
         0.0,
         0.0,
         0.0
        ],
        [
         7.74,
         1.44,
         "Male",
         "Yes",
         "Sat",
         "Dinner",
         2,
         1.0,
         0.0,
         0.0,
         0.0
        ],
        [
         30.14,
         3.09,
         "Female",
         "Yes",
         "Sat",
         "Dinner",
         4,
         1.0,
         0.0,
         0.0,
         1.0
        ],
        [
         12.16,
         2.2,
         "Male",
         "Yes",
         "Fri",
         "Lunch",
         2,
         1.0,
         3.0,
         1.0,
         0.0
        ],
        [
         13.42,
         3.48,
         "Female",
         "Yes",
         "Fri",
         "Lunch",
         2,
         1.0,
         3.0,
         1.0,
         1.0
        ],
        [
         8.58,
         1.92,
         "Male",
         "Yes",
         "Fri",
         "Lunch",
         1,
         1.0,
         3.0,
         1.0,
         0.0
        ],
        [
         15.98,
         3.0,
         "Female",
         "No",
         "Fri",
         "Lunch",
         3,
         0.0,
         3.0,
         1.0,
         1.0
        ],
        [
         13.42,
         1.58,
         "Male",
         "Yes",
         "Fri",
         "Lunch",
         2,
         1.0,
         3.0,
         1.0,
         0.0
        ],
        [
         16.27,
         2.5,
         "Female",
         "Yes",
         "Fri",
         "Lunch",
         2,
         1.0,
         3.0,
         1.0,
         1.0
        ],
        [
         10.09,
         2.0,
         "Female",
         "Yes",
         "Fri",
         "Lunch",
         2,
         1.0,
         3.0,
         1.0,
         1.0
        ],
        [
         20.45,
         3.0,
         "Male",
         "No",
         "Sat",
         "Dinner",
         4,
         0.0,
         0.0,
         0.0,
         0.0
        ],
        [
         13.28,
         2.72,
         "Male",
         "No",
         "Sat",
         "Dinner",
         2,
         0.0,
         0.0,
         0.0,
         0.0
        ],
        [
         22.12,
         2.88,
         "Female",
         "Yes",
         "Sat",
         "Dinner",
         2,
         1.0,
         0.0,
         0.0,
         1.0
        ],
        [
         24.01,
         2.0,
         "Male",
         "Yes",
         "Sat",
         "Dinner",
         4,
         1.0,
         0.0,
         0.0,
         0.0
        ],
        [
         15.69,
         3.0,
         "Male",
         "Yes",
         "Sat",
         "Dinner",
         3,
         1.0,
         0.0,
         0.0,
         0.0
        ],
        [
         11.61,
         3.39,
         "Male",
         "No",
         "Sat",
         "Dinner",
         2,
         0.0,
         0.0,
         0.0,
         0.0
        ],
        [
         10.77,
         1.47,
         "Male",
         "No",
         "Sat",
         "Dinner",
         2,
         0.0,
         0.0,
         0.0,
         0.0
        ],
        [
         15.53,
         3.0,
         "Male",
         "Yes",
         "Sat",
         "Dinner",
         2,
         1.0,
         0.0,
         0.0,
         0.0
        ],
        [
         10.07,
         1.25,
         "Male",
         "No",
         "Sat",
         "Dinner",
         2,
         0.0,
         0.0,
         0.0,
         0.0
        ],
        [
         12.6,
         1.0,
         "Male",
         "Yes",
         "Sat",
         "Dinner",
         2,
         1.0,
         0.0,
         0.0,
         0.0
        ],
        [
         32.83,
         1.17,
         "Male",
         "Yes",
         "Sat",
         "Dinner",
         2,
         1.0,
         0.0,
         0.0,
         0.0
        ],
        [
         35.83,
         4.67,
         "Female",
         "No",
         "Sat",
         "Dinner",
         3,
         0.0,
         0.0,
         0.0,
         1.0
        ],
        [
         29.03,
         5.92,
         "Male",
         "No",
         "Sat",
         "Dinner",
         3,
         0.0,
         0.0,
         0.0,
         0.0
        ],
        [
         27.18,
         2.0,
         "Female",
         "Yes",
         "Sat",
         "Dinner",
         2,
         1.0,
         0.0,
         0.0,
         1.0
        ],
        [
         22.67,
         2.0,
         "Male",
         "Yes",
         "Sat",
         "Dinner",
         2,
         1.0,
         0.0,
         0.0,
         0.0
        ],
        [
         17.82,
         1.75,
         "Male",
         "No",
         "Sat",
         "Dinner",
         2,
         0.0,
         0.0,
         0.0,
         0.0
        ],
        [
         18.78,
         3.0,
         "Female",
         "No",
         "Thur",
         "Dinner",
         2,
         0.0,
         2.0,
         0.0,
         1.0
        ]
       ],
       "datasetInfos": [],
       "dbfsResultPath": null,
       "isJsonSchema": true,
       "metadata": {},
       "overflow": false,
       "plotOptions": {
        "customPlotOptions": {},
        "displayType": "table",
        "pivotAggregation": null,
        "pivotColumns": null,
        "xColumns": null,
        "yColumns": null
       },
       "removedWidgets": [],
       "schema": [
        {
         "metadata": "{}",
         "name": "total_bill",
         "type": "\"double\""
        },
        {
         "metadata": "{}",
         "name": "tip",
         "type": "\"double\""
        },
        {
         "metadata": "{}",
         "name": "sex",
         "type": "\"string\""
        },
        {
         "metadata": "{}",
         "name": "smoker",
         "type": "\"string\""
        },
        {
         "metadata": "{}",
         "name": "day",
         "type": "\"string\""
        },
        {
         "metadata": "{}",
         "name": "time",
         "type": "\"string\""
        },
        {
         "metadata": "{}",
         "name": "size",
         "type": "\"integer\""
        },
        {
         "metadata": "{\"ml_attr\":{\"vals\":[\"No\",\"Yes\"],\"type\":\"nominal\",\"name\":\"smoker_indexed\"}}",
         "name": "smoker_indexed",
         "type": "\"double\""
        },
        {
         "metadata": "{\"ml_attr\":{\"vals\":[\"Sat\",\"Sun\",\"Thur\",\"Fri\"],\"type\":\"nominal\",\"name\":\"day_indexed\"}}",
         "name": "day_indexed",
         "type": "\"double\""
        },
        {
         "metadata": "{\"ml_attr\":{\"vals\":[\"Dinner\",\"Lunch\"],\"type\":\"nominal\",\"name\":\"time_indexed\"}}",
         "name": "time_indexed",
         "type": "\"double\""
        },
        {
         "metadata": "{\"ml_attr\":{\"vals\":[\"Male\",\"Female\"],\"type\":\"nominal\",\"name\":\"sex_indexed\"}}",
         "name": "sex_indexed",
         "type": "\"double\""
        }
       ],
       "type": "table"
      }
     },
     "output_type": "display_data"
    }
   ],
   "source": [
    "display(df_r)"
   ]
  },
  {
   "cell_type": "code",
   "execution_count": 0,
   "metadata": {
    "application/vnd.databricks.v1+cell": {
     "cellMetadata": {
      "byteLimit": 2048000,
      "rowLimit": 10000
     },
     "inputWidgets": {},
     "nuid": "5488ecb4-0ded-4f23-b1c6-6f70881a9a80",
     "showTitle": false,
     "title": ""
    }
   },
   "outputs": [
    {
     "output_type": "stream",
     "name": "stdout",
     "output_type": "stream",
     "text": [
      "Out[23]: ['total_bill',\n 'tip',\n 'sex',\n 'smoker',\n 'day',\n 'time',\n 'size',\n 'smoker_indexed',\n 'day_indexed',\n 'time_indexed',\n 'sex_indexed']"
     ]
    }
   ],
   "source": [
    "df_r.columns"
   ]
  },
  {
   "cell_type": "code",
   "execution_count": 0,
   "metadata": {
    "application/vnd.databricks.v1+cell": {
     "cellMetadata": {
      "byteLimit": 2048000,
      "rowLimit": 10000
     },
     "inputWidgets": {},
     "nuid": "0e916e05-c21d-458f-a8e4-280eacad5420",
     "showTitle": false,
     "title": ""
    }
   },
   "outputs": [],
   "source": [
    "from pyspark.ml.feature import VectorAssembler\n",
    "feature_assembler = VectorAssembler(inputCols=['tip', 'size', 'smoker_indexed', 'sex_indexed', 'day_indexed', 'time_indexed'], outputCol='Independent Features')\n",
    "\n",
    "output = feature_assembler.transform(df_r)"
   ]
  },
  {
   "cell_type": "code",
   "execution_count": 0,
   "metadata": {
    "application/vnd.databricks.v1+cell": {
     "cellMetadata": {
      "byteLimit": 2048000,
      "rowLimit": 10000
     },
     "inputWidgets": {},
     "nuid": "7bedaa0c-a27b-4c10-b08d-d1f0f5e3c94b",
     "showTitle": false,
     "title": ""
    }
   },
   "outputs": [
    {
     "output_type": "display_data",
     "data": {
      "text/html": [
       "<style scoped>\n",
       "  .table-result-container {\n",
       "    max-height: 300px;\n",
       "    overflow: auto;\n",
       "  }\n",
       "  table, th, td {\n",
       "    border: 1px solid black;\n",
       "    border-collapse: collapse;\n",
       "  }\n",
       "  th, td {\n",
       "    padding: 5px;\n",
       "  }\n",
       "  th {\n",
       "    text-align: left;\n",
       "  }\n",
       "</style><div class='table-result-container'><table class='table-result'><thead style='background-color: white'><tr><th>total_bill</th><th>tip</th><th>sex</th><th>smoker</th><th>day</th><th>time</th><th>size</th><th>smoker_indexed</th><th>day_indexed</th><th>time_indexed</th><th>sex_indexed</th><th>Independent Features</th></tr></thead><tbody><tr><td>16.99</td><td>1.01</td><td>Female</td><td>No</td><td>Sun</td><td>Dinner</td><td>2</td><td>0.0</td><td>1.0</td><td>0.0</td><td>1.0</td><td>Map(vectorType -> dense, length -> 6, values -> List(1.01, 2.0, 0.0, 1.0, 1.0, 0.0))</td></tr><tr><td>10.34</td><td>1.66</td><td>Male</td><td>No</td><td>Sun</td><td>Dinner</td><td>3</td><td>0.0</td><td>1.0</td><td>0.0</td><td>0.0</td><td>Map(vectorType -> dense, length -> 6, values -> List(1.66, 3.0, 0.0, 0.0, 1.0, 0.0))</td></tr><tr><td>21.01</td><td>3.5</td><td>Male</td><td>No</td><td>Sun</td><td>Dinner</td><td>3</td><td>0.0</td><td>1.0</td><td>0.0</td><td>0.0</td><td>Map(vectorType -> dense, length -> 6, values -> List(3.5, 3.0, 0.0, 0.0, 1.0, 0.0))</td></tr><tr><td>23.68</td><td>3.31</td><td>Male</td><td>No</td><td>Sun</td><td>Dinner</td><td>2</td><td>0.0</td><td>1.0</td><td>0.0</td><td>0.0</td><td>Map(vectorType -> dense, length -> 6, values -> List(3.31, 2.0, 0.0, 0.0, 1.0, 0.0))</td></tr><tr><td>24.59</td><td>3.61</td><td>Female</td><td>No</td><td>Sun</td><td>Dinner</td><td>4</td><td>0.0</td><td>1.0</td><td>0.0</td><td>1.0</td><td>Map(vectorType -> dense, length -> 6, values -> List(3.61, 4.0, 0.0, 1.0, 1.0, 0.0))</td></tr><tr><td>25.29</td><td>4.71</td><td>Male</td><td>No</td><td>Sun</td><td>Dinner</td><td>4</td><td>0.0</td><td>1.0</td><td>0.0</td><td>0.0</td><td>Map(vectorType -> dense, length -> 6, values -> List(4.71, 4.0, 0.0, 0.0, 1.0, 0.0))</td></tr><tr><td>8.77</td><td>2.0</td><td>Male</td><td>No</td><td>Sun</td><td>Dinner</td><td>2</td><td>0.0</td><td>1.0</td><td>0.0</td><td>0.0</td><td>Map(vectorType -> dense, length -> 6, values -> List(2.0, 2.0, 0.0, 0.0, 1.0, 0.0))</td></tr><tr><td>26.88</td><td>3.12</td><td>Male</td><td>No</td><td>Sun</td><td>Dinner</td><td>4</td><td>0.0</td><td>1.0</td><td>0.0</td><td>0.0</td><td>Map(vectorType -> dense, length -> 6, values -> List(3.12, 4.0, 0.0, 0.0, 1.0, 0.0))</td></tr><tr><td>15.04</td><td>1.96</td><td>Male</td><td>No</td><td>Sun</td><td>Dinner</td><td>2</td><td>0.0</td><td>1.0</td><td>0.0</td><td>0.0</td><td>Map(vectorType -> dense, length -> 6, values -> List(1.96, 2.0, 0.0, 0.0, 1.0, 0.0))</td></tr><tr><td>14.78</td><td>3.23</td><td>Male</td><td>No</td><td>Sun</td><td>Dinner</td><td>2</td><td>0.0</td><td>1.0</td><td>0.0</td><td>0.0</td><td>Map(vectorType -> dense, length -> 6, values -> List(3.23, 2.0, 0.0, 0.0, 1.0, 0.0))</td></tr><tr><td>10.27</td><td>1.71</td><td>Male</td><td>No</td><td>Sun</td><td>Dinner</td><td>2</td><td>0.0</td><td>1.0</td><td>0.0</td><td>0.0</td><td>Map(vectorType -> dense, length -> 6, values -> List(1.71, 2.0, 0.0, 0.0, 1.0, 0.0))</td></tr><tr><td>35.26</td><td>5.0</td><td>Female</td><td>No</td><td>Sun</td><td>Dinner</td><td>4</td><td>0.0</td><td>1.0</td><td>0.0</td><td>1.0</td><td>Map(vectorType -> dense, length -> 6, values -> List(5.0, 4.0, 0.0, 1.0, 1.0, 0.0))</td></tr><tr><td>15.42</td><td>1.57</td><td>Male</td><td>No</td><td>Sun</td><td>Dinner</td><td>2</td><td>0.0</td><td>1.0</td><td>0.0</td><td>0.0</td><td>Map(vectorType -> dense, length -> 6, values -> List(1.57, 2.0, 0.0, 0.0, 1.0, 0.0))</td></tr><tr><td>18.43</td><td>3.0</td><td>Male</td><td>No</td><td>Sun</td><td>Dinner</td><td>4</td><td>0.0</td><td>1.0</td><td>0.0</td><td>0.0</td><td>Map(vectorType -> dense, length -> 6, values -> List(3.0, 4.0, 0.0, 0.0, 1.0, 0.0))</td></tr><tr><td>14.83</td><td>3.02</td><td>Female</td><td>No</td><td>Sun</td><td>Dinner</td><td>2</td><td>0.0</td><td>1.0</td><td>0.0</td><td>1.0</td><td>Map(vectorType -> dense, length -> 6, values -> List(3.02, 2.0, 0.0, 1.0, 1.0, 0.0))</td></tr><tr><td>21.58</td><td>3.92</td><td>Male</td><td>No</td><td>Sun</td><td>Dinner</td><td>2</td><td>0.0</td><td>1.0</td><td>0.0</td><td>0.0</td><td>Map(vectorType -> dense, length -> 6, values -> List(3.92, 2.0, 0.0, 0.0, 1.0, 0.0))</td></tr><tr><td>10.33</td><td>1.67</td><td>Female</td><td>No</td><td>Sun</td><td>Dinner</td><td>3</td><td>0.0</td><td>1.0</td><td>0.0</td><td>1.0</td><td>Map(vectorType -> dense, length -> 6, values -> List(1.67, 3.0, 0.0, 1.0, 1.0, 0.0))</td></tr><tr><td>16.29</td><td>3.71</td><td>Male</td><td>No</td><td>Sun</td><td>Dinner</td><td>3</td><td>0.0</td><td>1.0</td><td>0.0</td><td>0.0</td><td>Map(vectorType -> dense, length -> 6, values -> List(3.71, 3.0, 0.0, 0.0, 1.0, 0.0))</td></tr><tr><td>16.97</td><td>3.5</td><td>Female</td><td>No</td><td>Sun</td><td>Dinner</td><td>3</td><td>0.0</td><td>1.0</td><td>0.0</td><td>1.0</td><td>Map(vectorType -> dense, length -> 6, values -> List(3.5, 3.0, 0.0, 1.0, 1.0, 0.0))</td></tr><tr><td>20.65</td><td>3.35</td><td>Male</td><td>No</td><td>Sat</td><td>Dinner</td><td>3</td><td>0.0</td><td>0.0</td><td>0.0</td><td>0.0</td><td>Map(vectorType -> sparse, length -> 6, indices -> List(0, 1), values -> List(3.35, 3.0))</td></tr><tr><td>17.92</td><td>4.08</td><td>Male</td><td>No</td><td>Sat</td><td>Dinner</td><td>2</td><td>0.0</td><td>0.0</td><td>0.0</td><td>0.0</td><td>Map(vectorType -> sparse, length -> 6, indices -> List(0, 1), values -> List(4.08, 2.0))</td></tr><tr><td>20.29</td><td>2.75</td><td>Female</td><td>No</td><td>Sat</td><td>Dinner</td><td>2</td><td>0.0</td><td>0.0</td><td>0.0</td><td>1.0</td><td>Map(vectorType -> dense, length -> 6, values -> List(2.75, 2.0, 0.0, 1.0, 0.0, 0.0))</td></tr><tr><td>15.77</td><td>2.23</td><td>Female</td><td>No</td><td>Sat</td><td>Dinner</td><td>2</td><td>0.0</td><td>0.0</td><td>0.0</td><td>1.0</td><td>Map(vectorType -> dense, length -> 6, values -> List(2.23, 2.0, 0.0, 1.0, 0.0, 0.0))</td></tr><tr><td>39.42</td><td>7.58</td><td>Male</td><td>No</td><td>Sat</td><td>Dinner</td><td>4</td><td>0.0</td><td>0.0</td><td>0.0</td><td>0.0</td><td>Map(vectorType -> sparse, length -> 6, indices -> List(0, 1), values -> List(7.58, 4.0))</td></tr><tr><td>19.82</td><td>3.18</td><td>Male</td><td>No</td><td>Sat</td><td>Dinner</td><td>2</td><td>0.0</td><td>0.0</td><td>0.0</td><td>0.0</td><td>Map(vectorType -> sparse, length -> 6, indices -> List(0, 1), values -> List(3.18, 2.0))</td></tr><tr><td>17.81</td><td>2.34</td><td>Male</td><td>No</td><td>Sat</td><td>Dinner</td><td>4</td><td>0.0</td><td>0.0</td><td>0.0</td><td>0.0</td><td>Map(vectorType -> sparse, length -> 6, indices -> List(0, 1), values -> List(2.34, 4.0))</td></tr><tr><td>13.37</td><td>2.0</td><td>Male</td><td>No</td><td>Sat</td><td>Dinner</td><td>2</td><td>0.0</td><td>0.0</td><td>0.0</td><td>0.0</td><td>Map(vectorType -> sparse, length -> 6, indices -> List(0, 1), values -> List(2.0, 2.0))</td></tr><tr><td>12.69</td><td>2.0</td><td>Male</td><td>No</td><td>Sat</td><td>Dinner</td><td>2</td><td>0.0</td><td>0.0</td><td>0.0</td><td>0.0</td><td>Map(vectorType -> sparse, length -> 6, indices -> List(0, 1), values -> List(2.0, 2.0))</td></tr><tr><td>21.7</td><td>4.3</td><td>Male</td><td>No</td><td>Sat</td><td>Dinner</td><td>2</td><td>0.0</td><td>0.0</td><td>0.0</td><td>0.0</td><td>Map(vectorType -> sparse, length -> 6, indices -> List(0, 1), values -> List(4.3, 2.0))</td></tr><tr><td>19.65</td><td>3.0</td><td>Female</td><td>No</td><td>Sat</td><td>Dinner</td><td>2</td><td>0.0</td><td>0.0</td><td>0.0</td><td>1.0</td><td>Map(vectorType -> dense, length -> 6, values -> List(3.0, 2.0, 0.0, 1.0, 0.0, 0.0))</td></tr><tr><td>9.55</td><td>1.45</td><td>Male</td><td>No</td><td>Sat</td><td>Dinner</td><td>2</td><td>0.0</td><td>0.0</td><td>0.0</td><td>0.0</td><td>Map(vectorType -> sparse, length -> 6, indices -> List(0, 1), values -> List(1.45, 2.0))</td></tr><tr><td>18.35</td><td>2.5</td><td>Male</td><td>No</td><td>Sat</td><td>Dinner</td><td>4</td><td>0.0</td><td>0.0</td><td>0.0</td><td>0.0</td><td>Map(vectorType -> sparse, length -> 6, indices -> List(0, 1), values -> List(2.5, 4.0))</td></tr><tr><td>15.06</td><td>3.0</td><td>Female</td><td>No</td><td>Sat</td><td>Dinner</td><td>2</td><td>0.0</td><td>0.0</td><td>0.0</td><td>1.0</td><td>Map(vectorType -> dense, length -> 6, values -> List(3.0, 2.0, 0.0, 1.0, 0.0, 0.0))</td></tr><tr><td>20.69</td><td>2.45</td><td>Female</td><td>No</td><td>Sat</td><td>Dinner</td><td>4</td><td>0.0</td><td>0.0</td><td>0.0</td><td>1.0</td><td>Map(vectorType -> dense, length -> 6, values -> List(2.45, 4.0, 0.0, 1.0, 0.0, 0.0))</td></tr><tr><td>17.78</td><td>3.27</td><td>Male</td><td>No</td><td>Sat</td><td>Dinner</td><td>2</td><td>0.0</td><td>0.0</td><td>0.0</td><td>0.0</td><td>Map(vectorType -> sparse, length -> 6, indices -> List(0, 1), values -> List(3.27, 2.0))</td></tr><tr><td>24.06</td><td>3.6</td><td>Male</td><td>No</td><td>Sat</td><td>Dinner</td><td>3</td><td>0.0</td><td>0.0</td><td>0.0</td><td>0.0</td><td>Map(vectorType -> sparse, length -> 6, indices -> List(0, 1), values -> List(3.6, 3.0))</td></tr><tr><td>16.31</td><td>2.0</td><td>Male</td><td>No</td><td>Sat</td><td>Dinner</td><td>3</td><td>0.0</td><td>0.0</td><td>0.0</td><td>0.0</td><td>Map(vectorType -> sparse, length -> 6, indices -> List(0, 1), values -> List(2.0, 3.0))</td></tr><tr><td>16.93</td><td>3.07</td><td>Female</td><td>No</td><td>Sat</td><td>Dinner</td><td>3</td><td>0.0</td><td>0.0</td><td>0.0</td><td>1.0</td><td>Map(vectorType -> dense, length -> 6, values -> List(3.07, 3.0, 0.0, 1.0, 0.0, 0.0))</td></tr><tr><td>18.69</td><td>2.31</td><td>Male</td><td>No</td><td>Sat</td><td>Dinner</td><td>3</td><td>0.0</td><td>0.0</td><td>0.0</td><td>0.0</td><td>Map(vectorType -> sparse, length -> 6, indices -> List(0, 1), values -> List(2.31, 3.0))</td></tr><tr><td>31.27</td><td>5.0</td><td>Male</td><td>No</td><td>Sat</td><td>Dinner</td><td>3</td><td>0.0</td><td>0.0</td><td>0.0</td><td>0.0</td><td>Map(vectorType -> sparse, length -> 6, indices -> List(0, 1), values -> List(5.0, 3.0))</td></tr><tr><td>16.04</td><td>2.24</td><td>Male</td><td>No</td><td>Sat</td><td>Dinner</td><td>3</td><td>0.0</td><td>0.0</td><td>0.0</td><td>0.0</td><td>Map(vectorType -> sparse, length -> 6, indices -> List(0, 1), values -> List(2.24, 3.0))</td></tr><tr><td>17.46</td><td>2.54</td><td>Male</td><td>No</td><td>Sun</td><td>Dinner</td><td>2</td><td>0.0</td><td>1.0</td><td>0.0</td><td>0.0</td><td>Map(vectorType -> dense, length -> 6, values -> List(2.54, 2.0, 0.0, 0.0, 1.0, 0.0))</td></tr><tr><td>13.94</td><td>3.06</td><td>Male</td><td>No</td><td>Sun</td><td>Dinner</td><td>2</td><td>0.0</td><td>1.0</td><td>0.0</td><td>0.0</td><td>Map(vectorType -> dense, length -> 6, values -> List(3.06, 2.0, 0.0, 0.0, 1.0, 0.0))</td></tr><tr><td>9.68</td><td>1.32</td><td>Male</td><td>No</td><td>Sun</td><td>Dinner</td><td>2</td><td>0.0</td><td>1.0</td><td>0.0</td><td>0.0</td><td>Map(vectorType -> dense, length -> 6, values -> List(1.32, 2.0, 0.0, 0.0, 1.0, 0.0))</td></tr><tr><td>30.4</td><td>5.6</td><td>Male</td><td>No</td><td>Sun</td><td>Dinner</td><td>4</td><td>0.0</td><td>1.0</td><td>0.0</td><td>0.0</td><td>Map(vectorType -> dense, length -> 6, values -> List(5.6, 4.0, 0.0, 0.0, 1.0, 0.0))</td></tr><tr><td>18.29</td><td>3.0</td><td>Male</td><td>No</td><td>Sun</td><td>Dinner</td><td>2</td><td>0.0</td><td>1.0</td><td>0.0</td><td>0.0</td><td>Map(vectorType -> dense, length -> 6, values -> List(3.0, 2.0, 0.0, 0.0, 1.0, 0.0))</td></tr><tr><td>22.23</td><td>5.0</td><td>Male</td><td>No</td><td>Sun</td><td>Dinner</td><td>2</td><td>0.0</td><td>1.0</td><td>0.0</td><td>0.0</td><td>Map(vectorType -> dense, length -> 6, values -> List(5.0, 2.0, 0.0, 0.0, 1.0, 0.0))</td></tr><tr><td>32.4</td><td>6.0</td><td>Male</td><td>No</td><td>Sun</td><td>Dinner</td><td>4</td><td>0.0</td><td>1.0</td><td>0.0</td><td>0.0</td><td>Map(vectorType -> dense, length -> 6, values -> List(6.0, 4.0, 0.0, 0.0, 1.0, 0.0))</td></tr><tr><td>28.55</td><td>2.05</td><td>Male</td><td>No</td><td>Sun</td><td>Dinner</td><td>3</td><td>0.0</td><td>1.0</td><td>0.0</td><td>0.0</td><td>Map(vectorType -> dense, length -> 6, values -> List(2.05, 3.0, 0.0, 0.0, 1.0, 0.0))</td></tr><tr><td>18.04</td><td>3.0</td><td>Male</td><td>No</td><td>Sun</td><td>Dinner</td><td>2</td><td>0.0</td><td>1.0</td><td>0.0</td><td>0.0</td><td>Map(vectorType -> dense, length -> 6, values -> List(3.0, 2.0, 0.0, 0.0, 1.0, 0.0))</td></tr><tr><td>12.54</td><td>2.5</td><td>Male</td><td>No</td><td>Sun</td><td>Dinner</td><td>2</td><td>0.0</td><td>1.0</td><td>0.0</td><td>0.0</td><td>Map(vectorType -> dense, length -> 6, values -> List(2.5, 2.0, 0.0, 0.0, 1.0, 0.0))</td></tr><tr><td>10.29</td><td>2.6</td><td>Female</td><td>No</td><td>Sun</td><td>Dinner</td><td>2</td><td>0.0</td><td>1.0</td><td>0.0</td><td>1.0</td><td>Map(vectorType -> dense, length -> 6, values -> List(2.6, 2.0, 0.0, 1.0, 1.0, 0.0))</td></tr><tr><td>34.81</td><td>5.2</td><td>Female</td><td>No</td><td>Sun</td><td>Dinner</td><td>4</td><td>0.0</td><td>1.0</td><td>0.0</td><td>1.0</td><td>Map(vectorType -> dense, length -> 6, values -> List(5.2, 4.0, 0.0, 1.0, 1.0, 0.0))</td></tr><tr><td>9.94</td><td>1.56</td><td>Male</td><td>No</td><td>Sun</td><td>Dinner</td><td>2</td><td>0.0</td><td>1.0</td><td>0.0</td><td>0.0</td><td>Map(vectorType -> dense, length -> 6, values -> List(1.56, 2.0, 0.0, 0.0, 1.0, 0.0))</td></tr><tr><td>25.56</td><td>4.34</td><td>Male</td><td>No</td><td>Sun</td><td>Dinner</td><td>4</td><td>0.0</td><td>1.0</td><td>0.0</td><td>0.0</td><td>Map(vectorType -> dense, length -> 6, values -> List(4.34, 4.0, 0.0, 0.0, 1.0, 0.0))</td></tr><tr><td>19.49</td><td>3.51</td><td>Male</td><td>No</td><td>Sun</td><td>Dinner</td><td>2</td><td>0.0</td><td>1.0</td><td>0.0</td><td>0.0</td><td>Map(vectorType -> dense, length -> 6, values -> List(3.51, 2.0, 0.0, 0.0, 1.0, 0.0))</td></tr><tr><td>38.01</td><td>3.0</td><td>Male</td><td>Yes</td><td>Sat</td><td>Dinner</td><td>4</td><td>1.0</td><td>0.0</td><td>0.0</td><td>0.0</td><td>Map(vectorType -> dense, length -> 6, values -> List(3.0, 4.0, 1.0, 0.0, 0.0, 0.0))</td></tr><tr><td>26.41</td><td>1.5</td><td>Female</td><td>No</td><td>Sat</td><td>Dinner</td><td>2</td><td>0.0</td><td>0.0</td><td>0.0</td><td>1.0</td><td>Map(vectorType -> dense, length -> 6, values -> List(1.5, 2.0, 0.0, 1.0, 0.0, 0.0))</td></tr><tr><td>11.24</td><td>1.76</td><td>Male</td><td>Yes</td><td>Sat</td><td>Dinner</td><td>2</td><td>1.0</td><td>0.0</td><td>0.0</td><td>0.0</td><td>Map(vectorType -> dense, length -> 6, values -> List(1.76, 2.0, 1.0, 0.0, 0.0, 0.0))</td></tr><tr><td>48.27</td><td>6.73</td><td>Male</td><td>No</td><td>Sat</td><td>Dinner</td><td>4</td><td>0.0</td><td>0.0</td><td>0.0</td><td>0.0</td><td>Map(vectorType -> sparse, length -> 6, indices -> List(0, 1), values -> List(6.73, 4.0))</td></tr><tr><td>20.29</td><td>3.21</td><td>Male</td><td>Yes</td><td>Sat</td><td>Dinner</td><td>2</td><td>1.0</td><td>0.0</td><td>0.0</td><td>0.0</td><td>Map(vectorType -> dense, length -> 6, values -> List(3.21, 2.0, 1.0, 0.0, 0.0, 0.0))</td></tr><tr><td>13.81</td><td>2.0</td><td>Male</td><td>Yes</td><td>Sat</td><td>Dinner</td><td>2</td><td>1.0</td><td>0.0</td><td>0.0</td><td>0.0</td><td>Map(vectorType -> dense, length -> 6, values -> List(2.0, 2.0, 1.0, 0.0, 0.0, 0.0))</td></tr><tr><td>11.02</td><td>1.98</td><td>Male</td><td>Yes</td><td>Sat</td><td>Dinner</td><td>2</td><td>1.0</td><td>0.0</td><td>0.0</td><td>0.0</td><td>Map(vectorType -> dense, length -> 6, values -> List(1.98, 2.0, 1.0, 0.0, 0.0, 0.0))</td></tr><tr><td>18.29</td><td>3.76</td><td>Male</td><td>Yes</td><td>Sat</td><td>Dinner</td><td>4</td><td>1.0</td><td>0.0</td><td>0.0</td><td>0.0</td><td>Map(vectorType -> dense, length -> 6, values -> List(3.76, 4.0, 1.0, 0.0, 0.0, 0.0))</td></tr><tr><td>17.59</td><td>2.64</td><td>Male</td><td>No</td><td>Sat</td><td>Dinner</td><td>3</td><td>0.0</td><td>0.0</td><td>0.0</td><td>0.0</td><td>Map(vectorType -> sparse, length -> 6, indices -> List(0, 1), values -> List(2.64, 3.0))</td></tr><tr><td>20.08</td><td>3.15</td><td>Male</td><td>No</td><td>Sat</td><td>Dinner</td><td>3</td><td>0.0</td><td>0.0</td><td>0.0</td><td>0.0</td><td>Map(vectorType -> sparse, length -> 6, indices -> List(0, 1), values -> List(3.15, 3.0))</td></tr><tr><td>16.45</td><td>2.47</td><td>Female</td><td>No</td><td>Sat</td><td>Dinner</td><td>2</td><td>0.0</td><td>0.0</td><td>0.0</td><td>1.0</td><td>Map(vectorType -> dense, length -> 6, values -> List(2.47, 2.0, 0.0, 1.0, 0.0, 0.0))</td></tr><tr><td>3.07</td><td>1.0</td><td>Female</td><td>Yes</td><td>Sat</td><td>Dinner</td><td>1</td><td>1.0</td><td>0.0</td><td>0.0</td><td>1.0</td><td>Map(vectorType -> dense, length -> 6, values -> List(1.0, 1.0, 1.0, 1.0, 0.0, 0.0))</td></tr><tr><td>20.23</td><td>2.01</td><td>Male</td><td>No</td><td>Sat</td><td>Dinner</td><td>2</td><td>0.0</td><td>0.0</td><td>0.0</td><td>0.0</td><td>Map(vectorType -> sparse, length -> 6, indices -> List(0, 1), values -> List(2.01, 2.0))</td></tr><tr><td>15.01</td><td>2.09</td><td>Male</td><td>Yes</td><td>Sat</td><td>Dinner</td><td>2</td><td>1.0</td><td>0.0</td><td>0.0</td><td>0.0</td><td>Map(vectorType -> dense, length -> 6, values -> List(2.09, 2.0, 1.0, 0.0, 0.0, 0.0))</td></tr><tr><td>12.02</td><td>1.97</td><td>Male</td><td>No</td><td>Sat</td><td>Dinner</td><td>2</td><td>0.0</td><td>0.0</td><td>0.0</td><td>0.0</td><td>Map(vectorType -> sparse, length -> 6, indices -> List(0, 1), values -> List(1.97, 2.0))</td></tr><tr><td>17.07</td><td>3.0</td><td>Female</td><td>No</td><td>Sat</td><td>Dinner</td><td>3</td><td>0.0</td><td>0.0</td><td>0.0</td><td>1.0</td><td>Map(vectorType -> dense, length -> 6, values -> List(3.0, 3.0, 0.0, 1.0, 0.0, 0.0))</td></tr><tr><td>26.86</td><td>3.14</td><td>Female</td><td>Yes</td><td>Sat</td><td>Dinner</td><td>2</td><td>1.0</td><td>0.0</td><td>0.0</td><td>1.0</td><td>Map(vectorType -> dense, length -> 6, values -> List(3.14, 2.0, 1.0, 1.0, 0.0, 0.0))</td></tr><tr><td>25.28</td><td>5.0</td><td>Female</td><td>Yes</td><td>Sat</td><td>Dinner</td><td>2</td><td>1.0</td><td>0.0</td><td>0.0</td><td>1.0</td><td>Map(vectorType -> dense, length -> 6, values -> List(5.0, 2.0, 1.0, 1.0, 0.0, 0.0))</td></tr><tr><td>14.73</td><td>2.2</td><td>Female</td><td>No</td><td>Sat</td><td>Dinner</td><td>2</td><td>0.0</td><td>0.0</td><td>0.0</td><td>1.0</td><td>Map(vectorType -> dense, length -> 6, values -> List(2.2, 2.0, 0.0, 1.0, 0.0, 0.0))</td></tr><tr><td>10.51</td><td>1.25</td><td>Male</td><td>No</td><td>Sat</td><td>Dinner</td><td>2</td><td>0.0</td><td>0.0</td><td>0.0</td><td>0.0</td><td>Map(vectorType -> sparse, length -> 6, indices -> List(0, 1), values -> List(1.25, 2.0))</td></tr><tr><td>17.92</td><td>3.08</td><td>Male</td><td>Yes</td><td>Sat</td><td>Dinner</td><td>2</td><td>1.0</td><td>0.0</td><td>0.0</td><td>0.0</td><td>Map(vectorType -> dense, length -> 6, values -> List(3.08, 2.0, 1.0, 0.0, 0.0, 0.0))</td></tr><tr><td>27.2</td><td>4.0</td><td>Male</td><td>No</td><td>Thur</td><td>Lunch</td><td>4</td><td>0.0</td><td>2.0</td><td>1.0</td><td>0.0</td><td>Map(vectorType -> dense, length -> 6, values -> List(4.0, 4.0, 0.0, 0.0, 2.0, 1.0))</td></tr><tr><td>22.76</td><td>3.0</td><td>Male</td><td>No</td><td>Thur</td><td>Lunch</td><td>2</td><td>0.0</td><td>2.0</td><td>1.0</td><td>0.0</td><td>Map(vectorType -> dense, length -> 6, values -> List(3.0, 2.0, 0.0, 0.0, 2.0, 1.0))</td></tr><tr><td>17.29</td><td>2.71</td><td>Male</td><td>No</td><td>Thur</td><td>Lunch</td><td>2</td><td>0.0</td><td>2.0</td><td>1.0</td><td>0.0</td><td>Map(vectorType -> dense, length -> 6, values -> List(2.71, 2.0, 0.0, 0.0, 2.0, 1.0))</td></tr><tr><td>19.44</td><td>3.0</td><td>Male</td><td>Yes</td><td>Thur</td><td>Lunch</td><td>2</td><td>1.0</td><td>2.0</td><td>1.0</td><td>0.0</td><td>Map(vectorType -> dense, length -> 6, values -> List(3.0, 2.0, 1.0, 0.0, 2.0, 1.0))</td></tr><tr><td>16.66</td><td>3.4</td><td>Male</td><td>No</td><td>Thur</td><td>Lunch</td><td>2</td><td>0.0</td><td>2.0</td><td>1.0</td><td>0.0</td><td>Map(vectorType -> dense, length -> 6, values -> List(3.4, 2.0, 0.0, 0.0, 2.0, 1.0))</td></tr><tr><td>10.07</td><td>1.83</td><td>Female</td><td>No</td><td>Thur</td><td>Lunch</td><td>1</td><td>0.0</td><td>2.0</td><td>1.0</td><td>1.0</td><td>Map(vectorType -> dense, length -> 6, values -> List(1.83, 1.0, 0.0, 1.0, 2.0, 1.0))</td></tr><tr><td>32.68</td><td>5.0</td><td>Male</td><td>Yes</td><td>Thur</td><td>Lunch</td><td>2</td><td>1.0</td><td>2.0</td><td>1.0</td><td>0.0</td><td>Map(vectorType -> dense, length -> 6, values -> List(5.0, 2.0, 1.0, 0.0, 2.0, 1.0))</td></tr><tr><td>15.98</td><td>2.03</td><td>Male</td><td>No</td><td>Thur</td><td>Lunch</td><td>2</td><td>0.0</td><td>2.0</td><td>1.0</td><td>0.0</td><td>Map(vectorType -> dense, length -> 6, values -> List(2.03, 2.0, 0.0, 0.0, 2.0, 1.0))</td></tr><tr><td>34.83</td><td>5.17</td><td>Female</td><td>No</td><td>Thur</td><td>Lunch</td><td>4</td><td>0.0</td><td>2.0</td><td>1.0</td><td>1.0</td><td>Map(vectorType -> dense, length -> 6, values -> List(5.17, 4.0, 0.0, 1.0, 2.0, 1.0))</td></tr><tr><td>13.03</td><td>2.0</td><td>Male</td><td>No</td><td>Thur</td><td>Lunch</td><td>2</td><td>0.0</td><td>2.0</td><td>1.0</td><td>0.0</td><td>Map(vectorType -> dense, length -> 6, values -> List(2.0, 2.0, 0.0, 0.0, 2.0, 1.0))</td></tr><tr><td>18.28</td><td>4.0</td><td>Male</td><td>No</td><td>Thur</td><td>Lunch</td><td>2</td><td>0.0</td><td>2.0</td><td>1.0</td><td>0.0</td><td>Map(vectorType -> dense, length -> 6, values -> List(4.0, 2.0, 0.0, 0.0, 2.0, 1.0))</td></tr><tr><td>24.71</td><td>5.85</td><td>Male</td><td>No</td><td>Thur</td><td>Lunch</td><td>2</td><td>0.0</td><td>2.0</td><td>1.0</td><td>0.0</td><td>Map(vectorType -> dense, length -> 6, values -> List(5.85, 2.0, 0.0, 0.0, 2.0, 1.0))</td></tr><tr><td>21.16</td><td>3.0</td><td>Male</td><td>No</td><td>Thur</td><td>Lunch</td><td>2</td><td>0.0</td><td>2.0</td><td>1.0</td><td>0.0</td><td>Map(vectorType -> dense, length -> 6, values -> List(3.0, 2.0, 0.0, 0.0, 2.0, 1.0))</td></tr><tr><td>28.97</td><td>3.0</td><td>Male</td><td>Yes</td><td>Fri</td><td>Dinner</td><td>2</td><td>1.0</td><td>3.0</td><td>0.0</td><td>0.0</td><td>Map(vectorType -> dense, length -> 6, values -> List(3.0, 2.0, 1.0, 0.0, 3.0, 0.0))</td></tr><tr><td>22.49</td><td>3.5</td><td>Male</td><td>No</td><td>Fri</td><td>Dinner</td><td>2</td><td>0.0</td><td>3.0</td><td>0.0</td><td>0.0</td><td>Map(vectorType -> dense, length -> 6, values -> List(3.5, 2.0, 0.0, 0.0, 3.0, 0.0))</td></tr><tr><td>5.75</td><td>1.0</td><td>Female</td><td>Yes</td><td>Fri</td><td>Dinner</td><td>2</td><td>1.0</td><td>3.0</td><td>0.0</td><td>1.0</td><td>Map(vectorType -> dense, length -> 6, values -> List(1.0, 2.0, 1.0, 1.0, 3.0, 0.0))</td></tr><tr><td>16.32</td><td>4.3</td><td>Female</td><td>Yes</td><td>Fri</td><td>Dinner</td><td>2</td><td>1.0</td><td>3.0</td><td>0.0</td><td>1.0</td><td>Map(vectorType -> dense, length -> 6, values -> List(4.3, 2.0, 1.0, 1.0, 3.0, 0.0))</td></tr><tr><td>22.75</td><td>3.25</td><td>Female</td><td>No</td><td>Fri</td><td>Dinner</td><td>2</td><td>0.0</td><td>3.0</td><td>0.0</td><td>1.0</td><td>Map(vectorType -> dense, length -> 6, values -> List(3.25, 2.0, 0.0, 1.0, 3.0, 0.0))</td></tr><tr><td>40.17</td><td>4.73</td><td>Male</td><td>Yes</td><td>Fri</td><td>Dinner</td><td>4</td><td>1.0</td><td>3.0</td><td>0.0</td><td>0.0</td><td>Map(vectorType -> dense, length -> 6, values -> List(4.73, 4.0, 1.0, 0.0, 3.0, 0.0))</td></tr><tr><td>27.28</td><td>4.0</td><td>Male</td><td>Yes</td><td>Fri</td><td>Dinner</td><td>2</td><td>1.0</td><td>3.0</td><td>0.0</td><td>0.0</td><td>Map(vectorType -> dense, length -> 6, values -> List(4.0, 2.0, 1.0, 0.0, 3.0, 0.0))</td></tr><tr><td>12.03</td><td>1.5</td><td>Male</td><td>Yes</td><td>Fri</td><td>Dinner</td><td>2</td><td>1.0</td><td>3.0</td><td>0.0</td><td>0.0</td><td>Map(vectorType -> dense, length -> 6, values -> List(1.5, 2.0, 1.0, 0.0, 3.0, 0.0))</td></tr><tr><td>21.01</td><td>3.0</td><td>Male</td><td>Yes</td><td>Fri</td><td>Dinner</td><td>2</td><td>1.0</td><td>3.0</td><td>0.0</td><td>0.0</td><td>Map(vectorType -> dense, length -> 6, values -> List(3.0, 2.0, 1.0, 0.0, 3.0, 0.0))</td></tr><tr><td>12.46</td><td>1.5</td><td>Male</td><td>No</td><td>Fri</td><td>Dinner</td><td>2</td><td>0.0</td><td>3.0</td><td>0.0</td><td>0.0</td><td>Map(vectorType -> dense, length -> 6, values -> List(1.5, 2.0, 0.0, 0.0, 3.0, 0.0))</td></tr><tr><td>11.35</td><td>2.5</td><td>Female</td><td>Yes</td><td>Fri</td><td>Dinner</td><td>2</td><td>1.0</td><td>3.0</td><td>0.0</td><td>1.0</td><td>Map(vectorType -> dense, length -> 6, values -> List(2.5, 2.0, 1.0, 1.0, 3.0, 0.0))</td></tr><tr><td>15.38</td><td>3.0</td><td>Female</td><td>Yes</td><td>Fri</td><td>Dinner</td><td>2</td><td>1.0</td><td>3.0</td><td>0.0</td><td>1.0</td><td>Map(vectorType -> dense, length -> 6, values -> List(3.0, 2.0, 1.0, 1.0, 3.0, 0.0))</td></tr><tr><td>44.3</td><td>2.5</td><td>Female</td><td>Yes</td><td>Sat</td><td>Dinner</td><td>3</td><td>1.0</td><td>0.0</td><td>0.0</td><td>1.0</td><td>Map(vectorType -> dense, length -> 6, values -> List(2.5, 3.0, 1.0, 1.0, 0.0, 0.0))</td></tr><tr><td>22.42</td><td>3.48</td><td>Female</td><td>Yes</td><td>Sat</td><td>Dinner</td><td>2</td><td>1.0</td><td>0.0</td><td>0.0</td><td>1.0</td><td>Map(vectorType -> dense, length -> 6, values -> List(3.48, 2.0, 1.0, 1.0, 0.0, 0.0))</td></tr><tr><td>20.92</td><td>4.08</td><td>Female</td><td>No</td><td>Sat</td><td>Dinner</td><td>2</td><td>0.0</td><td>0.0</td><td>0.0</td><td>1.0</td><td>Map(vectorType -> dense, length -> 6, values -> List(4.08, 2.0, 0.0, 1.0, 0.0, 0.0))</td></tr><tr><td>15.36</td><td>1.64</td><td>Male</td><td>Yes</td><td>Sat</td><td>Dinner</td><td>2</td><td>1.0</td><td>0.0</td><td>0.0</td><td>0.0</td><td>Map(vectorType -> dense, length -> 6, values -> List(1.64, 2.0, 1.0, 0.0, 0.0, 0.0))</td></tr><tr><td>20.49</td><td>4.06</td><td>Male</td><td>Yes</td><td>Sat</td><td>Dinner</td><td>2</td><td>1.0</td><td>0.0</td><td>0.0</td><td>0.0</td><td>Map(vectorType -> dense, length -> 6, values -> List(4.06, 2.0, 1.0, 0.0, 0.0, 0.0))</td></tr><tr><td>25.21</td><td>4.29</td><td>Male</td><td>Yes</td><td>Sat</td><td>Dinner</td><td>2</td><td>1.0</td><td>0.0</td><td>0.0</td><td>0.0</td><td>Map(vectorType -> dense, length -> 6, values -> List(4.29, 2.0, 1.0, 0.0, 0.0, 0.0))</td></tr><tr><td>18.24</td><td>3.76</td><td>Male</td><td>No</td><td>Sat</td><td>Dinner</td><td>2</td><td>0.0</td><td>0.0</td><td>0.0</td><td>0.0</td><td>Map(vectorType -> sparse, length -> 6, indices -> List(0, 1), values -> List(3.76, 2.0))</td></tr><tr><td>14.31</td><td>4.0</td><td>Female</td><td>Yes</td><td>Sat</td><td>Dinner</td><td>2</td><td>1.0</td><td>0.0</td><td>0.0</td><td>1.0</td><td>Map(vectorType -> dense, length -> 6, values -> List(4.0, 2.0, 1.0, 1.0, 0.0, 0.0))</td></tr><tr><td>14.0</td><td>3.0</td><td>Male</td><td>No</td><td>Sat</td><td>Dinner</td><td>2</td><td>0.0</td><td>0.0</td><td>0.0</td><td>0.0</td><td>Map(vectorType -> sparse, length -> 6, indices -> List(0, 1), values -> List(3.0, 2.0))</td></tr><tr><td>7.25</td><td>1.0</td><td>Female</td><td>No</td><td>Sat</td><td>Dinner</td><td>1</td><td>0.0</td><td>0.0</td><td>0.0</td><td>1.0</td><td>Map(vectorType -> dense, length -> 6, values -> List(1.0, 1.0, 0.0, 1.0, 0.0, 0.0))</td></tr><tr><td>38.07</td><td>4.0</td><td>Male</td><td>No</td><td>Sun</td><td>Dinner</td><td>3</td><td>0.0</td><td>1.0</td><td>0.0</td><td>0.0</td><td>Map(vectorType -> dense, length -> 6, values -> List(4.0, 3.0, 0.0, 0.0, 1.0, 0.0))</td></tr><tr><td>23.95</td><td>2.55</td><td>Male</td><td>No</td><td>Sun</td><td>Dinner</td><td>2</td><td>0.0</td><td>1.0</td><td>0.0</td><td>0.0</td><td>Map(vectorType -> dense, length -> 6, values -> List(2.55, 2.0, 0.0, 0.0, 1.0, 0.0))</td></tr><tr><td>25.71</td><td>4.0</td><td>Female</td><td>No</td><td>Sun</td><td>Dinner</td><td>3</td><td>0.0</td><td>1.0</td><td>0.0</td><td>1.0</td><td>Map(vectorType -> dense, length -> 6, values -> List(4.0, 3.0, 0.0, 1.0, 1.0, 0.0))</td></tr><tr><td>17.31</td><td>3.5</td><td>Female</td><td>No</td><td>Sun</td><td>Dinner</td><td>2</td><td>0.0</td><td>1.0</td><td>0.0</td><td>1.0</td><td>Map(vectorType -> dense, length -> 6, values -> List(3.5, 2.0, 0.0, 1.0, 1.0, 0.0))</td></tr><tr><td>29.93</td><td>5.07</td><td>Male</td><td>No</td><td>Sun</td><td>Dinner</td><td>4</td><td>0.0</td><td>1.0</td><td>0.0</td><td>0.0</td><td>Map(vectorType -> dense, length -> 6, values -> List(5.07, 4.0, 0.0, 0.0, 1.0, 0.0))</td></tr><tr><td>10.65</td><td>1.5</td><td>Female</td><td>No</td><td>Thur</td><td>Lunch</td><td>2</td><td>0.0</td><td>2.0</td><td>1.0</td><td>1.0</td><td>Map(vectorType -> dense, length -> 6, values -> List(1.5, 2.0, 0.0, 1.0, 2.0, 1.0))</td></tr><tr><td>12.43</td><td>1.8</td><td>Female</td><td>No</td><td>Thur</td><td>Lunch</td><td>2</td><td>0.0</td><td>2.0</td><td>1.0</td><td>1.0</td><td>Map(vectorType -> dense, length -> 6, values -> List(1.8, 2.0, 0.0, 1.0, 2.0, 1.0))</td></tr><tr><td>24.08</td><td>2.92</td><td>Female</td><td>No</td><td>Thur</td><td>Lunch</td><td>4</td><td>0.0</td><td>2.0</td><td>1.0</td><td>1.0</td><td>Map(vectorType -> dense, length -> 6, values -> List(2.92, 4.0, 0.0, 1.0, 2.0, 1.0))</td></tr><tr><td>11.69</td><td>2.31</td><td>Male</td><td>No</td><td>Thur</td><td>Lunch</td><td>2</td><td>0.0</td><td>2.0</td><td>1.0</td><td>0.0</td><td>Map(vectorType -> dense, length -> 6, values -> List(2.31, 2.0, 0.0, 0.0, 2.0, 1.0))</td></tr><tr><td>13.42</td><td>1.68</td><td>Female</td><td>No</td><td>Thur</td><td>Lunch</td><td>2</td><td>0.0</td><td>2.0</td><td>1.0</td><td>1.0</td><td>Map(vectorType -> dense, length -> 6, values -> List(1.68, 2.0, 0.0, 1.0, 2.0, 1.0))</td></tr><tr><td>14.26</td><td>2.5</td><td>Male</td><td>No</td><td>Thur</td><td>Lunch</td><td>2</td><td>0.0</td><td>2.0</td><td>1.0</td><td>0.0</td><td>Map(vectorType -> dense, length -> 6, values -> List(2.5, 2.0, 0.0, 0.0, 2.0, 1.0))</td></tr><tr><td>15.95</td><td>2.0</td><td>Male</td><td>No</td><td>Thur</td><td>Lunch</td><td>2</td><td>0.0</td><td>2.0</td><td>1.0</td><td>0.0</td><td>Map(vectorType -> dense, length -> 6, values -> List(2.0, 2.0, 0.0, 0.0, 2.0, 1.0))</td></tr><tr><td>12.48</td><td>2.52</td><td>Female</td><td>No</td><td>Thur</td><td>Lunch</td><td>2</td><td>0.0</td><td>2.0</td><td>1.0</td><td>1.0</td><td>Map(vectorType -> dense, length -> 6, values -> List(2.52, 2.0, 0.0, 1.0, 2.0, 1.0))</td></tr><tr><td>29.8</td><td>4.2</td><td>Female</td><td>No</td><td>Thur</td><td>Lunch</td><td>6</td><td>0.0</td><td>2.0</td><td>1.0</td><td>1.0</td><td>Map(vectorType -> dense, length -> 6, values -> List(4.2, 6.0, 0.0, 1.0, 2.0, 1.0))</td></tr><tr><td>8.52</td><td>1.48</td><td>Male</td><td>No</td><td>Thur</td><td>Lunch</td><td>2</td><td>0.0</td><td>2.0</td><td>1.0</td><td>0.0</td><td>Map(vectorType -> dense, length -> 6, values -> List(1.48, 2.0, 0.0, 0.0, 2.0, 1.0))</td></tr><tr><td>14.52</td><td>2.0</td><td>Female</td><td>No</td><td>Thur</td><td>Lunch</td><td>2</td><td>0.0</td><td>2.0</td><td>1.0</td><td>1.0</td><td>Map(vectorType -> dense, length -> 6, values -> List(2.0, 2.0, 0.0, 1.0, 2.0, 1.0))</td></tr><tr><td>11.38</td><td>2.0</td><td>Female</td><td>No</td><td>Thur</td><td>Lunch</td><td>2</td><td>0.0</td><td>2.0</td><td>1.0</td><td>1.0</td><td>Map(vectorType -> dense, length -> 6, values -> List(2.0, 2.0, 0.0, 1.0, 2.0, 1.0))</td></tr><tr><td>22.82</td><td>2.18</td><td>Male</td><td>No</td><td>Thur</td><td>Lunch</td><td>3</td><td>0.0</td><td>2.0</td><td>1.0</td><td>0.0</td><td>Map(vectorType -> dense, length -> 6, values -> List(2.18, 3.0, 0.0, 0.0, 2.0, 1.0))</td></tr><tr><td>19.08</td><td>1.5</td><td>Male</td><td>No</td><td>Thur</td><td>Lunch</td><td>2</td><td>0.0</td><td>2.0</td><td>1.0</td><td>0.0</td><td>Map(vectorType -> dense, length -> 6, values -> List(1.5, 2.0, 0.0, 0.0, 2.0, 1.0))</td></tr><tr><td>20.27</td><td>2.83</td><td>Female</td><td>No</td><td>Thur</td><td>Lunch</td><td>2</td><td>0.0</td><td>2.0</td><td>1.0</td><td>1.0</td><td>Map(vectorType -> dense, length -> 6, values -> List(2.83, 2.0, 0.0, 1.0, 2.0, 1.0))</td></tr><tr><td>11.17</td><td>1.5</td><td>Female</td><td>No</td><td>Thur</td><td>Lunch</td><td>2</td><td>0.0</td><td>2.0</td><td>1.0</td><td>1.0</td><td>Map(vectorType -> dense, length -> 6, values -> List(1.5, 2.0, 0.0, 1.0, 2.0, 1.0))</td></tr><tr><td>12.26</td><td>2.0</td><td>Female</td><td>No</td><td>Thur</td><td>Lunch</td><td>2</td><td>0.0</td><td>2.0</td><td>1.0</td><td>1.0</td><td>Map(vectorType -> dense, length -> 6, values -> List(2.0, 2.0, 0.0, 1.0, 2.0, 1.0))</td></tr><tr><td>18.26</td><td>3.25</td><td>Female</td><td>No</td><td>Thur</td><td>Lunch</td><td>2</td><td>0.0</td><td>2.0</td><td>1.0</td><td>1.0</td><td>Map(vectorType -> dense, length -> 6, values -> List(3.25, 2.0, 0.0, 1.0, 2.0, 1.0))</td></tr><tr><td>8.51</td><td>1.25</td><td>Female</td><td>No</td><td>Thur</td><td>Lunch</td><td>2</td><td>0.0</td><td>2.0</td><td>1.0</td><td>1.0</td><td>Map(vectorType -> dense, length -> 6, values -> List(1.25, 2.0, 0.0, 1.0, 2.0, 1.0))</td></tr><tr><td>10.33</td><td>2.0</td><td>Female</td><td>No</td><td>Thur</td><td>Lunch</td><td>2</td><td>0.0</td><td>2.0</td><td>1.0</td><td>1.0</td><td>Map(vectorType -> dense, length -> 6, values -> List(2.0, 2.0, 0.0, 1.0, 2.0, 1.0))</td></tr><tr><td>14.15</td><td>2.0</td><td>Female</td><td>No</td><td>Thur</td><td>Lunch</td><td>2</td><td>0.0</td><td>2.0</td><td>1.0</td><td>1.0</td><td>Map(vectorType -> dense, length -> 6, values -> List(2.0, 2.0, 0.0, 1.0, 2.0, 1.0))</td></tr><tr><td>16.0</td><td>2.0</td><td>Male</td><td>Yes</td><td>Thur</td><td>Lunch</td><td>2</td><td>1.0</td><td>2.0</td><td>1.0</td><td>0.0</td><td>Map(vectorType -> dense, length -> 6, values -> List(2.0, 2.0, 1.0, 0.0, 2.0, 1.0))</td></tr><tr><td>13.16</td><td>2.75</td><td>Female</td><td>No</td><td>Thur</td><td>Lunch</td><td>2</td><td>0.0</td><td>2.0</td><td>1.0</td><td>1.0</td><td>Map(vectorType -> dense, length -> 6, values -> List(2.75, 2.0, 0.0, 1.0, 2.0, 1.0))</td></tr><tr><td>17.47</td><td>3.5</td><td>Female</td><td>No</td><td>Thur</td><td>Lunch</td><td>2</td><td>0.0</td><td>2.0</td><td>1.0</td><td>1.0</td><td>Map(vectorType -> dense, length -> 6, values -> List(3.5, 2.0, 0.0, 1.0, 2.0, 1.0))</td></tr><tr><td>34.3</td><td>6.7</td><td>Male</td><td>No</td><td>Thur</td><td>Lunch</td><td>6</td><td>0.0</td><td>2.0</td><td>1.0</td><td>0.0</td><td>Map(vectorType -> dense, length -> 6, values -> List(6.7, 6.0, 0.0, 0.0, 2.0, 1.0))</td></tr><tr><td>41.19</td><td>5.0</td><td>Male</td><td>No</td><td>Thur</td><td>Lunch</td><td>5</td><td>0.0</td><td>2.0</td><td>1.0</td><td>0.0</td><td>Map(vectorType -> dense, length -> 6, values -> List(5.0, 5.0, 0.0, 0.0, 2.0, 1.0))</td></tr><tr><td>27.05</td><td>5.0</td><td>Female</td><td>No</td><td>Thur</td><td>Lunch</td><td>6</td><td>0.0</td><td>2.0</td><td>1.0</td><td>1.0</td><td>Map(vectorType -> dense, length -> 6, values -> List(5.0, 6.0, 0.0, 1.0, 2.0, 1.0))</td></tr><tr><td>16.43</td><td>2.3</td><td>Female</td><td>No</td><td>Thur</td><td>Lunch</td><td>2</td><td>0.0</td><td>2.0</td><td>1.0</td><td>1.0</td><td>Map(vectorType -> dense, length -> 6, values -> List(2.3, 2.0, 0.0, 1.0, 2.0, 1.0))</td></tr><tr><td>8.35</td><td>1.5</td><td>Female</td><td>No</td><td>Thur</td><td>Lunch</td><td>2</td><td>0.0</td><td>2.0</td><td>1.0</td><td>1.0</td><td>Map(vectorType -> dense, length -> 6, values -> List(1.5, 2.0, 0.0, 1.0, 2.0, 1.0))</td></tr><tr><td>18.64</td><td>1.36</td><td>Female</td><td>No</td><td>Thur</td><td>Lunch</td><td>3</td><td>0.0</td><td>2.0</td><td>1.0</td><td>1.0</td><td>Map(vectorType -> dense, length -> 6, values -> List(1.36, 3.0, 0.0, 1.0, 2.0, 1.0))</td></tr><tr><td>11.87</td><td>1.63</td><td>Female</td><td>No</td><td>Thur</td><td>Lunch</td><td>2</td><td>0.0</td><td>2.0</td><td>1.0</td><td>1.0</td><td>Map(vectorType -> dense, length -> 6, values -> List(1.63, 2.0, 0.0, 1.0, 2.0, 1.0))</td></tr><tr><td>9.78</td><td>1.73</td><td>Male</td><td>No</td><td>Thur</td><td>Lunch</td><td>2</td><td>0.0</td><td>2.0</td><td>1.0</td><td>0.0</td><td>Map(vectorType -> dense, length -> 6, values -> List(1.73, 2.0, 0.0, 0.0, 2.0, 1.0))</td></tr><tr><td>7.51</td><td>2.0</td><td>Male</td><td>No</td><td>Thur</td><td>Lunch</td><td>2</td><td>0.0</td><td>2.0</td><td>1.0</td><td>0.0</td><td>Map(vectorType -> dense, length -> 6, values -> List(2.0, 2.0, 0.0, 0.0, 2.0, 1.0))</td></tr><tr><td>14.07</td><td>2.5</td><td>Male</td><td>No</td><td>Sun</td><td>Dinner</td><td>2</td><td>0.0</td><td>1.0</td><td>0.0</td><td>0.0</td><td>Map(vectorType -> dense, length -> 6, values -> List(2.5, 2.0, 0.0, 0.0, 1.0, 0.0))</td></tr><tr><td>13.13</td><td>2.0</td><td>Male</td><td>No</td><td>Sun</td><td>Dinner</td><td>2</td><td>0.0</td><td>1.0</td><td>0.0</td><td>0.0</td><td>Map(vectorType -> dense, length -> 6, values -> List(2.0, 2.0, 0.0, 0.0, 1.0, 0.0))</td></tr><tr><td>17.26</td><td>2.74</td><td>Male</td><td>No</td><td>Sun</td><td>Dinner</td><td>3</td><td>0.0</td><td>1.0</td><td>0.0</td><td>0.0</td><td>Map(vectorType -> dense, length -> 6, values -> List(2.74, 3.0, 0.0, 0.0, 1.0, 0.0))</td></tr><tr><td>24.55</td><td>2.0</td><td>Male</td><td>No</td><td>Sun</td><td>Dinner</td><td>4</td><td>0.0</td><td>1.0</td><td>0.0</td><td>0.0</td><td>Map(vectorType -> dense, length -> 6, values -> List(2.0, 4.0, 0.0, 0.0, 1.0, 0.0))</td></tr><tr><td>19.77</td><td>2.0</td><td>Male</td><td>No</td><td>Sun</td><td>Dinner</td><td>4</td><td>0.0</td><td>1.0</td><td>0.0</td><td>0.0</td><td>Map(vectorType -> dense, length -> 6, values -> List(2.0, 4.0, 0.0, 0.0, 1.0, 0.0))</td></tr><tr><td>29.85</td><td>5.14</td><td>Female</td><td>No</td><td>Sun</td><td>Dinner</td><td>5</td><td>0.0</td><td>1.0</td><td>0.0</td><td>1.0</td><td>Map(vectorType -> dense, length -> 6, values -> List(5.14, 5.0, 0.0, 1.0, 1.0, 0.0))</td></tr><tr><td>48.17</td><td>5.0</td><td>Male</td><td>No</td><td>Sun</td><td>Dinner</td><td>6</td><td>0.0</td><td>1.0</td><td>0.0</td><td>0.0</td><td>Map(vectorType -> dense, length -> 6, values -> List(5.0, 6.0, 0.0, 0.0, 1.0, 0.0))</td></tr><tr><td>25.0</td><td>3.75</td><td>Female</td><td>No</td><td>Sun</td><td>Dinner</td><td>4</td><td>0.0</td><td>1.0</td><td>0.0</td><td>1.0</td><td>Map(vectorType -> dense, length -> 6, values -> List(3.75, 4.0, 0.0, 1.0, 1.0, 0.0))</td></tr><tr><td>13.39</td><td>2.61</td><td>Female</td><td>No</td><td>Sun</td><td>Dinner</td><td>2</td><td>0.0</td><td>1.0</td><td>0.0</td><td>1.0</td><td>Map(vectorType -> dense, length -> 6, values -> List(2.61, 2.0, 0.0, 1.0, 1.0, 0.0))</td></tr><tr><td>16.49</td><td>2.0</td><td>Male</td><td>No</td><td>Sun</td><td>Dinner</td><td>4</td><td>0.0</td><td>1.0</td><td>0.0</td><td>0.0</td><td>Map(vectorType -> dense, length -> 6, values -> List(2.0, 4.0, 0.0, 0.0, 1.0, 0.0))</td></tr><tr><td>21.5</td><td>3.5</td><td>Male</td><td>No</td><td>Sun</td><td>Dinner</td><td>4</td><td>0.0</td><td>1.0</td><td>0.0</td><td>0.0</td><td>Map(vectorType -> dense, length -> 6, values -> List(3.5, 4.0, 0.0, 0.0, 1.0, 0.0))</td></tr><tr><td>12.66</td><td>2.5</td><td>Male</td><td>No</td><td>Sun</td><td>Dinner</td><td>2</td><td>0.0</td><td>1.0</td><td>0.0</td><td>0.0</td><td>Map(vectorType -> dense, length -> 6, values -> List(2.5, 2.0, 0.0, 0.0, 1.0, 0.0))</td></tr><tr><td>16.21</td><td>2.0</td><td>Female</td><td>No</td><td>Sun</td><td>Dinner</td><td>3</td><td>0.0</td><td>1.0</td><td>0.0</td><td>1.0</td><td>Map(vectorType -> dense, length -> 6, values -> List(2.0, 3.0, 0.0, 1.0, 1.0, 0.0))</td></tr><tr><td>13.81</td><td>2.0</td><td>Male</td><td>No</td><td>Sun</td><td>Dinner</td><td>2</td><td>0.0</td><td>1.0</td><td>0.0</td><td>0.0</td><td>Map(vectorType -> dense, length -> 6, values -> List(2.0, 2.0, 0.0, 0.0, 1.0, 0.0))</td></tr><tr><td>17.51</td><td>3.0</td><td>Female</td><td>Yes</td><td>Sun</td><td>Dinner</td><td>2</td><td>1.0</td><td>1.0</td><td>0.0</td><td>1.0</td><td>Map(vectorType -> dense, length -> 6, values -> List(3.0, 2.0, 1.0, 1.0, 1.0, 0.0))</td></tr><tr><td>24.52</td><td>3.48</td><td>Male</td><td>No</td><td>Sun</td><td>Dinner</td><td>3</td><td>0.0</td><td>1.0</td><td>0.0</td><td>0.0</td><td>Map(vectorType -> dense, length -> 6, values -> List(3.48, 3.0, 0.0, 0.0, 1.0, 0.0))</td></tr><tr><td>20.76</td><td>2.24</td><td>Male</td><td>No</td><td>Sun</td><td>Dinner</td><td>2</td><td>0.0</td><td>1.0</td><td>0.0</td><td>0.0</td><td>Map(vectorType -> dense, length -> 6, values -> List(2.24, 2.0, 0.0, 0.0, 1.0, 0.0))</td></tr><tr><td>31.71</td><td>4.5</td><td>Male</td><td>No</td><td>Sun</td><td>Dinner</td><td>4</td><td>0.0</td><td>1.0</td><td>0.0</td><td>0.0</td><td>Map(vectorType -> dense, length -> 6, values -> List(4.5, 4.0, 0.0, 0.0, 1.0, 0.0))</td></tr><tr><td>10.59</td><td>1.61</td><td>Female</td><td>Yes</td><td>Sat</td><td>Dinner</td><td>2</td><td>1.0</td><td>0.0</td><td>0.0</td><td>1.0</td><td>Map(vectorType -> dense, length -> 6, values -> List(1.61, 2.0, 1.0, 1.0, 0.0, 0.0))</td></tr><tr><td>10.63</td><td>2.0</td><td>Female</td><td>Yes</td><td>Sat</td><td>Dinner</td><td>2</td><td>1.0</td><td>0.0</td><td>0.0</td><td>1.0</td><td>Map(vectorType -> dense, length -> 6, values -> List(2.0, 2.0, 1.0, 1.0, 0.0, 0.0))</td></tr><tr><td>50.81</td><td>10.0</td><td>Male</td><td>Yes</td><td>Sat</td><td>Dinner</td><td>3</td><td>1.0</td><td>0.0</td><td>0.0</td><td>0.0</td><td>Map(vectorType -> dense, length -> 6, values -> List(10.0, 3.0, 1.0, 0.0, 0.0, 0.0))</td></tr><tr><td>15.81</td><td>3.16</td><td>Male</td><td>Yes</td><td>Sat</td><td>Dinner</td><td>2</td><td>1.0</td><td>0.0</td><td>0.0</td><td>0.0</td><td>Map(vectorType -> dense, length -> 6, values -> List(3.16, 2.0, 1.0, 0.0, 0.0, 0.0))</td></tr><tr><td>7.25</td><td>5.15</td><td>Male</td><td>Yes</td><td>Sun</td><td>Dinner</td><td>2</td><td>1.0</td><td>1.0</td><td>0.0</td><td>0.0</td><td>Map(vectorType -> dense, length -> 6, values -> List(5.15, 2.0, 1.0, 0.0, 1.0, 0.0))</td></tr><tr><td>31.85</td><td>3.18</td><td>Male</td><td>Yes</td><td>Sun</td><td>Dinner</td><td>2</td><td>1.0</td><td>1.0</td><td>0.0</td><td>0.0</td><td>Map(vectorType -> dense, length -> 6, values -> List(3.18, 2.0, 1.0, 0.0, 1.0, 0.0))</td></tr><tr><td>16.82</td><td>4.0</td><td>Male</td><td>Yes</td><td>Sun</td><td>Dinner</td><td>2</td><td>1.0</td><td>1.0</td><td>0.0</td><td>0.0</td><td>Map(vectorType -> dense, length -> 6, values -> List(4.0, 2.0, 1.0, 0.0, 1.0, 0.0))</td></tr><tr><td>32.9</td><td>3.11</td><td>Male</td><td>Yes</td><td>Sun</td><td>Dinner</td><td>2</td><td>1.0</td><td>1.0</td><td>0.0</td><td>0.0</td><td>Map(vectorType -> dense, length -> 6, values -> List(3.11, 2.0, 1.0, 0.0, 1.0, 0.0))</td></tr><tr><td>17.89</td><td>2.0</td><td>Male</td><td>Yes</td><td>Sun</td><td>Dinner</td><td>2</td><td>1.0</td><td>1.0</td><td>0.0</td><td>0.0</td><td>Map(vectorType -> dense, length -> 6, values -> List(2.0, 2.0, 1.0, 0.0, 1.0, 0.0))</td></tr><tr><td>14.48</td><td>2.0</td><td>Male</td><td>Yes</td><td>Sun</td><td>Dinner</td><td>2</td><td>1.0</td><td>1.0</td><td>0.0</td><td>0.0</td><td>Map(vectorType -> dense, length -> 6, values -> List(2.0, 2.0, 1.0, 0.0, 1.0, 0.0))</td></tr><tr><td>9.6</td><td>4.0</td><td>Female</td><td>Yes</td><td>Sun</td><td>Dinner</td><td>2</td><td>1.0</td><td>1.0</td><td>0.0</td><td>1.0</td><td>Map(vectorType -> dense, length -> 6, values -> List(4.0, 2.0, 1.0, 1.0, 1.0, 0.0))</td></tr><tr><td>34.63</td><td>3.55</td><td>Male</td><td>Yes</td><td>Sun</td><td>Dinner</td><td>2</td><td>1.0</td><td>1.0</td><td>0.0</td><td>0.0</td><td>Map(vectorType -> dense, length -> 6, values -> List(3.55, 2.0, 1.0, 0.0, 1.0, 0.0))</td></tr><tr><td>34.65</td><td>3.68</td><td>Male</td><td>Yes</td><td>Sun</td><td>Dinner</td><td>4</td><td>1.0</td><td>1.0</td><td>0.0</td><td>0.0</td><td>Map(vectorType -> dense, length -> 6, values -> List(3.68, 4.0, 1.0, 0.0, 1.0, 0.0))</td></tr><tr><td>23.33</td><td>5.65</td><td>Male</td><td>Yes</td><td>Sun</td><td>Dinner</td><td>2</td><td>1.0</td><td>1.0</td><td>0.0</td><td>0.0</td><td>Map(vectorType -> dense, length -> 6, values -> List(5.65, 2.0, 1.0, 0.0, 1.0, 0.0))</td></tr><tr><td>45.35</td><td>3.5</td><td>Male</td><td>Yes</td><td>Sun</td><td>Dinner</td><td>3</td><td>1.0</td><td>1.0</td><td>0.0</td><td>0.0</td><td>Map(vectorType -> dense, length -> 6, values -> List(3.5, 3.0, 1.0, 0.0, 1.0, 0.0))</td></tr><tr><td>23.17</td><td>6.5</td><td>Male</td><td>Yes</td><td>Sun</td><td>Dinner</td><td>4</td><td>1.0</td><td>1.0</td><td>0.0</td><td>0.0</td><td>Map(vectorType -> dense, length -> 6, values -> List(6.5, 4.0, 1.0, 0.0, 1.0, 0.0))</td></tr><tr><td>40.55</td><td>3.0</td><td>Male</td><td>Yes</td><td>Sun</td><td>Dinner</td><td>2</td><td>1.0</td><td>1.0</td><td>0.0</td><td>0.0</td><td>Map(vectorType -> dense, length -> 6, values -> List(3.0, 2.0, 1.0, 0.0, 1.0, 0.0))</td></tr><tr><td>20.69</td><td>5.0</td><td>Male</td><td>No</td><td>Sun</td><td>Dinner</td><td>5</td><td>0.0</td><td>1.0</td><td>0.0</td><td>0.0</td><td>Map(vectorType -> dense, length -> 6, values -> List(5.0, 5.0, 0.0, 0.0, 1.0, 0.0))</td></tr><tr><td>20.9</td><td>3.5</td><td>Female</td><td>Yes</td><td>Sun</td><td>Dinner</td><td>3</td><td>1.0</td><td>1.0</td><td>0.0</td><td>1.0</td><td>Map(vectorType -> dense, length -> 6, values -> List(3.5, 3.0, 1.0, 1.0, 1.0, 0.0))</td></tr><tr><td>30.46</td><td>2.0</td><td>Male</td><td>Yes</td><td>Sun</td><td>Dinner</td><td>5</td><td>1.0</td><td>1.0</td><td>0.0</td><td>0.0</td><td>Map(vectorType -> dense, length -> 6, values -> List(2.0, 5.0, 1.0, 0.0, 1.0, 0.0))</td></tr><tr><td>18.15</td><td>3.5</td><td>Female</td><td>Yes</td><td>Sun</td><td>Dinner</td><td>3</td><td>1.0</td><td>1.0</td><td>0.0</td><td>1.0</td><td>Map(vectorType -> dense, length -> 6, values -> List(3.5, 3.0, 1.0, 1.0, 1.0, 0.0))</td></tr><tr><td>23.1</td><td>4.0</td><td>Male</td><td>Yes</td><td>Sun</td><td>Dinner</td><td>3</td><td>1.0</td><td>1.0</td><td>0.0</td><td>0.0</td><td>Map(vectorType -> dense, length -> 6, values -> List(4.0, 3.0, 1.0, 0.0, 1.0, 0.0))</td></tr><tr><td>15.69</td><td>1.5</td><td>Male</td><td>Yes</td><td>Sun</td><td>Dinner</td><td>2</td><td>1.0</td><td>1.0</td><td>0.0</td><td>0.0</td><td>Map(vectorType -> dense, length -> 6, values -> List(1.5, 2.0, 1.0, 0.0, 1.0, 0.0))</td></tr><tr><td>19.81</td><td>4.19</td><td>Female</td><td>Yes</td><td>Thur</td><td>Lunch</td><td>2</td><td>1.0</td><td>2.0</td><td>1.0</td><td>1.0</td><td>Map(vectorType -> dense, length -> 6, values -> List(4.19, 2.0, 1.0, 1.0, 2.0, 1.0))</td></tr><tr><td>28.44</td><td>2.56</td><td>Male</td><td>Yes</td><td>Thur</td><td>Lunch</td><td>2</td><td>1.0</td><td>2.0</td><td>1.0</td><td>0.0</td><td>Map(vectorType -> dense, length -> 6, values -> List(2.56, 2.0, 1.0, 0.0, 2.0, 1.0))</td></tr><tr><td>15.48</td><td>2.02</td><td>Male</td><td>Yes</td><td>Thur</td><td>Lunch</td><td>2</td><td>1.0</td><td>2.0</td><td>1.0</td><td>0.0</td><td>Map(vectorType -> dense, length -> 6, values -> List(2.02, 2.0, 1.0, 0.0, 2.0, 1.0))</td></tr><tr><td>16.58</td><td>4.0</td><td>Male</td><td>Yes</td><td>Thur</td><td>Lunch</td><td>2</td><td>1.0</td><td>2.0</td><td>1.0</td><td>0.0</td><td>Map(vectorType -> dense, length -> 6, values -> List(4.0, 2.0, 1.0, 0.0, 2.0, 1.0))</td></tr><tr><td>7.56</td><td>1.44</td><td>Male</td><td>No</td><td>Thur</td><td>Lunch</td><td>2</td><td>0.0</td><td>2.0</td><td>1.0</td><td>0.0</td><td>Map(vectorType -> dense, length -> 6, values -> List(1.44, 2.0, 0.0, 0.0, 2.0, 1.0))</td></tr><tr><td>10.34</td><td>2.0</td><td>Male</td><td>Yes</td><td>Thur</td><td>Lunch</td><td>2</td><td>1.0</td><td>2.0</td><td>1.0</td><td>0.0</td><td>Map(vectorType -> dense, length -> 6, values -> List(2.0, 2.0, 1.0, 0.0, 2.0, 1.0))</td></tr><tr><td>43.11</td><td>5.0</td><td>Female</td><td>Yes</td><td>Thur</td><td>Lunch</td><td>4</td><td>1.0</td><td>2.0</td><td>1.0</td><td>1.0</td><td>Map(vectorType -> dense, length -> 6, values -> List(5.0, 4.0, 1.0, 1.0, 2.0, 1.0))</td></tr><tr><td>13.0</td><td>2.0</td><td>Female</td><td>Yes</td><td>Thur</td><td>Lunch</td><td>2</td><td>1.0</td><td>2.0</td><td>1.0</td><td>1.0</td><td>Map(vectorType -> dense, length -> 6, values -> List(2.0, 2.0, 1.0, 1.0, 2.0, 1.0))</td></tr><tr><td>13.51</td><td>2.0</td><td>Male</td><td>Yes</td><td>Thur</td><td>Lunch</td><td>2</td><td>1.0</td><td>2.0</td><td>1.0</td><td>0.0</td><td>Map(vectorType -> dense, length -> 6, values -> List(2.0, 2.0, 1.0, 0.0, 2.0, 1.0))</td></tr><tr><td>18.71</td><td>4.0</td><td>Male</td><td>Yes</td><td>Thur</td><td>Lunch</td><td>3</td><td>1.0</td><td>2.0</td><td>1.0</td><td>0.0</td><td>Map(vectorType -> dense, length -> 6, values -> List(4.0, 3.0, 1.0, 0.0, 2.0, 1.0))</td></tr><tr><td>12.74</td><td>2.01</td><td>Female</td><td>Yes</td><td>Thur</td><td>Lunch</td><td>2</td><td>1.0</td><td>2.0</td><td>1.0</td><td>1.0</td><td>Map(vectorType -> dense, length -> 6, values -> List(2.01, 2.0, 1.0, 1.0, 2.0, 1.0))</td></tr><tr><td>13.0</td><td>2.0</td><td>Female</td><td>Yes</td><td>Thur</td><td>Lunch</td><td>2</td><td>1.0</td><td>2.0</td><td>1.0</td><td>1.0</td><td>Map(vectorType -> dense, length -> 6, values -> List(2.0, 2.0, 1.0, 1.0, 2.0, 1.0))</td></tr><tr><td>16.4</td><td>2.5</td><td>Female</td><td>Yes</td><td>Thur</td><td>Lunch</td><td>2</td><td>1.0</td><td>2.0</td><td>1.0</td><td>1.0</td><td>Map(vectorType -> dense, length -> 6, values -> List(2.5, 2.0, 1.0, 1.0, 2.0, 1.0))</td></tr><tr><td>20.53</td><td>4.0</td><td>Male</td><td>Yes</td><td>Thur</td><td>Lunch</td><td>4</td><td>1.0</td><td>2.0</td><td>1.0</td><td>0.0</td><td>Map(vectorType -> dense, length -> 6, values -> List(4.0, 4.0, 1.0, 0.0, 2.0, 1.0))</td></tr><tr><td>16.47</td><td>3.23</td><td>Female</td><td>Yes</td><td>Thur</td><td>Lunch</td><td>3</td><td>1.0</td><td>2.0</td><td>1.0</td><td>1.0</td><td>Map(vectorType -> dense, length -> 6, values -> List(3.23, 3.0, 1.0, 1.0, 2.0, 1.0))</td></tr><tr><td>26.59</td><td>3.41</td><td>Male</td><td>Yes</td><td>Sat</td><td>Dinner</td><td>3</td><td>1.0</td><td>0.0</td><td>0.0</td><td>0.0</td><td>Map(vectorType -> dense, length -> 6, values -> List(3.41, 3.0, 1.0, 0.0, 0.0, 0.0))</td></tr><tr><td>38.73</td><td>3.0</td><td>Male</td><td>Yes</td><td>Sat</td><td>Dinner</td><td>4</td><td>1.0</td><td>0.0</td><td>0.0</td><td>0.0</td><td>Map(vectorType -> dense, length -> 6, values -> List(3.0, 4.0, 1.0, 0.0, 0.0, 0.0))</td></tr><tr><td>24.27</td><td>2.03</td><td>Male</td><td>Yes</td><td>Sat</td><td>Dinner</td><td>2</td><td>1.0</td><td>0.0</td><td>0.0</td><td>0.0</td><td>Map(vectorType -> dense, length -> 6, values -> List(2.03, 2.0, 1.0, 0.0, 0.0, 0.0))</td></tr><tr><td>12.76</td><td>2.23</td><td>Female</td><td>Yes</td><td>Sat</td><td>Dinner</td><td>2</td><td>1.0</td><td>0.0</td><td>0.0</td><td>1.0</td><td>Map(vectorType -> dense, length -> 6, values -> List(2.23, 2.0, 1.0, 1.0, 0.0, 0.0))</td></tr><tr><td>30.06</td><td>2.0</td><td>Male</td><td>Yes</td><td>Sat</td><td>Dinner</td><td>3</td><td>1.0</td><td>0.0</td><td>0.0</td><td>0.0</td><td>Map(vectorType -> dense, length -> 6, values -> List(2.0, 3.0, 1.0, 0.0, 0.0, 0.0))</td></tr><tr><td>25.89</td><td>5.16</td><td>Male</td><td>Yes</td><td>Sat</td><td>Dinner</td><td>4</td><td>1.0</td><td>0.0</td><td>0.0</td><td>0.0</td><td>Map(vectorType -> dense, length -> 6, values -> List(5.16, 4.0, 1.0, 0.0, 0.0, 0.0))</td></tr><tr><td>48.33</td><td>9.0</td><td>Male</td><td>No</td><td>Sat</td><td>Dinner</td><td>4</td><td>0.0</td><td>0.0</td><td>0.0</td><td>0.0</td><td>Map(vectorType -> sparse, length -> 6, indices -> List(0, 1), values -> List(9.0, 4.0))</td></tr><tr><td>13.27</td><td>2.5</td><td>Female</td><td>Yes</td><td>Sat</td><td>Dinner</td><td>2</td><td>1.0</td><td>0.0</td><td>0.0</td><td>1.0</td><td>Map(vectorType -> dense, length -> 6, values -> List(2.5, 2.0, 1.0, 1.0, 0.0, 0.0))</td></tr><tr><td>28.17</td><td>6.5</td><td>Female</td><td>Yes</td><td>Sat</td><td>Dinner</td><td>3</td><td>1.0</td><td>0.0</td><td>0.0</td><td>1.0</td><td>Map(vectorType -> dense, length -> 6, values -> List(6.5, 3.0, 1.0, 1.0, 0.0, 0.0))</td></tr><tr><td>12.9</td><td>1.1</td><td>Female</td><td>Yes</td><td>Sat</td><td>Dinner</td><td>2</td><td>1.0</td><td>0.0</td><td>0.0</td><td>1.0</td><td>Map(vectorType -> dense, length -> 6, values -> List(1.1, 2.0, 1.0, 1.0, 0.0, 0.0))</td></tr><tr><td>28.15</td><td>3.0</td><td>Male</td><td>Yes</td><td>Sat</td><td>Dinner</td><td>5</td><td>1.0</td><td>0.0</td><td>0.0</td><td>0.0</td><td>Map(vectorType -> dense, length -> 6, values -> List(3.0, 5.0, 1.0, 0.0, 0.0, 0.0))</td></tr><tr><td>11.59</td><td>1.5</td><td>Male</td><td>Yes</td><td>Sat</td><td>Dinner</td><td>2</td><td>1.0</td><td>0.0</td><td>0.0</td><td>0.0</td><td>Map(vectorType -> dense, length -> 6, values -> List(1.5, 2.0, 1.0, 0.0, 0.0, 0.0))</td></tr><tr><td>7.74</td><td>1.44</td><td>Male</td><td>Yes</td><td>Sat</td><td>Dinner</td><td>2</td><td>1.0</td><td>0.0</td><td>0.0</td><td>0.0</td><td>Map(vectorType -> dense, length -> 6, values -> List(1.44, 2.0, 1.0, 0.0, 0.0, 0.0))</td></tr><tr><td>30.14</td><td>3.09</td><td>Female</td><td>Yes</td><td>Sat</td><td>Dinner</td><td>4</td><td>1.0</td><td>0.0</td><td>0.0</td><td>1.0</td><td>Map(vectorType -> dense, length -> 6, values -> List(3.09, 4.0, 1.0, 1.0, 0.0, 0.0))</td></tr><tr><td>12.16</td><td>2.2</td><td>Male</td><td>Yes</td><td>Fri</td><td>Lunch</td><td>2</td><td>1.0</td><td>3.0</td><td>1.0</td><td>0.0</td><td>Map(vectorType -> dense, length -> 6, values -> List(2.2, 2.0, 1.0, 0.0, 3.0, 1.0))</td></tr><tr><td>13.42</td><td>3.48</td><td>Female</td><td>Yes</td><td>Fri</td><td>Lunch</td><td>2</td><td>1.0</td><td>3.0</td><td>1.0</td><td>1.0</td><td>Map(vectorType -> dense, length -> 6, values -> List(3.48, 2.0, 1.0, 1.0, 3.0, 1.0))</td></tr><tr><td>8.58</td><td>1.92</td><td>Male</td><td>Yes</td><td>Fri</td><td>Lunch</td><td>1</td><td>1.0</td><td>3.0</td><td>1.0</td><td>0.0</td><td>Map(vectorType -> dense, length -> 6, values -> List(1.92, 1.0, 1.0, 0.0, 3.0, 1.0))</td></tr><tr><td>15.98</td><td>3.0</td><td>Female</td><td>No</td><td>Fri</td><td>Lunch</td><td>3</td><td>0.0</td><td>3.0</td><td>1.0</td><td>1.0</td><td>Map(vectorType -> dense, length -> 6, values -> List(3.0, 3.0, 0.0, 1.0, 3.0, 1.0))</td></tr><tr><td>13.42</td><td>1.58</td><td>Male</td><td>Yes</td><td>Fri</td><td>Lunch</td><td>2</td><td>1.0</td><td>3.0</td><td>1.0</td><td>0.0</td><td>Map(vectorType -> dense, length -> 6, values -> List(1.58, 2.0, 1.0, 0.0, 3.0, 1.0))</td></tr><tr><td>16.27</td><td>2.5</td><td>Female</td><td>Yes</td><td>Fri</td><td>Lunch</td><td>2</td><td>1.0</td><td>3.0</td><td>1.0</td><td>1.0</td><td>Map(vectorType -> dense, length -> 6, values -> List(2.5, 2.0, 1.0, 1.0, 3.0, 1.0))</td></tr><tr><td>10.09</td><td>2.0</td><td>Female</td><td>Yes</td><td>Fri</td><td>Lunch</td><td>2</td><td>1.0</td><td>3.0</td><td>1.0</td><td>1.0</td><td>Map(vectorType -> dense, length -> 6, values -> List(2.0, 2.0, 1.0, 1.0, 3.0, 1.0))</td></tr><tr><td>20.45</td><td>3.0</td><td>Male</td><td>No</td><td>Sat</td><td>Dinner</td><td>4</td><td>0.0</td><td>0.0</td><td>0.0</td><td>0.0</td><td>Map(vectorType -> sparse, length -> 6, indices -> List(0, 1), values -> List(3.0, 4.0))</td></tr><tr><td>13.28</td><td>2.72</td><td>Male</td><td>No</td><td>Sat</td><td>Dinner</td><td>2</td><td>0.0</td><td>0.0</td><td>0.0</td><td>0.0</td><td>Map(vectorType -> sparse, length -> 6, indices -> List(0, 1), values -> List(2.72, 2.0))</td></tr><tr><td>22.12</td><td>2.88</td><td>Female</td><td>Yes</td><td>Sat</td><td>Dinner</td><td>2</td><td>1.0</td><td>0.0</td><td>0.0</td><td>1.0</td><td>Map(vectorType -> dense, length -> 6, values -> List(2.88, 2.0, 1.0, 1.0, 0.0, 0.0))</td></tr><tr><td>24.01</td><td>2.0</td><td>Male</td><td>Yes</td><td>Sat</td><td>Dinner</td><td>4</td><td>1.0</td><td>0.0</td><td>0.0</td><td>0.0</td><td>Map(vectorType -> dense, length -> 6, values -> List(2.0, 4.0, 1.0, 0.0, 0.0, 0.0))</td></tr><tr><td>15.69</td><td>3.0</td><td>Male</td><td>Yes</td><td>Sat</td><td>Dinner</td><td>3</td><td>1.0</td><td>0.0</td><td>0.0</td><td>0.0</td><td>Map(vectorType -> dense, length -> 6, values -> List(3.0, 3.0, 1.0, 0.0, 0.0, 0.0))</td></tr><tr><td>11.61</td><td>3.39</td><td>Male</td><td>No</td><td>Sat</td><td>Dinner</td><td>2</td><td>0.0</td><td>0.0</td><td>0.0</td><td>0.0</td><td>Map(vectorType -> sparse, length -> 6, indices -> List(0, 1), values -> List(3.39, 2.0))</td></tr><tr><td>10.77</td><td>1.47</td><td>Male</td><td>No</td><td>Sat</td><td>Dinner</td><td>2</td><td>0.0</td><td>0.0</td><td>0.0</td><td>0.0</td><td>Map(vectorType -> sparse, length -> 6, indices -> List(0, 1), values -> List(1.47, 2.0))</td></tr><tr><td>15.53</td><td>3.0</td><td>Male</td><td>Yes</td><td>Sat</td><td>Dinner</td><td>2</td><td>1.0</td><td>0.0</td><td>0.0</td><td>0.0</td><td>Map(vectorType -> dense, length -> 6, values -> List(3.0, 2.0, 1.0, 0.0, 0.0, 0.0))</td></tr><tr><td>10.07</td><td>1.25</td><td>Male</td><td>No</td><td>Sat</td><td>Dinner</td><td>2</td><td>0.0</td><td>0.0</td><td>0.0</td><td>0.0</td><td>Map(vectorType -> sparse, length -> 6, indices -> List(0, 1), values -> List(1.25, 2.0))</td></tr><tr><td>12.6</td><td>1.0</td><td>Male</td><td>Yes</td><td>Sat</td><td>Dinner</td><td>2</td><td>1.0</td><td>0.0</td><td>0.0</td><td>0.0</td><td>Map(vectorType -> dense, length -> 6, values -> List(1.0, 2.0, 1.0, 0.0, 0.0, 0.0))</td></tr><tr><td>32.83</td><td>1.17</td><td>Male</td><td>Yes</td><td>Sat</td><td>Dinner</td><td>2</td><td>1.0</td><td>0.0</td><td>0.0</td><td>0.0</td><td>Map(vectorType -> dense, length -> 6, values -> List(1.17, 2.0, 1.0, 0.0, 0.0, 0.0))</td></tr><tr><td>35.83</td><td>4.67</td><td>Female</td><td>No</td><td>Sat</td><td>Dinner</td><td>3</td><td>0.0</td><td>0.0</td><td>0.0</td><td>1.0</td><td>Map(vectorType -> dense, length -> 6, values -> List(4.67, 3.0, 0.0, 1.0, 0.0, 0.0))</td></tr><tr><td>29.03</td><td>5.92</td><td>Male</td><td>No</td><td>Sat</td><td>Dinner</td><td>3</td><td>0.0</td><td>0.0</td><td>0.0</td><td>0.0</td><td>Map(vectorType -> sparse, length -> 6, indices -> List(0, 1), values -> List(5.92, 3.0))</td></tr><tr><td>27.18</td><td>2.0</td><td>Female</td><td>Yes</td><td>Sat</td><td>Dinner</td><td>2</td><td>1.0</td><td>0.0</td><td>0.0</td><td>1.0</td><td>Map(vectorType -> dense, length -> 6, values -> List(2.0, 2.0, 1.0, 1.0, 0.0, 0.0))</td></tr><tr><td>22.67</td><td>2.0</td><td>Male</td><td>Yes</td><td>Sat</td><td>Dinner</td><td>2</td><td>1.0</td><td>0.0</td><td>0.0</td><td>0.0</td><td>Map(vectorType -> dense, length -> 6, values -> List(2.0, 2.0, 1.0, 0.0, 0.0, 0.0))</td></tr><tr><td>17.82</td><td>1.75</td><td>Male</td><td>No</td><td>Sat</td><td>Dinner</td><td>2</td><td>0.0</td><td>0.0</td><td>0.0</td><td>0.0</td><td>Map(vectorType -> sparse, length -> 6, indices -> List(0, 1), values -> List(1.75, 2.0))</td></tr><tr><td>18.78</td><td>3.0</td><td>Female</td><td>No</td><td>Thur</td><td>Dinner</td><td>2</td><td>0.0</td><td>2.0</td><td>0.0</td><td>1.0</td><td>Map(vectorType -> dense, length -> 6, values -> List(3.0, 2.0, 0.0, 1.0, 2.0, 0.0))</td></tr></tbody></table></div>"
      ]
     },
     "metadata": {
      "application/vnd.databricks.v1+output": {
       "addedWidgets": {},
       "aggData": [],
       "aggError": "",
       "aggOverflow": false,
       "aggSchema": [],
       "aggSeriesLimitReached": false,
       "aggType": "",
       "arguments": {},
       "columnCustomDisplayInfos": {},
       "data": [
        [
         16.99,
         1.01,
         "Female",
         "No",
         "Sun",
         "Dinner",
         2,
         0.0,
         1.0,
         0.0,
         1.0,
         {
          "length": 6,
          "values": [
           1.01,
           2.0,
           0.0,
           1.0,
           1.0,
           0.0
          ],
          "vectorType": "dense"
         }
        ],
        [
         10.34,
         1.66,
         "Male",
         "No",
         "Sun",
         "Dinner",
         3,
         0.0,
         1.0,
         0.0,
         0.0,
         {
          "length": 6,
          "values": [
           1.66,
           3.0,
           0.0,
           0.0,
           1.0,
           0.0
          ],
          "vectorType": "dense"
         }
        ],
        [
         21.01,
         3.5,
         "Male",
         "No",
         "Sun",
         "Dinner",
         3,
         0.0,
         1.0,
         0.0,
         0.0,
         {
          "length": 6,
          "values": [
           3.5,
           3.0,
           0.0,
           0.0,
           1.0,
           0.0
          ],
          "vectorType": "dense"
         }
        ],
        [
         23.68,
         3.31,
         "Male",
         "No",
         "Sun",
         "Dinner",
         2,
         0.0,
         1.0,
         0.0,
         0.0,
         {
          "length": 6,
          "values": [
           3.31,
           2.0,
           0.0,
           0.0,
           1.0,
           0.0
          ],
          "vectorType": "dense"
         }
        ],
        [
         24.59,
         3.61,
         "Female",
         "No",
         "Sun",
         "Dinner",
         4,
         0.0,
         1.0,
         0.0,
         1.0,
         {
          "length": 6,
          "values": [
           3.61,
           4.0,
           0.0,
           1.0,
           1.0,
           0.0
          ],
          "vectorType": "dense"
         }
        ],
        [
         25.29,
         4.71,
         "Male",
         "No",
         "Sun",
         "Dinner",
         4,
         0.0,
         1.0,
         0.0,
         0.0,
         {
          "length": 6,
          "values": [
           4.71,
           4.0,
           0.0,
           0.0,
           1.0,
           0.0
          ],
          "vectorType": "dense"
         }
        ],
        [
         8.77,
         2.0,
         "Male",
         "No",
         "Sun",
         "Dinner",
         2,
         0.0,
         1.0,
         0.0,
         0.0,
         {
          "length": 6,
          "values": [
           2.0,
           2.0,
           0.0,
           0.0,
           1.0,
           0.0
          ],
          "vectorType": "dense"
         }
        ],
        [
         26.88,
         3.12,
         "Male",
         "No",
         "Sun",
         "Dinner",
         4,
         0.0,
         1.0,
         0.0,
         0.0,
         {
          "length": 6,
          "values": [
           3.12,
           4.0,
           0.0,
           0.0,
           1.0,
           0.0
          ],
          "vectorType": "dense"
         }
        ],
        [
         15.04,
         1.96,
         "Male",
         "No",
         "Sun",
         "Dinner",
         2,
         0.0,
         1.0,
         0.0,
         0.0,
         {
          "length": 6,
          "values": [
           1.96,
           2.0,
           0.0,
           0.0,
           1.0,
           0.0
          ],
          "vectorType": "dense"
         }
        ],
        [
         14.78,
         3.23,
         "Male",
         "No",
         "Sun",
         "Dinner",
         2,
         0.0,
         1.0,
         0.0,
         0.0,
         {
          "length": 6,
          "values": [
           3.23,
           2.0,
           0.0,
           0.0,
           1.0,
           0.0
          ],
          "vectorType": "dense"
         }
        ],
        [
         10.27,
         1.71,
         "Male",
         "No",
         "Sun",
         "Dinner",
         2,
         0.0,
         1.0,
         0.0,
         0.0,
         {
          "length": 6,
          "values": [
           1.71,
           2.0,
           0.0,
           0.0,
           1.0,
           0.0
          ],
          "vectorType": "dense"
         }
        ],
        [
         35.26,
         5.0,
         "Female",
         "No",
         "Sun",
         "Dinner",
         4,
         0.0,
         1.0,
         0.0,
         1.0,
         {
          "length": 6,
          "values": [
           5.0,
           4.0,
           0.0,
           1.0,
           1.0,
           0.0
          ],
          "vectorType": "dense"
         }
        ],
        [
         15.42,
         1.57,
         "Male",
         "No",
         "Sun",
         "Dinner",
         2,
         0.0,
         1.0,
         0.0,
         0.0,
         {
          "length": 6,
          "values": [
           1.57,
           2.0,
           0.0,
           0.0,
           1.0,
           0.0
          ],
          "vectorType": "dense"
         }
        ],
        [
         18.43,
         3.0,
         "Male",
         "No",
         "Sun",
         "Dinner",
         4,
         0.0,
         1.0,
         0.0,
         0.0,
         {
          "length": 6,
          "values": [
           3.0,
           4.0,
           0.0,
           0.0,
           1.0,
           0.0
          ],
          "vectorType": "dense"
         }
        ],
        [
         14.83,
         3.02,
         "Female",
         "No",
         "Sun",
         "Dinner",
         2,
         0.0,
         1.0,
         0.0,
         1.0,
         {
          "length": 6,
          "values": [
           3.02,
           2.0,
           0.0,
           1.0,
           1.0,
           0.0
          ],
          "vectorType": "dense"
         }
        ],
        [
         21.58,
         3.92,
         "Male",
         "No",
         "Sun",
         "Dinner",
         2,
         0.0,
         1.0,
         0.0,
         0.0,
         {
          "length": 6,
          "values": [
           3.92,
           2.0,
           0.0,
           0.0,
           1.0,
           0.0
          ],
          "vectorType": "dense"
         }
        ],
        [
         10.33,
         1.67,
         "Female",
         "No",
         "Sun",
         "Dinner",
         3,
         0.0,
         1.0,
         0.0,
         1.0,
         {
          "length": 6,
          "values": [
           1.67,
           3.0,
           0.0,
           1.0,
           1.0,
           0.0
          ],
          "vectorType": "dense"
         }
        ],
        [
         16.29,
         3.71,
         "Male",
         "No",
         "Sun",
         "Dinner",
         3,
         0.0,
         1.0,
         0.0,
         0.0,
         {
          "length": 6,
          "values": [
           3.71,
           3.0,
           0.0,
           0.0,
           1.0,
           0.0
          ],
          "vectorType": "dense"
         }
        ],
        [
         16.97,
         3.5,
         "Female",
         "No",
         "Sun",
         "Dinner",
         3,
         0.0,
         1.0,
         0.0,
         1.0,
         {
          "length": 6,
          "values": [
           3.5,
           3.0,
           0.0,
           1.0,
           1.0,
           0.0
          ],
          "vectorType": "dense"
         }
        ],
        [
         20.65,
         3.35,
         "Male",
         "No",
         "Sat",
         "Dinner",
         3,
         0.0,
         0.0,
         0.0,
         0.0,
         {
          "indices": [
           0,
           1
          ],
          "length": 6,
          "values": [
           3.35,
           3.0
          ],
          "vectorType": "sparse"
         }
        ],
        [
         17.92,
         4.08,
         "Male",
         "No",
         "Sat",
         "Dinner",
         2,
         0.0,
         0.0,
         0.0,
         0.0,
         {
          "indices": [
           0,
           1
          ],
          "length": 6,
          "values": [
           4.08,
           2.0
          ],
          "vectorType": "sparse"
         }
        ],
        [
         20.29,
         2.75,
         "Female",
         "No",
         "Sat",
         "Dinner",
         2,
         0.0,
         0.0,
         0.0,
         1.0,
         {
          "length": 6,
          "values": [
           2.75,
           2.0,
           0.0,
           1.0,
           0.0,
           0.0
          ],
          "vectorType": "dense"
         }
        ],
        [
         15.77,
         2.23,
         "Female",
         "No",
         "Sat",
         "Dinner",
         2,
         0.0,
         0.0,
         0.0,
         1.0,
         {
          "length": 6,
          "values": [
           2.23,
           2.0,
           0.0,
           1.0,
           0.0,
           0.0
          ],
          "vectorType": "dense"
         }
        ],
        [
         39.42,
         7.58,
         "Male",
         "No",
         "Sat",
         "Dinner",
         4,
         0.0,
         0.0,
         0.0,
         0.0,
         {
          "indices": [
           0,
           1
          ],
          "length": 6,
          "values": [
           7.58,
           4.0
          ],
          "vectorType": "sparse"
         }
        ],
        [
         19.82,
         3.18,
         "Male",
         "No",
         "Sat",
         "Dinner",
         2,
         0.0,
         0.0,
         0.0,
         0.0,
         {
          "indices": [
           0,
           1
          ],
          "length": 6,
          "values": [
           3.18,
           2.0
          ],
          "vectorType": "sparse"
         }
        ],
        [
         17.81,
         2.34,
         "Male",
         "No",
         "Sat",
         "Dinner",
         4,
         0.0,
         0.0,
         0.0,
         0.0,
         {
          "indices": [
           0,
           1
          ],
          "length": 6,
          "values": [
           2.34,
           4.0
          ],
          "vectorType": "sparse"
         }
        ],
        [
         13.37,
         2.0,
         "Male",
         "No",
         "Sat",
         "Dinner",
         2,
         0.0,
         0.0,
         0.0,
         0.0,
         {
          "indices": [
           0,
           1
          ],
          "length": 6,
          "values": [
           2.0,
           2.0
          ],
          "vectorType": "sparse"
         }
        ],
        [
         12.69,
         2.0,
         "Male",
         "No",
         "Sat",
         "Dinner",
         2,
         0.0,
         0.0,
         0.0,
         0.0,
         {
          "indices": [
           0,
           1
          ],
          "length": 6,
          "values": [
           2.0,
           2.0
          ],
          "vectorType": "sparse"
         }
        ],
        [
         21.7,
         4.3,
         "Male",
         "No",
         "Sat",
         "Dinner",
         2,
         0.0,
         0.0,
         0.0,
         0.0,
         {
          "indices": [
           0,
           1
          ],
          "length": 6,
          "values": [
           4.3,
           2.0
          ],
          "vectorType": "sparse"
         }
        ],
        [
         19.65,
         3.0,
         "Female",
         "No",
         "Sat",
         "Dinner",
         2,
         0.0,
         0.0,
         0.0,
         1.0,
         {
          "length": 6,
          "values": [
           3.0,
           2.0,
           0.0,
           1.0,
           0.0,
           0.0
          ],
          "vectorType": "dense"
         }
        ],
        [
         9.55,
         1.45,
         "Male",
         "No",
         "Sat",
         "Dinner",
         2,
         0.0,
         0.0,
         0.0,
         0.0,
         {
          "indices": [
           0,
           1
          ],
          "length": 6,
          "values": [
           1.45,
           2.0
          ],
          "vectorType": "sparse"
         }
        ],
        [
         18.35,
         2.5,
         "Male",
         "No",
         "Sat",
         "Dinner",
         4,
         0.0,
         0.0,
         0.0,
         0.0,
         {
          "indices": [
           0,
           1
          ],
          "length": 6,
          "values": [
           2.5,
           4.0
          ],
          "vectorType": "sparse"
         }
        ],
        [
         15.06,
         3.0,
         "Female",
         "No",
         "Sat",
         "Dinner",
         2,
         0.0,
         0.0,
         0.0,
         1.0,
         {
          "length": 6,
          "values": [
           3.0,
           2.0,
           0.0,
           1.0,
           0.0,
           0.0
          ],
          "vectorType": "dense"
         }
        ],
        [
         20.69,
         2.45,
         "Female",
         "No",
         "Sat",
         "Dinner",
         4,
         0.0,
         0.0,
         0.0,
         1.0,
         {
          "length": 6,
          "values": [
           2.45,
           4.0,
           0.0,
           1.0,
           0.0,
           0.0
          ],
          "vectorType": "dense"
         }
        ],
        [
         17.78,
         3.27,
         "Male",
         "No",
         "Sat",
         "Dinner",
         2,
         0.0,
         0.0,
         0.0,
         0.0,
         {
          "indices": [
           0,
           1
          ],
          "length": 6,
          "values": [
           3.27,
           2.0
          ],
          "vectorType": "sparse"
         }
        ],
        [
         24.06,
         3.6,
         "Male",
         "No",
         "Sat",
         "Dinner",
         3,
         0.0,
         0.0,
         0.0,
         0.0,
         {
          "indices": [
           0,
           1
          ],
          "length": 6,
          "values": [
           3.6,
           3.0
          ],
          "vectorType": "sparse"
         }
        ],
        [
         16.31,
         2.0,
         "Male",
         "No",
         "Sat",
         "Dinner",
         3,
         0.0,
         0.0,
         0.0,
         0.0,
         {
          "indices": [
           0,
           1
          ],
          "length": 6,
          "values": [
           2.0,
           3.0
          ],
          "vectorType": "sparse"
         }
        ],
        [
         16.93,
         3.07,
         "Female",
         "No",
         "Sat",
         "Dinner",
         3,
         0.0,
         0.0,
         0.0,
         1.0,
         {
          "length": 6,
          "values": [
           3.07,
           3.0,
           0.0,
           1.0,
           0.0,
           0.0
          ],
          "vectorType": "dense"
         }
        ],
        [
         18.69,
         2.31,
         "Male",
         "No",
         "Sat",
         "Dinner",
         3,
         0.0,
         0.0,
         0.0,
         0.0,
         {
          "indices": [
           0,
           1
          ],
          "length": 6,
          "values": [
           2.31,
           3.0
          ],
          "vectorType": "sparse"
         }
        ],
        [
         31.27,
         5.0,
         "Male",
         "No",
         "Sat",
         "Dinner",
         3,
         0.0,
         0.0,
         0.0,
         0.0,
         {
          "indices": [
           0,
           1
          ],
          "length": 6,
          "values": [
           5.0,
           3.0
          ],
          "vectorType": "sparse"
         }
        ],
        [
         16.04,
         2.24,
         "Male",
         "No",
         "Sat",
         "Dinner",
         3,
         0.0,
         0.0,
         0.0,
         0.0,
         {
          "indices": [
           0,
           1
          ],
          "length": 6,
          "values": [
           2.24,
           3.0
          ],
          "vectorType": "sparse"
         }
        ],
        [
         17.46,
         2.54,
         "Male",
         "No",
         "Sun",
         "Dinner",
         2,
         0.0,
         1.0,
         0.0,
         0.0,
         {
          "length": 6,
          "values": [
           2.54,
           2.0,
           0.0,
           0.0,
           1.0,
           0.0
          ],
          "vectorType": "dense"
         }
        ],
        [
         13.94,
         3.06,
         "Male",
         "No",
         "Sun",
         "Dinner",
         2,
         0.0,
         1.0,
         0.0,
         0.0,
         {
          "length": 6,
          "values": [
           3.06,
           2.0,
           0.0,
           0.0,
           1.0,
           0.0
          ],
          "vectorType": "dense"
         }
        ],
        [
         9.68,
         1.32,
         "Male",
         "No",
         "Sun",
         "Dinner",
         2,
         0.0,
         1.0,
         0.0,
         0.0,
         {
          "length": 6,
          "values": [
           1.32,
           2.0,
           0.0,
           0.0,
           1.0,
           0.0
          ],
          "vectorType": "dense"
         }
        ],
        [
         30.4,
         5.6,
         "Male",
         "No",
         "Sun",
         "Dinner",
         4,
         0.0,
         1.0,
         0.0,
         0.0,
         {
          "length": 6,
          "values": [
           5.6,
           4.0,
           0.0,
           0.0,
           1.0,
           0.0
          ],
          "vectorType": "dense"
         }
        ],
        [
         18.29,
         3.0,
         "Male",
         "No",
         "Sun",
         "Dinner",
         2,
         0.0,
         1.0,
         0.0,
         0.0,
         {
          "length": 6,
          "values": [
           3.0,
           2.0,
           0.0,
           0.0,
           1.0,
           0.0
          ],
          "vectorType": "dense"
         }
        ],
        [
         22.23,
         5.0,
         "Male",
         "No",
         "Sun",
         "Dinner",
         2,
         0.0,
         1.0,
         0.0,
         0.0,
         {
          "length": 6,
          "values": [
           5.0,
           2.0,
           0.0,
           0.0,
           1.0,
           0.0
          ],
          "vectorType": "dense"
         }
        ],
        [
         32.4,
         6.0,
         "Male",
         "No",
         "Sun",
         "Dinner",
         4,
         0.0,
         1.0,
         0.0,
         0.0,
         {
          "length": 6,
          "values": [
           6.0,
           4.0,
           0.0,
           0.0,
           1.0,
           0.0
          ],
          "vectorType": "dense"
         }
        ],
        [
         28.55,
         2.05,
         "Male",
         "No",
         "Sun",
         "Dinner",
         3,
         0.0,
         1.0,
         0.0,
         0.0,
         {
          "length": 6,
          "values": [
           2.05,
           3.0,
           0.0,
           0.0,
           1.0,
           0.0
          ],
          "vectorType": "dense"
         }
        ],
        [
         18.04,
         3.0,
         "Male",
         "No",
         "Sun",
         "Dinner",
         2,
         0.0,
         1.0,
         0.0,
         0.0,
         {
          "length": 6,
          "values": [
           3.0,
           2.0,
           0.0,
           0.0,
           1.0,
           0.0
          ],
          "vectorType": "dense"
         }
        ],
        [
         12.54,
         2.5,
         "Male",
         "No",
         "Sun",
         "Dinner",
         2,
         0.0,
         1.0,
         0.0,
         0.0,
         {
          "length": 6,
          "values": [
           2.5,
           2.0,
           0.0,
           0.0,
           1.0,
           0.0
          ],
          "vectorType": "dense"
         }
        ],
        [
         10.29,
         2.6,
         "Female",
         "No",
         "Sun",
         "Dinner",
         2,
         0.0,
         1.0,
         0.0,
         1.0,
         {
          "length": 6,
          "values": [
           2.6,
           2.0,
           0.0,
           1.0,
           1.0,
           0.0
          ],
          "vectorType": "dense"
         }
        ],
        [
         34.81,
         5.2,
         "Female",
         "No",
         "Sun",
         "Dinner",
         4,
         0.0,
         1.0,
         0.0,
         1.0,
         {
          "length": 6,
          "values": [
           5.2,
           4.0,
           0.0,
           1.0,
           1.0,
           0.0
          ],
          "vectorType": "dense"
         }
        ],
        [
         9.94,
         1.56,
         "Male",
         "No",
         "Sun",
         "Dinner",
         2,
         0.0,
         1.0,
         0.0,
         0.0,
         {
          "length": 6,
          "values": [
           1.56,
           2.0,
           0.0,
           0.0,
           1.0,
           0.0
          ],
          "vectorType": "dense"
         }
        ],
        [
         25.56,
         4.34,
         "Male",
         "No",
         "Sun",
         "Dinner",
         4,
         0.0,
         1.0,
         0.0,
         0.0,
         {
          "length": 6,
          "values": [
           4.34,
           4.0,
           0.0,
           0.0,
           1.0,
           0.0
          ],
          "vectorType": "dense"
         }
        ],
        [
         19.49,
         3.51,
         "Male",
         "No",
         "Sun",
         "Dinner",
         2,
         0.0,
         1.0,
         0.0,
         0.0,
         {
          "length": 6,
          "values": [
           3.51,
           2.0,
           0.0,
           0.0,
           1.0,
           0.0
          ],
          "vectorType": "dense"
         }
        ],
        [
         38.01,
         3.0,
         "Male",
         "Yes",
         "Sat",
         "Dinner",
         4,
         1.0,
         0.0,
         0.0,
         0.0,
         {
          "length": 6,
          "values": [
           3.0,
           4.0,
           1.0,
           0.0,
           0.0,
           0.0
          ],
          "vectorType": "dense"
         }
        ],
        [
         26.41,
         1.5,
         "Female",
         "No",
         "Sat",
         "Dinner",
         2,
         0.0,
         0.0,
         0.0,
         1.0,
         {
          "length": 6,
          "values": [
           1.5,
           2.0,
           0.0,
           1.0,
           0.0,
           0.0
          ],
          "vectorType": "dense"
         }
        ],
        [
         11.24,
         1.76,
         "Male",
         "Yes",
         "Sat",
         "Dinner",
         2,
         1.0,
         0.0,
         0.0,
         0.0,
         {
          "length": 6,
          "values": [
           1.76,
           2.0,
           1.0,
           0.0,
           0.0,
           0.0
          ],
          "vectorType": "dense"
         }
        ],
        [
         48.27,
         6.73,
         "Male",
         "No",
         "Sat",
         "Dinner",
         4,
         0.0,
         0.0,
         0.0,
         0.0,
         {
          "indices": [
           0,
           1
          ],
          "length": 6,
          "values": [
           6.73,
           4.0
          ],
          "vectorType": "sparse"
         }
        ],
        [
         20.29,
         3.21,
         "Male",
         "Yes",
         "Sat",
         "Dinner",
         2,
         1.0,
         0.0,
         0.0,
         0.0,
         {
          "length": 6,
          "values": [
           3.21,
           2.0,
           1.0,
           0.0,
           0.0,
           0.0
          ],
          "vectorType": "dense"
         }
        ],
        [
         13.81,
         2.0,
         "Male",
         "Yes",
         "Sat",
         "Dinner",
         2,
         1.0,
         0.0,
         0.0,
         0.0,
         {
          "length": 6,
          "values": [
           2.0,
           2.0,
           1.0,
           0.0,
           0.0,
           0.0
          ],
          "vectorType": "dense"
         }
        ],
        [
         11.02,
         1.98,
         "Male",
         "Yes",
         "Sat",
         "Dinner",
         2,
         1.0,
         0.0,
         0.0,
         0.0,
         {
          "length": 6,
          "values": [
           1.98,
           2.0,
           1.0,
           0.0,
           0.0,
           0.0
          ],
          "vectorType": "dense"
         }
        ],
        [
         18.29,
         3.76,
         "Male",
         "Yes",
         "Sat",
         "Dinner",
         4,
         1.0,
         0.0,
         0.0,
         0.0,
         {
          "length": 6,
          "values": [
           3.76,
           4.0,
           1.0,
           0.0,
           0.0,
           0.0
          ],
          "vectorType": "dense"
         }
        ],
        [
         17.59,
         2.64,
         "Male",
         "No",
         "Sat",
         "Dinner",
         3,
         0.0,
         0.0,
         0.0,
         0.0,
         {
          "indices": [
           0,
           1
          ],
          "length": 6,
          "values": [
           2.64,
           3.0
          ],
          "vectorType": "sparse"
         }
        ],
        [
         20.08,
         3.15,
         "Male",
         "No",
         "Sat",
         "Dinner",
         3,
         0.0,
         0.0,
         0.0,
         0.0,
         {
          "indices": [
           0,
           1
          ],
          "length": 6,
          "values": [
           3.15,
           3.0
          ],
          "vectorType": "sparse"
         }
        ],
        [
         16.45,
         2.47,
         "Female",
         "No",
         "Sat",
         "Dinner",
         2,
         0.0,
         0.0,
         0.0,
         1.0,
         {
          "length": 6,
          "values": [
           2.47,
           2.0,
           0.0,
           1.0,
           0.0,
           0.0
          ],
          "vectorType": "dense"
         }
        ],
        [
         3.07,
         1.0,
         "Female",
         "Yes",
         "Sat",
         "Dinner",
         1,
         1.0,
         0.0,
         0.0,
         1.0,
         {
          "length": 6,
          "values": [
           1.0,
           1.0,
           1.0,
           1.0,
           0.0,
           0.0
          ],
          "vectorType": "dense"
         }
        ],
        [
         20.23,
         2.01,
         "Male",
         "No",
         "Sat",
         "Dinner",
         2,
         0.0,
         0.0,
         0.0,
         0.0,
         {
          "indices": [
           0,
           1
          ],
          "length": 6,
          "values": [
           2.01,
           2.0
          ],
          "vectorType": "sparse"
         }
        ],
        [
         15.01,
         2.09,
         "Male",
         "Yes",
         "Sat",
         "Dinner",
         2,
         1.0,
         0.0,
         0.0,
         0.0,
         {
          "length": 6,
          "values": [
           2.09,
           2.0,
           1.0,
           0.0,
           0.0,
           0.0
          ],
          "vectorType": "dense"
         }
        ],
        [
         12.02,
         1.97,
         "Male",
         "No",
         "Sat",
         "Dinner",
         2,
         0.0,
         0.0,
         0.0,
         0.0,
         {
          "indices": [
           0,
           1
          ],
          "length": 6,
          "values": [
           1.97,
           2.0
          ],
          "vectorType": "sparse"
         }
        ],
        [
         17.07,
         3.0,
         "Female",
         "No",
         "Sat",
         "Dinner",
         3,
         0.0,
         0.0,
         0.0,
         1.0,
         {
          "length": 6,
          "values": [
           3.0,
           3.0,
           0.0,
           1.0,
           0.0,
           0.0
          ],
          "vectorType": "dense"
         }
        ],
        [
         26.86,
         3.14,
         "Female",
         "Yes",
         "Sat",
         "Dinner",
         2,
         1.0,
         0.0,
         0.0,
         1.0,
         {
          "length": 6,
          "values": [
           3.14,
           2.0,
           1.0,
           1.0,
           0.0,
           0.0
          ],
          "vectorType": "dense"
         }
        ],
        [
         25.28,
         5.0,
         "Female",
         "Yes",
         "Sat",
         "Dinner",
         2,
         1.0,
         0.0,
         0.0,
         1.0,
         {
          "length": 6,
          "values": [
           5.0,
           2.0,
           1.0,
           1.0,
           0.0,
           0.0
          ],
          "vectorType": "dense"
         }
        ],
        [
         14.73,
         2.2,
         "Female",
         "No",
         "Sat",
         "Dinner",
         2,
         0.0,
         0.0,
         0.0,
         1.0,
         {
          "length": 6,
          "values": [
           2.2,
           2.0,
           0.0,
           1.0,
           0.0,
           0.0
          ],
          "vectorType": "dense"
         }
        ],
        [
         10.51,
         1.25,
         "Male",
         "No",
         "Sat",
         "Dinner",
         2,
         0.0,
         0.0,
         0.0,
         0.0,
         {
          "indices": [
           0,
           1
          ],
          "length": 6,
          "values": [
           1.25,
           2.0
          ],
          "vectorType": "sparse"
         }
        ],
        [
         17.92,
         3.08,
         "Male",
         "Yes",
         "Sat",
         "Dinner",
         2,
         1.0,
         0.0,
         0.0,
         0.0,
         {
          "length": 6,
          "values": [
           3.08,
           2.0,
           1.0,
           0.0,
           0.0,
           0.0
          ],
          "vectorType": "dense"
         }
        ],
        [
         27.2,
         4.0,
         "Male",
         "No",
         "Thur",
         "Lunch",
         4,
         0.0,
         2.0,
         1.0,
         0.0,
         {
          "length": 6,
          "values": [
           4.0,
           4.0,
           0.0,
           0.0,
           2.0,
           1.0
          ],
          "vectorType": "dense"
         }
        ],
        [
         22.76,
         3.0,
         "Male",
         "No",
         "Thur",
         "Lunch",
         2,
         0.0,
         2.0,
         1.0,
         0.0,
         {
          "length": 6,
          "values": [
           3.0,
           2.0,
           0.0,
           0.0,
           2.0,
           1.0
          ],
          "vectorType": "dense"
         }
        ],
        [
         17.29,
         2.71,
         "Male",
         "No",
         "Thur",
         "Lunch",
         2,
         0.0,
         2.0,
         1.0,
         0.0,
         {
          "length": 6,
          "values": [
           2.71,
           2.0,
           0.0,
           0.0,
           2.0,
           1.0
          ],
          "vectorType": "dense"
         }
        ],
        [
         19.44,
         3.0,
         "Male",
         "Yes",
         "Thur",
         "Lunch",
         2,
         1.0,
         2.0,
         1.0,
         0.0,
         {
          "length": 6,
          "values": [
           3.0,
           2.0,
           1.0,
           0.0,
           2.0,
           1.0
          ],
          "vectorType": "dense"
         }
        ],
        [
         16.66,
         3.4,
         "Male",
         "No",
         "Thur",
         "Lunch",
         2,
         0.0,
         2.0,
         1.0,
         0.0,
         {
          "length": 6,
          "values": [
           3.4,
           2.0,
           0.0,
           0.0,
           2.0,
           1.0
          ],
          "vectorType": "dense"
         }
        ],
        [
         10.07,
         1.83,
         "Female",
         "No",
         "Thur",
         "Lunch",
         1,
         0.0,
         2.0,
         1.0,
         1.0,
         {
          "length": 6,
          "values": [
           1.83,
           1.0,
           0.0,
           1.0,
           2.0,
           1.0
          ],
          "vectorType": "dense"
         }
        ],
        [
         32.68,
         5.0,
         "Male",
         "Yes",
         "Thur",
         "Lunch",
         2,
         1.0,
         2.0,
         1.0,
         0.0,
         {
          "length": 6,
          "values": [
           5.0,
           2.0,
           1.0,
           0.0,
           2.0,
           1.0
          ],
          "vectorType": "dense"
         }
        ],
        [
         15.98,
         2.03,
         "Male",
         "No",
         "Thur",
         "Lunch",
         2,
         0.0,
         2.0,
         1.0,
         0.0,
         {
          "length": 6,
          "values": [
           2.03,
           2.0,
           0.0,
           0.0,
           2.0,
           1.0
          ],
          "vectorType": "dense"
         }
        ],
        [
         34.83,
         5.17,
         "Female",
         "No",
         "Thur",
         "Lunch",
         4,
         0.0,
         2.0,
         1.0,
         1.0,
         {
          "length": 6,
          "values": [
           5.17,
           4.0,
           0.0,
           1.0,
           2.0,
           1.0
          ],
          "vectorType": "dense"
         }
        ],
        [
         13.03,
         2.0,
         "Male",
         "No",
         "Thur",
         "Lunch",
         2,
         0.0,
         2.0,
         1.0,
         0.0,
         {
          "length": 6,
          "values": [
           2.0,
           2.0,
           0.0,
           0.0,
           2.0,
           1.0
          ],
          "vectorType": "dense"
         }
        ],
        [
         18.28,
         4.0,
         "Male",
         "No",
         "Thur",
         "Lunch",
         2,
         0.0,
         2.0,
         1.0,
         0.0,
         {
          "length": 6,
          "values": [
           4.0,
           2.0,
           0.0,
           0.0,
           2.0,
           1.0
          ],
          "vectorType": "dense"
         }
        ],
        [
         24.71,
         5.85,
         "Male",
         "No",
         "Thur",
         "Lunch",
         2,
         0.0,
         2.0,
         1.0,
         0.0,
         {
          "length": 6,
          "values": [
           5.85,
           2.0,
           0.0,
           0.0,
           2.0,
           1.0
          ],
          "vectorType": "dense"
         }
        ],
        [
         21.16,
         3.0,
         "Male",
         "No",
         "Thur",
         "Lunch",
         2,
         0.0,
         2.0,
         1.0,
         0.0,
         {
          "length": 6,
          "values": [
           3.0,
           2.0,
           0.0,
           0.0,
           2.0,
           1.0
          ],
          "vectorType": "dense"
         }
        ],
        [
         28.97,
         3.0,
         "Male",
         "Yes",
         "Fri",
         "Dinner",
         2,
         1.0,
         3.0,
         0.0,
         0.0,
         {
          "length": 6,
          "values": [
           3.0,
           2.0,
           1.0,
           0.0,
           3.0,
           0.0
          ],
          "vectorType": "dense"
         }
        ],
        [
         22.49,
         3.5,
         "Male",
         "No",
         "Fri",
         "Dinner",
         2,
         0.0,
         3.0,
         0.0,
         0.0,
         {
          "length": 6,
          "values": [
           3.5,
           2.0,
           0.0,
           0.0,
           3.0,
           0.0
          ],
          "vectorType": "dense"
         }
        ],
        [
         5.75,
         1.0,
         "Female",
         "Yes",
         "Fri",
         "Dinner",
         2,
         1.0,
         3.0,
         0.0,
         1.0,
         {
          "length": 6,
          "values": [
           1.0,
           2.0,
           1.0,
           1.0,
           3.0,
           0.0
          ],
          "vectorType": "dense"
         }
        ],
        [
         16.32,
         4.3,
         "Female",
         "Yes",
         "Fri",
         "Dinner",
         2,
         1.0,
         3.0,
         0.0,
         1.0,
         {
          "length": 6,
          "values": [
           4.3,
           2.0,
           1.0,
           1.0,
           3.0,
           0.0
          ],
          "vectorType": "dense"
         }
        ],
        [
         22.75,
         3.25,
         "Female",
         "No",
         "Fri",
         "Dinner",
         2,
         0.0,
         3.0,
         0.0,
         1.0,
         {
          "length": 6,
          "values": [
           3.25,
           2.0,
           0.0,
           1.0,
           3.0,
           0.0
          ],
          "vectorType": "dense"
         }
        ],
        [
         40.17,
         4.73,
         "Male",
         "Yes",
         "Fri",
         "Dinner",
         4,
         1.0,
         3.0,
         0.0,
         0.0,
         {
          "length": 6,
          "values": [
           4.73,
           4.0,
           1.0,
           0.0,
           3.0,
           0.0
          ],
          "vectorType": "dense"
         }
        ],
        [
         27.28,
         4.0,
         "Male",
         "Yes",
         "Fri",
         "Dinner",
         2,
         1.0,
         3.0,
         0.0,
         0.0,
         {
          "length": 6,
          "values": [
           4.0,
           2.0,
           1.0,
           0.0,
           3.0,
           0.0
          ],
          "vectorType": "dense"
         }
        ],
        [
         12.03,
         1.5,
         "Male",
         "Yes",
         "Fri",
         "Dinner",
         2,
         1.0,
         3.0,
         0.0,
         0.0,
         {
          "length": 6,
          "values": [
           1.5,
           2.0,
           1.0,
           0.0,
           3.0,
           0.0
          ],
          "vectorType": "dense"
         }
        ],
        [
         21.01,
         3.0,
         "Male",
         "Yes",
         "Fri",
         "Dinner",
         2,
         1.0,
         3.0,
         0.0,
         0.0,
         {
          "length": 6,
          "values": [
           3.0,
           2.0,
           1.0,
           0.0,
           3.0,
           0.0
          ],
          "vectorType": "dense"
         }
        ],
        [
         12.46,
         1.5,
         "Male",
         "No",
         "Fri",
         "Dinner",
         2,
         0.0,
         3.0,
         0.0,
         0.0,
         {
          "length": 6,
          "values": [
           1.5,
           2.0,
           0.0,
           0.0,
           3.0,
           0.0
          ],
          "vectorType": "dense"
         }
        ],
        [
         11.35,
         2.5,
         "Female",
         "Yes",
         "Fri",
         "Dinner",
         2,
         1.0,
         3.0,
         0.0,
         1.0,
         {
          "length": 6,
          "values": [
           2.5,
           2.0,
           1.0,
           1.0,
           3.0,
           0.0
          ],
          "vectorType": "dense"
         }
        ],
        [
         15.38,
         3.0,
         "Female",
         "Yes",
         "Fri",
         "Dinner",
         2,
         1.0,
         3.0,
         0.0,
         1.0,
         {
          "length": 6,
          "values": [
           3.0,
           2.0,
           1.0,
           1.0,
           3.0,
           0.0
          ],
          "vectorType": "dense"
         }
        ],
        [
         44.3,
         2.5,
         "Female",
         "Yes",
         "Sat",
         "Dinner",
         3,
         1.0,
         0.0,
         0.0,
         1.0,
         {
          "length": 6,
          "values": [
           2.5,
           3.0,
           1.0,
           1.0,
           0.0,
           0.0
          ],
          "vectorType": "dense"
         }
        ],
        [
         22.42,
         3.48,
         "Female",
         "Yes",
         "Sat",
         "Dinner",
         2,
         1.0,
         0.0,
         0.0,
         1.0,
         {
          "length": 6,
          "values": [
           3.48,
           2.0,
           1.0,
           1.0,
           0.0,
           0.0
          ],
          "vectorType": "dense"
         }
        ],
        [
         20.92,
         4.08,
         "Female",
         "No",
         "Sat",
         "Dinner",
         2,
         0.0,
         0.0,
         0.0,
         1.0,
         {
          "length": 6,
          "values": [
           4.08,
           2.0,
           0.0,
           1.0,
           0.0,
           0.0
          ],
          "vectorType": "dense"
         }
        ],
        [
         15.36,
         1.64,
         "Male",
         "Yes",
         "Sat",
         "Dinner",
         2,
         1.0,
         0.0,
         0.0,
         0.0,
         {
          "length": 6,
          "values": [
           1.64,
           2.0,
           1.0,
           0.0,
           0.0,
           0.0
          ],
          "vectorType": "dense"
         }
        ],
        [
         20.49,
         4.06,
         "Male",
         "Yes",
         "Sat",
         "Dinner",
         2,
         1.0,
         0.0,
         0.0,
         0.0,
         {
          "length": 6,
          "values": [
           4.06,
           2.0,
           1.0,
           0.0,
           0.0,
           0.0
          ],
          "vectorType": "dense"
         }
        ],
        [
         25.21,
         4.29,
         "Male",
         "Yes",
         "Sat",
         "Dinner",
         2,
         1.0,
         0.0,
         0.0,
         0.0,
         {
          "length": 6,
          "values": [
           4.29,
           2.0,
           1.0,
           0.0,
           0.0,
           0.0
          ],
          "vectorType": "dense"
         }
        ],
        [
         18.24,
         3.76,
         "Male",
         "No",
         "Sat",
         "Dinner",
         2,
         0.0,
         0.0,
         0.0,
         0.0,
         {
          "indices": [
           0,
           1
          ],
          "length": 6,
          "values": [
           3.76,
           2.0
          ],
          "vectorType": "sparse"
         }
        ],
        [
         14.31,
         4.0,
         "Female",
         "Yes",
         "Sat",
         "Dinner",
         2,
         1.0,
         0.0,
         0.0,
         1.0,
         {
          "length": 6,
          "values": [
           4.0,
           2.0,
           1.0,
           1.0,
           0.0,
           0.0
          ],
          "vectorType": "dense"
         }
        ],
        [
         14.0,
         3.0,
         "Male",
         "No",
         "Sat",
         "Dinner",
         2,
         0.0,
         0.0,
         0.0,
         0.0,
         {
          "indices": [
           0,
           1
          ],
          "length": 6,
          "values": [
           3.0,
           2.0
          ],
          "vectorType": "sparse"
         }
        ],
        [
         7.25,
         1.0,
         "Female",
         "No",
         "Sat",
         "Dinner",
         1,
         0.0,
         0.0,
         0.0,
         1.0,
         {
          "length": 6,
          "values": [
           1.0,
           1.0,
           0.0,
           1.0,
           0.0,
           0.0
          ],
          "vectorType": "dense"
         }
        ],
        [
         38.07,
         4.0,
         "Male",
         "No",
         "Sun",
         "Dinner",
         3,
         0.0,
         1.0,
         0.0,
         0.0,
         {
          "length": 6,
          "values": [
           4.0,
           3.0,
           0.0,
           0.0,
           1.0,
           0.0
          ],
          "vectorType": "dense"
         }
        ],
        [
         23.95,
         2.55,
         "Male",
         "No",
         "Sun",
         "Dinner",
         2,
         0.0,
         1.0,
         0.0,
         0.0,
         {
          "length": 6,
          "values": [
           2.55,
           2.0,
           0.0,
           0.0,
           1.0,
           0.0
          ],
          "vectorType": "dense"
         }
        ],
        [
         25.71,
         4.0,
         "Female",
         "No",
         "Sun",
         "Dinner",
         3,
         0.0,
         1.0,
         0.0,
         1.0,
         {
          "length": 6,
          "values": [
           4.0,
           3.0,
           0.0,
           1.0,
           1.0,
           0.0
          ],
          "vectorType": "dense"
         }
        ],
        [
         17.31,
         3.5,
         "Female",
         "No",
         "Sun",
         "Dinner",
         2,
         0.0,
         1.0,
         0.0,
         1.0,
         {
          "length": 6,
          "values": [
           3.5,
           2.0,
           0.0,
           1.0,
           1.0,
           0.0
          ],
          "vectorType": "dense"
         }
        ],
        [
         29.93,
         5.07,
         "Male",
         "No",
         "Sun",
         "Dinner",
         4,
         0.0,
         1.0,
         0.0,
         0.0,
         {
          "length": 6,
          "values": [
           5.07,
           4.0,
           0.0,
           0.0,
           1.0,
           0.0
          ],
          "vectorType": "dense"
         }
        ],
        [
         10.65,
         1.5,
         "Female",
         "No",
         "Thur",
         "Lunch",
         2,
         0.0,
         2.0,
         1.0,
         1.0,
         {
          "length": 6,
          "values": [
           1.5,
           2.0,
           0.0,
           1.0,
           2.0,
           1.0
          ],
          "vectorType": "dense"
         }
        ],
        [
         12.43,
         1.8,
         "Female",
         "No",
         "Thur",
         "Lunch",
         2,
         0.0,
         2.0,
         1.0,
         1.0,
         {
          "length": 6,
          "values": [
           1.8,
           2.0,
           0.0,
           1.0,
           2.0,
           1.0
          ],
          "vectorType": "dense"
         }
        ],
        [
         24.08,
         2.92,
         "Female",
         "No",
         "Thur",
         "Lunch",
         4,
         0.0,
         2.0,
         1.0,
         1.0,
         {
          "length": 6,
          "values": [
           2.92,
           4.0,
           0.0,
           1.0,
           2.0,
           1.0
          ],
          "vectorType": "dense"
         }
        ],
        [
         11.69,
         2.31,
         "Male",
         "No",
         "Thur",
         "Lunch",
         2,
         0.0,
         2.0,
         1.0,
         0.0,
         {
          "length": 6,
          "values": [
           2.31,
           2.0,
           0.0,
           0.0,
           2.0,
           1.0
          ],
          "vectorType": "dense"
         }
        ],
        [
         13.42,
         1.68,
         "Female",
         "No",
         "Thur",
         "Lunch",
         2,
         0.0,
         2.0,
         1.0,
         1.0,
         {
          "length": 6,
          "values": [
           1.68,
           2.0,
           0.0,
           1.0,
           2.0,
           1.0
          ],
          "vectorType": "dense"
         }
        ],
        [
         14.26,
         2.5,
         "Male",
         "No",
         "Thur",
         "Lunch",
         2,
         0.0,
         2.0,
         1.0,
         0.0,
         {
          "length": 6,
          "values": [
           2.5,
           2.0,
           0.0,
           0.0,
           2.0,
           1.0
          ],
          "vectorType": "dense"
         }
        ],
        [
         15.95,
         2.0,
         "Male",
         "No",
         "Thur",
         "Lunch",
         2,
         0.0,
         2.0,
         1.0,
         0.0,
         {
          "length": 6,
          "values": [
           2.0,
           2.0,
           0.0,
           0.0,
           2.0,
           1.0
          ],
          "vectorType": "dense"
         }
        ],
        [
         12.48,
         2.52,
         "Female",
         "No",
         "Thur",
         "Lunch",
         2,
         0.0,
         2.0,
         1.0,
         1.0,
         {
          "length": 6,
          "values": [
           2.52,
           2.0,
           0.0,
           1.0,
           2.0,
           1.0
          ],
          "vectorType": "dense"
         }
        ],
        [
         29.8,
         4.2,
         "Female",
         "No",
         "Thur",
         "Lunch",
         6,
         0.0,
         2.0,
         1.0,
         1.0,
         {
          "length": 6,
          "values": [
           4.2,
           6.0,
           0.0,
           1.0,
           2.0,
           1.0
          ],
          "vectorType": "dense"
         }
        ],
        [
         8.52,
         1.48,
         "Male",
         "No",
         "Thur",
         "Lunch",
         2,
         0.0,
         2.0,
         1.0,
         0.0,
         {
          "length": 6,
          "values": [
           1.48,
           2.0,
           0.0,
           0.0,
           2.0,
           1.0
          ],
          "vectorType": "dense"
         }
        ],
        [
         14.52,
         2.0,
         "Female",
         "No",
         "Thur",
         "Lunch",
         2,
         0.0,
         2.0,
         1.0,
         1.0,
         {
          "length": 6,
          "values": [
           2.0,
           2.0,
           0.0,
           1.0,
           2.0,
           1.0
          ],
          "vectorType": "dense"
         }
        ],
        [
         11.38,
         2.0,
         "Female",
         "No",
         "Thur",
         "Lunch",
         2,
         0.0,
         2.0,
         1.0,
         1.0,
         {
          "length": 6,
          "values": [
           2.0,
           2.0,
           0.0,
           1.0,
           2.0,
           1.0
          ],
          "vectorType": "dense"
         }
        ],
        [
         22.82,
         2.18,
         "Male",
         "No",
         "Thur",
         "Lunch",
         3,
         0.0,
         2.0,
         1.0,
         0.0,
         {
          "length": 6,
          "values": [
           2.18,
           3.0,
           0.0,
           0.0,
           2.0,
           1.0
          ],
          "vectorType": "dense"
         }
        ],
        [
         19.08,
         1.5,
         "Male",
         "No",
         "Thur",
         "Lunch",
         2,
         0.0,
         2.0,
         1.0,
         0.0,
         {
          "length": 6,
          "values": [
           1.5,
           2.0,
           0.0,
           0.0,
           2.0,
           1.0
          ],
          "vectorType": "dense"
         }
        ],
        [
         20.27,
         2.83,
         "Female",
         "No",
         "Thur",
         "Lunch",
         2,
         0.0,
         2.0,
         1.0,
         1.0,
         {
          "length": 6,
          "values": [
           2.83,
           2.0,
           0.0,
           1.0,
           2.0,
           1.0
          ],
          "vectorType": "dense"
         }
        ],
        [
         11.17,
         1.5,
         "Female",
         "No",
         "Thur",
         "Lunch",
         2,
         0.0,
         2.0,
         1.0,
         1.0,
         {
          "length": 6,
          "values": [
           1.5,
           2.0,
           0.0,
           1.0,
           2.0,
           1.0
          ],
          "vectorType": "dense"
         }
        ],
        [
         12.26,
         2.0,
         "Female",
         "No",
         "Thur",
         "Lunch",
         2,
         0.0,
         2.0,
         1.0,
         1.0,
         {
          "length": 6,
          "values": [
           2.0,
           2.0,
           0.0,
           1.0,
           2.0,
           1.0
          ],
          "vectorType": "dense"
         }
        ],
        [
         18.26,
         3.25,
         "Female",
         "No",
         "Thur",
         "Lunch",
         2,
         0.0,
         2.0,
         1.0,
         1.0,
         {
          "length": 6,
          "values": [
           3.25,
           2.0,
           0.0,
           1.0,
           2.0,
           1.0
          ],
          "vectorType": "dense"
         }
        ],
        [
         8.51,
         1.25,
         "Female",
         "No",
         "Thur",
         "Lunch",
         2,
         0.0,
         2.0,
         1.0,
         1.0,
         {
          "length": 6,
          "values": [
           1.25,
           2.0,
           0.0,
           1.0,
           2.0,
           1.0
          ],
          "vectorType": "dense"
         }
        ],
        [
         10.33,
         2.0,
         "Female",
         "No",
         "Thur",
         "Lunch",
         2,
         0.0,
         2.0,
         1.0,
         1.0,
         {
          "length": 6,
          "values": [
           2.0,
           2.0,
           0.0,
           1.0,
           2.0,
           1.0
          ],
          "vectorType": "dense"
         }
        ],
        [
         14.15,
         2.0,
         "Female",
         "No",
         "Thur",
         "Lunch",
         2,
         0.0,
         2.0,
         1.0,
         1.0,
         {
          "length": 6,
          "values": [
           2.0,
           2.0,
           0.0,
           1.0,
           2.0,
           1.0
          ],
          "vectorType": "dense"
         }
        ],
        [
         16.0,
         2.0,
         "Male",
         "Yes",
         "Thur",
         "Lunch",
         2,
         1.0,
         2.0,
         1.0,
         0.0,
         {
          "length": 6,
          "values": [
           2.0,
           2.0,
           1.0,
           0.0,
           2.0,
           1.0
          ],
          "vectorType": "dense"
         }
        ],
        [
         13.16,
         2.75,
         "Female",
         "No",
         "Thur",
         "Lunch",
         2,
         0.0,
         2.0,
         1.0,
         1.0,
         {
          "length": 6,
          "values": [
           2.75,
           2.0,
           0.0,
           1.0,
           2.0,
           1.0
          ],
          "vectorType": "dense"
         }
        ],
        [
         17.47,
         3.5,
         "Female",
         "No",
         "Thur",
         "Lunch",
         2,
         0.0,
         2.0,
         1.0,
         1.0,
         {
          "length": 6,
          "values": [
           3.5,
           2.0,
           0.0,
           1.0,
           2.0,
           1.0
          ],
          "vectorType": "dense"
         }
        ],
        [
         34.3,
         6.7,
         "Male",
         "No",
         "Thur",
         "Lunch",
         6,
         0.0,
         2.0,
         1.0,
         0.0,
         {
          "length": 6,
          "values": [
           6.7,
           6.0,
           0.0,
           0.0,
           2.0,
           1.0
          ],
          "vectorType": "dense"
         }
        ],
        [
         41.19,
         5.0,
         "Male",
         "No",
         "Thur",
         "Lunch",
         5,
         0.0,
         2.0,
         1.0,
         0.0,
         {
          "length": 6,
          "values": [
           5.0,
           5.0,
           0.0,
           0.0,
           2.0,
           1.0
          ],
          "vectorType": "dense"
         }
        ],
        [
         27.05,
         5.0,
         "Female",
         "No",
         "Thur",
         "Lunch",
         6,
         0.0,
         2.0,
         1.0,
         1.0,
         {
          "length": 6,
          "values": [
           5.0,
           6.0,
           0.0,
           1.0,
           2.0,
           1.0
          ],
          "vectorType": "dense"
         }
        ],
        [
         16.43,
         2.3,
         "Female",
         "No",
         "Thur",
         "Lunch",
         2,
         0.0,
         2.0,
         1.0,
         1.0,
         {
          "length": 6,
          "values": [
           2.3,
           2.0,
           0.0,
           1.0,
           2.0,
           1.0
          ],
          "vectorType": "dense"
         }
        ],
        [
         8.35,
         1.5,
         "Female",
         "No",
         "Thur",
         "Lunch",
         2,
         0.0,
         2.0,
         1.0,
         1.0,
         {
          "length": 6,
          "values": [
           1.5,
           2.0,
           0.0,
           1.0,
           2.0,
           1.0
          ],
          "vectorType": "dense"
         }
        ],
        [
         18.64,
         1.36,
         "Female",
         "No",
         "Thur",
         "Lunch",
         3,
         0.0,
         2.0,
         1.0,
         1.0,
         {
          "length": 6,
          "values": [
           1.36,
           3.0,
           0.0,
           1.0,
           2.0,
           1.0
          ],
          "vectorType": "dense"
         }
        ],
        [
         11.87,
         1.63,
         "Female",
         "No",
         "Thur",
         "Lunch",
         2,
         0.0,
         2.0,
         1.0,
         1.0,
         {
          "length": 6,
          "values": [
           1.63,
           2.0,
           0.0,
           1.0,
           2.0,
           1.0
          ],
          "vectorType": "dense"
         }
        ],
        [
         9.78,
         1.73,
         "Male",
         "No",
         "Thur",
         "Lunch",
         2,
         0.0,
         2.0,
         1.0,
         0.0,
         {
          "length": 6,
          "values": [
           1.73,
           2.0,
           0.0,
           0.0,
           2.0,
           1.0
          ],
          "vectorType": "dense"
         }
        ],
        [
         7.51,
         2.0,
         "Male",
         "No",
         "Thur",
         "Lunch",
         2,
         0.0,
         2.0,
         1.0,
         0.0,
         {
          "length": 6,
          "values": [
           2.0,
           2.0,
           0.0,
           0.0,
           2.0,
           1.0
          ],
          "vectorType": "dense"
         }
        ],
        [
         14.07,
         2.5,
         "Male",
         "No",
         "Sun",
         "Dinner",
         2,
         0.0,
         1.0,
         0.0,
         0.0,
         {
          "length": 6,
          "values": [
           2.5,
           2.0,
           0.0,
           0.0,
           1.0,
           0.0
          ],
          "vectorType": "dense"
         }
        ],
        [
         13.13,
         2.0,
         "Male",
         "No",
         "Sun",
         "Dinner",
         2,
         0.0,
         1.0,
         0.0,
         0.0,
         {
          "length": 6,
          "values": [
           2.0,
           2.0,
           0.0,
           0.0,
           1.0,
           0.0
          ],
          "vectorType": "dense"
         }
        ],
        [
         17.26,
         2.74,
         "Male",
         "No",
         "Sun",
         "Dinner",
         3,
         0.0,
         1.0,
         0.0,
         0.0,
         {
          "length": 6,
          "values": [
           2.74,
           3.0,
           0.0,
           0.0,
           1.0,
           0.0
          ],
          "vectorType": "dense"
         }
        ],
        [
         24.55,
         2.0,
         "Male",
         "No",
         "Sun",
         "Dinner",
         4,
         0.0,
         1.0,
         0.0,
         0.0,
         {
          "length": 6,
          "values": [
           2.0,
           4.0,
           0.0,
           0.0,
           1.0,
           0.0
          ],
          "vectorType": "dense"
         }
        ],
        [
         19.77,
         2.0,
         "Male",
         "No",
         "Sun",
         "Dinner",
         4,
         0.0,
         1.0,
         0.0,
         0.0,
         {
          "length": 6,
          "values": [
           2.0,
           4.0,
           0.0,
           0.0,
           1.0,
           0.0
          ],
          "vectorType": "dense"
         }
        ],
        [
         29.85,
         5.14,
         "Female",
         "No",
         "Sun",
         "Dinner",
         5,
         0.0,
         1.0,
         0.0,
         1.0,
         {
          "length": 6,
          "values": [
           5.14,
           5.0,
           0.0,
           1.0,
           1.0,
           0.0
          ],
          "vectorType": "dense"
         }
        ],
        [
         48.17,
         5.0,
         "Male",
         "No",
         "Sun",
         "Dinner",
         6,
         0.0,
         1.0,
         0.0,
         0.0,
         {
          "length": 6,
          "values": [
           5.0,
           6.0,
           0.0,
           0.0,
           1.0,
           0.0
          ],
          "vectorType": "dense"
         }
        ],
        [
         25.0,
         3.75,
         "Female",
         "No",
         "Sun",
         "Dinner",
         4,
         0.0,
         1.0,
         0.0,
         1.0,
         {
          "length": 6,
          "values": [
           3.75,
           4.0,
           0.0,
           1.0,
           1.0,
           0.0
          ],
          "vectorType": "dense"
         }
        ],
        [
         13.39,
         2.61,
         "Female",
         "No",
         "Sun",
         "Dinner",
         2,
         0.0,
         1.0,
         0.0,
         1.0,
         {
          "length": 6,
          "values": [
           2.61,
           2.0,
           0.0,
           1.0,
           1.0,
           0.0
          ],
          "vectorType": "dense"
         }
        ],
        [
         16.49,
         2.0,
         "Male",
         "No",
         "Sun",
         "Dinner",
         4,
         0.0,
         1.0,
         0.0,
         0.0,
         {
          "length": 6,
          "values": [
           2.0,
           4.0,
           0.0,
           0.0,
           1.0,
           0.0
          ],
          "vectorType": "dense"
         }
        ],
        [
         21.5,
         3.5,
         "Male",
         "No",
         "Sun",
         "Dinner",
         4,
         0.0,
         1.0,
         0.0,
         0.0,
         {
          "length": 6,
          "values": [
           3.5,
           4.0,
           0.0,
           0.0,
           1.0,
           0.0
          ],
          "vectorType": "dense"
         }
        ],
        [
         12.66,
         2.5,
         "Male",
         "No",
         "Sun",
         "Dinner",
         2,
         0.0,
         1.0,
         0.0,
         0.0,
         {
          "length": 6,
          "values": [
           2.5,
           2.0,
           0.0,
           0.0,
           1.0,
           0.0
          ],
          "vectorType": "dense"
         }
        ],
        [
         16.21,
         2.0,
         "Female",
         "No",
         "Sun",
         "Dinner",
         3,
         0.0,
         1.0,
         0.0,
         1.0,
         {
          "length": 6,
          "values": [
           2.0,
           3.0,
           0.0,
           1.0,
           1.0,
           0.0
          ],
          "vectorType": "dense"
         }
        ],
        [
         13.81,
         2.0,
         "Male",
         "No",
         "Sun",
         "Dinner",
         2,
         0.0,
         1.0,
         0.0,
         0.0,
         {
          "length": 6,
          "values": [
           2.0,
           2.0,
           0.0,
           0.0,
           1.0,
           0.0
          ],
          "vectorType": "dense"
         }
        ],
        [
         17.51,
         3.0,
         "Female",
         "Yes",
         "Sun",
         "Dinner",
         2,
         1.0,
         1.0,
         0.0,
         1.0,
         {
          "length": 6,
          "values": [
           3.0,
           2.0,
           1.0,
           1.0,
           1.0,
           0.0
          ],
          "vectorType": "dense"
         }
        ],
        [
         24.52,
         3.48,
         "Male",
         "No",
         "Sun",
         "Dinner",
         3,
         0.0,
         1.0,
         0.0,
         0.0,
         {
          "length": 6,
          "values": [
           3.48,
           3.0,
           0.0,
           0.0,
           1.0,
           0.0
          ],
          "vectorType": "dense"
         }
        ],
        [
         20.76,
         2.24,
         "Male",
         "No",
         "Sun",
         "Dinner",
         2,
         0.0,
         1.0,
         0.0,
         0.0,
         {
          "length": 6,
          "values": [
           2.24,
           2.0,
           0.0,
           0.0,
           1.0,
           0.0
          ],
          "vectorType": "dense"
         }
        ],
        [
         31.71,
         4.5,
         "Male",
         "No",
         "Sun",
         "Dinner",
         4,
         0.0,
         1.0,
         0.0,
         0.0,
         {
          "length": 6,
          "values": [
           4.5,
           4.0,
           0.0,
           0.0,
           1.0,
           0.0
          ],
          "vectorType": "dense"
         }
        ],
        [
         10.59,
         1.61,
         "Female",
         "Yes",
         "Sat",
         "Dinner",
         2,
         1.0,
         0.0,
         0.0,
         1.0,
         {
          "length": 6,
          "values": [
           1.61,
           2.0,
           1.0,
           1.0,
           0.0,
           0.0
          ],
          "vectorType": "dense"
         }
        ],
        [
         10.63,
         2.0,
         "Female",
         "Yes",
         "Sat",
         "Dinner",
         2,
         1.0,
         0.0,
         0.0,
         1.0,
         {
          "length": 6,
          "values": [
           2.0,
           2.0,
           1.0,
           1.0,
           0.0,
           0.0
          ],
          "vectorType": "dense"
         }
        ],
        [
         50.81,
         10.0,
         "Male",
         "Yes",
         "Sat",
         "Dinner",
         3,
         1.0,
         0.0,
         0.0,
         0.0,
         {
          "length": 6,
          "values": [
           10.0,
           3.0,
           1.0,
           0.0,
           0.0,
           0.0
          ],
          "vectorType": "dense"
         }
        ],
        [
         15.81,
         3.16,
         "Male",
         "Yes",
         "Sat",
         "Dinner",
         2,
         1.0,
         0.0,
         0.0,
         0.0,
         {
          "length": 6,
          "values": [
           3.16,
           2.0,
           1.0,
           0.0,
           0.0,
           0.0
          ],
          "vectorType": "dense"
         }
        ],
        [
         7.25,
         5.15,
         "Male",
         "Yes",
         "Sun",
         "Dinner",
         2,
         1.0,
         1.0,
         0.0,
         0.0,
         {
          "length": 6,
          "values": [
           5.15,
           2.0,
           1.0,
           0.0,
           1.0,
           0.0
          ],
          "vectorType": "dense"
         }
        ],
        [
         31.85,
         3.18,
         "Male",
         "Yes",
         "Sun",
         "Dinner",
         2,
         1.0,
         1.0,
         0.0,
         0.0,
         {
          "length": 6,
          "values": [
           3.18,
           2.0,
           1.0,
           0.0,
           1.0,
           0.0
          ],
          "vectorType": "dense"
         }
        ],
        [
         16.82,
         4.0,
         "Male",
         "Yes",
         "Sun",
         "Dinner",
         2,
         1.0,
         1.0,
         0.0,
         0.0,
         {
          "length": 6,
          "values": [
           4.0,
           2.0,
           1.0,
           0.0,
           1.0,
           0.0
          ],
          "vectorType": "dense"
         }
        ],
        [
         32.9,
         3.11,
         "Male",
         "Yes",
         "Sun",
         "Dinner",
         2,
         1.0,
         1.0,
         0.0,
         0.0,
         {
          "length": 6,
          "values": [
           3.11,
           2.0,
           1.0,
           0.0,
           1.0,
           0.0
          ],
          "vectorType": "dense"
         }
        ],
        [
         17.89,
         2.0,
         "Male",
         "Yes",
         "Sun",
         "Dinner",
         2,
         1.0,
         1.0,
         0.0,
         0.0,
         {
          "length": 6,
          "values": [
           2.0,
           2.0,
           1.0,
           0.0,
           1.0,
           0.0
          ],
          "vectorType": "dense"
         }
        ],
        [
         14.48,
         2.0,
         "Male",
         "Yes",
         "Sun",
         "Dinner",
         2,
         1.0,
         1.0,
         0.0,
         0.0,
         {
          "length": 6,
          "values": [
           2.0,
           2.0,
           1.0,
           0.0,
           1.0,
           0.0
          ],
          "vectorType": "dense"
         }
        ],
        [
         9.6,
         4.0,
         "Female",
         "Yes",
         "Sun",
         "Dinner",
         2,
         1.0,
         1.0,
         0.0,
         1.0,
         {
          "length": 6,
          "values": [
           4.0,
           2.0,
           1.0,
           1.0,
           1.0,
           0.0
          ],
          "vectorType": "dense"
         }
        ],
        [
         34.63,
         3.55,
         "Male",
         "Yes",
         "Sun",
         "Dinner",
         2,
         1.0,
         1.0,
         0.0,
         0.0,
         {
          "length": 6,
          "values": [
           3.55,
           2.0,
           1.0,
           0.0,
           1.0,
           0.0
          ],
          "vectorType": "dense"
         }
        ],
        [
         34.65,
         3.68,
         "Male",
         "Yes",
         "Sun",
         "Dinner",
         4,
         1.0,
         1.0,
         0.0,
         0.0,
         {
          "length": 6,
          "values": [
           3.68,
           4.0,
           1.0,
           0.0,
           1.0,
           0.0
          ],
          "vectorType": "dense"
         }
        ],
        [
         23.33,
         5.65,
         "Male",
         "Yes",
         "Sun",
         "Dinner",
         2,
         1.0,
         1.0,
         0.0,
         0.0,
         {
          "length": 6,
          "values": [
           5.65,
           2.0,
           1.0,
           0.0,
           1.0,
           0.0
          ],
          "vectorType": "dense"
         }
        ],
        [
         45.35,
         3.5,
         "Male",
         "Yes",
         "Sun",
         "Dinner",
         3,
         1.0,
         1.0,
         0.0,
         0.0,
         {
          "length": 6,
          "values": [
           3.5,
           3.0,
           1.0,
           0.0,
           1.0,
           0.0
          ],
          "vectorType": "dense"
         }
        ],
        [
         23.17,
         6.5,
         "Male",
         "Yes",
         "Sun",
         "Dinner",
         4,
         1.0,
         1.0,
         0.0,
         0.0,
         {
          "length": 6,
          "values": [
           6.5,
           4.0,
           1.0,
           0.0,
           1.0,
           0.0
          ],
          "vectorType": "dense"
         }
        ],
        [
         40.55,
         3.0,
         "Male",
         "Yes",
         "Sun",
         "Dinner",
         2,
         1.0,
         1.0,
         0.0,
         0.0,
         {
          "length": 6,
          "values": [
           3.0,
           2.0,
           1.0,
           0.0,
           1.0,
           0.0
          ],
          "vectorType": "dense"
         }
        ],
        [
         20.69,
         5.0,
         "Male",
         "No",
         "Sun",
         "Dinner",
         5,
         0.0,
         1.0,
         0.0,
         0.0,
         {
          "length": 6,
          "values": [
           5.0,
           5.0,
           0.0,
           0.0,
           1.0,
           0.0
          ],
          "vectorType": "dense"
         }
        ],
        [
         20.9,
         3.5,
         "Female",
         "Yes",
         "Sun",
         "Dinner",
         3,
         1.0,
         1.0,
         0.0,
         1.0,
         {
          "length": 6,
          "values": [
           3.5,
           3.0,
           1.0,
           1.0,
           1.0,
           0.0
          ],
          "vectorType": "dense"
         }
        ],
        [
         30.46,
         2.0,
         "Male",
         "Yes",
         "Sun",
         "Dinner",
         5,
         1.0,
         1.0,
         0.0,
         0.0,
         {
          "length": 6,
          "values": [
           2.0,
           5.0,
           1.0,
           0.0,
           1.0,
           0.0
          ],
          "vectorType": "dense"
         }
        ],
        [
         18.15,
         3.5,
         "Female",
         "Yes",
         "Sun",
         "Dinner",
         3,
         1.0,
         1.0,
         0.0,
         1.0,
         {
          "length": 6,
          "values": [
           3.5,
           3.0,
           1.0,
           1.0,
           1.0,
           0.0
          ],
          "vectorType": "dense"
         }
        ],
        [
         23.1,
         4.0,
         "Male",
         "Yes",
         "Sun",
         "Dinner",
         3,
         1.0,
         1.0,
         0.0,
         0.0,
         {
          "length": 6,
          "values": [
           4.0,
           3.0,
           1.0,
           0.0,
           1.0,
           0.0
          ],
          "vectorType": "dense"
         }
        ],
        [
         15.69,
         1.5,
         "Male",
         "Yes",
         "Sun",
         "Dinner",
         2,
         1.0,
         1.0,
         0.0,
         0.0,
         {
          "length": 6,
          "values": [
           1.5,
           2.0,
           1.0,
           0.0,
           1.0,
           0.0
          ],
          "vectorType": "dense"
         }
        ],
        [
         19.81,
         4.19,
         "Female",
         "Yes",
         "Thur",
         "Lunch",
         2,
         1.0,
         2.0,
         1.0,
         1.0,
         {
          "length": 6,
          "values": [
           4.19,
           2.0,
           1.0,
           1.0,
           2.0,
           1.0
          ],
          "vectorType": "dense"
         }
        ],
        [
         28.44,
         2.56,
         "Male",
         "Yes",
         "Thur",
         "Lunch",
         2,
         1.0,
         2.0,
         1.0,
         0.0,
         {
          "length": 6,
          "values": [
           2.56,
           2.0,
           1.0,
           0.0,
           2.0,
           1.0
          ],
          "vectorType": "dense"
         }
        ],
        [
         15.48,
         2.02,
         "Male",
         "Yes",
         "Thur",
         "Lunch",
         2,
         1.0,
         2.0,
         1.0,
         0.0,
         {
          "length": 6,
          "values": [
           2.02,
           2.0,
           1.0,
           0.0,
           2.0,
           1.0
          ],
          "vectorType": "dense"
         }
        ],
        [
         16.58,
         4.0,
         "Male",
         "Yes",
         "Thur",
         "Lunch",
         2,
         1.0,
         2.0,
         1.0,
         0.0,
         {
          "length": 6,
          "values": [
           4.0,
           2.0,
           1.0,
           0.0,
           2.0,
           1.0
          ],
          "vectorType": "dense"
         }
        ],
        [
         7.56,
         1.44,
         "Male",
         "No",
         "Thur",
         "Lunch",
         2,
         0.0,
         2.0,
         1.0,
         0.0,
         {
          "length": 6,
          "values": [
           1.44,
           2.0,
           0.0,
           0.0,
           2.0,
           1.0
          ],
          "vectorType": "dense"
         }
        ],
        [
         10.34,
         2.0,
         "Male",
         "Yes",
         "Thur",
         "Lunch",
         2,
         1.0,
         2.0,
         1.0,
         0.0,
         {
          "length": 6,
          "values": [
           2.0,
           2.0,
           1.0,
           0.0,
           2.0,
           1.0
          ],
          "vectorType": "dense"
         }
        ],
        [
         43.11,
         5.0,
         "Female",
         "Yes",
         "Thur",
         "Lunch",
         4,
         1.0,
         2.0,
         1.0,
         1.0,
         {
          "length": 6,
          "values": [
           5.0,
           4.0,
           1.0,
           1.0,
           2.0,
           1.0
          ],
          "vectorType": "dense"
         }
        ],
        [
         13.0,
         2.0,
         "Female",
         "Yes",
         "Thur",
         "Lunch",
         2,
         1.0,
         2.0,
         1.0,
         1.0,
         {
          "length": 6,
          "values": [
           2.0,
           2.0,
           1.0,
           1.0,
           2.0,
           1.0
          ],
          "vectorType": "dense"
         }
        ],
        [
         13.51,
         2.0,
         "Male",
         "Yes",
         "Thur",
         "Lunch",
         2,
         1.0,
         2.0,
         1.0,
         0.0,
         {
          "length": 6,
          "values": [
           2.0,
           2.0,
           1.0,
           0.0,
           2.0,
           1.0
          ],
          "vectorType": "dense"
         }
        ],
        [
         18.71,
         4.0,
         "Male",
         "Yes",
         "Thur",
         "Lunch",
         3,
         1.0,
         2.0,
         1.0,
         0.0,
         {
          "length": 6,
          "values": [
           4.0,
           3.0,
           1.0,
           0.0,
           2.0,
           1.0
          ],
          "vectorType": "dense"
         }
        ],
        [
         12.74,
         2.01,
         "Female",
         "Yes",
         "Thur",
         "Lunch",
         2,
         1.0,
         2.0,
         1.0,
         1.0,
         {
          "length": 6,
          "values": [
           2.01,
           2.0,
           1.0,
           1.0,
           2.0,
           1.0
          ],
          "vectorType": "dense"
         }
        ],
        [
         13.0,
         2.0,
         "Female",
         "Yes",
         "Thur",
         "Lunch",
         2,
         1.0,
         2.0,
         1.0,
         1.0,
         {
          "length": 6,
          "values": [
           2.0,
           2.0,
           1.0,
           1.0,
           2.0,
           1.0
          ],
          "vectorType": "dense"
         }
        ],
        [
         16.4,
         2.5,
         "Female",
         "Yes",
         "Thur",
         "Lunch",
         2,
         1.0,
         2.0,
         1.0,
         1.0,
         {
          "length": 6,
          "values": [
           2.5,
           2.0,
           1.0,
           1.0,
           2.0,
           1.0
          ],
          "vectorType": "dense"
         }
        ],
        [
         20.53,
         4.0,
         "Male",
         "Yes",
         "Thur",
         "Lunch",
         4,
         1.0,
         2.0,
         1.0,
         0.0,
         {
          "length": 6,
          "values": [
           4.0,
           4.0,
           1.0,
           0.0,
           2.0,
           1.0
          ],
          "vectorType": "dense"
         }
        ],
        [
         16.47,
         3.23,
         "Female",
         "Yes",
         "Thur",
         "Lunch",
         3,
         1.0,
         2.0,
         1.0,
         1.0,
         {
          "length": 6,
          "values": [
           3.23,
           3.0,
           1.0,
           1.0,
           2.0,
           1.0
          ],
          "vectorType": "dense"
         }
        ],
        [
         26.59,
         3.41,
         "Male",
         "Yes",
         "Sat",
         "Dinner",
         3,
         1.0,
         0.0,
         0.0,
         0.0,
         {
          "length": 6,
          "values": [
           3.41,
           3.0,
           1.0,
           0.0,
           0.0,
           0.0
          ],
          "vectorType": "dense"
         }
        ],
        [
         38.73,
         3.0,
         "Male",
         "Yes",
         "Sat",
         "Dinner",
         4,
         1.0,
         0.0,
         0.0,
         0.0,
         {
          "length": 6,
          "values": [
           3.0,
           4.0,
           1.0,
           0.0,
           0.0,
           0.0
          ],
          "vectorType": "dense"
         }
        ],
        [
         24.27,
         2.03,
         "Male",
         "Yes",
         "Sat",
         "Dinner",
         2,
         1.0,
         0.0,
         0.0,
         0.0,
         {
          "length": 6,
          "values": [
           2.03,
           2.0,
           1.0,
           0.0,
           0.0,
           0.0
          ],
          "vectorType": "dense"
         }
        ],
        [
         12.76,
         2.23,
         "Female",
         "Yes",
         "Sat",
         "Dinner",
         2,
         1.0,
         0.0,
         0.0,
         1.0,
         {
          "length": 6,
          "values": [
           2.23,
           2.0,
           1.0,
           1.0,
           0.0,
           0.0
          ],
          "vectorType": "dense"
         }
        ],
        [
         30.06,
         2.0,
         "Male",
         "Yes",
         "Sat",
         "Dinner",
         3,
         1.0,
         0.0,
         0.0,
         0.0,
         {
          "length": 6,
          "values": [
           2.0,
           3.0,
           1.0,
           0.0,
           0.0,
           0.0
          ],
          "vectorType": "dense"
         }
        ],
        [
         25.89,
         5.16,
         "Male",
         "Yes",
         "Sat",
         "Dinner",
         4,
         1.0,
         0.0,
         0.0,
         0.0,
         {
          "length": 6,
          "values": [
           5.16,
           4.0,
           1.0,
           0.0,
           0.0,
           0.0
          ],
          "vectorType": "dense"
         }
        ],
        [
         48.33,
         9.0,
         "Male",
         "No",
         "Sat",
         "Dinner",
         4,
         0.0,
         0.0,
         0.0,
         0.0,
         {
          "indices": [
           0,
           1
          ],
          "length": 6,
          "values": [
           9.0,
           4.0
          ],
          "vectorType": "sparse"
         }
        ],
        [
         13.27,
         2.5,
         "Female",
         "Yes",
         "Sat",
         "Dinner",
         2,
         1.0,
         0.0,
         0.0,
         1.0,
         {
          "length": 6,
          "values": [
           2.5,
           2.0,
           1.0,
           1.0,
           0.0,
           0.0
          ],
          "vectorType": "dense"
         }
        ],
        [
         28.17,
         6.5,
         "Female",
         "Yes",
         "Sat",
         "Dinner",
         3,
         1.0,
         0.0,
         0.0,
         1.0,
         {
          "length": 6,
          "values": [
           6.5,
           3.0,
           1.0,
           1.0,
           0.0,
           0.0
          ],
          "vectorType": "dense"
         }
        ],
        [
         12.9,
         1.1,
         "Female",
         "Yes",
         "Sat",
         "Dinner",
         2,
         1.0,
         0.0,
         0.0,
         1.0,
         {
          "length": 6,
          "values": [
           1.1,
           2.0,
           1.0,
           1.0,
           0.0,
           0.0
          ],
          "vectorType": "dense"
         }
        ],
        [
         28.15,
         3.0,
         "Male",
         "Yes",
         "Sat",
         "Dinner",
         5,
         1.0,
         0.0,
         0.0,
         0.0,
         {
          "length": 6,
          "values": [
           3.0,
           5.0,
           1.0,
           0.0,
           0.0,
           0.0
          ],
          "vectorType": "dense"
         }
        ],
        [
         11.59,
         1.5,
         "Male",
         "Yes",
         "Sat",
         "Dinner",
         2,
         1.0,
         0.0,
         0.0,
         0.0,
         {
          "length": 6,
          "values": [
           1.5,
           2.0,
           1.0,
           0.0,
           0.0,
           0.0
          ],
          "vectorType": "dense"
         }
        ],
        [
         7.74,
         1.44,
         "Male",
         "Yes",
         "Sat",
         "Dinner",
         2,
         1.0,
         0.0,
         0.0,
         0.0,
         {
          "length": 6,
          "values": [
           1.44,
           2.0,
           1.0,
           0.0,
           0.0,
           0.0
          ],
          "vectorType": "dense"
         }
        ],
        [
         30.14,
         3.09,
         "Female",
         "Yes",
         "Sat",
         "Dinner",
         4,
         1.0,
         0.0,
         0.0,
         1.0,
         {
          "length": 6,
          "values": [
           3.09,
           4.0,
           1.0,
           1.0,
           0.0,
           0.0
          ],
          "vectorType": "dense"
         }
        ],
        [
         12.16,
         2.2,
         "Male",
         "Yes",
         "Fri",
         "Lunch",
         2,
         1.0,
         3.0,
         1.0,
         0.0,
         {
          "length": 6,
          "values": [
           2.2,
           2.0,
           1.0,
           0.0,
           3.0,
           1.0
          ],
          "vectorType": "dense"
         }
        ],
        [
         13.42,
         3.48,
         "Female",
         "Yes",
         "Fri",
         "Lunch",
         2,
         1.0,
         3.0,
         1.0,
         1.0,
         {
          "length": 6,
          "values": [
           3.48,
           2.0,
           1.0,
           1.0,
           3.0,
           1.0
          ],
          "vectorType": "dense"
         }
        ],
        [
         8.58,
         1.92,
         "Male",
         "Yes",
         "Fri",
         "Lunch",
         1,
         1.0,
         3.0,
         1.0,
         0.0,
         {
          "length": 6,
          "values": [
           1.92,
           1.0,
           1.0,
           0.0,
           3.0,
           1.0
          ],
          "vectorType": "dense"
         }
        ],
        [
         15.98,
         3.0,
         "Female",
         "No",
         "Fri",
         "Lunch",
         3,
         0.0,
         3.0,
         1.0,
         1.0,
         {
          "length": 6,
          "values": [
           3.0,
           3.0,
           0.0,
           1.0,
           3.0,
           1.0
          ],
          "vectorType": "dense"
         }
        ],
        [
         13.42,
         1.58,
         "Male",
         "Yes",
         "Fri",
         "Lunch",
         2,
         1.0,
         3.0,
         1.0,
         0.0,
         {
          "length": 6,
          "values": [
           1.58,
           2.0,
           1.0,
           0.0,
           3.0,
           1.0
          ],
          "vectorType": "dense"
         }
        ],
        [
         16.27,
         2.5,
         "Female",
         "Yes",
         "Fri",
         "Lunch",
         2,
         1.0,
         3.0,
         1.0,
         1.0,
         {
          "length": 6,
          "values": [
           2.5,
           2.0,
           1.0,
           1.0,
           3.0,
           1.0
          ],
          "vectorType": "dense"
         }
        ],
        [
         10.09,
         2.0,
         "Female",
         "Yes",
         "Fri",
         "Lunch",
         2,
         1.0,
         3.0,
         1.0,
         1.0,
         {
          "length": 6,
          "values": [
           2.0,
           2.0,
           1.0,
           1.0,
           3.0,
           1.0
          ],
          "vectorType": "dense"
         }
        ],
        [
         20.45,
         3.0,
         "Male",
         "No",
         "Sat",
         "Dinner",
         4,
         0.0,
         0.0,
         0.0,
         0.0,
         {
          "indices": [
           0,
           1
          ],
          "length": 6,
          "values": [
           3.0,
           4.0
          ],
          "vectorType": "sparse"
         }
        ],
        [
         13.28,
         2.72,
         "Male",
         "No",
         "Sat",
         "Dinner",
         2,
         0.0,
         0.0,
         0.0,
         0.0,
         {
          "indices": [
           0,
           1
          ],
          "length": 6,
          "values": [
           2.72,
           2.0
          ],
          "vectorType": "sparse"
         }
        ],
        [
         22.12,
         2.88,
         "Female",
         "Yes",
         "Sat",
         "Dinner",
         2,
         1.0,
         0.0,
         0.0,
         1.0,
         {
          "length": 6,
          "values": [
           2.88,
           2.0,
           1.0,
           1.0,
           0.0,
           0.0
          ],
          "vectorType": "dense"
         }
        ],
        [
         24.01,
         2.0,
         "Male",
         "Yes",
         "Sat",
         "Dinner",
         4,
         1.0,
         0.0,
         0.0,
         0.0,
         {
          "length": 6,
          "values": [
           2.0,
           4.0,
           1.0,
           0.0,
           0.0,
           0.0
          ],
          "vectorType": "dense"
         }
        ],
        [
         15.69,
         3.0,
         "Male",
         "Yes",
         "Sat",
         "Dinner",
         3,
         1.0,
         0.0,
         0.0,
         0.0,
         {
          "length": 6,
          "values": [
           3.0,
           3.0,
           1.0,
           0.0,
           0.0,
           0.0
          ],
          "vectorType": "dense"
         }
        ],
        [
         11.61,
         3.39,
         "Male",
         "No",
         "Sat",
         "Dinner",
         2,
         0.0,
         0.0,
         0.0,
         0.0,
         {
          "indices": [
           0,
           1
          ],
          "length": 6,
          "values": [
           3.39,
           2.0
          ],
          "vectorType": "sparse"
         }
        ],
        [
         10.77,
         1.47,
         "Male",
         "No",
         "Sat",
         "Dinner",
         2,
         0.0,
         0.0,
         0.0,
         0.0,
         {
          "indices": [
           0,
           1
          ],
          "length": 6,
          "values": [
           1.47,
           2.0
          ],
          "vectorType": "sparse"
         }
        ],
        [
         15.53,
         3.0,
         "Male",
         "Yes",
         "Sat",
         "Dinner",
         2,
         1.0,
         0.0,
         0.0,
         0.0,
         {
          "length": 6,
          "values": [
           3.0,
           2.0,
           1.0,
           0.0,
           0.0,
           0.0
          ],
          "vectorType": "dense"
         }
        ],
        [
         10.07,
         1.25,
         "Male",
         "No",
         "Sat",
         "Dinner",
         2,
         0.0,
         0.0,
         0.0,
         0.0,
         {
          "indices": [
           0,
           1
          ],
          "length": 6,
          "values": [
           1.25,
           2.0
          ],
          "vectorType": "sparse"
         }
        ],
        [
         12.6,
         1.0,
         "Male",
         "Yes",
         "Sat",
         "Dinner",
         2,
         1.0,
         0.0,
         0.0,
         0.0,
         {
          "length": 6,
          "values": [
           1.0,
           2.0,
           1.0,
           0.0,
           0.0,
           0.0
          ],
          "vectorType": "dense"
         }
        ],
        [
         32.83,
         1.17,
         "Male",
         "Yes",
         "Sat",
         "Dinner",
         2,
         1.0,
         0.0,
         0.0,
         0.0,
         {
          "length": 6,
          "values": [
           1.17,
           2.0,
           1.0,
           0.0,
           0.0,
           0.0
          ],
          "vectorType": "dense"
         }
        ],
        [
         35.83,
         4.67,
         "Female",
         "No",
         "Sat",
         "Dinner",
         3,
         0.0,
         0.0,
         0.0,
         1.0,
         {
          "length": 6,
          "values": [
           4.67,
           3.0,
           0.0,
           1.0,
           0.0,
           0.0
          ],
          "vectorType": "dense"
         }
        ],
        [
         29.03,
         5.92,
         "Male",
         "No",
         "Sat",
         "Dinner",
         3,
         0.0,
         0.0,
         0.0,
         0.0,
         {
          "indices": [
           0,
           1
          ],
          "length": 6,
          "values": [
           5.92,
           3.0
          ],
          "vectorType": "sparse"
         }
        ],
        [
         27.18,
         2.0,
         "Female",
         "Yes",
         "Sat",
         "Dinner",
         2,
         1.0,
         0.0,
         0.0,
         1.0,
         {
          "length": 6,
          "values": [
           2.0,
           2.0,
           1.0,
           1.0,
           0.0,
           0.0
          ],
          "vectorType": "dense"
         }
        ],
        [
         22.67,
         2.0,
         "Male",
         "Yes",
         "Sat",
         "Dinner",
         2,
         1.0,
         0.0,
         0.0,
         0.0,
         {
          "length": 6,
          "values": [
           2.0,
           2.0,
           1.0,
           0.0,
           0.0,
           0.0
          ],
          "vectorType": "dense"
         }
        ],
        [
         17.82,
         1.75,
         "Male",
         "No",
         "Sat",
         "Dinner",
         2,
         0.0,
         0.0,
         0.0,
         0.0,
         {
          "indices": [
           0,
           1
          ],
          "length": 6,
          "values": [
           1.75,
           2.0
          ],
          "vectorType": "sparse"
         }
        ],
        [
         18.78,
         3.0,
         "Female",
         "No",
         "Thur",
         "Dinner",
         2,
         0.0,
         2.0,
         0.0,
         1.0,
         {
          "length": 6,
          "values": [
           3.0,
           2.0,
           0.0,
           1.0,
           2.0,
           0.0
          ],
          "vectorType": "dense"
         }
        ]
       ],
       "datasetInfos": [],
       "dbfsResultPath": null,
       "isJsonSchema": true,
       "metadata": {},
       "overflow": false,
       "plotOptions": {
        "customPlotOptions": {},
        "displayType": "table",
        "pivotAggregation": null,
        "pivotColumns": null,
        "xColumns": null,
        "yColumns": null
       },
       "removedWidgets": [],
       "schema": [
        {
         "metadata": "{}",
         "name": "total_bill",
         "type": "\"double\""
        },
        {
         "metadata": "{}",
         "name": "tip",
         "type": "\"double\""
        },
        {
         "metadata": "{}",
         "name": "sex",
         "type": "\"string\""
        },
        {
         "metadata": "{}",
         "name": "smoker",
         "type": "\"string\""
        },
        {
         "metadata": "{}",
         "name": "day",
         "type": "\"string\""
        },
        {
         "metadata": "{}",
         "name": "time",
         "type": "\"string\""
        },
        {
         "metadata": "{}",
         "name": "size",
         "type": "\"integer\""
        },
        {
         "metadata": "{\"ml_attr\":{\"vals\":[\"No\",\"Yes\"],\"type\":\"nominal\",\"name\":\"smoker_indexed\"}}",
         "name": "smoker_indexed",
         "type": "\"double\""
        },
        {
         "metadata": "{\"ml_attr\":{\"vals\":[\"Sat\",\"Sun\",\"Thur\",\"Fri\"],\"type\":\"nominal\",\"name\":\"day_indexed\"}}",
         "name": "day_indexed",
         "type": "\"double\""
        },
        {
         "metadata": "{\"ml_attr\":{\"vals\":[\"Dinner\",\"Lunch\"],\"type\":\"nominal\",\"name\":\"time_indexed\"}}",
         "name": "time_indexed",
         "type": "\"double\""
        },
        {
         "metadata": "{\"ml_attr\":{\"vals\":[\"Male\",\"Female\"],\"type\":\"nominal\",\"name\":\"sex_indexed\"}}",
         "name": "sex_indexed",
         "type": "\"double\""
        },
        {
         "metadata": "{\"ml_attr\":{\"attrs\":{\"numeric\":[{\"idx\":0,\"name\":\"tip\"},{\"idx\":1,\"name\":\"size\"}],\"nominal\":[{\"vals\":[\"No\",\"Yes\"],\"idx\":2,\"name\":\"smoker_indexed\"},{\"vals\":[\"Male\",\"Female\"],\"idx\":3,\"name\":\"sex_indexed\"},{\"vals\":[\"Sat\",\"Sun\",\"Thur\",\"Fri\"],\"idx\":4,\"name\":\"day_indexed\"},{\"vals\":[\"Dinner\",\"Lunch\"],\"idx\":5,\"name\":\"time_indexed\"}]},\"num_attrs\":6}}",
         "name": "Independent Features",
         "type": "{\"type\":\"udt\",\"class\":\"org.apache.spark.ml.linalg.VectorUDT\",\"pyClass\":\"pyspark.ml.linalg.VectorUDT\",\"sqlType\":{\"type\":\"struct\",\"fields\":[{\"name\":\"type\",\"type\":\"byte\",\"nullable\":false,\"metadata\":{}},{\"name\":\"size\",\"type\":\"integer\",\"nullable\":true,\"metadata\":{}},{\"name\":\"indices\",\"type\":{\"type\":\"array\",\"elementType\":\"integer\",\"containsNull\":false},\"nullable\":true,\"metadata\":{}},{\"name\":\"values\",\"type\":{\"type\":\"array\",\"elementType\":\"double\",\"containsNull\":false},\"nullable\":true,\"metadata\":{}}]}}"
        }
       ],
       "type": "table"
      }
     },
     "output_type": "display_data"
    }
   ],
   "source": [
    "output.display()"
   ]
  },
  {
   "cell_type": "code",
   "execution_count": 0,
   "metadata": {
    "application/vnd.databricks.v1+cell": {
     "cellMetadata": {
      "byteLimit": 2048000,
      "rowLimit": 10000
     },
     "inputWidgets": {},
     "nuid": "69568a51-ff82-460b-939e-912505b98a43",
     "showTitle": false,
     "title": ""
    }
   },
   "outputs": [],
   "source": [
    "finalized_data = output.select('Independent Features', 'total_bill')"
   ]
  },
  {
   "cell_type": "code",
   "execution_count": 0,
   "metadata": {
    "application/vnd.databricks.v1+cell": {
     "cellMetadata": {
      "byteLimit": 2048000,
      "rowLimit": 10000
     },
     "inputWidgets": {},
     "nuid": "13d3154d-c96d-4822-b01f-ea1d2234b7f4",
     "showTitle": false,
     "title": ""
    }
   },
   "outputs": [
    {
     "output_type": "display_data",
     "data": {
      "text/html": [
       "<style scoped>\n",
       "  .table-result-container {\n",
       "    max-height: 300px;\n",
       "    overflow: auto;\n",
       "  }\n",
       "  table, th, td {\n",
       "    border: 1px solid black;\n",
       "    border-collapse: collapse;\n",
       "  }\n",
       "  th, td {\n",
       "    padding: 5px;\n",
       "  }\n",
       "  th {\n",
       "    text-align: left;\n",
       "  }\n",
       "</style><div class='table-result-container'><table class='table-result'><thead style='background-color: white'><tr><th>Independent Features</th><th>total_bill</th></tr></thead><tbody><tr><td>Map(vectorType -> dense, length -> 6, values -> List(1.01, 2.0, 0.0, 1.0, 1.0, 0.0))</td><td>16.99</td></tr><tr><td>Map(vectorType -> dense, length -> 6, values -> List(1.66, 3.0, 0.0, 0.0, 1.0, 0.0))</td><td>10.34</td></tr><tr><td>Map(vectorType -> dense, length -> 6, values -> List(3.5, 3.0, 0.0, 0.0, 1.0, 0.0))</td><td>21.01</td></tr><tr><td>Map(vectorType -> dense, length -> 6, values -> List(3.31, 2.0, 0.0, 0.0, 1.0, 0.0))</td><td>23.68</td></tr><tr><td>Map(vectorType -> dense, length -> 6, values -> List(3.61, 4.0, 0.0, 1.0, 1.0, 0.0))</td><td>24.59</td></tr><tr><td>Map(vectorType -> dense, length -> 6, values -> List(4.71, 4.0, 0.0, 0.0, 1.0, 0.0))</td><td>25.29</td></tr><tr><td>Map(vectorType -> dense, length -> 6, values -> List(2.0, 2.0, 0.0, 0.0, 1.0, 0.0))</td><td>8.77</td></tr><tr><td>Map(vectorType -> dense, length -> 6, values -> List(3.12, 4.0, 0.0, 0.0, 1.0, 0.0))</td><td>26.88</td></tr><tr><td>Map(vectorType -> dense, length -> 6, values -> List(1.96, 2.0, 0.0, 0.0, 1.0, 0.0))</td><td>15.04</td></tr><tr><td>Map(vectorType -> dense, length -> 6, values -> List(3.23, 2.0, 0.0, 0.0, 1.0, 0.0))</td><td>14.78</td></tr><tr><td>Map(vectorType -> dense, length -> 6, values -> List(1.71, 2.0, 0.0, 0.0, 1.0, 0.0))</td><td>10.27</td></tr><tr><td>Map(vectorType -> dense, length -> 6, values -> List(5.0, 4.0, 0.0, 1.0, 1.0, 0.0))</td><td>35.26</td></tr><tr><td>Map(vectorType -> dense, length -> 6, values -> List(1.57, 2.0, 0.0, 0.0, 1.0, 0.0))</td><td>15.42</td></tr><tr><td>Map(vectorType -> dense, length -> 6, values -> List(3.0, 4.0, 0.0, 0.0, 1.0, 0.0))</td><td>18.43</td></tr><tr><td>Map(vectorType -> dense, length -> 6, values -> List(3.02, 2.0, 0.0, 1.0, 1.0, 0.0))</td><td>14.83</td></tr><tr><td>Map(vectorType -> dense, length -> 6, values -> List(3.92, 2.0, 0.0, 0.0, 1.0, 0.0))</td><td>21.58</td></tr><tr><td>Map(vectorType -> dense, length -> 6, values -> List(1.67, 3.0, 0.0, 1.0, 1.0, 0.0))</td><td>10.33</td></tr><tr><td>Map(vectorType -> dense, length -> 6, values -> List(3.71, 3.0, 0.0, 0.0, 1.0, 0.0))</td><td>16.29</td></tr><tr><td>Map(vectorType -> dense, length -> 6, values -> List(3.5, 3.0, 0.0, 1.0, 1.0, 0.0))</td><td>16.97</td></tr><tr><td>Map(vectorType -> sparse, length -> 6, indices -> List(0, 1), values -> List(3.35, 3.0))</td><td>20.65</td></tr><tr><td>Map(vectorType -> sparse, length -> 6, indices -> List(0, 1), values -> List(4.08, 2.0))</td><td>17.92</td></tr><tr><td>Map(vectorType -> dense, length -> 6, values -> List(2.75, 2.0, 0.0, 1.0, 0.0, 0.0))</td><td>20.29</td></tr><tr><td>Map(vectorType -> dense, length -> 6, values -> List(2.23, 2.0, 0.0, 1.0, 0.0, 0.0))</td><td>15.77</td></tr><tr><td>Map(vectorType -> sparse, length -> 6, indices -> List(0, 1), values -> List(7.58, 4.0))</td><td>39.42</td></tr><tr><td>Map(vectorType -> sparse, length -> 6, indices -> List(0, 1), values -> List(3.18, 2.0))</td><td>19.82</td></tr><tr><td>Map(vectorType -> sparse, length -> 6, indices -> List(0, 1), values -> List(2.34, 4.0))</td><td>17.81</td></tr><tr><td>Map(vectorType -> sparse, length -> 6, indices -> List(0, 1), values -> List(2.0, 2.0))</td><td>13.37</td></tr><tr><td>Map(vectorType -> sparse, length -> 6, indices -> List(0, 1), values -> List(2.0, 2.0))</td><td>12.69</td></tr><tr><td>Map(vectorType -> sparse, length -> 6, indices -> List(0, 1), values -> List(4.3, 2.0))</td><td>21.7</td></tr><tr><td>Map(vectorType -> dense, length -> 6, values -> List(3.0, 2.0, 0.0, 1.0, 0.0, 0.0))</td><td>19.65</td></tr><tr><td>Map(vectorType -> sparse, length -> 6, indices -> List(0, 1), values -> List(1.45, 2.0))</td><td>9.55</td></tr><tr><td>Map(vectorType -> sparse, length -> 6, indices -> List(0, 1), values -> List(2.5, 4.0))</td><td>18.35</td></tr><tr><td>Map(vectorType -> dense, length -> 6, values -> List(3.0, 2.0, 0.0, 1.0, 0.0, 0.0))</td><td>15.06</td></tr><tr><td>Map(vectorType -> dense, length -> 6, values -> List(2.45, 4.0, 0.0, 1.0, 0.0, 0.0))</td><td>20.69</td></tr><tr><td>Map(vectorType -> sparse, length -> 6, indices -> List(0, 1), values -> List(3.27, 2.0))</td><td>17.78</td></tr><tr><td>Map(vectorType -> sparse, length -> 6, indices -> List(0, 1), values -> List(3.6, 3.0))</td><td>24.06</td></tr><tr><td>Map(vectorType -> sparse, length -> 6, indices -> List(0, 1), values -> List(2.0, 3.0))</td><td>16.31</td></tr><tr><td>Map(vectorType -> dense, length -> 6, values -> List(3.07, 3.0, 0.0, 1.0, 0.0, 0.0))</td><td>16.93</td></tr><tr><td>Map(vectorType -> sparse, length -> 6, indices -> List(0, 1), values -> List(2.31, 3.0))</td><td>18.69</td></tr><tr><td>Map(vectorType -> sparse, length -> 6, indices -> List(0, 1), values -> List(5.0, 3.0))</td><td>31.27</td></tr><tr><td>Map(vectorType -> sparse, length -> 6, indices -> List(0, 1), values -> List(2.24, 3.0))</td><td>16.04</td></tr><tr><td>Map(vectorType -> dense, length -> 6, values -> List(2.54, 2.0, 0.0, 0.0, 1.0, 0.0))</td><td>17.46</td></tr><tr><td>Map(vectorType -> dense, length -> 6, values -> List(3.06, 2.0, 0.0, 0.0, 1.0, 0.0))</td><td>13.94</td></tr><tr><td>Map(vectorType -> dense, length -> 6, values -> List(1.32, 2.0, 0.0, 0.0, 1.0, 0.0))</td><td>9.68</td></tr><tr><td>Map(vectorType -> dense, length -> 6, values -> List(5.6, 4.0, 0.0, 0.0, 1.0, 0.0))</td><td>30.4</td></tr><tr><td>Map(vectorType -> dense, length -> 6, values -> List(3.0, 2.0, 0.0, 0.0, 1.0, 0.0))</td><td>18.29</td></tr><tr><td>Map(vectorType -> dense, length -> 6, values -> List(5.0, 2.0, 0.0, 0.0, 1.0, 0.0))</td><td>22.23</td></tr><tr><td>Map(vectorType -> dense, length -> 6, values -> List(6.0, 4.0, 0.0, 0.0, 1.0, 0.0))</td><td>32.4</td></tr><tr><td>Map(vectorType -> dense, length -> 6, values -> List(2.05, 3.0, 0.0, 0.0, 1.0, 0.0))</td><td>28.55</td></tr><tr><td>Map(vectorType -> dense, length -> 6, values -> List(3.0, 2.0, 0.0, 0.0, 1.0, 0.0))</td><td>18.04</td></tr><tr><td>Map(vectorType -> dense, length -> 6, values -> List(2.5, 2.0, 0.0, 0.0, 1.0, 0.0))</td><td>12.54</td></tr><tr><td>Map(vectorType -> dense, length -> 6, values -> List(2.6, 2.0, 0.0, 1.0, 1.0, 0.0))</td><td>10.29</td></tr><tr><td>Map(vectorType -> dense, length -> 6, values -> List(5.2, 4.0, 0.0, 1.0, 1.0, 0.0))</td><td>34.81</td></tr><tr><td>Map(vectorType -> dense, length -> 6, values -> List(1.56, 2.0, 0.0, 0.0, 1.0, 0.0))</td><td>9.94</td></tr><tr><td>Map(vectorType -> dense, length -> 6, values -> List(4.34, 4.0, 0.0, 0.0, 1.0, 0.0))</td><td>25.56</td></tr><tr><td>Map(vectorType -> dense, length -> 6, values -> List(3.51, 2.0, 0.0, 0.0, 1.0, 0.0))</td><td>19.49</td></tr><tr><td>Map(vectorType -> dense, length -> 6, values -> List(3.0, 4.0, 1.0, 0.0, 0.0, 0.0))</td><td>38.01</td></tr><tr><td>Map(vectorType -> dense, length -> 6, values -> List(1.5, 2.0, 0.0, 1.0, 0.0, 0.0))</td><td>26.41</td></tr><tr><td>Map(vectorType -> dense, length -> 6, values -> List(1.76, 2.0, 1.0, 0.0, 0.0, 0.0))</td><td>11.24</td></tr><tr><td>Map(vectorType -> sparse, length -> 6, indices -> List(0, 1), values -> List(6.73, 4.0))</td><td>48.27</td></tr><tr><td>Map(vectorType -> dense, length -> 6, values -> List(3.21, 2.0, 1.0, 0.0, 0.0, 0.0))</td><td>20.29</td></tr><tr><td>Map(vectorType -> dense, length -> 6, values -> List(2.0, 2.0, 1.0, 0.0, 0.0, 0.0))</td><td>13.81</td></tr><tr><td>Map(vectorType -> dense, length -> 6, values -> List(1.98, 2.0, 1.0, 0.0, 0.0, 0.0))</td><td>11.02</td></tr><tr><td>Map(vectorType -> dense, length -> 6, values -> List(3.76, 4.0, 1.0, 0.0, 0.0, 0.0))</td><td>18.29</td></tr><tr><td>Map(vectorType -> sparse, length -> 6, indices -> List(0, 1), values -> List(2.64, 3.0))</td><td>17.59</td></tr><tr><td>Map(vectorType -> sparse, length -> 6, indices -> List(0, 1), values -> List(3.15, 3.0))</td><td>20.08</td></tr><tr><td>Map(vectorType -> dense, length -> 6, values -> List(2.47, 2.0, 0.0, 1.0, 0.0, 0.0))</td><td>16.45</td></tr><tr><td>Map(vectorType -> dense, length -> 6, values -> List(1.0, 1.0, 1.0, 1.0, 0.0, 0.0))</td><td>3.07</td></tr><tr><td>Map(vectorType -> sparse, length -> 6, indices -> List(0, 1), values -> List(2.01, 2.0))</td><td>20.23</td></tr><tr><td>Map(vectorType -> dense, length -> 6, values -> List(2.09, 2.0, 1.0, 0.0, 0.0, 0.0))</td><td>15.01</td></tr><tr><td>Map(vectorType -> sparse, length -> 6, indices -> List(0, 1), values -> List(1.97, 2.0))</td><td>12.02</td></tr><tr><td>Map(vectorType -> dense, length -> 6, values -> List(3.0, 3.0, 0.0, 1.0, 0.0, 0.0))</td><td>17.07</td></tr><tr><td>Map(vectorType -> dense, length -> 6, values -> List(3.14, 2.0, 1.0, 1.0, 0.0, 0.0))</td><td>26.86</td></tr><tr><td>Map(vectorType -> dense, length -> 6, values -> List(5.0, 2.0, 1.0, 1.0, 0.0, 0.0))</td><td>25.28</td></tr><tr><td>Map(vectorType -> dense, length -> 6, values -> List(2.2, 2.0, 0.0, 1.0, 0.0, 0.0))</td><td>14.73</td></tr><tr><td>Map(vectorType -> sparse, length -> 6, indices -> List(0, 1), values -> List(1.25, 2.0))</td><td>10.51</td></tr><tr><td>Map(vectorType -> dense, length -> 6, values -> List(3.08, 2.0, 1.0, 0.0, 0.0, 0.0))</td><td>17.92</td></tr><tr><td>Map(vectorType -> dense, length -> 6, values -> List(4.0, 4.0, 0.0, 0.0, 2.0, 1.0))</td><td>27.2</td></tr><tr><td>Map(vectorType -> dense, length -> 6, values -> List(3.0, 2.0, 0.0, 0.0, 2.0, 1.0))</td><td>22.76</td></tr><tr><td>Map(vectorType -> dense, length -> 6, values -> List(2.71, 2.0, 0.0, 0.0, 2.0, 1.0))</td><td>17.29</td></tr><tr><td>Map(vectorType -> dense, length -> 6, values -> List(3.0, 2.0, 1.0, 0.0, 2.0, 1.0))</td><td>19.44</td></tr><tr><td>Map(vectorType -> dense, length -> 6, values -> List(3.4, 2.0, 0.0, 0.0, 2.0, 1.0))</td><td>16.66</td></tr><tr><td>Map(vectorType -> dense, length -> 6, values -> List(1.83, 1.0, 0.0, 1.0, 2.0, 1.0))</td><td>10.07</td></tr><tr><td>Map(vectorType -> dense, length -> 6, values -> List(5.0, 2.0, 1.0, 0.0, 2.0, 1.0))</td><td>32.68</td></tr><tr><td>Map(vectorType -> dense, length -> 6, values -> List(2.03, 2.0, 0.0, 0.0, 2.0, 1.0))</td><td>15.98</td></tr><tr><td>Map(vectorType -> dense, length -> 6, values -> List(5.17, 4.0, 0.0, 1.0, 2.0, 1.0))</td><td>34.83</td></tr><tr><td>Map(vectorType -> dense, length -> 6, values -> List(2.0, 2.0, 0.0, 0.0, 2.0, 1.0))</td><td>13.03</td></tr><tr><td>Map(vectorType -> dense, length -> 6, values -> List(4.0, 2.0, 0.0, 0.0, 2.0, 1.0))</td><td>18.28</td></tr><tr><td>Map(vectorType -> dense, length -> 6, values -> List(5.85, 2.0, 0.0, 0.0, 2.0, 1.0))</td><td>24.71</td></tr><tr><td>Map(vectorType -> dense, length -> 6, values -> List(3.0, 2.0, 0.0, 0.0, 2.0, 1.0))</td><td>21.16</td></tr><tr><td>Map(vectorType -> dense, length -> 6, values -> List(3.0, 2.0, 1.0, 0.0, 3.0, 0.0))</td><td>28.97</td></tr><tr><td>Map(vectorType -> dense, length -> 6, values -> List(3.5, 2.0, 0.0, 0.0, 3.0, 0.0))</td><td>22.49</td></tr><tr><td>Map(vectorType -> dense, length -> 6, values -> List(1.0, 2.0, 1.0, 1.0, 3.0, 0.0))</td><td>5.75</td></tr><tr><td>Map(vectorType -> dense, length -> 6, values -> List(4.3, 2.0, 1.0, 1.0, 3.0, 0.0))</td><td>16.32</td></tr><tr><td>Map(vectorType -> dense, length -> 6, values -> List(3.25, 2.0, 0.0, 1.0, 3.0, 0.0))</td><td>22.75</td></tr><tr><td>Map(vectorType -> dense, length -> 6, values -> List(4.73, 4.0, 1.0, 0.0, 3.0, 0.0))</td><td>40.17</td></tr><tr><td>Map(vectorType -> dense, length -> 6, values -> List(4.0, 2.0, 1.0, 0.0, 3.0, 0.0))</td><td>27.28</td></tr><tr><td>Map(vectorType -> dense, length -> 6, values -> List(1.5, 2.0, 1.0, 0.0, 3.0, 0.0))</td><td>12.03</td></tr><tr><td>Map(vectorType -> dense, length -> 6, values -> List(3.0, 2.0, 1.0, 0.0, 3.0, 0.0))</td><td>21.01</td></tr><tr><td>Map(vectorType -> dense, length -> 6, values -> List(1.5, 2.0, 0.0, 0.0, 3.0, 0.0))</td><td>12.46</td></tr><tr><td>Map(vectorType -> dense, length -> 6, values -> List(2.5, 2.0, 1.0, 1.0, 3.0, 0.0))</td><td>11.35</td></tr><tr><td>Map(vectorType -> dense, length -> 6, values -> List(3.0, 2.0, 1.0, 1.0, 3.0, 0.0))</td><td>15.38</td></tr><tr><td>Map(vectorType -> dense, length -> 6, values -> List(2.5, 3.0, 1.0, 1.0, 0.0, 0.0))</td><td>44.3</td></tr><tr><td>Map(vectorType -> dense, length -> 6, values -> List(3.48, 2.0, 1.0, 1.0, 0.0, 0.0))</td><td>22.42</td></tr><tr><td>Map(vectorType -> dense, length -> 6, values -> List(4.08, 2.0, 0.0, 1.0, 0.0, 0.0))</td><td>20.92</td></tr><tr><td>Map(vectorType -> dense, length -> 6, values -> List(1.64, 2.0, 1.0, 0.0, 0.0, 0.0))</td><td>15.36</td></tr><tr><td>Map(vectorType -> dense, length -> 6, values -> List(4.06, 2.0, 1.0, 0.0, 0.0, 0.0))</td><td>20.49</td></tr><tr><td>Map(vectorType -> dense, length -> 6, values -> List(4.29, 2.0, 1.0, 0.0, 0.0, 0.0))</td><td>25.21</td></tr><tr><td>Map(vectorType -> sparse, length -> 6, indices -> List(0, 1), values -> List(3.76, 2.0))</td><td>18.24</td></tr><tr><td>Map(vectorType -> dense, length -> 6, values -> List(4.0, 2.0, 1.0, 1.0, 0.0, 0.0))</td><td>14.31</td></tr><tr><td>Map(vectorType -> sparse, length -> 6, indices -> List(0, 1), values -> List(3.0, 2.0))</td><td>14.0</td></tr><tr><td>Map(vectorType -> dense, length -> 6, values -> List(1.0, 1.0, 0.0, 1.0, 0.0, 0.0))</td><td>7.25</td></tr><tr><td>Map(vectorType -> dense, length -> 6, values -> List(4.0, 3.0, 0.0, 0.0, 1.0, 0.0))</td><td>38.07</td></tr><tr><td>Map(vectorType -> dense, length -> 6, values -> List(2.55, 2.0, 0.0, 0.0, 1.0, 0.0))</td><td>23.95</td></tr><tr><td>Map(vectorType -> dense, length -> 6, values -> List(4.0, 3.0, 0.0, 1.0, 1.0, 0.0))</td><td>25.71</td></tr><tr><td>Map(vectorType -> dense, length -> 6, values -> List(3.5, 2.0, 0.0, 1.0, 1.0, 0.0))</td><td>17.31</td></tr><tr><td>Map(vectorType -> dense, length -> 6, values -> List(5.07, 4.0, 0.0, 0.0, 1.0, 0.0))</td><td>29.93</td></tr><tr><td>Map(vectorType -> dense, length -> 6, values -> List(1.5, 2.0, 0.0, 1.0, 2.0, 1.0))</td><td>10.65</td></tr><tr><td>Map(vectorType -> dense, length -> 6, values -> List(1.8, 2.0, 0.0, 1.0, 2.0, 1.0))</td><td>12.43</td></tr><tr><td>Map(vectorType -> dense, length -> 6, values -> List(2.92, 4.0, 0.0, 1.0, 2.0, 1.0))</td><td>24.08</td></tr><tr><td>Map(vectorType -> dense, length -> 6, values -> List(2.31, 2.0, 0.0, 0.0, 2.0, 1.0))</td><td>11.69</td></tr><tr><td>Map(vectorType -> dense, length -> 6, values -> List(1.68, 2.0, 0.0, 1.0, 2.0, 1.0))</td><td>13.42</td></tr><tr><td>Map(vectorType -> dense, length -> 6, values -> List(2.5, 2.0, 0.0, 0.0, 2.0, 1.0))</td><td>14.26</td></tr><tr><td>Map(vectorType -> dense, length -> 6, values -> List(2.0, 2.0, 0.0, 0.0, 2.0, 1.0))</td><td>15.95</td></tr><tr><td>Map(vectorType -> dense, length -> 6, values -> List(2.52, 2.0, 0.0, 1.0, 2.0, 1.0))</td><td>12.48</td></tr><tr><td>Map(vectorType -> dense, length -> 6, values -> List(4.2, 6.0, 0.0, 1.0, 2.0, 1.0))</td><td>29.8</td></tr><tr><td>Map(vectorType -> dense, length -> 6, values -> List(1.48, 2.0, 0.0, 0.0, 2.0, 1.0))</td><td>8.52</td></tr><tr><td>Map(vectorType -> dense, length -> 6, values -> List(2.0, 2.0, 0.0, 1.0, 2.0, 1.0))</td><td>14.52</td></tr><tr><td>Map(vectorType -> dense, length -> 6, values -> List(2.0, 2.0, 0.0, 1.0, 2.0, 1.0))</td><td>11.38</td></tr><tr><td>Map(vectorType -> dense, length -> 6, values -> List(2.18, 3.0, 0.0, 0.0, 2.0, 1.0))</td><td>22.82</td></tr><tr><td>Map(vectorType -> dense, length -> 6, values -> List(1.5, 2.0, 0.0, 0.0, 2.0, 1.0))</td><td>19.08</td></tr><tr><td>Map(vectorType -> dense, length -> 6, values -> List(2.83, 2.0, 0.0, 1.0, 2.0, 1.0))</td><td>20.27</td></tr><tr><td>Map(vectorType -> dense, length -> 6, values -> List(1.5, 2.0, 0.0, 1.0, 2.0, 1.0))</td><td>11.17</td></tr><tr><td>Map(vectorType -> dense, length -> 6, values -> List(2.0, 2.0, 0.0, 1.0, 2.0, 1.0))</td><td>12.26</td></tr><tr><td>Map(vectorType -> dense, length -> 6, values -> List(3.25, 2.0, 0.0, 1.0, 2.0, 1.0))</td><td>18.26</td></tr><tr><td>Map(vectorType -> dense, length -> 6, values -> List(1.25, 2.0, 0.0, 1.0, 2.0, 1.0))</td><td>8.51</td></tr><tr><td>Map(vectorType -> dense, length -> 6, values -> List(2.0, 2.0, 0.0, 1.0, 2.0, 1.0))</td><td>10.33</td></tr><tr><td>Map(vectorType -> dense, length -> 6, values -> List(2.0, 2.0, 0.0, 1.0, 2.0, 1.0))</td><td>14.15</td></tr><tr><td>Map(vectorType -> dense, length -> 6, values -> List(2.0, 2.0, 1.0, 0.0, 2.0, 1.0))</td><td>16.0</td></tr><tr><td>Map(vectorType -> dense, length -> 6, values -> List(2.75, 2.0, 0.0, 1.0, 2.0, 1.0))</td><td>13.16</td></tr><tr><td>Map(vectorType -> dense, length -> 6, values -> List(3.5, 2.0, 0.0, 1.0, 2.0, 1.0))</td><td>17.47</td></tr><tr><td>Map(vectorType -> dense, length -> 6, values -> List(6.7, 6.0, 0.0, 0.0, 2.0, 1.0))</td><td>34.3</td></tr><tr><td>Map(vectorType -> dense, length -> 6, values -> List(5.0, 5.0, 0.0, 0.0, 2.0, 1.0))</td><td>41.19</td></tr><tr><td>Map(vectorType -> dense, length -> 6, values -> List(5.0, 6.0, 0.0, 1.0, 2.0, 1.0))</td><td>27.05</td></tr><tr><td>Map(vectorType -> dense, length -> 6, values -> List(2.3, 2.0, 0.0, 1.0, 2.0, 1.0))</td><td>16.43</td></tr><tr><td>Map(vectorType -> dense, length -> 6, values -> List(1.5, 2.0, 0.0, 1.0, 2.0, 1.0))</td><td>8.35</td></tr><tr><td>Map(vectorType -> dense, length -> 6, values -> List(1.36, 3.0, 0.0, 1.0, 2.0, 1.0))</td><td>18.64</td></tr><tr><td>Map(vectorType -> dense, length -> 6, values -> List(1.63, 2.0, 0.0, 1.0, 2.0, 1.0))</td><td>11.87</td></tr><tr><td>Map(vectorType -> dense, length -> 6, values -> List(1.73, 2.0, 0.0, 0.0, 2.0, 1.0))</td><td>9.78</td></tr><tr><td>Map(vectorType -> dense, length -> 6, values -> List(2.0, 2.0, 0.0, 0.0, 2.0, 1.0))</td><td>7.51</td></tr><tr><td>Map(vectorType -> dense, length -> 6, values -> List(2.5, 2.0, 0.0, 0.0, 1.0, 0.0))</td><td>14.07</td></tr><tr><td>Map(vectorType -> dense, length -> 6, values -> List(2.0, 2.0, 0.0, 0.0, 1.0, 0.0))</td><td>13.13</td></tr><tr><td>Map(vectorType -> dense, length -> 6, values -> List(2.74, 3.0, 0.0, 0.0, 1.0, 0.0))</td><td>17.26</td></tr><tr><td>Map(vectorType -> dense, length -> 6, values -> List(2.0, 4.0, 0.0, 0.0, 1.0, 0.0))</td><td>24.55</td></tr><tr><td>Map(vectorType -> dense, length -> 6, values -> List(2.0, 4.0, 0.0, 0.0, 1.0, 0.0))</td><td>19.77</td></tr><tr><td>Map(vectorType -> dense, length -> 6, values -> List(5.14, 5.0, 0.0, 1.0, 1.0, 0.0))</td><td>29.85</td></tr><tr><td>Map(vectorType -> dense, length -> 6, values -> List(5.0, 6.0, 0.0, 0.0, 1.0, 0.0))</td><td>48.17</td></tr><tr><td>Map(vectorType -> dense, length -> 6, values -> List(3.75, 4.0, 0.0, 1.0, 1.0, 0.0))</td><td>25.0</td></tr><tr><td>Map(vectorType -> dense, length -> 6, values -> List(2.61, 2.0, 0.0, 1.0, 1.0, 0.0))</td><td>13.39</td></tr><tr><td>Map(vectorType -> dense, length -> 6, values -> List(2.0, 4.0, 0.0, 0.0, 1.0, 0.0))</td><td>16.49</td></tr><tr><td>Map(vectorType -> dense, length -> 6, values -> List(3.5, 4.0, 0.0, 0.0, 1.0, 0.0))</td><td>21.5</td></tr><tr><td>Map(vectorType -> dense, length -> 6, values -> List(2.5, 2.0, 0.0, 0.0, 1.0, 0.0))</td><td>12.66</td></tr><tr><td>Map(vectorType -> dense, length -> 6, values -> List(2.0, 3.0, 0.0, 1.0, 1.0, 0.0))</td><td>16.21</td></tr><tr><td>Map(vectorType -> dense, length -> 6, values -> List(2.0, 2.0, 0.0, 0.0, 1.0, 0.0))</td><td>13.81</td></tr><tr><td>Map(vectorType -> dense, length -> 6, values -> List(3.0, 2.0, 1.0, 1.0, 1.0, 0.0))</td><td>17.51</td></tr><tr><td>Map(vectorType -> dense, length -> 6, values -> List(3.48, 3.0, 0.0, 0.0, 1.0, 0.0))</td><td>24.52</td></tr><tr><td>Map(vectorType -> dense, length -> 6, values -> List(2.24, 2.0, 0.0, 0.0, 1.0, 0.0))</td><td>20.76</td></tr><tr><td>Map(vectorType -> dense, length -> 6, values -> List(4.5, 4.0, 0.0, 0.0, 1.0, 0.0))</td><td>31.71</td></tr><tr><td>Map(vectorType -> dense, length -> 6, values -> List(1.61, 2.0, 1.0, 1.0, 0.0, 0.0))</td><td>10.59</td></tr><tr><td>Map(vectorType -> dense, length -> 6, values -> List(2.0, 2.0, 1.0, 1.0, 0.0, 0.0))</td><td>10.63</td></tr><tr><td>Map(vectorType -> dense, length -> 6, values -> List(10.0, 3.0, 1.0, 0.0, 0.0, 0.0))</td><td>50.81</td></tr><tr><td>Map(vectorType -> dense, length -> 6, values -> List(3.16, 2.0, 1.0, 0.0, 0.0, 0.0))</td><td>15.81</td></tr><tr><td>Map(vectorType -> dense, length -> 6, values -> List(5.15, 2.0, 1.0, 0.0, 1.0, 0.0))</td><td>7.25</td></tr><tr><td>Map(vectorType -> dense, length -> 6, values -> List(3.18, 2.0, 1.0, 0.0, 1.0, 0.0))</td><td>31.85</td></tr><tr><td>Map(vectorType -> dense, length -> 6, values -> List(4.0, 2.0, 1.0, 0.0, 1.0, 0.0))</td><td>16.82</td></tr><tr><td>Map(vectorType -> dense, length -> 6, values -> List(3.11, 2.0, 1.0, 0.0, 1.0, 0.0))</td><td>32.9</td></tr><tr><td>Map(vectorType -> dense, length -> 6, values -> List(2.0, 2.0, 1.0, 0.0, 1.0, 0.0))</td><td>17.89</td></tr><tr><td>Map(vectorType -> dense, length -> 6, values -> List(2.0, 2.0, 1.0, 0.0, 1.0, 0.0))</td><td>14.48</td></tr><tr><td>Map(vectorType -> dense, length -> 6, values -> List(4.0, 2.0, 1.0, 1.0, 1.0, 0.0))</td><td>9.6</td></tr><tr><td>Map(vectorType -> dense, length -> 6, values -> List(3.55, 2.0, 1.0, 0.0, 1.0, 0.0))</td><td>34.63</td></tr><tr><td>Map(vectorType -> dense, length -> 6, values -> List(3.68, 4.0, 1.0, 0.0, 1.0, 0.0))</td><td>34.65</td></tr><tr><td>Map(vectorType -> dense, length -> 6, values -> List(5.65, 2.0, 1.0, 0.0, 1.0, 0.0))</td><td>23.33</td></tr><tr><td>Map(vectorType -> dense, length -> 6, values -> List(3.5, 3.0, 1.0, 0.0, 1.0, 0.0))</td><td>45.35</td></tr><tr><td>Map(vectorType -> dense, length -> 6, values -> List(6.5, 4.0, 1.0, 0.0, 1.0, 0.0))</td><td>23.17</td></tr><tr><td>Map(vectorType -> dense, length -> 6, values -> List(3.0, 2.0, 1.0, 0.0, 1.0, 0.0))</td><td>40.55</td></tr><tr><td>Map(vectorType -> dense, length -> 6, values -> List(5.0, 5.0, 0.0, 0.0, 1.0, 0.0))</td><td>20.69</td></tr><tr><td>Map(vectorType -> dense, length -> 6, values -> List(3.5, 3.0, 1.0, 1.0, 1.0, 0.0))</td><td>20.9</td></tr><tr><td>Map(vectorType -> dense, length -> 6, values -> List(2.0, 5.0, 1.0, 0.0, 1.0, 0.0))</td><td>30.46</td></tr><tr><td>Map(vectorType -> dense, length -> 6, values -> List(3.5, 3.0, 1.0, 1.0, 1.0, 0.0))</td><td>18.15</td></tr><tr><td>Map(vectorType -> dense, length -> 6, values -> List(4.0, 3.0, 1.0, 0.0, 1.0, 0.0))</td><td>23.1</td></tr><tr><td>Map(vectorType -> dense, length -> 6, values -> List(1.5, 2.0, 1.0, 0.0, 1.0, 0.0))</td><td>15.69</td></tr><tr><td>Map(vectorType -> dense, length -> 6, values -> List(4.19, 2.0, 1.0, 1.0, 2.0, 1.0))</td><td>19.81</td></tr><tr><td>Map(vectorType -> dense, length -> 6, values -> List(2.56, 2.0, 1.0, 0.0, 2.0, 1.0))</td><td>28.44</td></tr><tr><td>Map(vectorType -> dense, length -> 6, values -> List(2.02, 2.0, 1.0, 0.0, 2.0, 1.0))</td><td>15.48</td></tr><tr><td>Map(vectorType -> dense, length -> 6, values -> List(4.0, 2.0, 1.0, 0.0, 2.0, 1.0))</td><td>16.58</td></tr><tr><td>Map(vectorType -> dense, length -> 6, values -> List(1.44, 2.0, 0.0, 0.0, 2.0, 1.0))</td><td>7.56</td></tr><tr><td>Map(vectorType -> dense, length -> 6, values -> List(2.0, 2.0, 1.0, 0.0, 2.0, 1.0))</td><td>10.34</td></tr><tr><td>Map(vectorType -> dense, length -> 6, values -> List(5.0, 4.0, 1.0, 1.0, 2.0, 1.0))</td><td>43.11</td></tr><tr><td>Map(vectorType -> dense, length -> 6, values -> List(2.0, 2.0, 1.0, 1.0, 2.0, 1.0))</td><td>13.0</td></tr><tr><td>Map(vectorType -> dense, length -> 6, values -> List(2.0, 2.0, 1.0, 0.0, 2.0, 1.0))</td><td>13.51</td></tr><tr><td>Map(vectorType -> dense, length -> 6, values -> List(4.0, 3.0, 1.0, 0.0, 2.0, 1.0))</td><td>18.71</td></tr><tr><td>Map(vectorType -> dense, length -> 6, values -> List(2.01, 2.0, 1.0, 1.0, 2.0, 1.0))</td><td>12.74</td></tr><tr><td>Map(vectorType -> dense, length -> 6, values -> List(2.0, 2.0, 1.0, 1.0, 2.0, 1.0))</td><td>13.0</td></tr><tr><td>Map(vectorType -> dense, length -> 6, values -> List(2.5, 2.0, 1.0, 1.0, 2.0, 1.0))</td><td>16.4</td></tr><tr><td>Map(vectorType -> dense, length -> 6, values -> List(4.0, 4.0, 1.0, 0.0, 2.0, 1.0))</td><td>20.53</td></tr><tr><td>Map(vectorType -> dense, length -> 6, values -> List(3.23, 3.0, 1.0, 1.0, 2.0, 1.0))</td><td>16.47</td></tr><tr><td>Map(vectorType -> dense, length -> 6, values -> List(3.41, 3.0, 1.0, 0.0, 0.0, 0.0))</td><td>26.59</td></tr><tr><td>Map(vectorType -> dense, length -> 6, values -> List(3.0, 4.0, 1.0, 0.0, 0.0, 0.0))</td><td>38.73</td></tr><tr><td>Map(vectorType -> dense, length -> 6, values -> List(2.03, 2.0, 1.0, 0.0, 0.0, 0.0))</td><td>24.27</td></tr><tr><td>Map(vectorType -> dense, length -> 6, values -> List(2.23, 2.0, 1.0, 1.0, 0.0, 0.0))</td><td>12.76</td></tr><tr><td>Map(vectorType -> dense, length -> 6, values -> List(2.0, 3.0, 1.0, 0.0, 0.0, 0.0))</td><td>30.06</td></tr><tr><td>Map(vectorType -> dense, length -> 6, values -> List(5.16, 4.0, 1.0, 0.0, 0.0, 0.0))</td><td>25.89</td></tr><tr><td>Map(vectorType -> sparse, length -> 6, indices -> List(0, 1), values -> List(9.0, 4.0))</td><td>48.33</td></tr><tr><td>Map(vectorType -> dense, length -> 6, values -> List(2.5, 2.0, 1.0, 1.0, 0.0, 0.0))</td><td>13.27</td></tr><tr><td>Map(vectorType -> dense, length -> 6, values -> List(6.5, 3.0, 1.0, 1.0, 0.0, 0.0))</td><td>28.17</td></tr><tr><td>Map(vectorType -> dense, length -> 6, values -> List(1.1, 2.0, 1.0, 1.0, 0.0, 0.0))</td><td>12.9</td></tr><tr><td>Map(vectorType -> dense, length -> 6, values -> List(3.0, 5.0, 1.0, 0.0, 0.0, 0.0))</td><td>28.15</td></tr><tr><td>Map(vectorType -> dense, length -> 6, values -> List(1.5, 2.0, 1.0, 0.0, 0.0, 0.0))</td><td>11.59</td></tr><tr><td>Map(vectorType -> dense, length -> 6, values -> List(1.44, 2.0, 1.0, 0.0, 0.0, 0.0))</td><td>7.74</td></tr><tr><td>Map(vectorType -> dense, length -> 6, values -> List(3.09, 4.0, 1.0, 1.0, 0.0, 0.0))</td><td>30.14</td></tr><tr><td>Map(vectorType -> dense, length -> 6, values -> List(2.2, 2.0, 1.0, 0.0, 3.0, 1.0))</td><td>12.16</td></tr><tr><td>Map(vectorType -> dense, length -> 6, values -> List(3.48, 2.0, 1.0, 1.0, 3.0, 1.0))</td><td>13.42</td></tr><tr><td>Map(vectorType -> dense, length -> 6, values -> List(1.92, 1.0, 1.0, 0.0, 3.0, 1.0))</td><td>8.58</td></tr><tr><td>Map(vectorType -> dense, length -> 6, values -> List(3.0, 3.0, 0.0, 1.0, 3.0, 1.0))</td><td>15.98</td></tr><tr><td>Map(vectorType -> dense, length -> 6, values -> List(1.58, 2.0, 1.0, 0.0, 3.0, 1.0))</td><td>13.42</td></tr><tr><td>Map(vectorType -> dense, length -> 6, values -> List(2.5, 2.0, 1.0, 1.0, 3.0, 1.0))</td><td>16.27</td></tr><tr><td>Map(vectorType -> dense, length -> 6, values -> List(2.0, 2.0, 1.0, 1.0, 3.0, 1.0))</td><td>10.09</td></tr><tr><td>Map(vectorType -> sparse, length -> 6, indices -> List(0, 1), values -> List(3.0, 4.0))</td><td>20.45</td></tr><tr><td>Map(vectorType -> sparse, length -> 6, indices -> List(0, 1), values -> List(2.72, 2.0))</td><td>13.28</td></tr><tr><td>Map(vectorType -> dense, length -> 6, values -> List(2.88, 2.0, 1.0, 1.0, 0.0, 0.0))</td><td>22.12</td></tr><tr><td>Map(vectorType -> dense, length -> 6, values -> List(2.0, 4.0, 1.0, 0.0, 0.0, 0.0))</td><td>24.01</td></tr><tr><td>Map(vectorType -> dense, length -> 6, values -> List(3.0, 3.0, 1.0, 0.0, 0.0, 0.0))</td><td>15.69</td></tr><tr><td>Map(vectorType -> sparse, length -> 6, indices -> List(0, 1), values -> List(3.39, 2.0))</td><td>11.61</td></tr><tr><td>Map(vectorType -> sparse, length -> 6, indices -> List(0, 1), values -> List(1.47, 2.0))</td><td>10.77</td></tr><tr><td>Map(vectorType -> dense, length -> 6, values -> List(3.0, 2.0, 1.0, 0.0, 0.0, 0.0))</td><td>15.53</td></tr><tr><td>Map(vectorType -> sparse, length -> 6, indices -> List(0, 1), values -> List(1.25, 2.0))</td><td>10.07</td></tr><tr><td>Map(vectorType -> dense, length -> 6, values -> List(1.0, 2.0, 1.0, 0.0, 0.0, 0.0))</td><td>12.6</td></tr><tr><td>Map(vectorType -> dense, length -> 6, values -> List(1.17, 2.0, 1.0, 0.0, 0.0, 0.0))</td><td>32.83</td></tr><tr><td>Map(vectorType -> dense, length -> 6, values -> List(4.67, 3.0, 0.0, 1.0, 0.0, 0.0))</td><td>35.83</td></tr><tr><td>Map(vectorType -> sparse, length -> 6, indices -> List(0, 1), values -> List(5.92, 3.0))</td><td>29.03</td></tr><tr><td>Map(vectorType -> dense, length -> 6, values -> List(2.0, 2.0, 1.0, 1.0, 0.0, 0.0))</td><td>27.18</td></tr><tr><td>Map(vectorType -> dense, length -> 6, values -> List(2.0, 2.0, 1.0, 0.0, 0.0, 0.0))</td><td>22.67</td></tr><tr><td>Map(vectorType -> sparse, length -> 6, indices -> List(0, 1), values -> List(1.75, 2.0))</td><td>17.82</td></tr><tr><td>Map(vectorType -> dense, length -> 6, values -> List(3.0, 2.0, 0.0, 1.0, 2.0, 0.0))</td><td>18.78</td></tr></tbody></table></div>"
      ]
     },
     "metadata": {
      "application/vnd.databricks.v1+output": {
       "addedWidgets": {},
       "aggData": [],
       "aggError": "",
       "aggOverflow": false,
       "aggSchema": [],
       "aggSeriesLimitReached": false,
       "aggType": "",
       "arguments": {},
       "columnCustomDisplayInfos": {},
       "data": [
        [
         {
          "length": 6,
          "values": [
           1.01,
           2.0,
           0.0,
           1.0,
           1.0,
           0.0
          ],
          "vectorType": "dense"
         },
         16.99
        ],
        [
         {
          "length": 6,
          "values": [
           1.66,
           3.0,
           0.0,
           0.0,
           1.0,
           0.0
          ],
          "vectorType": "dense"
         },
         10.34
        ],
        [
         {
          "length": 6,
          "values": [
           3.5,
           3.0,
           0.0,
           0.0,
           1.0,
           0.0
          ],
          "vectorType": "dense"
         },
         21.01
        ],
        [
         {
          "length": 6,
          "values": [
           3.31,
           2.0,
           0.0,
           0.0,
           1.0,
           0.0
          ],
          "vectorType": "dense"
         },
         23.68
        ],
        [
         {
          "length": 6,
          "values": [
           3.61,
           4.0,
           0.0,
           1.0,
           1.0,
           0.0
          ],
          "vectorType": "dense"
         },
         24.59
        ],
        [
         {
          "length": 6,
          "values": [
           4.71,
           4.0,
           0.0,
           0.0,
           1.0,
           0.0
          ],
          "vectorType": "dense"
         },
         25.29
        ],
        [
         {
          "length": 6,
          "values": [
           2.0,
           2.0,
           0.0,
           0.0,
           1.0,
           0.0
          ],
          "vectorType": "dense"
         },
         8.77
        ],
        [
         {
          "length": 6,
          "values": [
           3.12,
           4.0,
           0.0,
           0.0,
           1.0,
           0.0
          ],
          "vectorType": "dense"
         },
         26.88
        ],
        [
         {
          "length": 6,
          "values": [
           1.96,
           2.0,
           0.0,
           0.0,
           1.0,
           0.0
          ],
          "vectorType": "dense"
         },
         15.04
        ],
        [
         {
          "length": 6,
          "values": [
           3.23,
           2.0,
           0.0,
           0.0,
           1.0,
           0.0
          ],
          "vectorType": "dense"
         },
         14.78
        ],
        [
         {
          "length": 6,
          "values": [
           1.71,
           2.0,
           0.0,
           0.0,
           1.0,
           0.0
          ],
          "vectorType": "dense"
         },
         10.27
        ],
        [
         {
          "length": 6,
          "values": [
           5.0,
           4.0,
           0.0,
           1.0,
           1.0,
           0.0
          ],
          "vectorType": "dense"
         },
         35.26
        ],
        [
         {
          "length": 6,
          "values": [
           1.57,
           2.0,
           0.0,
           0.0,
           1.0,
           0.0
          ],
          "vectorType": "dense"
         },
         15.42
        ],
        [
         {
          "length": 6,
          "values": [
           3.0,
           4.0,
           0.0,
           0.0,
           1.0,
           0.0
          ],
          "vectorType": "dense"
         },
         18.43
        ],
        [
         {
          "length": 6,
          "values": [
           3.02,
           2.0,
           0.0,
           1.0,
           1.0,
           0.0
          ],
          "vectorType": "dense"
         },
         14.83
        ],
        [
         {
          "length": 6,
          "values": [
           3.92,
           2.0,
           0.0,
           0.0,
           1.0,
           0.0
          ],
          "vectorType": "dense"
         },
         21.58
        ],
        [
         {
          "length": 6,
          "values": [
           1.67,
           3.0,
           0.0,
           1.0,
           1.0,
           0.0
          ],
          "vectorType": "dense"
         },
         10.33
        ],
        [
         {
          "length": 6,
          "values": [
           3.71,
           3.0,
           0.0,
           0.0,
           1.0,
           0.0
          ],
          "vectorType": "dense"
         },
         16.29
        ],
        [
         {
          "length": 6,
          "values": [
           3.5,
           3.0,
           0.0,
           1.0,
           1.0,
           0.0
          ],
          "vectorType": "dense"
         },
         16.97
        ],
        [
         {
          "indices": [
           0,
           1
          ],
          "length": 6,
          "values": [
           3.35,
           3.0
          ],
          "vectorType": "sparse"
         },
         20.65
        ],
        [
         {
          "indices": [
           0,
           1
          ],
          "length": 6,
          "values": [
           4.08,
           2.0
          ],
          "vectorType": "sparse"
         },
         17.92
        ],
        [
         {
          "length": 6,
          "values": [
           2.75,
           2.0,
           0.0,
           1.0,
           0.0,
           0.0
          ],
          "vectorType": "dense"
         },
         20.29
        ],
        [
         {
          "length": 6,
          "values": [
           2.23,
           2.0,
           0.0,
           1.0,
           0.0,
           0.0
          ],
          "vectorType": "dense"
         },
         15.77
        ],
        [
         {
          "indices": [
           0,
           1
          ],
          "length": 6,
          "values": [
           7.58,
           4.0
          ],
          "vectorType": "sparse"
         },
         39.42
        ],
        [
         {
          "indices": [
           0,
           1
          ],
          "length": 6,
          "values": [
           3.18,
           2.0
          ],
          "vectorType": "sparse"
         },
         19.82
        ],
        [
         {
          "indices": [
           0,
           1
          ],
          "length": 6,
          "values": [
           2.34,
           4.0
          ],
          "vectorType": "sparse"
         },
         17.81
        ],
        [
         {
          "indices": [
           0,
           1
          ],
          "length": 6,
          "values": [
           2.0,
           2.0
          ],
          "vectorType": "sparse"
         },
         13.37
        ],
        [
         {
          "indices": [
           0,
           1
          ],
          "length": 6,
          "values": [
           2.0,
           2.0
          ],
          "vectorType": "sparse"
         },
         12.69
        ],
        [
         {
          "indices": [
           0,
           1
          ],
          "length": 6,
          "values": [
           4.3,
           2.0
          ],
          "vectorType": "sparse"
         },
         21.7
        ],
        [
         {
          "length": 6,
          "values": [
           3.0,
           2.0,
           0.0,
           1.0,
           0.0,
           0.0
          ],
          "vectorType": "dense"
         },
         19.65
        ],
        [
         {
          "indices": [
           0,
           1
          ],
          "length": 6,
          "values": [
           1.45,
           2.0
          ],
          "vectorType": "sparse"
         },
         9.55
        ],
        [
         {
          "indices": [
           0,
           1
          ],
          "length": 6,
          "values": [
           2.5,
           4.0
          ],
          "vectorType": "sparse"
         },
         18.35
        ],
        [
         {
          "length": 6,
          "values": [
           3.0,
           2.0,
           0.0,
           1.0,
           0.0,
           0.0
          ],
          "vectorType": "dense"
         },
         15.06
        ],
        [
         {
          "length": 6,
          "values": [
           2.45,
           4.0,
           0.0,
           1.0,
           0.0,
           0.0
          ],
          "vectorType": "dense"
         },
         20.69
        ],
        [
         {
          "indices": [
           0,
           1
          ],
          "length": 6,
          "values": [
           3.27,
           2.0
          ],
          "vectorType": "sparse"
         },
         17.78
        ],
        [
         {
          "indices": [
           0,
           1
          ],
          "length": 6,
          "values": [
           3.6,
           3.0
          ],
          "vectorType": "sparse"
         },
         24.06
        ],
        [
         {
          "indices": [
           0,
           1
          ],
          "length": 6,
          "values": [
           2.0,
           3.0
          ],
          "vectorType": "sparse"
         },
         16.31
        ],
        [
         {
          "length": 6,
          "values": [
           3.07,
           3.0,
           0.0,
           1.0,
           0.0,
           0.0
          ],
          "vectorType": "dense"
         },
         16.93
        ],
        [
         {
          "indices": [
           0,
           1
          ],
          "length": 6,
          "values": [
           2.31,
           3.0
          ],
          "vectorType": "sparse"
         },
         18.69
        ],
        [
         {
          "indices": [
           0,
           1
          ],
          "length": 6,
          "values": [
           5.0,
           3.0
          ],
          "vectorType": "sparse"
         },
         31.27
        ],
        [
         {
          "indices": [
           0,
           1
          ],
          "length": 6,
          "values": [
           2.24,
           3.0
          ],
          "vectorType": "sparse"
         },
         16.04
        ],
        [
         {
          "length": 6,
          "values": [
           2.54,
           2.0,
           0.0,
           0.0,
           1.0,
           0.0
          ],
          "vectorType": "dense"
         },
         17.46
        ],
        [
         {
          "length": 6,
          "values": [
           3.06,
           2.0,
           0.0,
           0.0,
           1.0,
           0.0
          ],
          "vectorType": "dense"
         },
         13.94
        ],
        [
         {
          "length": 6,
          "values": [
           1.32,
           2.0,
           0.0,
           0.0,
           1.0,
           0.0
          ],
          "vectorType": "dense"
         },
         9.68
        ],
        [
         {
          "length": 6,
          "values": [
           5.6,
           4.0,
           0.0,
           0.0,
           1.0,
           0.0
          ],
          "vectorType": "dense"
         },
         30.4
        ],
        [
         {
          "length": 6,
          "values": [
           3.0,
           2.0,
           0.0,
           0.0,
           1.0,
           0.0
          ],
          "vectorType": "dense"
         },
         18.29
        ],
        [
         {
          "length": 6,
          "values": [
           5.0,
           2.0,
           0.0,
           0.0,
           1.0,
           0.0
          ],
          "vectorType": "dense"
         },
         22.23
        ],
        [
         {
          "length": 6,
          "values": [
           6.0,
           4.0,
           0.0,
           0.0,
           1.0,
           0.0
          ],
          "vectorType": "dense"
         },
         32.4
        ],
        [
         {
          "length": 6,
          "values": [
           2.05,
           3.0,
           0.0,
           0.0,
           1.0,
           0.0
          ],
          "vectorType": "dense"
         },
         28.55
        ],
        [
         {
          "length": 6,
          "values": [
           3.0,
           2.0,
           0.0,
           0.0,
           1.0,
           0.0
          ],
          "vectorType": "dense"
         },
         18.04
        ],
        [
         {
          "length": 6,
          "values": [
           2.5,
           2.0,
           0.0,
           0.0,
           1.0,
           0.0
          ],
          "vectorType": "dense"
         },
         12.54
        ],
        [
         {
          "length": 6,
          "values": [
           2.6,
           2.0,
           0.0,
           1.0,
           1.0,
           0.0
          ],
          "vectorType": "dense"
         },
         10.29
        ],
        [
         {
          "length": 6,
          "values": [
           5.2,
           4.0,
           0.0,
           1.0,
           1.0,
           0.0
          ],
          "vectorType": "dense"
         },
         34.81
        ],
        [
         {
          "length": 6,
          "values": [
           1.56,
           2.0,
           0.0,
           0.0,
           1.0,
           0.0
          ],
          "vectorType": "dense"
         },
         9.94
        ],
        [
         {
          "length": 6,
          "values": [
           4.34,
           4.0,
           0.0,
           0.0,
           1.0,
           0.0
          ],
          "vectorType": "dense"
         },
         25.56
        ],
        [
         {
          "length": 6,
          "values": [
           3.51,
           2.0,
           0.0,
           0.0,
           1.0,
           0.0
          ],
          "vectorType": "dense"
         },
         19.49
        ],
        [
         {
          "length": 6,
          "values": [
           3.0,
           4.0,
           1.0,
           0.0,
           0.0,
           0.0
          ],
          "vectorType": "dense"
         },
         38.01
        ],
        [
         {
          "length": 6,
          "values": [
           1.5,
           2.0,
           0.0,
           1.0,
           0.0,
           0.0
          ],
          "vectorType": "dense"
         },
         26.41
        ],
        [
         {
          "length": 6,
          "values": [
           1.76,
           2.0,
           1.0,
           0.0,
           0.0,
           0.0
          ],
          "vectorType": "dense"
         },
         11.24
        ],
        [
         {
          "indices": [
           0,
           1
          ],
          "length": 6,
          "values": [
           6.73,
           4.0
          ],
          "vectorType": "sparse"
         },
         48.27
        ],
        [
         {
          "length": 6,
          "values": [
           3.21,
           2.0,
           1.0,
           0.0,
           0.0,
           0.0
          ],
          "vectorType": "dense"
         },
         20.29
        ],
        [
         {
          "length": 6,
          "values": [
           2.0,
           2.0,
           1.0,
           0.0,
           0.0,
           0.0
          ],
          "vectorType": "dense"
         },
         13.81
        ],
        [
         {
          "length": 6,
          "values": [
           1.98,
           2.0,
           1.0,
           0.0,
           0.0,
           0.0
          ],
          "vectorType": "dense"
         },
         11.02
        ],
        [
         {
          "length": 6,
          "values": [
           3.76,
           4.0,
           1.0,
           0.0,
           0.0,
           0.0
          ],
          "vectorType": "dense"
         },
         18.29
        ],
        [
         {
          "indices": [
           0,
           1
          ],
          "length": 6,
          "values": [
           2.64,
           3.0
          ],
          "vectorType": "sparse"
         },
         17.59
        ],
        [
         {
          "indices": [
           0,
           1
          ],
          "length": 6,
          "values": [
           3.15,
           3.0
          ],
          "vectorType": "sparse"
         },
         20.08
        ],
        [
         {
          "length": 6,
          "values": [
           2.47,
           2.0,
           0.0,
           1.0,
           0.0,
           0.0
          ],
          "vectorType": "dense"
         },
         16.45
        ],
        [
         {
          "length": 6,
          "values": [
           1.0,
           1.0,
           1.0,
           1.0,
           0.0,
           0.0
          ],
          "vectorType": "dense"
         },
         3.07
        ],
        [
         {
          "indices": [
           0,
           1
          ],
          "length": 6,
          "values": [
           2.01,
           2.0
          ],
          "vectorType": "sparse"
         },
         20.23
        ],
        [
         {
          "length": 6,
          "values": [
           2.09,
           2.0,
           1.0,
           0.0,
           0.0,
           0.0
          ],
          "vectorType": "dense"
         },
         15.01
        ],
        [
         {
          "indices": [
           0,
           1
          ],
          "length": 6,
          "values": [
           1.97,
           2.0
          ],
          "vectorType": "sparse"
         },
         12.02
        ],
        [
         {
          "length": 6,
          "values": [
           3.0,
           3.0,
           0.0,
           1.0,
           0.0,
           0.0
          ],
          "vectorType": "dense"
         },
         17.07
        ],
        [
         {
          "length": 6,
          "values": [
           3.14,
           2.0,
           1.0,
           1.0,
           0.0,
           0.0
          ],
          "vectorType": "dense"
         },
         26.86
        ],
        [
         {
          "length": 6,
          "values": [
           5.0,
           2.0,
           1.0,
           1.0,
           0.0,
           0.0
          ],
          "vectorType": "dense"
         },
         25.28
        ],
        [
         {
          "length": 6,
          "values": [
           2.2,
           2.0,
           0.0,
           1.0,
           0.0,
           0.0
          ],
          "vectorType": "dense"
         },
         14.73
        ],
        [
         {
          "indices": [
           0,
           1
          ],
          "length": 6,
          "values": [
           1.25,
           2.0
          ],
          "vectorType": "sparse"
         },
         10.51
        ],
        [
         {
          "length": 6,
          "values": [
           3.08,
           2.0,
           1.0,
           0.0,
           0.0,
           0.0
          ],
          "vectorType": "dense"
         },
         17.92
        ],
        [
         {
          "length": 6,
          "values": [
           4.0,
           4.0,
           0.0,
           0.0,
           2.0,
           1.0
          ],
          "vectorType": "dense"
         },
         27.2
        ],
        [
         {
          "length": 6,
          "values": [
           3.0,
           2.0,
           0.0,
           0.0,
           2.0,
           1.0
          ],
          "vectorType": "dense"
         },
         22.76
        ],
        [
         {
          "length": 6,
          "values": [
           2.71,
           2.0,
           0.0,
           0.0,
           2.0,
           1.0
          ],
          "vectorType": "dense"
         },
         17.29
        ],
        [
         {
          "length": 6,
          "values": [
           3.0,
           2.0,
           1.0,
           0.0,
           2.0,
           1.0
          ],
          "vectorType": "dense"
         },
         19.44
        ],
        [
         {
          "length": 6,
          "values": [
           3.4,
           2.0,
           0.0,
           0.0,
           2.0,
           1.0
          ],
          "vectorType": "dense"
         },
         16.66
        ],
        [
         {
          "length": 6,
          "values": [
           1.83,
           1.0,
           0.0,
           1.0,
           2.0,
           1.0
          ],
          "vectorType": "dense"
         },
         10.07
        ],
        [
         {
          "length": 6,
          "values": [
           5.0,
           2.0,
           1.0,
           0.0,
           2.0,
           1.0
          ],
          "vectorType": "dense"
         },
         32.68
        ],
        [
         {
          "length": 6,
          "values": [
           2.03,
           2.0,
           0.0,
           0.0,
           2.0,
           1.0
          ],
          "vectorType": "dense"
         },
         15.98
        ],
        [
         {
          "length": 6,
          "values": [
           5.17,
           4.0,
           0.0,
           1.0,
           2.0,
           1.0
          ],
          "vectorType": "dense"
         },
         34.83
        ],
        [
         {
          "length": 6,
          "values": [
           2.0,
           2.0,
           0.0,
           0.0,
           2.0,
           1.0
          ],
          "vectorType": "dense"
         },
         13.03
        ],
        [
         {
          "length": 6,
          "values": [
           4.0,
           2.0,
           0.0,
           0.0,
           2.0,
           1.0
          ],
          "vectorType": "dense"
         },
         18.28
        ],
        [
         {
          "length": 6,
          "values": [
           5.85,
           2.0,
           0.0,
           0.0,
           2.0,
           1.0
          ],
          "vectorType": "dense"
         },
         24.71
        ],
        [
         {
          "length": 6,
          "values": [
           3.0,
           2.0,
           0.0,
           0.0,
           2.0,
           1.0
          ],
          "vectorType": "dense"
         },
         21.16
        ],
        [
         {
          "length": 6,
          "values": [
           3.0,
           2.0,
           1.0,
           0.0,
           3.0,
           0.0
          ],
          "vectorType": "dense"
         },
         28.97
        ],
        [
         {
          "length": 6,
          "values": [
           3.5,
           2.0,
           0.0,
           0.0,
           3.0,
           0.0
          ],
          "vectorType": "dense"
         },
         22.49
        ],
        [
         {
          "length": 6,
          "values": [
           1.0,
           2.0,
           1.0,
           1.0,
           3.0,
           0.0
          ],
          "vectorType": "dense"
         },
         5.75
        ],
        [
         {
          "length": 6,
          "values": [
           4.3,
           2.0,
           1.0,
           1.0,
           3.0,
           0.0
          ],
          "vectorType": "dense"
         },
         16.32
        ],
        [
         {
          "length": 6,
          "values": [
           3.25,
           2.0,
           0.0,
           1.0,
           3.0,
           0.0
          ],
          "vectorType": "dense"
         },
         22.75
        ],
        [
         {
          "length": 6,
          "values": [
           4.73,
           4.0,
           1.0,
           0.0,
           3.0,
           0.0
          ],
          "vectorType": "dense"
         },
         40.17
        ],
        [
         {
          "length": 6,
          "values": [
           4.0,
           2.0,
           1.0,
           0.0,
           3.0,
           0.0
          ],
          "vectorType": "dense"
         },
         27.28
        ],
        [
         {
          "length": 6,
          "values": [
           1.5,
           2.0,
           1.0,
           0.0,
           3.0,
           0.0
          ],
          "vectorType": "dense"
         },
         12.03
        ],
        [
         {
          "length": 6,
          "values": [
           3.0,
           2.0,
           1.0,
           0.0,
           3.0,
           0.0
          ],
          "vectorType": "dense"
         },
         21.01
        ],
        [
         {
          "length": 6,
          "values": [
           1.5,
           2.0,
           0.0,
           0.0,
           3.0,
           0.0
          ],
          "vectorType": "dense"
         },
         12.46
        ],
        [
         {
          "length": 6,
          "values": [
           2.5,
           2.0,
           1.0,
           1.0,
           3.0,
           0.0
          ],
          "vectorType": "dense"
         },
         11.35
        ],
        [
         {
          "length": 6,
          "values": [
           3.0,
           2.0,
           1.0,
           1.0,
           3.0,
           0.0
          ],
          "vectorType": "dense"
         },
         15.38
        ],
        [
         {
          "length": 6,
          "values": [
           2.5,
           3.0,
           1.0,
           1.0,
           0.0,
           0.0
          ],
          "vectorType": "dense"
         },
         44.3
        ],
        [
         {
          "length": 6,
          "values": [
           3.48,
           2.0,
           1.0,
           1.0,
           0.0,
           0.0
          ],
          "vectorType": "dense"
         },
         22.42
        ],
        [
         {
          "length": 6,
          "values": [
           4.08,
           2.0,
           0.0,
           1.0,
           0.0,
           0.0
          ],
          "vectorType": "dense"
         },
         20.92
        ],
        [
         {
          "length": 6,
          "values": [
           1.64,
           2.0,
           1.0,
           0.0,
           0.0,
           0.0
          ],
          "vectorType": "dense"
         },
         15.36
        ],
        [
         {
          "length": 6,
          "values": [
           4.06,
           2.0,
           1.0,
           0.0,
           0.0,
           0.0
          ],
          "vectorType": "dense"
         },
         20.49
        ],
        [
         {
          "length": 6,
          "values": [
           4.29,
           2.0,
           1.0,
           0.0,
           0.0,
           0.0
          ],
          "vectorType": "dense"
         },
         25.21
        ],
        [
         {
          "indices": [
           0,
           1
          ],
          "length": 6,
          "values": [
           3.76,
           2.0
          ],
          "vectorType": "sparse"
         },
         18.24
        ],
        [
         {
          "length": 6,
          "values": [
           4.0,
           2.0,
           1.0,
           1.0,
           0.0,
           0.0
          ],
          "vectorType": "dense"
         },
         14.31
        ],
        [
         {
          "indices": [
           0,
           1
          ],
          "length": 6,
          "values": [
           3.0,
           2.0
          ],
          "vectorType": "sparse"
         },
         14.0
        ],
        [
         {
          "length": 6,
          "values": [
           1.0,
           1.0,
           0.0,
           1.0,
           0.0,
           0.0
          ],
          "vectorType": "dense"
         },
         7.25
        ],
        [
         {
          "length": 6,
          "values": [
           4.0,
           3.0,
           0.0,
           0.0,
           1.0,
           0.0
          ],
          "vectorType": "dense"
         },
         38.07
        ],
        [
         {
          "length": 6,
          "values": [
           2.55,
           2.0,
           0.0,
           0.0,
           1.0,
           0.0
          ],
          "vectorType": "dense"
         },
         23.95
        ],
        [
         {
          "length": 6,
          "values": [
           4.0,
           3.0,
           0.0,
           1.0,
           1.0,
           0.0
          ],
          "vectorType": "dense"
         },
         25.71
        ],
        [
         {
          "length": 6,
          "values": [
           3.5,
           2.0,
           0.0,
           1.0,
           1.0,
           0.0
          ],
          "vectorType": "dense"
         },
         17.31
        ],
        [
         {
          "length": 6,
          "values": [
           5.07,
           4.0,
           0.0,
           0.0,
           1.0,
           0.0
          ],
          "vectorType": "dense"
         },
         29.93
        ],
        [
         {
          "length": 6,
          "values": [
           1.5,
           2.0,
           0.0,
           1.0,
           2.0,
           1.0
          ],
          "vectorType": "dense"
         },
         10.65
        ],
        [
         {
          "length": 6,
          "values": [
           1.8,
           2.0,
           0.0,
           1.0,
           2.0,
           1.0
          ],
          "vectorType": "dense"
         },
         12.43
        ],
        [
         {
          "length": 6,
          "values": [
           2.92,
           4.0,
           0.0,
           1.0,
           2.0,
           1.0
          ],
          "vectorType": "dense"
         },
         24.08
        ],
        [
         {
          "length": 6,
          "values": [
           2.31,
           2.0,
           0.0,
           0.0,
           2.0,
           1.0
          ],
          "vectorType": "dense"
         },
         11.69
        ],
        [
         {
          "length": 6,
          "values": [
           1.68,
           2.0,
           0.0,
           1.0,
           2.0,
           1.0
          ],
          "vectorType": "dense"
         },
         13.42
        ],
        [
         {
          "length": 6,
          "values": [
           2.5,
           2.0,
           0.0,
           0.0,
           2.0,
           1.0
          ],
          "vectorType": "dense"
         },
         14.26
        ],
        [
         {
          "length": 6,
          "values": [
           2.0,
           2.0,
           0.0,
           0.0,
           2.0,
           1.0
          ],
          "vectorType": "dense"
         },
         15.95
        ],
        [
         {
          "length": 6,
          "values": [
           2.52,
           2.0,
           0.0,
           1.0,
           2.0,
           1.0
          ],
          "vectorType": "dense"
         },
         12.48
        ],
        [
         {
          "length": 6,
          "values": [
           4.2,
           6.0,
           0.0,
           1.0,
           2.0,
           1.0
          ],
          "vectorType": "dense"
         },
         29.8
        ],
        [
         {
          "length": 6,
          "values": [
           1.48,
           2.0,
           0.0,
           0.0,
           2.0,
           1.0
          ],
          "vectorType": "dense"
         },
         8.52
        ],
        [
         {
          "length": 6,
          "values": [
           2.0,
           2.0,
           0.0,
           1.0,
           2.0,
           1.0
          ],
          "vectorType": "dense"
         },
         14.52
        ],
        [
         {
          "length": 6,
          "values": [
           2.0,
           2.0,
           0.0,
           1.0,
           2.0,
           1.0
          ],
          "vectorType": "dense"
         },
         11.38
        ],
        [
         {
          "length": 6,
          "values": [
           2.18,
           3.0,
           0.0,
           0.0,
           2.0,
           1.0
          ],
          "vectorType": "dense"
         },
         22.82
        ],
        [
         {
          "length": 6,
          "values": [
           1.5,
           2.0,
           0.0,
           0.0,
           2.0,
           1.0
          ],
          "vectorType": "dense"
         },
         19.08
        ],
        [
         {
          "length": 6,
          "values": [
           2.83,
           2.0,
           0.0,
           1.0,
           2.0,
           1.0
          ],
          "vectorType": "dense"
         },
         20.27
        ],
        [
         {
          "length": 6,
          "values": [
           1.5,
           2.0,
           0.0,
           1.0,
           2.0,
           1.0
          ],
          "vectorType": "dense"
         },
         11.17
        ],
        [
         {
          "length": 6,
          "values": [
           2.0,
           2.0,
           0.0,
           1.0,
           2.0,
           1.0
          ],
          "vectorType": "dense"
         },
         12.26
        ],
        [
         {
          "length": 6,
          "values": [
           3.25,
           2.0,
           0.0,
           1.0,
           2.0,
           1.0
          ],
          "vectorType": "dense"
         },
         18.26
        ],
        [
         {
          "length": 6,
          "values": [
           1.25,
           2.0,
           0.0,
           1.0,
           2.0,
           1.0
          ],
          "vectorType": "dense"
         },
         8.51
        ],
        [
         {
          "length": 6,
          "values": [
           2.0,
           2.0,
           0.0,
           1.0,
           2.0,
           1.0
          ],
          "vectorType": "dense"
         },
         10.33
        ],
        [
         {
          "length": 6,
          "values": [
           2.0,
           2.0,
           0.0,
           1.0,
           2.0,
           1.0
          ],
          "vectorType": "dense"
         },
         14.15
        ],
        [
         {
          "length": 6,
          "values": [
           2.0,
           2.0,
           1.0,
           0.0,
           2.0,
           1.0
          ],
          "vectorType": "dense"
         },
         16.0
        ],
        [
         {
          "length": 6,
          "values": [
           2.75,
           2.0,
           0.0,
           1.0,
           2.0,
           1.0
          ],
          "vectorType": "dense"
         },
         13.16
        ],
        [
         {
          "length": 6,
          "values": [
           3.5,
           2.0,
           0.0,
           1.0,
           2.0,
           1.0
          ],
          "vectorType": "dense"
         },
         17.47
        ],
        [
         {
          "length": 6,
          "values": [
           6.7,
           6.0,
           0.0,
           0.0,
           2.0,
           1.0
          ],
          "vectorType": "dense"
         },
         34.3
        ],
        [
         {
          "length": 6,
          "values": [
           5.0,
           5.0,
           0.0,
           0.0,
           2.0,
           1.0
          ],
          "vectorType": "dense"
         },
         41.19
        ],
        [
         {
          "length": 6,
          "values": [
           5.0,
           6.0,
           0.0,
           1.0,
           2.0,
           1.0
          ],
          "vectorType": "dense"
         },
         27.05
        ],
        [
         {
          "length": 6,
          "values": [
           2.3,
           2.0,
           0.0,
           1.0,
           2.0,
           1.0
          ],
          "vectorType": "dense"
         },
         16.43
        ],
        [
         {
          "length": 6,
          "values": [
           1.5,
           2.0,
           0.0,
           1.0,
           2.0,
           1.0
          ],
          "vectorType": "dense"
         },
         8.35
        ],
        [
         {
          "length": 6,
          "values": [
           1.36,
           3.0,
           0.0,
           1.0,
           2.0,
           1.0
          ],
          "vectorType": "dense"
         },
         18.64
        ],
        [
         {
          "length": 6,
          "values": [
           1.63,
           2.0,
           0.0,
           1.0,
           2.0,
           1.0
          ],
          "vectorType": "dense"
         },
         11.87
        ],
        [
         {
          "length": 6,
          "values": [
           1.73,
           2.0,
           0.0,
           0.0,
           2.0,
           1.0
          ],
          "vectorType": "dense"
         },
         9.78
        ],
        [
         {
          "length": 6,
          "values": [
           2.0,
           2.0,
           0.0,
           0.0,
           2.0,
           1.0
          ],
          "vectorType": "dense"
         },
         7.51
        ],
        [
         {
          "length": 6,
          "values": [
           2.5,
           2.0,
           0.0,
           0.0,
           1.0,
           0.0
          ],
          "vectorType": "dense"
         },
         14.07
        ],
        [
         {
          "length": 6,
          "values": [
           2.0,
           2.0,
           0.0,
           0.0,
           1.0,
           0.0
          ],
          "vectorType": "dense"
         },
         13.13
        ],
        [
         {
          "length": 6,
          "values": [
           2.74,
           3.0,
           0.0,
           0.0,
           1.0,
           0.0
          ],
          "vectorType": "dense"
         },
         17.26
        ],
        [
         {
          "length": 6,
          "values": [
           2.0,
           4.0,
           0.0,
           0.0,
           1.0,
           0.0
          ],
          "vectorType": "dense"
         },
         24.55
        ],
        [
         {
          "length": 6,
          "values": [
           2.0,
           4.0,
           0.0,
           0.0,
           1.0,
           0.0
          ],
          "vectorType": "dense"
         },
         19.77
        ],
        [
         {
          "length": 6,
          "values": [
           5.14,
           5.0,
           0.0,
           1.0,
           1.0,
           0.0
          ],
          "vectorType": "dense"
         },
         29.85
        ],
        [
         {
          "length": 6,
          "values": [
           5.0,
           6.0,
           0.0,
           0.0,
           1.0,
           0.0
          ],
          "vectorType": "dense"
         },
         48.17
        ],
        [
         {
          "length": 6,
          "values": [
           3.75,
           4.0,
           0.0,
           1.0,
           1.0,
           0.0
          ],
          "vectorType": "dense"
         },
         25.0
        ],
        [
         {
          "length": 6,
          "values": [
           2.61,
           2.0,
           0.0,
           1.0,
           1.0,
           0.0
          ],
          "vectorType": "dense"
         },
         13.39
        ],
        [
         {
          "length": 6,
          "values": [
           2.0,
           4.0,
           0.0,
           0.0,
           1.0,
           0.0
          ],
          "vectorType": "dense"
         },
         16.49
        ],
        [
         {
          "length": 6,
          "values": [
           3.5,
           4.0,
           0.0,
           0.0,
           1.0,
           0.0
          ],
          "vectorType": "dense"
         },
         21.5
        ],
        [
         {
          "length": 6,
          "values": [
           2.5,
           2.0,
           0.0,
           0.0,
           1.0,
           0.0
          ],
          "vectorType": "dense"
         },
         12.66
        ],
        [
         {
          "length": 6,
          "values": [
           2.0,
           3.0,
           0.0,
           1.0,
           1.0,
           0.0
          ],
          "vectorType": "dense"
         },
         16.21
        ],
        [
         {
          "length": 6,
          "values": [
           2.0,
           2.0,
           0.0,
           0.0,
           1.0,
           0.0
          ],
          "vectorType": "dense"
         },
         13.81
        ],
        [
         {
          "length": 6,
          "values": [
           3.0,
           2.0,
           1.0,
           1.0,
           1.0,
           0.0
          ],
          "vectorType": "dense"
         },
         17.51
        ],
        [
         {
          "length": 6,
          "values": [
           3.48,
           3.0,
           0.0,
           0.0,
           1.0,
           0.0
          ],
          "vectorType": "dense"
         },
         24.52
        ],
        [
         {
          "length": 6,
          "values": [
           2.24,
           2.0,
           0.0,
           0.0,
           1.0,
           0.0
          ],
          "vectorType": "dense"
         },
         20.76
        ],
        [
         {
          "length": 6,
          "values": [
           4.5,
           4.0,
           0.0,
           0.0,
           1.0,
           0.0
          ],
          "vectorType": "dense"
         },
         31.71
        ],
        [
         {
          "length": 6,
          "values": [
           1.61,
           2.0,
           1.0,
           1.0,
           0.0,
           0.0
          ],
          "vectorType": "dense"
         },
         10.59
        ],
        [
         {
          "length": 6,
          "values": [
           2.0,
           2.0,
           1.0,
           1.0,
           0.0,
           0.0
          ],
          "vectorType": "dense"
         },
         10.63
        ],
        [
         {
          "length": 6,
          "values": [
           10.0,
           3.0,
           1.0,
           0.0,
           0.0,
           0.0
          ],
          "vectorType": "dense"
         },
         50.81
        ],
        [
         {
          "length": 6,
          "values": [
           3.16,
           2.0,
           1.0,
           0.0,
           0.0,
           0.0
          ],
          "vectorType": "dense"
         },
         15.81
        ],
        [
         {
          "length": 6,
          "values": [
           5.15,
           2.0,
           1.0,
           0.0,
           1.0,
           0.0
          ],
          "vectorType": "dense"
         },
         7.25
        ],
        [
         {
          "length": 6,
          "values": [
           3.18,
           2.0,
           1.0,
           0.0,
           1.0,
           0.0
          ],
          "vectorType": "dense"
         },
         31.85
        ],
        [
         {
          "length": 6,
          "values": [
           4.0,
           2.0,
           1.0,
           0.0,
           1.0,
           0.0
          ],
          "vectorType": "dense"
         },
         16.82
        ],
        [
         {
          "length": 6,
          "values": [
           3.11,
           2.0,
           1.0,
           0.0,
           1.0,
           0.0
          ],
          "vectorType": "dense"
         },
         32.9
        ],
        [
         {
          "length": 6,
          "values": [
           2.0,
           2.0,
           1.0,
           0.0,
           1.0,
           0.0
          ],
          "vectorType": "dense"
         },
         17.89
        ],
        [
         {
          "length": 6,
          "values": [
           2.0,
           2.0,
           1.0,
           0.0,
           1.0,
           0.0
          ],
          "vectorType": "dense"
         },
         14.48
        ],
        [
         {
          "length": 6,
          "values": [
           4.0,
           2.0,
           1.0,
           1.0,
           1.0,
           0.0
          ],
          "vectorType": "dense"
         },
         9.6
        ],
        [
         {
          "length": 6,
          "values": [
           3.55,
           2.0,
           1.0,
           0.0,
           1.0,
           0.0
          ],
          "vectorType": "dense"
         },
         34.63
        ],
        [
         {
          "length": 6,
          "values": [
           3.68,
           4.0,
           1.0,
           0.0,
           1.0,
           0.0
          ],
          "vectorType": "dense"
         },
         34.65
        ],
        [
         {
          "length": 6,
          "values": [
           5.65,
           2.0,
           1.0,
           0.0,
           1.0,
           0.0
          ],
          "vectorType": "dense"
         },
         23.33
        ],
        [
         {
          "length": 6,
          "values": [
           3.5,
           3.0,
           1.0,
           0.0,
           1.0,
           0.0
          ],
          "vectorType": "dense"
         },
         45.35
        ],
        [
         {
          "length": 6,
          "values": [
           6.5,
           4.0,
           1.0,
           0.0,
           1.0,
           0.0
          ],
          "vectorType": "dense"
         },
         23.17
        ],
        [
         {
          "length": 6,
          "values": [
           3.0,
           2.0,
           1.0,
           0.0,
           1.0,
           0.0
          ],
          "vectorType": "dense"
         },
         40.55
        ],
        [
         {
          "length": 6,
          "values": [
           5.0,
           5.0,
           0.0,
           0.0,
           1.0,
           0.0
          ],
          "vectorType": "dense"
         },
         20.69
        ],
        [
         {
          "length": 6,
          "values": [
           3.5,
           3.0,
           1.0,
           1.0,
           1.0,
           0.0
          ],
          "vectorType": "dense"
         },
         20.9
        ],
        [
         {
          "length": 6,
          "values": [
           2.0,
           5.0,
           1.0,
           0.0,
           1.0,
           0.0
          ],
          "vectorType": "dense"
         },
         30.46
        ],
        [
         {
          "length": 6,
          "values": [
           3.5,
           3.0,
           1.0,
           1.0,
           1.0,
           0.0
          ],
          "vectorType": "dense"
         },
         18.15
        ],
        [
         {
          "length": 6,
          "values": [
           4.0,
           3.0,
           1.0,
           0.0,
           1.0,
           0.0
          ],
          "vectorType": "dense"
         },
         23.1
        ],
        [
         {
          "length": 6,
          "values": [
           1.5,
           2.0,
           1.0,
           0.0,
           1.0,
           0.0
          ],
          "vectorType": "dense"
         },
         15.69
        ],
        [
         {
          "length": 6,
          "values": [
           4.19,
           2.0,
           1.0,
           1.0,
           2.0,
           1.0
          ],
          "vectorType": "dense"
         },
         19.81
        ],
        [
         {
          "length": 6,
          "values": [
           2.56,
           2.0,
           1.0,
           0.0,
           2.0,
           1.0
          ],
          "vectorType": "dense"
         },
         28.44
        ],
        [
         {
          "length": 6,
          "values": [
           2.02,
           2.0,
           1.0,
           0.0,
           2.0,
           1.0
          ],
          "vectorType": "dense"
         },
         15.48
        ],
        [
         {
          "length": 6,
          "values": [
           4.0,
           2.0,
           1.0,
           0.0,
           2.0,
           1.0
          ],
          "vectorType": "dense"
         },
         16.58
        ],
        [
         {
          "length": 6,
          "values": [
           1.44,
           2.0,
           0.0,
           0.0,
           2.0,
           1.0
          ],
          "vectorType": "dense"
         },
         7.56
        ],
        [
         {
          "length": 6,
          "values": [
           2.0,
           2.0,
           1.0,
           0.0,
           2.0,
           1.0
          ],
          "vectorType": "dense"
         },
         10.34
        ],
        [
         {
          "length": 6,
          "values": [
           5.0,
           4.0,
           1.0,
           1.0,
           2.0,
           1.0
          ],
          "vectorType": "dense"
         },
         43.11
        ],
        [
         {
          "length": 6,
          "values": [
           2.0,
           2.0,
           1.0,
           1.0,
           2.0,
           1.0
          ],
          "vectorType": "dense"
         },
         13.0
        ],
        [
         {
          "length": 6,
          "values": [
           2.0,
           2.0,
           1.0,
           0.0,
           2.0,
           1.0
          ],
          "vectorType": "dense"
         },
         13.51
        ],
        [
         {
          "length": 6,
          "values": [
           4.0,
           3.0,
           1.0,
           0.0,
           2.0,
           1.0
          ],
          "vectorType": "dense"
         },
         18.71
        ],
        [
         {
          "length": 6,
          "values": [
           2.01,
           2.0,
           1.0,
           1.0,
           2.0,
           1.0
          ],
          "vectorType": "dense"
         },
         12.74
        ],
        [
         {
          "length": 6,
          "values": [
           2.0,
           2.0,
           1.0,
           1.0,
           2.0,
           1.0
          ],
          "vectorType": "dense"
         },
         13.0
        ],
        [
         {
          "length": 6,
          "values": [
           2.5,
           2.0,
           1.0,
           1.0,
           2.0,
           1.0
          ],
          "vectorType": "dense"
         },
         16.4
        ],
        [
         {
          "length": 6,
          "values": [
           4.0,
           4.0,
           1.0,
           0.0,
           2.0,
           1.0
          ],
          "vectorType": "dense"
         },
         20.53
        ],
        [
         {
          "length": 6,
          "values": [
           3.23,
           3.0,
           1.0,
           1.0,
           2.0,
           1.0
          ],
          "vectorType": "dense"
         },
         16.47
        ],
        [
         {
          "length": 6,
          "values": [
           3.41,
           3.0,
           1.0,
           0.0,
           0.0,
           0.0
          ],
          "vectorType": "dense"
         },
         26.59
        ],
        [
         {
          "length": 6,
          "values": [
           3.0,
           4.0,
           1.0,
           0.0,
           0.0,
           0.0
          ],
          "vectorType": "dense"
         },
         38.73
        ],
        [
         {
          "length": 6,
          "values": [
           2.03,
           2.0,
           1.0,
           0.0,
           0.0,
           0.0
          ],
          "vectorType": "dense"
         },
         24.27
        ],
        [
         {
          "length": 6,
          "values": [
           2.23,
           2.0,
           1.0,
           1.0,
           0.0,
           0.0
          ],
          "vectorType": "dense"
         },
         12.76
        ],
        [
         {
          "length": 6,
          "values": [
           2.0,
           3.0,
           1.0,
           0.0,
           0.0,
           0.0
          ],
          "vectorType": "dense"
         },
         30.06
        ],
        [
         {
          "length": 6,
          "values": [
           5.16,
           4.0,
           1.0,
           0.0,
           0.0,
           0.0
          ],
          "vectorType": "dense"
         },
         25.89
        ],
        [
         {
          "indices": [
           0,
           1
          ],
          "length": 6,
          "values": [
           9.0,
           4.0
          ],
          "vectorType": "sparse"
         },
         48.33
        ],
        [
         {
          "length": 6,
          "values": [
           2.5,
           2.0,
           1.0,
           1.0,
           0.0,
           0.0
          ],
          "vectorType": "dense"
         },
         13.27
        ],
        [
         {
          "length": 6,
          "values": [
           6.5,
           3.0,
           1.0,
           1.0,
           0.0,
           0.0
          ],
          "vectorType": "dense"
         },
         28.17
        ],
        [
         {
          "length": 6,
          "values": [
           1.1,
           2.0,
           1.0,
           1.0,
           0.0,
           0.0
          ],
          "vectorType": "dense"
         },
         12.9
        ],
        [
         {
          "length": 6,
          "values": [
           3.0,
           5.0,
           1.0,
           0.0,
           0.0,
           0.0
          ],
          "vectorType": "dense"
         },
         28.15
        ],
        [
         {
          "length": 6,
          "values": [
           1.5,
           2.0,
           1.0,
           0.0,
           0.0,
           0.0
          ],
          "vectorType": "dense"
         },
         11.59
        ],
        [
         {
          "length": 6,
          "values": [
           1.44,
           2.0,
           1.0,
           0.0,
           0.0,
           0.0
          ],
          "vectorType": "dense"
         },
         7.74
        ],
        [
         {
          "length": 6,
          "values": [
           3.09,
           4.0,
           1.0,
           1.0,
           0.0,
           0.0
          ],
          "vectorType": "dense"
         },
         30.14
        ],
        [
         {
          "length": 6,
          "values": [
           2.2,
           2.0,
           1.0,
           0.0,
           3.0,
           1.0
          ],
          "vectorType": "dense"
         },
         12.16
        ],
        [
         {
          "length": 6,
          "values": [
           3.48,
           2.0,
           1.0,
           1.0,
           3.0,
           1.0
          ],
          "vectorType": "dense"
         },
         13.42
        ],
        [
         {
          "length": 6,
          "values": [
           1.92,
           1.0,
           1.0,
           0.0,
           3.0,
           1.0
          ],
          "vectorType": "dense"
         },
         8.58
        ],
        [
         {
          "length": 6,
          "values": [
           3.0,
           3.0,
           0.0,
           1.0,
           3.0,
           1.0
          ],
          "vectorType": "dense"
         },
         15.98
        ],
        [
         {
          "length": 6,
          "values": [
           1.58,
           2.0,
           1.0,
           0.0,
           3.0,
           1.0
          ],
          "vectorType": "dense"
         },
         13.42
        ],
        [
         {
          "length": 6,
          "values": [
           2.5,
           2.0,
           1.0,
           1.0,
           3.0,
           1.0
          ],
          "vectorType": "dense"
         },
         16.27
        ],
        [
         {
          "length": 6,
          "values": [
           2.0,
           2.0,
           1.0,
           1.0,
           3.0,
           1.0
          ],
          "vectorType": "dense"
         },
         10.09
        ],
        [
         {
          "indices": [
           0,
           1
          ],
          "length": 6,
          "values": [
           3.0,
           4.0
          ],
          "vectorType": "sparse"
         },
         20.45
        ],
        [
         {
          "indices": [
           0,
           1
          ],
          "length": 6,
          "values": [
           2.72,
           2.0
          ],
          "vectorType": "sparse"
         },
         13.28
        ],
        [
         {
          "length": 6,
          "values": [
           2.88,
           2.0,
           1.0,
           1.0,
           0.0,
           0.0
          ],
          "vectorType": "dense"
         },
         22.12
        ],
        [
         {
          "length": 6,
          "values": [
           2.0,
           4.0,
           1.0,
           0.0,
           0.0,
           0.0
          ],
          "vectorType": "dense"
         },
         24.01
        ],
        [
         {
          "length": 6,
          "values": [
           3.0,
           3.0,
           1.0,
           0.0,
           0.0,
           0.0
          ],
          "vectorType": "dense"
         },
         15.69
        ],
        [
         {
          "indices": [
           0,
           1
          ],
          "length": 6,
          "values": [
           3.39,
           2.0
          ],
          "vectorType": "sparse"
         },
         11.61
        ],
        [
         {
          "indices": [
           0,
           1
          ],
          "length": 6,
          "values": [
           1.47,
           2.0
          ],
          "vectorType": "sparse"
         },
         10.77
        ],
        [
         {
          "length": 6,
          "values": [
           3.0,
           2.0,
           1.0,
           0.0,
           0.0,
           0.0
          ],
          "vectorType": "dense"
         },
         15.53
        ],
        [
         {
          "indices": [
           0,
           1
          ],
          "length": 6,
          "values": [
           1.25,
           2.0
          ],
          "vectorType": "sparse"
         },
         10.07
        ],
        [
         {
          "length": 6,
          "values": [
           1.0,
           2.0,
           1.0,
           0.0,
           0.0,
           0.0
          ],
          "vectorType": "dense"
         },
         12.6
        ],
        [
         {
          "length": 6,
          "values": [
           1.17,
           2.0,
           1.0,
           0.0,
           0.0,
           0.0
          ],
          "vectorType": "dense"
         },
         32.83
        ],
        [
         {
          "length": 6,
          "values": [
           4.67,
           3.0,
           0.0,
           1.0,
           0.0,
           0.0
          ],
          "vectorType": "dense"
         },
         35.83
        ],
        [
         {
          "indices": [
           0,
           1
          ],
          "length": 6,
          "values": [
           5.92,
           3.0
          ],
          "vectorType": "sparse"
         },
         29.03
        ],
        [
         {
          "length": 6,
          "values": [
           2.0,
           2.0,
           1.0,
           1.0,
           0.0,
           0.0
          ],
          "vectorType": "dense"
         },
         27.18
        ],
        [
         {
          "length": 6,
          "values": [
           2.0,
           2.0,
           1.0,
           0.0,
           0.0,
           0.0
          ],
          "vectorType": "dense"
         },
         22.67
        ],
        [
         {
          "indices": [
           0,
           1
          ],
          "length": 6,
          "values": [
           1.75,
           2.0
          ],
          "vectorType": "sparse"
         },
         17.82
        ],
        [
         {
          "length": 6,
          "values": [
           3.0,
           2.0,
           0.0,
           1.0,
           2.0,
           0.0
          ],
          "vectorType": "dense"
         },
         18.78
        ]
       ],
       "datasetInfos": [],
       "dbfsResultPath": null,
       "isJsonSchema": true,
       "metadata": {},
       "overflow": false,
       "plotOptions": {
        "customPlotOptions": {},
        "displayType": "table",
        "pivotAggregation": null,
        "pivotColumns": null,
        "xColumns": null,
        "yColumns": null
       },
       "removedWidgets": [],
       "schema": [
        {
         "metadata": "{\"ml_attr\":{\"attrs\":{\"numeric\":[{\"idx\":0,\"name\":\"tip\"},{\"idx\":1,\"name\":\"size\"}],\"nominal\":[{\"vals\":[\"No\",\"Yes\"],\"idx\":2,\"name\":\"smoker_indexed\"},{\"vals\":[\"Male\",\"Female\"],\"idx\":3,\"name\":\"sex_indexed\"},{\"vals\":[\"Sat\",\"Sun\",\"Thur\",\"Fri\"],\"idx\":4,\"name\":\"day_indexed\"},{\"vals\":[\"Dinner\",\"Lunch\"],\"idx\":5,\"name\":\"time_indexed\"}]},\"num_attrs\":6}}",
         "name": "Independent Features",
         "type": "{\"type\":\"udt\",\"class\":\"org.apache.spark.ml.linalg.VectorUDT\",\"pyClass\":\"pyspark.ml.linalg.VectorUDT\",\"sqlType\":{\"type\":\"struct\",\"fields\":[{\"name\":\"type\",\"type\":\"byte\",\"nullable\":false,\"metadata\":{}},{\"name\":\"size\",\"type\":\"integer\",\"nullable\":true,\"metadata\":{}},{\"name\":\"indices\",\"type\":{\"type\":\"array\",\"elementType\":\"integer\",\"containsNull\":false},\"nullable\":true,\"metadata\":{}},{\"name\":\"values\",\"type\":{\"type\":\"array\",\"elementType\":\"double\",\"containsNull\":false},\"nullable\":true,\"metadata\":{}}]}}"
        },
        {
         "metadata": "{}",
         "name": "total_bill",
         "type": "\"double\""
        }
       ],
       "type": "table"
      }
     },
     "output_type": "display_data"
    }
   ],
   "source": [
    "finalized_data.display()"
   ]
  },
  {
   "cell_type": "code",
   "execution_count": 0,
   "metadata": {
    "application/vnd.databricks.v1+cell": {
     "cellMetadata": {
      "byteLimit": 2048000,
      "rowLimit": 10000
     },
     "inputWidgets": {},
     "nuid": "91f10f6d-6015-4134-889b-bac87ded176d",
     "showTitle": false,
     "title": ""
    }
   },
   "outputs": [],
   "source": [
    "from pyspark.ml.regression import LinearRegression\n",
    "\n",
    "# Train - test split\n",
    "train_data, test_data = finalized_data.randomSplit([0.8, 0.2])\n",
    "regressor = LinearRegression(featuresCol='Independent Features', labelCol='total_bill')\n",
    "\n",
    "regressor = regressor.fit(train_data)"
   ]
  },
  {
   "cell_type": "code",
   "execution_count": 0,
   "metadata": {
    "application/vnd.databricks.v1+cell": {
     "cellMetadata": {
      "byteLimit": 2048000,
      "rowLimit": 10000
     },
     "inputWidgets": {},
     "nuid": "9dc5d75b-e2b0-481a-a462-bdb163d92a3f",
     "showTitle": false,
     "title": ""
    }
   },
   "outputs": [
    {
     "output_type": "stream",
     "name": "stdout",
     "output_type": "stream",
     "text": [
      "Out[39]: DenseVector([3.2465, 3.4607, 2.831, -1.8624, -0.4654, -0.368])"
     ]
    }
   ],
   "source": [
    "regressor.coefficients"
   ]
  },
  {
   "cell_type": "code",
   "execution_count": 0,
   "metadata": {
    "application/vnd.databricks.v1+cell": {
     "cellMetadata": {
      "byteLimit": 2048000,
      "rowLimit": 10000
     },
     "inputWidgets": {},
     "nuid": "272504c4-9552-47ae-9b62-1f94c7caad48",
     "showTitle": false,
     "title": ""
    }
   },
   "outputs": [
    {
     "output_type": "stream",
     "name": "stdout",
     "output_type": "stream",
     "text": [
      "Out[40]: 1.366651356867168"
     ]
    }
   ],
   "source": [
    "regressor.intercept"
   ]
  },
  {
   "cell_type": "code",
   "execution_count": 0,
   "metadata": {
    "application/vnd.databricks.v1+cell": {
     "cellMetadata": {
      "byteLimit": 2048000,
      "rowLimit": 10000
     },
     "inputWidgets": {},
     "nuid": "5796e77d-84a2-4ce7-b26c-aebb2430276e",
     "showTitle": false,
     "title": ""
    }
   },
   "outputs": [],
   "source": [
    "### Preds\n",
    "preds = regressor.evaluate(test_data)"
   ]
  },
  {
   "cell_type": "code",
   "execution_count": 0,
   "metadata": {
    "application/vnd.databricks.v1+cell": {
     "cellMetadata": {
      "byteLimit": 2048000,
      "rowLimit": 10000
     },
     "inputWidgets": {},
     "nuid": "f5e37e57-82bd-4a41-a9ed-ec85bf3b6353",
     "showTitle": false,
     "title": ""
    }
   },
   "outputs": [
    {
     "output_type": "display_data",
     "data": {
      "text/html": [
       "<style scoped>\n",
       "  .table-result-container {\n",
       "    max-height: 300px;\n",
       "    overflow: auto;\n",
       "  }\n",
       "  table, th, td {\n",
       "    border: 1px solid black;\n",
       "    border-collapse: collapse;\n",
       "  }\n",
       "  th, td {\n",
       "    padding: 5px;\n",
       "  }\n",
       "  th {\n",
       "    text-align: left;\n",
       "  }\n",
       "</style><div class='table-result-container'><table class='table-result'><thead style='background-color: white'><tr><th>Independent Features</th><th>total_bill</th><th>prediction</th></tr></thead><tbody><tr><td>Map(vectorType -> sparse, length -> 6, indices -> List(0, 1), values -> List(2.0, 2.0))</td><td>13.37</td><td>14.78102946861006</td></tr><tr><td>Map(vectorType -> sparse, length -> 6, indices -> List(0, 1), values -> List(2.0, 3.0))</td><td>16.31</td><td>18.24175070417487</td></tr><tr><td>Map(vectorType -> sparse, length -> 6, indices -> List(0, 1), values -> List(2.24, 3.0))</td><td>16.04</td><td>19.02090298104846</td></tr><tr><td>Map(vectorType -> sparse, length -> 6, indices -> List(0, 1), values -> List(2.34, 4.0))</td><td>17.81</td><td>22.806270998643935</td></tr><tr><td>Map(vectorType -> sparse, length -> 6, indices -> List(0, 1), values -> List(3.18, 2.0))</td><td>19.82</td><td>18.611861496571894</td></tr><tr><td>Map(vectorType -> sparse, length -> 6, indices -> List(0, 1), values -> List(5.92, 3.0))</td><td>29.03</td><td>30.967904559776883</td></tr><tr><td>Map(vectorType -> dense, length -> 6, values -> List(1.0, 1.0, 0.0, 1.0, 0.0, 0.0))</td><td>7.25</td><td>6.2113982631599205</td></tr><tr><td>Map(vectorType -> dense, length -> 6, values -> List(1.0, 2.0, 1.0, 0.0, 0.0, 0.0))</td><td>12.6</td><td>14.365535675001324</td></tr><tr><td>Map(vectorType -> dense, length -> 6, values -> List(1.01, 2.0, 0.0, 1.0, 1.0, 0.0))</td><td>16.99</td><td>9.239175399867241</td></tr><tr><td>Map(vectorType -> dense, length -> 6, values -> List(1.36, 3.0, 0.0, 1.0, 2.0, 1.0))</td><td>18.64</td><td>13.002712538940537</td></tr><tr><td>Map(vectorType -> dense, length -> 6, values -> List(1.44, 2.0, 0.0, 0.0, 2.0, 1.0))</td><td>7.56</td><td>11.66415087857895</td></tr><tr><td>Map(vectorType -> dense, length -> 6, values -> List(1.5, 2.0, 0.0, 0.0, 2.0, 1.0))</td><td>19.08</td><td>11.85893894779735</td></tr><tr><td>Map(vectorType -> dense, length -> 6, values -> List(1.5, 2.0, 0.0, 1.0, 2.0, 1.0))</td><td>10.65</td><td>9.996496798218658</td></tr><tr><td>Map(vectorType -> dense, length -> 6, values -> List(1.64, 2.0, 1.0, 0.0, 0.0, 0.0))</td><td>15.36</td><td>16.44327507999757</td></tr><tr><td>Map(vectorType -> dense, length -> 6, values -> List(1.92, 1.0, 1.0, 0.0, 3.0, 1.0))</td><td>8.58</td><td>12.12729944639867</td></tr><tr><td>Map(vectorType -> dense, length -> 6, values -> List(2.0, 2.0, 0.0, 1.0, 2.0, 1.0))</td><td>12.26</td><td>11.619730708371975</td></tr><tr><td>Map(vectorType -> dense, length -> 6, values -> List(2.0, 2.0, 1.0, 1.0, 0.0, 0.0))</td><td>27.18</td><td>15.749561345729266</td></tr><tr><td>Map(vectorType -> dense, length -> 6, values -> List(2.0, 2.0, 1.0, 1.0, 2.0, 1.0))</td><td>13.0</td><td>14.450704735069873</td></tr><tr><td>Map(vectorType -> dense, length -> 6, values -> List(2.0, 4.0, 0.0, 0.0, 1.0, 0.0))</td><td>16.49</td><td>21.237063162679124</td></tr><tr><td>Map(vectorType -> dense, length -> 6, values -> List(2.0, 4.0, 1.0, 0.0, 0.0, 0.0))</td><td>24.01</td><td>24.53344596643758</td></tr><tr><td>Map(vectorType -> dense, length -> 6, values -> List(2.2, 2.0, 0.0, 1.0, 0.0, 0.0))</td><td>14.73</td><td>13.567880883092695</td></tr><tr><td>Map(vectorType -> dense, length -> 6, values -> List(2.5, 2.0, 0.0, 0.0, 1.0, 0.0))</td><td>12.54</td><td>15.93885460170282</td></tr><tr><td>Map(vectorType -> dense, length -> 6, values -> List(2.5, 2.0, 0.0, 0.0, 1.0, 0.0))</td><td>14.07</td><td>15.93885460170282</td></tr><tr><td>Map(vectorType -> dense, length -> 6, values -> List(2.5, 2.0, 1.0, 1.0, 0.0, 0.0))</td><td>13.27</td><td>17.372795255882583</td></tr><tr><td>Map(vectorType -> dense, length -> 6, values -> List(2.55, 2.0, 0.0, 0.0, 1.0, 0.0))</td><td>23.95</td><td>16.101177992718153</td></tr><tr><td>Map(vectorType -> dense, length -> 6, values -> List(2.61, 2.0, 0.0, 1.0, 1.0, 0.0))</td><td>13.39</td><td>14.43352391235786</td></tr><tr><td>Map(vectorType -> dense, length -> 6, values -> List(2.83, 2.0, 0.0, 1.0, 2.0, 1.0))</td><td>20.27</td><td>14.314298999226484</td></tr><tr><td>Map(vectorType -> dense, length -> 6, values -> List(3.0, 2.0, 1.0, 0.0, 3.0, 0.0))</td><td>28.97</td><td>19.462244984432928</td></tr><tr><td>Map(vectorType -> dense, length -> 6, values -> List(3.14, 2.0, 1.0, 1.0, 0.0, 0.0))</td><td>26.86</td><td>19.45053466087883</td></tr><tr><td>Map(vectorType -> dense, length -> 6, values -> List(3.25, 2.0, 0.0, 1.0, 2.0, 1.0))</td><td>18.26</td><td>15.677815483755271</td></tr><tr><td>Map(vectorType -> dense, length -> 6, values -> List(3.4, 2.0, 0.0, 0.0, 2.0, 1.0))</td><td>16.66</td><td>18.02722780637996</td></tr><tr><td>Map(vectorType -> dense, length -> 6, values -> List(3.5, 3.0, 1.0, 1.0, 1.0, 0.0))</td><td>18.15</td><td>23.614575534693472</td></tr><tr><td>Map(vectorType -> dense, length -> 6, values -> List(3.5, 4.0, 0.0, 0.0, 1.0, 0.0))</td><td>21.5</td><td>26.10676489313908</td></tr><tr><td>Map(vectorType -> dense, length -> 6, values -> List(3.51, 2.0, 0.0, 0.0, 1.0, 0.0))</td><td>19.49</td><td>19.217787100212526</td></tr><tr><td>Map(vectorType -> dense, length -> 6, values -> List(3.68, 4.0, 1.0, 0.0, 1.0, 0.0))</td><td>34.65</td><td>29.52210312749217</td></tr><tr><td>Map(vectorType -> dense, length -> 6, values -> List(3.76, 4.0, 1.0, 0.0, 0.0, 0.0))</td><td>18.29</td><td>30.247229330177255</td></tr><tr><td>Map(vectorType -> dense, length -> 6, values -> List(3.92, 2.0, 0.0, 0.0, 1.0, 0.0))</td><td>21.58</td><td>20.548838906538247</td></tr><tr><td>Map(vectorType -> dense, length -> 6, values -> List(4.0, 3.0, 1.0, 0.0, 1.0, 0.0))</td><td>23.1</td><td>27.100251594425483</td></tr><tr><td>Map(vectorType -> dense, length -> 6, values -> List(4.0, 3.0, 1.0, 0.0, 2.0, 1.0))</td><td>18.71</td><td>26.266803760826647</td></tr><tr><td>Map(vectorType -> dense, length -> 6, values -> List(4.34, 4.0, 0.0, 0.0, 1.0, 0.0))</td><td>25.56</td><td>28.833797862196654</td></tr><tr><td>Map(vectorType -> dense, length -> 6, values -> List(4.5, 4.0, 0.0, 0.0, 1.0, 0.0))</td><td>31.71</td><td>29.353232713445713</td></tr><tr><td>Map(vectorType -> dense, length -> 6, values -> List(5.0, 4.0, 0.0, 1.0, 1.0, 0.0))</td><td>35.26</td><td>29.114024474020336</td></tr><tr><td>Map(vectorType -> dense, length -> 6, values -> List(5.0, 6.0, 0.0, 0.0, 1.0, 0.0))</td><td>48.17</td><td>37.897909094728654</td></tr><tr><td>Map(vectorType -> dense, length -> 6, values -> List(5.15, 2.0, 1.0, 0.0, 1.0, 0.0))</td><td>7.25</td><td>27.37296835221331</td></tr><tr><td>Map(vectorType -> dense, length -> 6, values -> List(5.2, 4.0, 0.0, 1.0, 1.0, 0.0))</td><td>34.81</td><td>29.763318038081668</td></tr><tr><td>Map(vectorType -> dense, length -> 6, values -> List(6.7, 6.0, 0.0, 0.0, 2.0, 1.0))</td><td>34.3</td><td>42.58345655565109</td></tr></tbody></table></div>"
      ]
     },
     "metadata": {
      "application/vnd.databricks.v1+output": {
       "addedWidgets": {},
       "aggData": [],
       "aggError": "",
       "aggOverflow": false,
       "aggSchema": [],
       "aggSeriesLimitReached": false,
       "aggType": "",
       "arguments": {},
       "columnCustomDisplayInfos": {},
       "data": [
        [
         {
          "indices": [
           0,
           1
          ],
          "length": 6,
          "values": [
           2.0,
           2.0
          ],
          "vectorType": "sparse"
         },
         13.37,
         14.78102946861006
        ],
        [
         {
          "indices": [
           0,
           1
          ],
          "length": 6,
          "values": [
           2.0,
           3.0
          ],
          "vectorType": "sparse"
         },
         16.31,
         18.24175070417487
        ],
        [
         {
          "indices": [
           0,
           1
          ],
          "length": 6,
          "values": [
           2.24,
           3.0
          ],
          "vectorType": "sparse"
         },
         16.04,
         19.02090298104846
        ],
        [
         {
          "indices": [
           0,
           1
          ],
          "length": 6,
          "values": [
           2.34,
           4.0
          ],
          "vectorType": "sparse"
         },
         17.81,
         22.806270998643935
        ],
        [
         {
          "indices": [
           0,
           1
          ],
          "length": 6,
          "values": [
           3.18,
           2.0
          ],
          "vectorType": "sparse"
         },
         19.82,
         18.611861496571894
        ],
        [
         {
          "indices": [
           0,
           1
          ],
          "length": 6,
          "values": [
           5.92,
           3.0
          ],
          "vectorType": "sparse"
         },
         29.03,
         30.967904559776883
        ],
        [
         {
          "length": 6,
          "values": [
           1.0,
           1.0,
           0.0,
           1.0,
           0.0,
           0.0
          ],
          "vectorType": "dense"
         },
         7.25,
         6.2113982631599205
        ],
        [
         {
          "length": 6,
          "values": [
           1.0,
           2.0,
           1.0,
           0.0,
           0.0,
           0.0
          ],
          "vectorType": "dense"
         },
         12.6,
         14.365535675001324
        ],
        [
         {
          "length": 6,
          "values": [
           1.01,
           2.0,
           0.0,
           1.0,
           1.0,
           0.0
          ],
          "vectorType": "dense"
         },
         16.99,
         9.239175399867241
        ],
        [
         {
          "length": 6,
          "values": [
           1.36,
           3.0,
           0.0,
           1.0,
           2.0,
           1.0
          ],
          "vectorType": "dense"
         },
         18.64,
         13.002712538940537
        ],
        [
         {
          "length": 6,
          "values": [
           1.44,
           2.0,
           0.0,
           0.0,
           2.0,
           1.0
          ],
          "vectorType": "dense"
         },
         7.56,
         11.66415087857895
        ],
        [
         {
          "length": 6,
          "values": [
           1.5,
           2.0,
           0.0,
           0.0,
           2.0,
           1.0
          ],
          "vectorType": "dense"
         },
         19.08,
         11.85893894779735
        ],
        [
         {
          "length": 6,
          "values": [
           1.5,
           2.0,
           0.0,
           1.0,
           2.0,
           1.0
          ],
          "vectorType": "dense"
         },
         10.65,
         9.996496798218658
        ],
        [
         {
          "length": 6,
          "values": [
           1.64,
           2.0,
           1.0,
           0.0,
           0.0,
           0.0
          ],
          "vectorType": "dense"
         },
         15.36,
         16.44327507999757
        ],
        [
         {
          "length": 6,
          "values": [
           1.92,
           1.0,
           1.0,
           0.0,
           3.0,
           1.0
          ],
          "vectorType": "dense"
         },
         8.58,
         12.12729944639867
        ],
        [
         {
          "length": 6,
          "values": [
           2.0,
           2.0,
           0.0,
           1.0,
           2.0,
           1.0
          ],
          "vectorType": "dense"
         },
         12.26,
         11.619730708371975
        ],
        [
         {
          "length": 6,
          "values": [
           2.0,
           2.0,
           1.0,
           1.0,
           0.0,
           0.0
          ],
          "vectorType": "dense"
         },
         27.18,
         15.749561345729266
        ],
        [
         {
          "length": 6,
          "values": [
           2.0,
           2.0,
           1.0,
           1.0,
           2.0,
           1.0
          ],
          "vectorType": "dense"
         },
         13.0,
         14.450704735069873
        ],
        [
         {
          "length": 6,
          "values": [
           2.0,
           4.0,
           0.0,
           0.0,
           1.0,
           0.0
          ],
          "vectorType": "dense"
         },
         16.49,
         21.237063162679124
        ],
        [
         {
          "length": 6,
          "values": [
           2.0,
           4.0,
           1.0,
           0.0,
           0.0,
           0.0
          ],
          "vectorType": "dense"
         },
         24.01,
         24.53344596643758
        ],
        [
         {
          "length": 6,
          "values": [
           2.2,
           2.0,
           0.0,
           1.0,
           0.0,
           0.0
          ],
          "vectorType": "dense"
         },
         14.73,
         13.567880883092695
        ],
        [
         {
          "length": 6,
          "values": [
           2.5,
           2.0,
           0.0,
           0.0,
           1.0,
           0.0
          ],
          "vectorType": "dense"
         },
         12.54,
         15.93885460170282
        ],
        [
         {
          "length": 6,
          "values": [
           2.5,
           2.0,
           0.0,
           0.0,
           1.0,
           0.0
          ],
          "vectorType": "dense"
         },
         14.07,
         15.93885460170282
        ],
        [
         {
          "length": 6,
          "values": [
           2.5,
           2.0,
           1.0,
           1.0,
           0.0,
           0.0
          ],
          "vectorType": "dense"
         },
         13.27,
         17.372795255882583
        ],
        [
         {
          "length": 6,
          "values": [
           2.55,
           2.0,
           0.0,
           0.0,
           1.0,
           0.0
          ],
          "vectorType": "dense"
         },
         23.95,
         16.101177992718153
        ],
        [
         {
          "length": 6,
          "values": [
           2.61,
           2.0,
           0.0,
           1.0,
           1.0,
           0.0
          ],
          "vectorType": "dense"
         },
         13.39,
         14.43352391235786
        ],
        [
         {
          "length": 6,
          "values": [
           2.83,
           2.0,
           0.0,
           1.0,
           2.0,
           1.0
          ],
          "vectorType": "dense"
         },
         20.27,
         14.314298999226484
        ],
        [
         {
          "length": 6,
          "values": [
           3.0,
           2.0,
           1.0,
           0.0,
           3.0,
           0.0
          ],
          "vectorType": "dense"
         },
         28.97,
         19.462244984432928
        ],
        [
         {
          "length": 6,
          "values": [
           3.14,
           2.0,
           1.0,
           1.0,
           0.0,
           0.0
          ],
          "vectorType": "dense"
         },
         26.86,
         19.45053466087883
        ],
        [
         {
          "length": 6,
          "values": [
           3.25,
           2.0,
           0.0,
           1.0,
           2.0,
           1.0
          ],
          "vectorType": "dense"
         },
         18.26,
         15.677815483755271
        ],
        [
         {
          "length": 6,
          "values": [
           3.4,
           2.0,
           0.0,
           0.0,
           2.0,
           1.0
          ],
          "vectorType": "dense"
         },
         16.66,
         18.02722780637996
        ],
        [
         {
          "length": 6,
          "values": [
           3.5,
           3.0,
           1.0,
           1.0,
           1.0,
           0.0
          ],
          "vectorType": "dense"
         },
         18.15,
         23.614575534693472
        ],
        [
         {
          "length": 6,
          "values": [
           3.5,
           4.0,
           0.0,
           0.0,
           1.0,
           0.0
          ],
          "vectorType": "dense"
         },
         21.5,
         26.10676489313908
        ],
        [
         {
          "length": 6,
          "values": [
           3.51,
           2.0,
           0.0,
           0.0,
           1.0,
           0.0
          ],
          "vectorType": "dense"
         },
         19.49,
         19.217787100212526
        ],
        [
         {
          "length": 6,
          "values": [
           3.68,
           4.0,
           1.0,
           0.0,
           1.0,
           0.0
          ],
          "vectorType": "dense"
         },
         34.65,
         29.52210312749217
        ],
        [
         {
          "length": 6,
          "values": [
           3.76,
           4.0,
           1.0,
           0.0,
           0.0,
           0.0
          ],
          "vectorType": "dense"
         },
         18.29,
         30.247229330177255
        ],
        [
         {
          "length": 6,
          "values": [
           3.92,
           2.0,
           0.0,
           0.0,
           1.0,
           0.0
          ],
          "vectorType": "dense"
         },
         21.58,
         20.548838906538247
        ],
        [
         {
          "length": 6,
          "values": [
           4.0,
           3.0,
           1.0,
           0.0,
           1.0,
           0.0
          ],
          "vectorType": "dense"
         },
         23.1,
         27.100251594425483
        ],
        [
         {
          "length": 6,
          "values": [
           4.0,
           3.0,
           1.0,
           0.0,
           2.0,
           1.0
          ],
          "vectorType": "dense"
         },
         18.71,
         26.266803760826647
        ],
        [
         {
          "length": 6,
          "values": [
           4.34,
           4.0,
           0.0,
           0.0,
           1.0,
           0.0
          ],
          "vectorType": "dense"
         },
         25.56,
         28.833797862196654
        ],
        [
         {
          "length": 6,
          "values": [
           4.5,
           4.0,
           0.0,
           0.0,
           1.0,
           0.0
          ],
          "vectorType": "dense"
         },
         31.71,
         29.353232713445713
        ],
        [
         {
          "length": 6,
          "values": [
           5.0,
           4.0,
           0.0,
           1.0,
           1.0,
           0.0
          ],
          "vectorType": "dense"
         },
         35.26,
         29.114024474020336
        ],
        [
         {
          "length": 6,
          "values": [
           5.0,
           6.0,
           0.0,
           0.0,
           1.0,
           0.0
          ],
          "vectorType": "dense"
         },
         48.17,
         37.897909094728654
        ],
        [
         {
          "length": 6,
          "values": [
           5.15,
           2.0,
           1.0,
           0.0,
           1.0,
           0.0
          ],
          "vectorType": "dense"
         },
         7.25,
         27.37296835221331
        ],
        [
         {
          "length": 6,
          "values": [
           5.2,
           4.0,
           0.0,
           1.0,
           1.0,
           0.0
          ],
          "vectorType": "dense"
         },
         34.81,
         29.763318038081668
        ],
        [
         {
          "length": 6,
          "values": [
           6.7,
           6.0,
           0.0,
           0.0,
           2.0,
           1.0
          ],
          "vectorType": "dense"
         },
         34.3,
         42.58345655565109
        ]
       ],
       "datasetInfos": [],
       "dbfsResultPath": null,
       "isJsonSchema": true,
       "metadata": {},
       "overflow": false,
       "plotOptions": {
        "customPlotOptions": {},
        "displayType": "table",
        "pivotAggregation": null,
        "pivotColumns": null,
        "xColumns": null,
        "yColumns": null
       },
       "removedWidgets": [],
       "schema": [
        {
         "metadata": "{\"ml_attr\":{\"attrs\":{\"numeric\":[{\"idx\":0,\"name\":\"tip\"},{\"idx\":1,\"name\":\"size\"}],\"nominal\":[{\"vals\":[\"No\",\"Yes\"],\"idx\":2,\"name\":\"smoker_indexed\"},{\"vals\":[\"Male\",\"Female\"],\"idx\":3,\"name\":\"sex_indexed\"},{\"vals\":[\"Sat\",\"Sun\",\"Thur\",\"Fri\"],\"idx\":4,\"name\":\"day_indexed\"},{\"vals\":[\"Dinner\",\"Lunch\"],\"idx\":5,\"name\":\"time_indexed\"}]},\"num_attrs\":6}}",
         "name": "Independent Features",
         "type": "{\"type\":\"udt\",\"class\":\"org.apache.spark.ml.linalg.VectorUDT\",\"pyClass\":\"pyspark.ml.linalg.VectorUDT\",\"sqlType\":{\"type\":\"struct\",\"fields\":[{\"name\":\"type\",\"type\":\"byte\",\"nullable\":false,\"metadata\":{}},{\"name\":\"size\",\"type\":\"integer\",\"nullable\":true,\"metadata\":{}},{\"name\":\"indices\",\"type\":{\"type\":\"array\",\"elementType\":\"integer\",\"containsNull\":false},\"nullable\":true,\"metadata\":{}},{\"name\":\"values\",\"type\":{\"type\":\"array\",\"elementType\":\"double\",\"containsNull\":false},\"nullable\":true,\"metadata\":{}}]}}"
        },
        {
         "metadata": "{}",
         "name": "total_bill",
         "type": "\"double\""
        },
        {
         "metadata": "{\"ml_attr\":{}}",
         "name": "prediction",
         "type": "\"double\""
        }
       ],
       "type": "table"
      }
     },
     "output_type": "display_data"
    }
   ],
   "source": [
    "preds.predictions.display()"
   ]
  },
  {
   "cell_type": "code",
   "execution_count": 0,
   "metadata": {
    "application/vnd.databricks.v1+cell": {
     "cellMetadata": {
      "byteLimit": 2048000,
      "rowLimit": 10000
     },
     "inputWidgets": {},
     "nuid": "666975f1-8f23-43b4-993e-b68b48e66b7c",
     "showTitle": false,
     "title": ""
    }
   },
   "outputs": [
    {
     "output_type": "stream",
     "name": "stdout",
     "output_type": "stream",
     "text": [
      "R² (R-squared): 0.5175604448381689\nRMSE (Root Mean Squared Error): 5.9314762770590805\nMAE (Mean Absolute Error): 4.517943386097518\n"
     ]
    }
   ],
   "source": [
    "print(f\"R² (R-squared): {preds.r2}\")\n",
    "print(f\"RMSE (Root Mean Squared Error): {preds.rootMeanSquaredError}\")\n",
    "print(f\"MAE (Mean Absolute Error): {preds.meanAbsoluteError}\")\n"
   ]
  },
  {
   "cell_type": "code",
   "execution_count": 0,
   "metadata": {
    "application/vnd.databricks.v1+cell": {
     "cellMetadata": {
      "byteLimit": 2048000,
      "rowLimit": 10000
     },
     "inputWidgets": {},
     "nuid": "1c48f443-c525-4ef2-bfde-e1fda0f8f7db",
     "showTitle": false,
     "title": ""
    }
   },
   "outputs": [
    {
     "output_type": "display_data",
     "data": {
      "image/png": "[encoded data removed]"
     },
     "metadata": {
      "application/vnd.databricks.v1+output": {
       "addedWidgets": {},
       "arguments": {},
       "data": "data:image/png;base64,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\n",
       "datasetInfos": [],
       "metadata": {},
       "removedWidgets": [],
       "type": "image"
      }
     },
     "output_type": "display_data"
    }
   ],
   "source": [
    "import matplotlib.pyplot as plt\n",
    "\n",
    "# Make predictions on the test data\n",
    "predictions = regressor.transform(test_data)\n",
    "\n",
    "# Select prediction and actual total_bill columns\n",
    "predicted_vs_actual = predictions.select(\"prediction\", \"total_bill\").collect()\n",
    "\n",
    "# Extract predicted and actual values\n",
    "predicted = [row['prediction'] for row in predicted_vs_actual]\n",
    "actual = [row['total_bill'] for row in predicted_vs_actual]\n",
    "\n",
    "# Plotting actual vs predicted values\n",
    "plt.figure(figsize=(8,6))\n",
    "plt.scatter(actual, predicted, color='blue', edgecolor='k')\n",
    "plt.plot([min(actual), max(actual)], [min(actual), max(actual)], color='red', linestyle='--')  # Line of perfect fit\n",
    "plt.xlabel('Actual Total Bill')\n",
    "plt.ylabel('Predicted Total Bill')\n",
    "plt.title('Actual vs. Predicted Total Bill')\n",
    "plt.grid(True)\n",
    "plt.show()\n"
   ]
  },
  {
   "cell_type": "code",
   "execution_count": 0,
   "metadata": {
    "application/vnd.databricks.v1+cell": {
     "cellMetadata": {},
     "inputWidgets": {},
     "nuid": "811613bb-4602-438b-98c7-560fd3bd4e48",
     "showTitle": false,
     "title": ""
    }
   },
   "outputs": [],
   "source": []
  }
 ],
 "metadata": {
  "application/vnd.databricks.v1+notebook": {
   "dashboards": [],
   "environmentMetadata": null,
   "language": "python",
   "notebookMetadata": {
    "pythonIndentUnit": 4
   },
   "notebookName": "Tips",
   "widgets": {}
  }
 },
 "nbformat": 4,
 "nbformat_minor": 0
}
